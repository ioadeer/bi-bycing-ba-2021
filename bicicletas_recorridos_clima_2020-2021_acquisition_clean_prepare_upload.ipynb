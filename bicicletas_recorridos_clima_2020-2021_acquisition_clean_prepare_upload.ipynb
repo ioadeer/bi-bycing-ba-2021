{
 "cells": [
  {
   "cell_type": "code",
   "execution_count": 1,
   "metadata": {
    "id": "vWwBPI9fUBG7"
   },
   "outputs": [],
   "source": [
    "import os\n",
    "import sys\n",
    "\n",
    "import urllib.request\n",
    "# from zipfile import ZipFile\n",
    "\n",
    "import pandas as pd\n",
    "import numpy as np\n",
    "\n",
    "import random\n",
    "\n",
    "# mover esto a exploring\n",
    "# import matplotlib.pyplot as plt\n",
    "# import seaborn as sns\n",
    "# import matplotlib as mpl\n",
    "\n",
    "# mpl.rcParams.update( mpl.rcParamsDefault ) "
   ]
  },
  {
   "cell_type": "code",
   "execution_count": 5,
   "metadata": {},
   "outputs": [],
   "source": [
    "bicicletas = {\n",
    "    \"recorridos\" : {\n",
    "        \"2020\" : {\n",
    "            \"url\" : 'https://cdn.buenosaires.gob.ar/datosabiertos/datasets/transporte/bicicletas-publicas/recorridos-realizados-2020.zip',\n",
    "            \"zip_file\" : \"./datasets/recorridos-realizados-2020.zip\",\n",
    "            \"df\" : pd.DataFrame(),\n",
    "        },\n",
    "        \"2021\" : {\n",
    "            \"url\" : 'https://cdn.buenosaires.gob.ar/datosabiertos/datasets/transporte/bicicletas-publicas/recorridos-realizados-2021.zip',   \n",
    "            \"zip_file\" : \"./datasets/recorridos-realizados-2021.zip\",\n",
    "            \"df\" : pd.DataFrame(),\n",
    "        },\n",
    "    },\n",
    "    \"recorridos_df\" : pd.DataFrame(),\n",
    "    \"estaciones\" : pd.DataFrame(),\n",
    "}\n"
   ]
  },
  {
   "cell_type": "code",
   "execution_count": 6,
   "metadata": {},
   "outputs": [
    {
     "name": "stdout",
     "output_type": "stream",
     "text": [
      "ya descargado ./datasets/recorridos-realizados-2020.zip\n",
      "ya descargado ./datasets/recorridos-realizados-2021.zip\n",
      "done\n"
     ]
    }
   ],
   "source": [
    "\"\"\"\n",
    "Descargar recorridios bicicletas\n",
    "\"\"\"\n",
    "def descargar_recoridos(\n",
    "    recorridos,\n",
    "    equivalencias_encabezados\n",
    "):\n",
    "    for r in recorridos:\n",
    "        if not os.path.exists( recorridos[r][\"zip_file\"] ):\n",
    "            print(\"Descargando\", recorridos[r][\"url\"])\n",
    "            urllib.request.urlretrieve(\n",
    "              recorridos[r][\"url\"],\n",
    "              recorridos[r][\"zip_file\"]\n",
    "            )\n",
    "        else:\n",
    "            print(\"ya descargado\", recorridos[r][\"zip_file\"])  \n",
    "        recorridos[r][\"df\"] = pd.read_csv(\n",
    "            recorridos[r][\"zip_file\"],\n",
    "            compression = 'zip',\n",
    "            encoding = 'utf-8', \n",
    "        )\n",
    "#         print( recorridos[r][\"df\"].info() )\n",
    "    # ajustar 2021\n",
    "    recorridos[\"2021\"][\"df\"] = recorridos[\"2021\"][\"df\"]\n",
    "    recorridos[\"2021\"][\"df\"] = recorridos[\"2021\"][\"df\"].rename( columns = equivalencias_encabezados )\n",
    "    recorridos[\"2021\"][\"df\"][\"id\"] = recorridos[\"2021\"][\"df\"]['id'].astype('Int64')\n",
    "    print('done')\n",
    "    return recorridos\n",
    "\n",
    "equivalencias_encabezados = {\n",
    "        'ID'                                  : 'id',\n",
    "        'Duración'                            : 'duracion_recorrido',\n",
    "        'Estado cerrado'                      : 'estado_cerrado',\n",
    "        'ID de ciclista'                      : 'id_usuario',\n",
    "        'Tipo de ciclista'                    : 'cilicsta_tipo',\n",
    "        'Modelo de bicicleta'                 : 'bicicleta_modelo',   \n",
    "\n",
    "        'Id de estación de inicio'            : 'id_estacion_origen', \n",
    "        'Nombre de estación de inicio'        : 'nombre_estacion_origen',\n",
    "        'Fecha de inicio'                     : 'fecha_origen_recorrido',     \n",
    "        'Origen de viaje'                     : 'direccion_estacion_origen',  \n",
    "        # '':'long_estacion_origen',        \n",
    "        # '':'lat_estacion_origen',\n",
    "        'Id de estación de fin de viaje'      : 'id_estacion_destino',     \n",
    "        'Nombre de estación de fin de viaje'  : 'nombre_estacion_destino',\n",
    "        'Fecha de fin'                        : 'fecha_destino_recorrido',          \n",
    "        # '':'direccion_estacion_destino',           \n",
    "        # '':'long_estacion_destino',       \n",
    "        # '':'lat_estacion_destino',\n",
    "        # '':'periodo',  \n",
    "}\n",
    "bicicletas[\"recorridos\"] = descargar_recoridos(\n",
    "    bicicletas[\"recorridos\"],\n",
    "    equivalencias_encabezados\n",
    ")"
   ]
  },
  {
   "cell_type": "code",
   "execution_count": 7,
   "metadata": {},
   "outputs": [
    {
     "name": "stdout",
     "output_type": "stream",
     "text": [
      "<class 'pandas.core.frame.DataFrame'>\n",
      "RangeIndex: 1328726 entries, 0 to 1328725\n",
      "Data columns (total 13 columns):\n",
      " #   Column                     Non-Null Count    Dtype  \n",
      "---  ------                     --------------    -----  \n",
      " 0   id                         1328726 non-null  Int64  \n",
      " 1   estado_cerrado             1328726 non-null  object \n",
      " 2   duracion_recorrido         1328726 non-null  int64  \n",
      " 3   id_estacion_origen         1328726 non-null  int64  \n",
      " 4   fecha_origen_recorrido     1328726 non-null  object \n",
      " 5   nombre_estacion_origen     1328726 non-null  object \n",
      " 6   fecha_destino_recorrido    1328726 non-null  object \n",
      " 7   id_estacion_destino        1328723 non-null  float64\n",
      " 8   nombre_estacion_destino    1328723 non-null  object \n",
      " 9   id_usuario                 1328726 non-null  int64  \n",
      " 10  cilicsta_tipo              1328726 non-null  object \n",
      " 11  bicicleta_modelo           1328726 non-null  object \n",
      " 12  direccion_estacion_origen  1328726 non-null  object \n",
      "dtypes: Int64(1), float64(1), int64(3), object(8)\n",
      "memory usage: 133.1+ MB\n",
      "<class 'pandas.core.frame.DataFrame'>\n",
      "RangeIndex: 2002945 entries, 0 to 2002944\n",
      "Data columns (total 15 columns):\n",
      " #   Column                      Dtype  \n",
      "---  ------                      -----  \n",
      " 0   duracion_recorrido          int64  \n",
      " 1   id_estacion_origen          int64  \n",
      " 2   fecha_origen_recorrido      object \n",
      " 3   nombre_estacion_origen      object \n",
      " 4   fecha_destino_recorrido     object \n",
      " 5   id_estacion_destino         float64\n",
      " 6   nombre_estacion_destino     object \n",
      " 7   id_usuario                  int64  \n",
      " 8   direccion_estacion_origen   object \n",
      " 9   long_estacion_origen        float64\n",
      " 10  lat_estacion_origen         float64\n",
      " 11  direccion_estacion_destino  object \n",
      " 12  long_estacion_destino       float64\n",
      " 13  lat_estacion_destino        float64\n",
      " 14  periodo                     int64  \n",
      "dtypes: float64(5), int64(4), object(6)\n",
      "memory usage: 229.2+ MB\n"
     ]
    }
   ],
   "source": [
    "bicicletas[\"recorridos\"][\"2021\"][\"df\"].info()\n",
    "bicicletas[\"recorridos\"][\"2020\"][\"df\"].info()"
   ]
  },
  {
   "cell_type": "code",
   "execution_count": 8,
   "metadata": {},
   "outputs": [
    {
     "data": {
      "text/html": [
       "<div>\n",
       "<style scoped>\n",
       "    .dataframe tbody tr th:only-of-type {\n",
       "        vertical-align: middle;\n",
       "    }\n",
       "\n",
       "    .dataframe tbody tr th {\n",
       "        vertical-align: top;\n",
       "    }\n",
       "\n",
       "    .dataframe thead th {\n",
       "        text-align: right;\n",
       "    }\n",
       "</style>\n",
       "<table border=\"1\" class=\"dataframe\">\n",
       "  <thead>\n",
       "    <tr style=\"text-align: right;\">\n",
       "      <th></th>\n",
       "      <th>id</th>\n",
       "      <th>duracion_recorrido</th>\n",
       "      <th>id_usuario</th>\n",
       "      <th>id_estacion_origen</th>\n",
       "      <th>nombre_estacion_origen</th>\n",
       "      <th>fecha_origen_recorrido</th>\n",
       "      <th>id_estacion_destino</th>\n",
       "      <th>nombre_estacion_destino</th>\n",
       "      <th>fecha_destino_recorrido</th>\n",
       "    </tr>\n",
       "  </thead>\n",
       "  <tbody>\n",
       "    <tr>\n",
       "      <th>593758</th>\n",
       "      <td>0</td>\n",
       "      <td>6563</td>\n",
       "      <td>506009</td>\n",
       "      <td>30</td>\n",
       "      <td>030 - Peña</td>\n",
       "      <td>2020-01-01 00:02:50</td>\n",
       "      <td>30.0</td>\n",
       "      <td>030 - Peña</td>\n",
       "      <td>2020-01-01 01:52:13</td>\n",
       "    </tr>\n",
       "    <tr>\n",
       "      <th>687904</th>\n",
       "      <td>0</td>\n",
       "      <td>1150</td>\n",
       "      <td>116847</td>\n",
       "      <td>206</td>\n",
       "      <td>159 - Fitz Roy &amp; Gorriti</td>\n",
       "      <td>2020-01-01 00:04:19</td>\n",
       "      <td>207.0</td>\n",
       "      <td>123 - Armenia</td>\n",
       "      <td>2020-01-01 00:23:29</td>\n",
       "    </tr>\n",
       "    <tr>\n",
       "      <th>1026453</th>\n",
       "      <td>0</td>\n",
       "      <td>383</td>\n",
       "      <td>259973</td>\n",
       "      <td>308</td>\n",
       "      <td>251 - Solar de la Abadía</td>\n",
       "      <td>2020-01-01 00:05:23</td>\n",
       "      <td>289.0</td>\n",
       "      <td>255 - BARRANCAS DE BELGRANO</td>\n",
       "      <td>2020-01-01 00:11:46</td>\n",
       "    </tr>\n",
       "    <tr>\n",
       "      <th>1876322</th>\n",
       "      <td>0</td>\n",
       "      <td>72</td>\n",
       "      <td>354594</td>\n",
       "      <td>92</td>\n",
       "      <td>092 - Salcedo</td>\n",
       "      <td>2020-01-01 00:05:42</td>\n",
       "      <td>92.0</td>\n",
       "      <td>092 - Salcedo</td>\n",
       "      <td>2020-01-01 00:06:54</td>\n",
       "    </tr>\n",
       "    <tr>\n",
       "      <th>1126779</th>\n",
       "      <td>0</td>\n",
       "      <td>769</td>\n",
       "      <td>222181</td>\n",
       "      <td>41</td>\n",
       "      <td>041 - Urquiza y Rondeau</td>\n",
       "      <td>2020-01-01 00:07:30</td>\n",
       "      <td>41.0</td>\n",
       "      <td>041 - Urquiza y Rondeau</td>\n",
       "      <td>2020-01-01 00:20:19</td>\n",
       "    </tr>\n",
       "    <tr>\n",
       "      <th>...</th>\n",
       "      <td>...</td>\n",
       "      <td>...</td>\n",
       "      <td>...</td>\n",
       "      <td>...</td>\n",
       "      <td>...</td>\n",
       "      <td>...</td>\n",
       "      <td>...</td>\n",
       "      <td>...</td>\n",
       "      <td>...</td>\n",
       "    </tr>\n",
       "    <tr>\n",
       "      <th>4</th>\n",
       "      <td>11204919</td>\n",
       "      <td>591</td>\n",
       "      <td>35926</td>\n",
       "      <td>212</td>\n",
       "      <td>129 - Velasco</td>\n",
       "      <td>2021-06-02 16:09:32</td>\n",
       "      <td>158.0</td>\n",
       "      <td>158 - VILLARROEL</td>\n",
       "      <td>2021-06-02 16:19:23</td>\n",
       "    </tr>\n",
       "    <tr>\n",
       "      <th>3</th>\n",
       "      <td>11204920</td>\n",
       "      <td>400</td>\n",
       "      <td>713938</td>\n",
       "      <td>117</td>\n",
       "      <td>117 - HUMBERTO 1°</td>\n",
       "      <td>2021-06-02 16:09:34</td>\n",
       "      <td>175.0</td>\n",
       "      <td>147 - Constitución</td>\n",
       "      <td>2021-06-02 16:16:14</td>\n",
       "    </tr>\n",
       "    <tr>\n",
       "      <th>2</th>\n",
       "      <td>11204928</td>\n",
       "      <td>299</td>\n",
       "      <td>690073</td>\n",
       "      <td>232</td>\n",
       "      <td>252 - Tamborini</td>\n",
       "      <td>2021-06-02 16:10:08</td>\n",
       "      <td>386.0</td>\n",
       "      <td>277 - Coghlan</td>\n",
       "      <td>2021-06-02 16:15:07</td>\n",
       "    </tr>\n",
       "    <tr>\n",
       "      <th>1</th>\n",
       "      <td>11204938</td>\n",
       "      <td>406</td>\n",
       "      <td>348428</td>\n",
       "      <td>387</td>\n",
       "      <td>278 - Donato Alvarez</td>\n",
       "      <td>2021-06-02 16:11:01</td>\n",
       "      <td>262.0</td>\n",
       "      <td>349 - Plaza Saenz Peña</td>\n",
       "      <td>2021-06-02 16:17:47</td>\n",
       "    </tr>\n",
       "    <tr>\n",
       "      <th>0</th>\n",
       "      <td>11204995</td>\n",
       "      <td>437</td>\n",
       "      <td>119795</td>\n",
       "      <td>131</td>\n",
       "      <td>131- HOSPITAL DE CLÍNICAS</td>\n",
       "      <td>2021-06-02 16:14:35</td>\n",
       "      <td>38.0</td>\n",
       "      <td>038 - Plaza Libertad</td>\n",
       "      <td>2021-06-02 16:21:52</td>\n",
       "    </tr>\n",
       "  </tbody>\n",
       "</table>\n",
       "<p>3331671 rows × 9 columns</p>\n",
       "</div>"
      ],
      "text/plain": [
       "               id  duracion_recorrido  id_usuario  id_estacion_origen  \\\n",
       "593758          0                6563      506009                  30   \n",
       "687904          0                1150      116847                 206   \n",
       "1026453         0                 383      259973                 308   \n",
       "1876322         0                  72      354594                  92   \n",
       "1126779         0                 769      222181                  41   \n",
       "...           ...                 ...         ...                 ...   \n",
       "4        11204919                 591       35926                 212   \n",
       "3        11204920                 400      713938                 117   \n",
       "2        11204928                 299      690073                 232   \n",
       "1        11204938                 406      348428                 387   \n",
       "0        11204995                 437      119795                 131   \n",
       "\n",
       "            nombre_estacion_origen fecha_origen_recorrido  \\\n",
       "593758                  030 - Peña    2020-01-01 00:02:50   \n",
       "687904    159 - Fitz Roy & Gorriti    2020-01-01 00:04:19   \n",
       "1026453   251 - Solar de la Abadía    2020-01-01 00:05:23   \n",
       "1876322              092 - Salcedo    2020-01-01 00:05:42   \n",
       "1126779    041 - Urquiza y Rondeau    2020-01-01 00:07:30   \n",
       "...                            ...                    ...   \n",
       "4                    129 - Velasco    2021-06-02 16:09:32   \n",
       "3                117 - HUMBERTO 1°    2021-06-02 16:09:34   \n",
       "2                  252 - Tamborini    2021-06-02 16:10:08   \n",
       "1             278 - Donato Alvarez    2021-06-02 16:11:01   \n",
       "0        131- HOSPITAL DE CLÍNICAS    2021-06-02 16:14:35   \n",
       "\n",
       "         id_estacion_destino      nombre_estacion_destino  \\\n",
       "593758                  30.0                   030 - Peña   \n",
       "687904                 207.0                123 - Armenia   \n",
       "1026453                289.0  255 - BARRANCAS DE BELGRANO   \n",
       "1876322                 92.0                092 - Salcedo   \n",
       "1126779                 41.0      041 - Urquiza y Rondeau   \n",
       "...                      ...                          ...   \n",
       "4                      158.0             158 - VILLARROEL   \n",
       "3                      175.0           147 - Constitución   \n",
       "2                      386.0                277 - Coghlan   \n",
       "1                      262.0       349 - Plaza Saenz Peña   \n",
       "0                       38.0         038 - Plaza Libertad   \n",
       "\n",
       "        fecha_destino_recorrido  \n",
       "593758      2020-01-01 01:52:13  \n",
       "687904      2020-01-01 00:23:29  \n",
       "1026453     2020-01-01 00:11:46  \n",
       "1876322     2020-01-01 00:06:54  \n",
       "1126779     2020-01-01 00:20:19  \n",
       "...                         ...  \n",
       "4           2021-06-02 16:19:23  \n",
       "3           2021-06-02 16:16:14  \n",
       "2           2021-06-02 16:15:07  \n",
       "1           2021-06-02 16:17:47  \n",
       "0           2021-06-02 16:21:52  \n",
       "\n",
       "[3331671 rows x 9 columns]"
      ]
     },
     "execution_count": 8,
     "metadata": {},
     "output_type": "execute_result"
    }
   ],
   "source": [
    "# concatenar recorridos\n",
    "orden_filtro = [\n",
    "    'id',\n",
    "    'duracion_recorrido',\n",
    "#     'estado_cerrado',\n",
    "    'id_usuario',\n",
    "#     'cilicsta_tipo',\n",
    "#     'bicicleta_modelo',    \n",
    "    'id_estacion_origen',\n",
    "    'nombre_estacion_origen',       \n",
    "#     'direccion_estacion_origen',\n",
    "    'fecha_origen_recorrido',       \n",
    "#     'long_estacion_origen',     \n",
    "#     'lat_estacion_origen',\n",
    "    'id_estacion_destino',         \n",
    "    'nombre_estacion_destino',    \n",
    "#     'direccion_estacion_destino',\n",
    "    'fecha_destino_recorrido',      \n",
    "#     'long_estacion_destino',       \n",
    "#     'lat_estacion_destino', \n",
    "    \n",
    "#     'periodo',                       \n",
    "]\n",
    "# def contcatenar_recorridos(recorridos)\n",
    "frames = []\n",
    "for r in bicicletas[\"recorridos\"]:\n",
    "    frames.append( bicicletas[\"recorridos\"][r][\"df\"] )\n",
    "\n",
    "bicicletas[\"recorridos_df\"] = pd.concat( frames )\n",
    "bicicletas[\"recorridos_df\"] = bicicletas[\"recorridos_df\"][orden_filtro]\n",
    "# bicicletas[\"recorridos_df\"][\"id\"] = bicicletas[\"recorridos_df\"][\"id\"].interpolate( method='linear' )\n",
    "bicicletas[\"recorridos_df\"][\"id\"] = bicicletas[\"recorridos_df\"][\"id\"].fillna(0)\n",
    "bicicletas[\"recorridos_df\"] = bicicletas[\"recorridos_df\"].sort_values(by=['fecha_origen_recorrido'])\n",
    "bicicletas[\"recorridos_df\"] "
   ]
  },
  {
   "cell_type": "markdown",
   "metadata": {
    "id": "yC6_du6fMjS1"
   },
   "source": []
  },
  {
   "cell_type": "code",
   "execution_count": 1,
   "metadata": {
    "id": "EZZQppOmTfFD"
   },
   "outputs": [],
   "source": [
    "# NO_FUNCO!\n",
    "# ajustar ID 2020\n",
    "\n",
    "# IDs = bicicletas[\"recorridos_df\"][\"id\"].dropna().unique()\n",
    "# # list1 = IDs.tolist()\n",
    "\n",
    "# id_vacios = np.where( \n",
    "#     pd.isna( bicicletas[\"recorridos_df\"][\"id\"] )\n",
    "# )\n",
    "    \n",
    "# for i in id_vacios[0]:\n",
    "# #     nuevo_id = random.choice( list( set( range( min(list1) + 1, max(list1))) -set(list1) ) )\n",
    "# #     number = next(iter(set(range(min(IDs)+1, max(IDs))) - set(IDs)))\n",
    "# #     m = max(IDs)\n",
    "# #     number = random.choice([x for x in range(m) if x not in IDs])\n",
    "#     bicicletas[\"recorridos_df\"].iloc[ i, bicicletas[\"recorridos_df\"].columns.get_loc('id')] = i\n",
    "# #     list1.append(nuevo_id)\n",
    "    \n",
    "# bicicletas[\"recorridos_df\"]\n"
   ]
  },
  {
   "cell_type": "markdown",
   "metadata": {
    "id": "Ptq8hRiYUBHg"
   },
   "source": [
    "### Procesar fecha\n",
    "\n",
    "Parsear object datetime a dia, mes, año"
   ]
  },
  {
   "cell_type": "code",
   "execution_count": 9,
   "metadata": {
    "colab": {
     "base_uri": "https://localhost:8080/",
     "height": 411
    },
    "id": "qIy_x970UBHi",
    "outputId": "66f46b85-b632-48d5-a9a8-125e8af73f86"
   },
   "outputs": [
    {
     "data": {
      "text/html": [
       "<div>\n",
       "<style scoped>\n",
       "    .dataframe tbody tr th:only-of-type {\n",
       "        vertical-align: middle;\n",
       "    }\n",
       "\n",
       "    .dataframe tbody tr th {\n",
       "        vertical-align: top;\n",
       "    }\n",
       "\n",
       "    .dataframe thead th {\n",
       "        text-align: right;\n",
       "    }\n",
       "</style>\n",
       "<table border=\"1\" class=\"dataframe\">\n",
       "  <thead>\n",
       "    <tr style=\"text-align: right;\">\n",
       "      <th></th>\n",
       "      <th>id</th>\n",
       "      <th>duracion_recorrido</th>\n",
       "      <th>id_usuario</th>\n",
       "      <th>id_estacion_origen</th>\n",
       "      <th>nombre_estacion_origen</th>\n",
       "      <th>fecha_origen_recorrido</th>\n",
       "      <th>id_estacion_destino</th>\n",
       "      <th>nombre_estacion_destino</th>\n",
       "      <th>fecha_destino_recorrido</th>\n",
       "      <th>start_datetime</th>\n",
       "      <th>anio</th>\n",
       "      <th>mes</th>\n",
       "      <th>ndia</th>\n",
       "      <th>dia</th>\n",
       "      <th>wdia</th>\n",
       "      <th>hora</th>\n",
       "      <th>mins</th>\n",
       "    </tr>\n",
       "  </thead>\n",
       "  <tbody>\n",
       "    <tr>\n",
       "      <th>593758</th>\n",
       "      <td>0</td>\n",
       "      <td>6563</td>\n",
       "      <td>506009</td>\n",
       "      <td>30</td>\n",
       "      <td>030 - Peña</td>\n",
       "      <td>2020-01-01 00:02:50</td>\n",
       "      <td>30.0</td>\n",
       "      <td>030 - Peña</td>\n",
       "      <td>2020-01-01 01:52:13</td>\n",
       "      <td>2020-01-01 00:02:50</td>\n",
       "      <td>2020</td>\n",
       "      <td>Jan</td>\n",
       "      <td>001</td>\n",
       "      <td>Wed</td>\n",
       "      <td>3</td>\n",
       "      <td>00</td>\n",
       "      <td>02</td>\n",
       "    </tr>\n",
       "    <tr>\n",
       "      <th>687904</th>\n",
       "      <td>0</td>\n",
       "      <td>1150</td>\n",
       "      <td>116847</td>\n",
       "      <td>206</td>\n",
       "      <td>159 - Fitz Roy &amp; Gorriti</td>\n",
       "      <td>2020-01-01 00:04:19</td>\n",
       "      <td>207.0</td>\n",
       "      <td>123 - Armenia</td>\n",
       "      <td>2020-01-01 00:23:29</td>\n",
       "      <td>2020-01-01 00:04:19</td>\n",
       "      <td>2020</td>\n",
       "      <td>Jan</td>\n",
       "      <td>001</td>\n",
       "      <td>Wed</td>\n",
       "      <td>3</td>\n",
       "      <td>00</td>\n",
       "      <td>04</td>\n",
       "    </tr>\n",
       "    <tr>\n",
       "      <th>1026453</th>\n",
       "      <td>0</td>\n",
       "      <td>383</td>\n",
       "      <td>259973</td>\n",
       "      <td>308</td>\n",
       "      <td>251 - Solar de la Abadía</td>\n",
       "      <td>2020-01-01 00:05:23</td>\n",
       "      <td>289.0</td>\n",
       "      <td>255 - BARRANCAS DE BELGRANO</td>\n",
       "      <td>2020-01-01 00:11:46</td>\n",
       "      <td>2020-01-01 00:05:23</td>\n",
       "      <td>2020</td>\n",
       "      <td>Jan</td>\n",
       "      <td>001</td>\n",
       "      <td>Wed</td>\n",
       "      <td>3</td>\n",
       "      <td>00</td>\n",
       "      <td>05</td>\n",
       "    </tr>\n",
       "    <tr>\n",
       "      <th>1876322</th>\n",
       "      <td>0</td>\n",
       "      <td>72</td>\n",
       "      <td>354594</td>\n",
       "      <td>92</td>\n",
       "      <td>092 - Salcedo</td>\n",
       "      <td>2020-01-01 00:05:42</td>\n",
       "      <td>92.0</td>\n",
       "      <td>092 - Salcedo</td>\n",
       "      <td>2020-01-01 00:06:54</td>\n",
       "      <td>2020-01-01 00:05:42</td>\n",
       "      <td>2020</td>\n",
       "      <td>Jan</td>\n",
       "      <td>001</td>\n",
       "      <td>Wed</td>\n",
       "      <td>3</td>\n",
       "      <td>00</td>\n",
       "      <td>05</td>\n",
       "    </tr>\n",
       "    <tr>\n",
       "      <th>1126779</th>\n",
       "      <td>0</td>\n",
       "      <td>769</td>\n",
       "      <td>222181</td>\n",
       "      <td>41</td>\n",
       "      <td>041 - Urquiza y Rondeau</td>\n",
       "      <td>2020-01-01 00:07:30</td>\n",
       "      <td>41.0</td>\n",
       "      <td>041 - Urquiza y Rondeau</td>\n",
       "      <td>2020-01-01 00:20:19</td>\n",
       "      <td>2020-01-01 00:07:30</td>\n",
       "      <td>2020</td>\n",
       "      <td>Jan</td>\n",
       "      <td>001</td>\n",
       "      <td>Wed</td>\n",
       "      <td>3</td>\n",
       "      <td>00</td>\n",
       "      <td>07</td>\n",
       "    </tr>\n",
       "    <tr>\n",
       "      <th>...</th>\n",
       "      <td>...</td>\n",
       "      <td>...</td>\n",
       "      <td>...</td>\n",
       "      <td>...</td>\n",
       "      <td>...</td>\n",
       "      <td>...</td>\n",
       "      <td>...</td>\n",
       "      <td>...</td>\n",
       "      <td>...</td>\n",
       "      <td>...</td>\n",
       "      <td>...</td>\n",
       "      <td>...</td>\n",
       "      <td>...</td>\n",
       "      <td>...</td>\n",
       "      <td>...</td>\n",
       "      <td>...</td>\n",
       "      <td>...</td>\n",
       "    </tr>\n",
       "    <tr>\n",
       "      <th>4</th>\n",
       "      <td>11204919</td>\n",
       "      <td>591</td>\n",
       "      <td>35926</td>\n",
       "      <td>212</td>\n",
       "      <td>129 - Velasco</td>\n",
       "      <td>2021-06-02 16:09:32</td>\n",
       "      <td>158.0</td>\n",
       "      <td>158 - VILLARROEL</td>\n",
       "      <td>2021-06-02 16:19:23</td>\n",
       "      <td>2021-06-02 16:09:32</td>\n",
       "      <td>2021</td>\n",
       "      <td>Jun</td>\n",
       "      <td>153</td>\n",
       "      <td>Wed</td>\n",
       "      <td>3</td>\n",
       "      <td>16</td>\n",
       "      <td>09</td>\n",
       "    </tr>\n",
       "    <tr>\n",
       "      <th>3</th>\n",
       "      <td>11204920</td>\n",
       "      <td>400</td>\n",
       "      <td>713938</td>\n",
       "      <td>117</td>\n",
       "      <td>117 - HUMBERTO 1°</td>\n",
       "      <td>2021-06-02 16:09:34</td>\n",
       "      <td>175.0</td>\n",
       "      <td>147 - Constitución</td>\n",
       "      <td>2021-06-02 16:16:14</td>\n",
       "      <td>2021-06-02 16:09:34</td>\n",
       "      <td>2021</td>\n",
       "      <td>Jun</td>\n",
       "      <td>153</td>\n",
       "      <td>Wed</td>\n",
       "      <td>3</td>\n",
       "      <td>16</td>\n",
       "      <td>09</td>\n",
       "    </tr>\n",
       "    <tr>\n",
       "      <th>2</th>\n",
       "      <td>11204928</td>\n",
       "      <td>299</td>\n",
       "      <td>690073</td>\n",
       "      <td>232</td>\n",
       "      <td>252 - Tamborini</td>\n",
       "      <td>2021-06-02 16:10:08</td>\n",
       "      <td>386.0</td>\n",
       "      <td>277 - Coghlan</td>\n",
       "      <td>2021-06-02 16:15:07</td>\n",
       "      <td>2021-06-02 16:10:08</td>\n",
       "      <td>2021</td>\n",
       "      <td>Jun</td>\n",
       "      <td>153</td>\n",
       "      <td>Wed</td>\n",
       "      <td>3</td>\n",
       "      <td>16</td>\n",
       "      <td>10</td>\n",
       "    </tr>\n",
       "    <tr>\n",
       "      <th>1</th>\n",
       "      <td>11204938</td>\n",
       "      <td>406</td>\n",
       "      <td>348428</td>\n",
       "      <td>387</td>\n",
       "      <td>278 - Donato Alvarez</td>\n",
       "      <td>2021-06-02 16:11:01</td>\n",
       "      <td>262.0</td>\n",
       "      <td>349 - Plaza Saenz Peña</td>\n",
       "      <td>2021-06-02 16:17:47</td>\n",
       "      <td>2021-06-02 16:11:01</td>\n",
       "      <td>2021</td>\n",
       "      <td>Jun</td>\n",
       "      <td>153</td>\n",
       "      <td>Wed</td>\n",
       "      <td>3</td>\n",
       "      <td>16</td>\n",
       "      <td>11</td>\n",
       "    </tr>\n",
       "    <tr>\n",
       "      <th>0</th>\n",
       "      <td>11204995</td>\n",
       "      <td>437</td>\n",
       "      <td>119795</td>\n",
       "      <td>131</td>\n",
       "      <td>131- HOSPITAL DE CLÍNICAS</td>\n",
       "      <td>2021-06-02 16:14:35</td>\n",
       "      <td>38.0</td>\n",
       "      <td>038 - Plaza Libertad</td>\n",
       "      <td>2021-06-02 16:21:52</td>\n",
       "      <td>2021-06-02 16:14:35</td>\n",
       "      <td>2021</td>\n",
       "      <td>Jun</td>\n",
       "      <td>153</td>\n",
       "      <td>Wed</td>\n",
       "      <td>3</td>\n",
       "      <td>16</td>\n",
       "      <td>14</td>\n",
       "    </tr>\n",
       "  </tbody>\n",
       "</table>\n",
       "<p>3331671 rows × 17 columns</p>\n",
       "</div>"
      ],
      "text/plain": [
       "               id  duracion_recorrido  id_usuario  id_estacion_origen  \\\n",
       "593758          0                6563      506009                  30   \n",
       "687904          0                1150      116847                 206   \n",
       "1026453         0                 383      259973                 308   \n",
       "1876322         0                  72      354594                  92   \n",
       "1126779         0                 769      222181                  41   \n",
       "...           ...                 ...         ...                 ...   \n",
       "4        11204919                 591       35926                 212   \n",
       "3        11204920                 400      713938                 117   \n",
       "2        11204928                 299      690073                 232   \n",
       "1        11204938                 406      348428                 387   \n",
       "0        11204995                 437      119795                 131   \n",
       "\n",
       "            nombre_estacion_origen fecha_origen_recorrido  \\\n",
       "593758                  030 - Peña    2020-01-01 00:02:50   \n",
       "687904    159 - Fitz Roy & Gorriti    2020-01-01 00:04:19   \n",
       "1026453   251 - Solar de la Abadía    2020-01-01 00:05:23   \n",
       "1876322              092 - Salcedo    2020-01-01 00:05:42   \n",
       "1126779    041 - Urquiza y Rondeau    2020-01-01 00:07:30   \n",
       "...                            ...                    ...   \n",
       "4                    129 - Velasco    2021-06-02 16:09:32   \n",
       "3                117 - HUMBERTO 1°    2021-06-02 16:09:34   \n",
       "2                  252 - Tamborini    2021-06-02 16:10:08   \n",
       "1             278 - Donato Alvarez    2021-06-02 16:11:01   \n",
       "0        131- HOSPITAL DE CLÍNICAS    2021-06-02 16:14:35   \n",
       "\n",
       "         id_estacion_destino      nombre_estacion_destino  \\\n",
       "593758                  30.0                   030 - Peña   \n",
       "687904                 207.0                123 - Armenia   \n",
       "1026453                289.0  255 - BARRANCAS DE BELGRANO   \n",
       "1876322                 92.0                092 - Salcedo   \n",
       "1126779                 41.0      041 - Urquiza y Rondeau   \n",
       "...                      ...                          ...   \n",
       "4                      158.0             158 - VILLARROEL   \n",
       "3                      175.0           147 - Constitución   \n",
       "2                      386.0                277 - Coghlan   \n",
       "1                      262.0       349 - Plaza Saenz Peña   \n",
       "0                       38.0         038 - Plaza Libertad   \n",
       "\n",
       "        fecha_destino_recorrido      start_datetime  anio  mes ndia  dia wdia  \\\n",
       "593758      2020-01-01 01:52:13 2020-01-01 00:02:50  2020  Jan  001  Wed    3   \n",
       "687904      2020-01-01 00:23:29 2020-01-01 00:04:19  2020  Jan  001  Wed    3   \n",
       "1026453     2020-01-01 00:11:46 2020-01-01 00:05:23  2020  Jan  001  Wed    3   \n",
       "1876322     2020-01-01 00:06:54 2020-01-01 00:05:42  2020  Jan  001  Wed    3   \n",
       "1126779     2020-01-01 00:20:19 2020-01-01 00:07:30  2020  Jan  001  Wed    3   \n",
       "...                         ...                 ...   ...  ...  ...  ...  ...   \n",
       "4           2021-06-02 16:19:23 2021-06-02 16:09:32  2021  Jun  153  Wed    3   \n",
       "3           2021-06-02 16:16:14 2021-06-02 16:09:34  2021  Jun  153  Wed    3   \n",
       "2           2021-06-02 16:15:07 2021-06-02 16:10:08  2021  Jun  153  Wed    3   \n",
       "1           2021-06-02 16:17:47 2021-06-02 16:11:01  2021  Jun  153  Wed    3   \n",
       "0           2021-06-02 16:21:52 2021-06-02 16:14:35  2021  Jun  153  Wed    3   \n",
       "\n",
       "        hora mins  \n",
       "593758    00   02  \n",
       "687904    00   04  \n",
       "1026453   00   05  \n",
       "1876322   00   05  \n",
       "1126779   00   07  \n",
       "...      ...  ...  \n",
       "4         16   09  \n",
       "3         16   09  \n",
       "2         16   10  \n",
       "1         16   11  \n",
       "0         16   14  \n",
       "\n",
       "[3331671 rows x 17 columns]"
      ]
     },
     "execution_count": 9,
     "metadata": {},
     "output_type": "execute_result"
    }
   ],
   "source": [
    "# bicis_recorridos_2020_df['fecha_origen_recorrido']\n",
    "formato = '%Y%m%d %H:%M:%S'\n",
    "bicicletas[\"recorridos_df\"]['start_datetime'] = pd.to_datetime(\n",
    "    bicicletas[\"recorridos_df\"]['fecha_origen_recorrido'], \n",
    "    format = formato\n",
    ")\n",
    "# bicicletas[\"recorridos_df\"]['start_date'] = bicicletas[\"recorridos_df\"]['start_datetime'].dt.strftime('%Y-%m-%d')\n",
    "bicicletas[\"recorridos_df\"]['anio'] = bicicletas[\"recorridos_df\"]['start_datetime'].dt.strftime('%Y')\n",
    "bicicletas[\"recorridos_df\"]['mes']  = bicicletas[\"recorridos_df\"]['start_datetime'].dt.strftime('%b') \n",
    "bicicletas[\"recorridos_df\"]['ndia'] = bicicletas[\"recorridos_df\"]['start_datetime'].dt.strftime('%j') # pasar a lower \n",
    "bicicletas[\"recorridos_df\"]['dia']  = bicicletas[\"recorridos_df\"]['start_datetime'].dt.strftime('%a') # pasar a lower\n",
    "bicicletas[\"recorridos_df\"]['wdia'] = bicicletas[\"recorridos_df\"]['start_datetime'].dt.strftime('%w')\n",
    "bicicletas[\"recorridos_df\"]['hora'] = bicicletas[\"recorridos_df\"]['start_datetime'].dt.strftime('%H')\n",
    "bicicletas[\"recorridos_df\"]['mins'] = bicicletas[\"recorridos_df\"]['start_datetime'].dt.strftime('%M')\n",
    "bicicletas[\"recorridos_df\"]"
   ]
  },
  {
   "cell_type": "markdown",
   "metadata": {
    "id": "ZDxIRiJ9UBHt"
   },
   "source": [
    "## Filtrar columnas que no se usen\n",
    "\n",
    "- fecha_origen_recorrido\n",
    "- id_estacion_origen\n",
    "- fecha_destino_recorrido\n",
    "- direccion_estacion_origen\n",
    "- long_estacion_origen\n",
    "- lat_estacion_origen\n",
    "- direccion_estacion_destino\n",
    "- long_estacion_destino\n",
    "- lat_estacion_destino\n",
    "- periodo\n",
    "\n"
   ]
  },
  {
   "cell_type": "markdown",
   "metadata": {
    "id": "vfXCQRZcUBHv"
   },
   "source": [
    "### Chequear\n",
    "- Tipo de ciclista? Solo hay categoria member\n",
    "- Origen de viaje? Code o Key Card o Mobile solo registros con code"
   ]
  },
  {
   "cell_type": "code",
   "execution_count": null,
   "metadata": {
    "id": "sTxtY0YAUBHx",
    "outputId": "1494a27f-4df7-4b5a-94ce-ef72372a79d5"
   },
   "outputs": [],
   "source": [
    "# ya lo vole\n",
    "modelos_de_bicicleta = bicis_recorridos_2021_df['Modelo de bicicleta'].unique()\n",
    "print('Modelos de bicicleta: '+ modelos_de_bicicleta.__str__())\n",
    "tipos_de_ciclista = bicis_recorridos_2021_df['Tipo de ciclista'].unique()\n",
    "print('Tipos de ciclista: '+ tipos_de_ciclista.__str__())\n",
    "origen_de_viaje = bicis_recorridos_2021_df['Origen de viaje'].unique()\n",
    "print('Origenes de viaje: '+ origen_de_viaje.__str__())"
   ]
  },
  {
   "cell_type": "code",
   "execution_count": null,
   "metadata": {
    "id": "ue89AfJPSgoV"
   },
   "outputs": [],
   "source": [
    "# ya lo vole\n",
    "columns_to_drop = [\n",
    "    'fecha_origen_recorrido',\n",
    "    'id_estacion_origen',\n",
    "    'fecha_destino_recorrido',\n",
    "    'direccion_estacion_origen',\n",
    "    'long_estacion_origen',\n",
    "    'lat_estacion_origen',\n",
    "    'direccion_estacion_destino',\n",
    "    'long_estacion_destino',\n",
    "    'lat_estacion_destino',\n",
    "    'periodo',\n",
    "    'id_estacion_destino',\n",
    "    'id_usuario',\n",
    "]"
   ]
  },
  {
   "cell_type": "code",
   "execution_count": null,
   "metadata": {
    "colab": {
     "base_uri": "https://localhost:8080/",
     "height": 204
    },
    "id": "ZzSK0uNBUBHz",
    "outputId": "373520b6-02d8-4fed-bf36-0b7a457f28f6"
   },
   "outputs": [],
   "source": [
    "cleaned = bicis_recorridos_2020_df.drop(columns_to_drop, axis= 1)\n",
    "cleaned.head()"
   ]
  },
  {
   "cell_type": "markdown",
   "metadata": {
    "id": "oZOn_k4GyrwL"
   },
   "source": [
    "## separar las columnas nombre de estacion de origen y nombre de estacion de destino \n",
    "\n",
    "Tienen la info correcta del id de las estaciones"
   ]
  },
  {
   "cell_type": "code",
   "execution_count": null,
   "metadata": {
    "colab": {
     "base_uri": "https://localhost:8080/",
     "height": 419
    },
    "id": "LVyibLSQUBH4",
    "outputId": "c6a15554-173c-43ed-eefb-01fc185813b2"
   },
   "outputs": [],
   "source": [
    "aux_list_2d_inicio = pd.DataFrame(\n",
    "    cleaned['nombre_estacion_origen'].str.split('-').tolist(),\n",
    "    columns =['Id de estación de incio', 'Nombre de estación de inicio']\n",
    ")\n",
    "aux_list_2d_inicio['Nombre de estación de inicio'] = aux_list_2d_inicio['Nombre de estación de inicio'].str.lower()\n",
    "aux_list_2d_inicio\n"
   ]
  },
  {
   "cell_type": "markdown",
   "metadata": {
    "id": "-sbX4UZJSOnb"
   },
   "source": [
    "Aca divido la columna Nombre de estacion de fin de viaje porque contiene dos campos el Id y el nombre de la estacion de inicio de viaje. Hay que validar que no haya registros Nan"
   ]
  },
  {
   "cell_type": "code",
   "execution_count": null,
   "metadata": {
    "colab": {
     "base_uri": "https://localhost:8080/",
     "height": 419
    },
    "id": "L-fVzFxYUBH7",
    "outputId": "c3bb41be-acdc-49e6-faf8-7066f64088f1"
   },
   "outputs": [],
   "source": [
    "bicis_recorridos_2020_df['nombre_estacion_destino'] = bicis_recorridos_2020_df['nombre_estacion_destino'].replace(np.nan, '0 - null')\n",
    "bicis_recorridos_2020_df['nombre_estacion_destino'].isna().sum()\n",
    "aux_list_2d_fin = pd.DataFrame(bicis_recorridos_2020_df['nombre_estacion_destino'].str.split('-').tolist(), columns =['Id de estación destino','Nombre de estación destino'])\n",
    "aux_list_2d_fin['Nombre de estación destino'] = aux_list_2d_fin['Nombre de estación destino'].str.lower()\n",
    "aux_list_2d_fin"
   ]
  },
  {
   "cell_type": "markdown",
   "metadata": {
    "id": "jQkaIrjPSn4_"
   },
   "source": [
    "Voy a borrar las columnas que fueron normalizadas y agregar lo spliteado al dataframe original\n"
   ]
  },
  {
   "cell_type": "code",
   "execution_count": null,
   "metadata": {
    "colab": {
     "base_uri": "https://localhost:8080/",
     "height": 306
    },
    "id": "TcUkDfnTUBH8",
    "outputId": "345a9158-d46c-469c-d2e8-980dca6f5bc0"
   },
   "outputs": [],
   "source": [
    "cleaned = cleaned.drop(['nombre_estacion_destino','nombre_estacion_origen'], axis= 1)\n",
    "test = pd.concat([cleaned,aux_list_2d_fin, aux_list_2d_inicio ], axis= 1)\n",
    "test.head()"
   ]
  },
  {
   "cell_type": "code",
   "execution_count": null,
   "metadata": {
    "colab": {
     "base_uri": "https://localhost:8080/",
     "height": 623
    },
    "id": "4gHEQS3FaS91",
    "outputId": "e2f15544-054c-41af-c91e-330256b922c2"
   },
   "outputs": [],
   "source": [
    "test.sort_values(by='start datetime')"
   ]
  },
  {
   "cell_type": "markdown",
   "metadata": {
    "id": "4GpWUCoizNhl"
   },
   "source": [
    "Export csv\n",
    "- Download\n",
    "- Upload to cloud\n"
   ]
  },
  {
   "cell_type": "code",
   "execution_count": null,
   "metadata": {
    "id": "s4xY_2--VcMn"
   },
   "outputs": [],
   "source": [
    "compression_opts = dict(\n",
    "    method='zip',\n",
    "    archive_name='recorridos_2020-cleaned.csv'\n",
    ")  \n",
    "test.to_csv(\n",
    "    'recorridos_2020-celaned.zip',\n",
    "    index=False,compression=compression_opts\n",
    ")"
   ]
  },
  {
   "cell_type": "code",
   "execution_count": null,
   "metadata": {
    "colab": {
     "base_uri": "https://localhost:8080/",
     "height": 17
    },
    "id": "gfWi5nWeWGxP",
    "outputId": "0eda87a6-f4f5-4bb1-9f70-c887ecb8360d"
   },
   "outputs": [],
   "source": [
    "from google.colab import files\n",
    "files.download('recorridos_2020-celaned.zip')"
   ]
  },
  {
   "cell_type": "code",
   "execution_count": null,
   "metadata": {
    "colab": {
     "base_uri": "https://localhost:8080/"
    },
    "id": "ioXdyZE0z_PQ",
    "outputId": "45f123bf-5458-4529-fb72-21536ff00be1"
   },
   "outputs": [],
   "source": [
    "from google.colab import drive\n",
    "drive.mount('/drive')\n"
   ]
  },
  {
   "cell_type": "code",
   "execution_count": null,
   "metadata": {
    "id": "-hSRpLT304SS"
   },
   "outputs": [],
   "source": [
    "test.to_csv('/drive/My Drive/Datasets-bicing/recorridos-2020-cleaned-2.csv')"
   ]
  },
  {
   "cell_type": "markdown",
   "metadata": {
    "id": "IIKqluXaMsid"
   },
   "source": [
    "##Retrieve latest\n",
    "\n",
    "Fetch already cleaned csv from drive\n"
   ]
  },
  {
   "cell_type": "markdown",
   "metadata": {
    "id": "j7qlPTBgN9x_"
   },
   "source": []
  },
  {
   "cell_type": "code",
   "execution_count": null,
   "metadata": {
    "id": "5Yg4HZP8Nfs-"
   },
   "outputs": [],
   "source": [
    "# Code to read csv file into Colaboratory:\n",
    "!pip install -U -q PyDrive\n",
    "from pydrive.auth import GoogleAuth\n",
    "from pydrive.drive import GoogleDrive\n",
    "from google.colab import auth\n",
    "from oauth2client.client import GoogleCredentials\n",
    "# Authenticate and create the PyDrive client.\n",
    "auth.authenticate_user()\n",
    "gauth = GoogleAuth()\n",
    "gauth.credentials = GoogleCredentials.get_application_default()\n",
    "drive = GoogleDrive(gauth)"
   ]
  },
  {
   "cell_type": "code",
   "execution_count": null,
   "metadata": {
    "colab": {
     "base_uri": "https://localhost:8080/",
     "height": 323
    },
    "id": "Y1Sbt-4XMvXO",
    "outputId": "751e9c70-3567-4855-8c5e-200e8b8a6877"
   },
   "outputs": [],
   "source": [
    "id = '17liAPD1lyj2wT-Hcbh4ed9-Cn4peoyIq'\n",
    "downloaded = drive.CreateFile({'id':id}) \n",
    "downloaded.GetContentFile('recorridos-2020-cleaned-2.csv') \n",
    "bicis_recorridos_2020_df = pd.read_csv('recorridos-2020-cleaned-2.csv')\n",
    "bicis_recorridos_2020_df.head()"
   ]
  },
  {
   "cell_type": "markdown",
   "metadata": {
    "id": "Yj1mTZDgxE0N"
   },
   "source": [
    "Workingday or Weekend"
   ]
  },
  {
   "cell_type": "code",
   "execution_count": null,
   "metadata": {
    "id": "ztmsTctnxIoq"
   },
   "outputs": [],
   "source": [
    "dias_habiles = [\n",
    "     'Monday',\n",
    "     'Tuesday',\n",
    "     'Wednesday',\n",
    "     'Thursday',\n",
    "     'Friday'\n",
    "]\n",
    "\n",
    "df_with_workingday = bicis_recorridos_2020_df.assign(\n",
    "    dia_habil=[1 if dia in dias_habiles else 0 for dia in bicis_recorridos_2020_df['DIA']]\n",
    ")\n"
   ]
  },
  {
   "cell_type": "code",
   "execution_count": null,
   "metadata": {
    "colab": {
     "base_uri": "https://localhost:8080/",
     "height": 793
    },
    "id": "7SjGxPgC2Tc_",
    "outputId": "740e111b-395d-4ed8-a322-d2a2490087dd"
   },
   "outputs": [],
   "source": [
    "df_with_workingday"
   ]
  },
  {
   "cell_type": "markdown",
   "metadata": {
    "id": "FxmdAYmJUBID"
   },
   "source": [
    "### Agrego datos del clima queda por hacer"
   ]
  },
  {
   "cell_type": "markdown",
   "metadata": {
    "id": "BJllkQ-yOKEY"
   },
   "source": [
    "Fetch from drive"
   ]
  },
  {
   "cell_type": "code",
   "execution_count": null,
   "metadata": {
    "colab": {
     "base_uri": "https://localhost:8080/",
     "height": 204
    },
    "id": "KKhFdtVaONL2",
    "outputId": "44d2402b-470b-4c79-e977-dd4522519c05"
   },
   "outputs": [],
   "source": [
    "id = '14BpBfjQ3IrfeK8CajCWrEdfPg7S0eqc8'\n",
    "downloaded = drive.CreateFile({'id':id}) \n",
    "downloaded.GetContentFile('weather-data-ba.csv') \n",
    "weather_data_df = pd.read_csv('weather-data-ba.csv')\n",
    "weather_data_df.head()\n",
    "weather_data_df = weather_data_df.filter(['DATE','PRCP','TAVG'])\n",
    "weather_data_df.isnull().sum(axis=0)\n",
    "weather_data_df['PRCP'] = weather_data_df['PRCP'].replace(np.nan, 0)\n",
    "weather_data_df.head()"
   ]
  },
  {
   "cell_type": "code",
   "execution_count": null,
   "metadata": {
    "id": "maHFL4gLUBIF"
   },
   "outputs": [],
   "source": [
    "recorridos_latest_df = pd.merge(\n",
    "    left = df_with_workingday,\n",
    "    right = weather_data_df,\n",
    "    left_on = 'START DATE',\n",
    "    right_on = 'DATE'\n",
    ")"
   ]
  },
  {
   "cell_type": "code",
   "execution_count": null,
   "metadata": {
    "colab": {
     "base_uri": "https://localhost:8080/",
     "height": 442
    },
    "id": "nqCL_k8hUBIH",
    "outputId": "02b0fa70-76dc-4b94-8f55-4ef67e4c1c8a"
   },
   "outputs": [],
   "source": [
    "recorridos_latest_df.head()"
   ]
  },
  {
   "cell_type": "code",
   "execution_count": null,
   "metadata": {
    "colab": {
     "base_uri": "https://localhost:8080/"
    },
    "id": "D0hNu2LUQOrv",
    "outputId": "a9a1f10a-941b-44d2-9909-77cd083d91c9"
   },
   "outputs": [],
   "source": [
    "from google.colab import drive\n",
    "drive.mount('/drive')"
   ]
  },
  {
   "cell_type": "code",
   "execution_count": null,
   "metadata": {
    "id": "BO2KzlL2QcDv"
   },
   "outputs": [],
   "source": [
    "recorridos_latest_df.to_csv(\n",
    "    '/drive/My Drive/Datasets-bicing/recorridos-2020-cleaned-weather-workingday-3.csv'\n",
    ")"
   ]
  }
 ],
 "metadata": {
  "colab": {
   "collapsed_sections": [],
   "include_colab_link": true,
   "name": " Clean and prepare Recorridos de bicicletas 2020.ipynb",
   "provenance": []
  },
  "kernelspec": {
   "display_name": "Python 3",
   "language": "python",
   "name": "python3"
  },
  "language_info": {
   "codemirror_mode": {
    "name": "ipython",
    "version": 3
   },
   "file_extension": ".py",
   "mimetype": "text/x-python",
   "name": "python",
   "nbconvert_exporter": "python",
   "pygments_lexer": "ipython3",
   "version": "3.9.5"
  }
 },
 "nbformat": 4,
 "nbformat_minor": 4
}
