{
 "cells": [
  {
   "cell_type": "code",
   "execution_count": null,
   "metadata": {
    "id": "vWwBPI9fUBG7"
   },
   "outputs": [],
   "source": [
    "\"\"\"\n",
    "Bicicletas recorridos\n",
    "Clima PRCP TAVG\n",
    "2020-2021\n",
    "acquisition clean prepare upload\n",
    "\"\"\"\n",
    "import os\n",
    "import sys\n",
    "\n",
    "import urllib.request\n",
    "# from zipfile import ZipFile\n",
    "\n",
    "import pandas as pd\n",
    "import numpy as np\n",
    "\n",
    "import random\n",
    "\n",
    "# Mover esto a exploring\n",
    "# import matplotlib.pyplot as plt\n",
    "# import seaborn as sns\n",
    "# import matplotlib as mpl\n",
    "\n",
    "# mpl.rcParams.update( mpl.rcParamsDefault ) "
   ]
  },
  {
   "cell_type": "code",
   "execution_count": null,
   "metadata": {},
   "outputs": [],
   "source": [
    "bicicletas = {\n",
    "    \"recorridos\" : {\n",
    "        \"2020\" : {\n",
    "            \"url\" : 'https://cdn.buenosaires.gob.ar/datosabiertos/datasets/transporte/bicicletas-publicas/recorridos-realizados-2020.zip',\n",
    "            \"zip_file\" : \"./datasets/recorridos-realizados-2020.zip\",\n",
    "            \"df\" : pd.DataFrame(),\n",
    "        },\n",
    "        \"2021\" : {\n",
    "            \"url\" : 'https://cdn.buenosaires.gob.ar/datosabiertos/datasets/transporte/bicicletas-publicas/recorridos-realizados-2021.zip',   \n",
    "            \"zip_file\" : \"./datasets/recorridos-realizados-2021.zip\",\n",
    "            \"df\" : pd.DataFrame(),\n",
    "        },\n",
    "    },\n",
    "    \"recorridos_df\" : pd.DataFrame(),\n",
    "    \"estaciones\" : pd.DataFrame(),\n",
    "}"
   ]
  },
  {
   "cell_type": "code",
   "execution_count": null,
   "metadata": {},
   "outputs": [],
   "source": [
    "\"\"\"\n",
    "Descargar recorridios bicicletas\n",
    "\"\"\"\n",
    "def descargar_recoridos(\n",
    "    recorridos,\n",
    "    equivalencias_encabezados\n",
    "):\n",
    "    for r in recorridos:\n",
    "        if not os.path.exists( recorridos[r][\"zip_file\"] ):\n",
    "            print(\"Descargando\", recorridos[r][\"url\"])\n",
    "            urllib.request.urlretrieve(\n",
    "              recorridos[r][\"url\"],\n",
    "              recorridos[r][\"zip_file\"]\n",
    "            )\n",
    "        else:\n",
    "            print(\"Ya descargado\", recorridos[r][\"zip_file\"])  \n",
    "        recorridos[r][\"df\"] = pd.read_csv(\n",
    "            recorridos[r][\"zip_file\"],\n",
    "            compression = 'zip',\n",
    "            encoding = 'utf-8', \n",
    "        )\n",
    "#         print( recorridos[r][\"df\"].info() )\n",
    "    # ajustar 2021\n",
    "    recorridos[\"2021\"][\"df\"] = recorridos[\"2021\"][\"df\"]\n",
    "    recorridos[\"2021\"][\"df\"] = recorridos[\"2021\"][\"df\"].rename( columns = equivalencias_encabezados )\n",
    "    recorridos[\"2021\"][\"df\"][\"id\"] = recorridos[\"2021\"][\"df\"]['id'].astype('Int64')\n",
    "    print('done')\n",
    "    return recorridos\n",
    "\n",
    "equivalencias_encabezados = {\n",
    "        'ID'                                  : 'id',\n",
    "        'Duración'                            : 'duracion_recorrido',\n",
    "        'Estado cerrado'                      : 'estado_cerrado',\n",
    "        'ID de ciclista'                      : 'id_usuario',\n",
    "        'Tipo de ciclista'                    : 'cilicsta_tipo',\n",
    "        'Modelo de bicicleta'                 : 'bicicleta_modelo',   \n",
    "\n",
    "        'Id de estación de inicio'            : 'id_estacion_origen', \n",
    "        'Nombre de estación de inicio'        : 'nombre_estacion_origen',\n",
    "        'Fecha de inicio'                     : 'fecha_origen_recorrido',     \n",
    "        'Origen de viaje'                     : 'direccion_estacion_origen',  \n",
    "        # '':'long_estacion_origen',        \n",
    "        # '':'lat_estacion_origen',\n",
    "        'Id de estación de fin de viaje'      : 'id_estacion_destino',     \n",
    "        'Nombre de estación de fin de viaje'  : 'nombre_estacion_destino',\n",
    "        'Fecha de fin'                        : 'fecha_destino_recorrido',          \n",
    "        # '':'direccion_estacion_destino',           \n",
    "        # '':'long_estacion_destino',       \n",
    "        # '':'lat_estacion_destino',\n",
    "        # '':'periodo',  \n",
    "}\n",
    "bicicletas[\"recorridos\"] = descargar_recoridos(\n",
    "    bicicletas[\"recorridos\"],\n",
    "    equivalencias_encabezados\n",
    ")"
   ]
  },
  {
   "cell_type": "code",
   "execution_count": null,
   "metadata": {},
   "outputs": [],
   "source": [
    "bicicletas[\"recorridos\"][\"2021\"][\"df\"].info()\n",
    "bicicletas[\"recorridos\"][\"2020\"][\"df\"].info()"
   ]
  },
  {
   "cell_type": "code",
   "execution_count": null,
   "metadata": {},
   "outputs": [],
   "source": [
    "# Concatenar recorridos 2020 2021\n",
    "frames = []\n",
    "for r in bicicletas[\"recorridos\"]:\n",
    "    frames.append( bicicletas[\"recorridos\"][r][\"df\"] )\n",
    "bicicletas[\"recorridos_df\"] = pd.concat( frames )"
   ]
  },
  {
   "cell_type": "code",
   "execution_count": null,
   "metadata": {},
   "outputs": [],
   "source": [
    "bicicletas[\"recorridos_df\"] "
   ]
  },
  {
   "cell_type": "code",
   "execution_count": null,
   "metadata": {
    "id": "EZZQppOmTfFD"
   },
   "outputs": [],
   "source": [
    "# Fill nan en id y destinos\n",
    "# bicicletas[\"recorridos_df\"][\"id\"] = bicicletas[\"recorridos_df\"][\"id\"].interpolate( method='linear' ) # no funco\n",
    "bicicletas[\"recorridos_df\"] = bicicletas[\"recorridos_df\"].sort_values( by=['fecha_origen_recorrido'] )\n",
    "bicicletas[\"recorridos_df\"][\"id\"] = bicicletas[\"recorridos_df\"][\"id\"].fillna(0)\n",
    "bicicletas[\"recorridos_df\"]['nombre_estacion_destino'] = bicicletas[\"recorridos_df\"]['nombre_estacion_destino'].fillna('0 - null')"
   ]
  },
  {
   "cell_type": "code",
   "execution_count": null,
   "metadata": {},
   "outputs": [],
   "source": [
    "# Filtro y ordeno columnas que quedan\n",
    "orden_filtro = [\n",
    "    'id',\n",
    "    'duracion_recorrido',\n",
    "#     'estado_cerrado',\n",
    "    'id_usuario',\n",
    "#     'cilicsta_tipo',\n",
    "#     'bicicleta_modelo',\n",
    "    'id_estacion_origen',\n",
    "    'nombre_estacion_origen',       \n",
    "#     'direccion_estacion_origen',\n",
    "    'fecha_origen_recorrido',       \n",
    "#     'long_estacion_origen',     \n",
    "#     'lat_estacion_origen',\n",
    "    'id_estacion_destino',         \n",
    "    'nombre_estacion_destino',    \n",
    "#     'direccion_estacion_destino',\n",
    "    'fecha_destino_recorrido',      \n",
    "#     'long_estacion_destino',       \n",
    "#     'lat_estacion_destino', \n",
    "#     'periodo',                       \n",
    "]\n",
    "bicicletas[\"recorridos_df\"] = bicicletas[\"recorridos_df\"][orden_filtro]"
   ]
  },
  {
   "cell_type": "code",
   "execution_count": null,
   "metadata": {},
   "outputs": [],
   "source": [
    "bicicletas[\"recorridos_df\"]"
   ]
  },
  {
   "cell_type": "markdown",
   "metadata": {
    "id": "Ptq8hRiYUBHg"
   },
   "source": [
    "### Procesar fecha\n",
    "\n",
    "Parsear object datetime a dia, mes, año"
   ]
  },
  {
   "cell_type": "code",
   "execution_count": null,
   "metadata": {
    "colab": {
     "base_uri": "https://localhost:8080/",
     "height": 411
    },
    "id": "qIy_x970UBHi",
    "outputId": "66f46b85-b632-48d5-a9a8-125e8af73f86"
   },
   "outputs": [],
   "source": [
    "# bicis_recorridos_2020_df['fecha_origen_recorrido']\n",
    "formato = '%Y%m%d %H:%M:%S'\n",
    "bicicletas[\"recorridos_df\"]['start_datetime'] = pd.to_datetime(\n",
    "    bicicletas[\"recorridos_df\"]['fecha_origen_recorrido'], \n",
    "    format = formato\n",
    ")\n",
    "# bicicletas[\"recorridos_df\"]['start_date'] = bicicletas[\"recorridos_df\"]['start_datetime'].dt.strftime('%Y-%m-%d')\n",
    "bicicletas[\"recorridos_df\"]['anio'] = bicicletas[\"recorridos_df\"]['start_datetime'].dt.strftime('%Y')\n",
    "bicicletas[\"recorridos_df\"]['nmes'] = bicicletas[\"recorridos_df\"]['start_datetime'].dt.strftime('%m')\n",
    "# bicicletas[\"recorridos_df\"]['mes']  = bicicletas[\"recorridos_df\"]['start_datetime'].dt.strftime('%b').str.lower()\n",
    "bicicletas[\"recorridos_df\"]['ndia'] = bicicletas[\"recorridos_df\"]['start_datetime'].dt.strftime('%j')\n",
    "# bicicletas[\"recorridos_df\"]['dia']  = bicicletas[\"recorridos_df\"]['start_datetime'].dt.strftime('%a').str.lower()\n",
    "bicicletas[\"recorridos_df\"]['wdia'] = bicicletas[\"recorridos_df\"]['start_datetime'].dt.strftime('%w')\n",
    "bicicletas[\"recorridos_df\"]['hora'] = bicicletas[\"recorridos_df\"]['start_datetime'].dt.strftime('%H')\n",
    "bicicletas[\"recorridos_df\"]['mins'] = bicicletas[\"recorridos_df\"]['start_datetime'].dt.strftime('%M')\n",
    "bicicletas[\"recorridos_df\"]"
   ]
  },
  {
   "cell_type": "markdown",
   "metadata": {
    "id": "oZOn_k4GyrwL"
   },
   "source": []
  },
  {
   "cell_type": "code",
   "execution_count": null,
   "metadata": {},
   "outputs": [],
   "source": [
    "# Separar las columnas nombre de estacion de origen y nombre de estacion de destino \n",
    "# Tienen la info correcta del id de las estaciones\n",
    "\n",
    "# Use vectoried str.split with expand = True:\n",
    "bicicletas[\"recorridos_df\"][\n",
    "    ['id_estacion_incio','nombre_estacion_origen']\n",
    "] = bicicletas[\"recorridos_df\"]['nombre_estacion_origen'].str.split( ' - ', expand = True )\n",
    "\n",
    "# Aca divido la columna Nombre de estacion de fin de viaje porque contiene dos campos \n",
    "# el Id y el nombre de la estacion de inicio de viaje.\n",
    "# registros Nan ya pàsados a '0 - null'\n",
    "bicicletas[\"recorridos_df\"][\n",
    "    ['id_estacion_destino','nombre_estacion_destino']\n",
    "] = bicicletas[\"recorridos_df\"]['nombre_estacion_destino'].str.split( ' - ', expand = True )\n",
    "# TODO: sacar los leading zeros\n",
    "\n",
    "# bicicletas[\"recorridos_df\"][\"id_estacion_incio\"] = bicicletas[\"recorridos_df\"][\"id_estacion_incio\"].astype('Int64')\n",
    "bicicletas[\"recorridos_df\"]"
   ]
  },
  {
   "cell_type": "code",
   "execution_count": null,
   "metadata": {},
   "outputs": [],
   "source": []
  },
  {
   "cell_type": "code",
   "execution_count": null,
   "metadata": {
    "id": "maHFL4gLUBIF"
   },
   "outputs": [],
   "source": [
    "bicicletas[\"recorridos_clima_df\"] = pd.merge(\n",
    "    left = bicicletas[\"recorridos_df\"],\n",
    "    right = weather_data_df,\n",
    "    left_on = 'start_datetime',\n",
    "    right_on = 'DATE'\n",
    ")"
   ]
  },
  {
   "cell_type": "code",
   "execution_count": null,
   "metadata": {},
   "outputs": [],
   "source": [
    "# Exportar CSV"
   ]
  },
  {
   "cell_type": "code",
   "execution_count": 14,
   "metadata": {
    "id": "s4xY_2--VcMn"
   },
   "outputs": [],
   "source": [
    "compression_opts = dict(\n",
    "    method='zip',\n",
    "    archive_name='./datasets/recorridos_2020-2021.csv'\n",
    ")  \n",
    "\n",
    "bicicletas[\"recorridos_df\"].to_csv(\n",
    "    './datasets/recorridos_2020-2021.zip',\n",
    "    index = False,\n",
    "    compression = compression_opts\n",
    ")"
   ]
  },
  {
   "cell_type": "markdown",
   "metadata": {
    "id": "4GpWUCoizNhl"
   },
   "source": [
    "# Load to GoogleDrive"
   ]
  },
  {
   "cell_type": "code",
   "execution_count": null,
   "metadata": {
    "id": "5Yg4HZP8Nfs-"
   },
   "outputs": [],
   "source": [
    "# Code to read csv file into Colaboratory:\n",
    "!pip install -U -q PyDrive\n",
    "from pydrive.auth import GoogleAuth\n",
    "from pydrive.drive import GoogleDrive\n",
    "from google.colab import auth\n",
    "from oauth2client.client import GoogleCredentials\n",
    "# Authenticate and create the PyDrive client.\n",
    "auth.authenticate_user()\n",
    "gauth = GoogleAuth()\n",
    "gauth.credentials = GoogleCredentials.get_application_default()\n",
    "drive = GoogleDrive(gauth)"
   ]
  },
  {
   "cell_type": "code",
   "execution_count": null,
   "metadata": {
    "colab": {
     "base_uri": "https://localhost:8080/"
    },
    "id": "D0hNu2LUQOrv",
    "outputId": "a9a1f10a-941b-44d2-9909-77cd083d91c9"
   },
   "outputs": [],
   "source": [
    "from google.colab import drive\n",
    "drive.mount('/drive')"
   ]
  },
  {
   "cell_type": "code",
   "execution_count": null,
   "metadata": {
    "colab": {
     "base_uri": "https://localhost:8080/",
     "height": 204
    },
    "id": "KKhFdtVaONL2",
    "outputId": "44d2402b-470b-4c79-e977-dd4522519c05"
   },
   "outputs": [],
   "source": [
    "# Fetch weather from drive\n",
    "id = '14BpBfjQ3IrfeK8CajCWrEdfPg7S0eqc8'\n",
    "downloaded = drive.CreateFile({'id':id}) \n",
    "downloaded.GetContentFile('weather-data-ba.csv') \n",
    "weather_data_df = pd.read_csv('weather-data-ba.csv')\n",
    "weather_data_df.head()\n",
    "weather_data_df = weather_data_df.filter(\n",
    "    ['DATE','PRCP','TAVG']\n",
    ")\n",
    "weather_data_df.isnull().sum( axis = 0 )\n",
    "weather_data_df['PRCP'] = weather_data_df['PRCP'].replace( np.nan, 0 )\n",
    "weather_data_df.head()"
   ]
  },
  {
   "cell_type": "code",
   "execution_count": null,
   "metadata": {
    "id": "BO2KzlL2QcDv"
   },
   "outputs": [],
   "source": [
    "bicicletas[\"recorridos_clima_df\"].to_csv(\n",
    "    '/drive/My Drive/Datasets-bicing/recorridos-clima-2020-2021.csv'\n",
    ")"
   ]
  },
  {
   "cell_type": "code",
   "execution_count": null,
   "metadata": {
    "colab": {
     "base_uri": "https://localhost:8080/",
     "height": 442
    },
    "id": "nqCL_k8hUBIH",
    "outputId": "02b0fa70-76dc-4b94-8f55-4ef67e4c1c8a"
   },
   "outputs": [],
   "source": [
    "bicicletas[\"recorridos_clima_df\"].head()"
   ]
  },
  {
   "cell_type": "markdown",
   "metadata": {
    "id": "IIKqluXaMsid"
   },
   "source": [
    "## Bajar el ultimo\n",
    "Bajar el dataset limpio desde drive"
   ]
  },
  {
   "cell_type": "code",
   "execution_count": null,
   "metadata": {
    "colab": {
     "base_uri": "https://localhost:8080/",
     "height": 17
    },
    "id": "gfWi5nWeWGxP",
    "outputId": "0eda87a6-f4f5-4bb1-9f70-c887ecb8360d"
   },
   "outputs": [],
   "source": [
    "from google.colab import files\n",
    "files.download('recorridos_2020-2021.zip')"
   ]
  },
  {
   "cell_type": "code",
   "execution_count": null,
   "metadata": {
    "id": "-hSRpLT304SS"
   },
   "outputs": [],
   "source": [
    "bicicletas[\"recorridos_df\"].to_csv(\n",
    "    '/drive/My Drive/Datasets-bicing/recorridos_2020-2021.csv'\n",
    ")"
   ]
  },
  {
   "cell_type": "code",
   "execution_count": null,
   "metadata": {
    "colab": {
     "base_uri": "https://localhost:8080/",
     "height": 323
    },
    "id": "Y1Sbt-4XMvXO",
    "outputId": "751e9c70-3567-4855-8c5e-200e8b8a6877"
   },
   "outputs": [],
   "source": [
    "id = '17liAPD1lyj2wT-Hcbh4ed9-Cn4peoyIq'\n",
    "downloaded = drive.CreateFile({'id':id}) \n",
    "downloaded.GetContentFile('recorridos_2020-2021.csv') \n",
    "bicicletas[\"recorridos_df\"] = pd.read_csv('recorridos_2020-2021.csv')\n",
    "bicicletas[\"recorridos_df\"].head()"
   ]
  }
 ],
 "metadata": {
  "colab": {
   "collapsed_sections": [],
   "include_colab_link": true,
   "name": " Clean and prepare Recorridos de bicicletas 2020.ipynb",
   "provenance": []
  },
  "kernelspec": {
   "display_name": "Python 3",
   "language": "python",
   "name": "python3"
  },
  "language_info": {
   "codemirror_mode": {
    "name": "ipython",
    "version": 3
   },
   "file_extension": ".py",
   "mimetype": "text/x-python",
   "name": "python",
   "nbconvert_exporter": "python",
   "pygments_lexer": "ipython3",
   "version": "3.9.5"
  }
 },
 "nbformat": 4,
 "nbformat_minor": 4
}
