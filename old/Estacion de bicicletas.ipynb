{
 "cells": [
  {
   "cell_type": "code",
   "execution_count": 1,
   "metadata": {},
   "outputs": [],
   "source": [
    "import os\n",
    "import sys\n",
    "\n",
    "import urllib.request\n",
    "# from zipfile import ZipFile\n",
    "\n",
    "import pandas as pd\n",
    "import numpy as np\n",
    "import matplotlib.pyplot as plt\n",
    "import seaborn as sns\n",
    "import matplotlib as mpl\n",
    "\n",
    "mpl.rcParams.update( mpl.rcParamsDefault ) "
   ]
  },
  {
   "cell_type": "code",
   "execution_count": 2,
   "metadata": {},
   "outputs": [],
   "source": [
    "estaciones_de_bicicletas = pd.read_csv('../sets/nuevas-estaciones-bicicletas-publicas.csv')"
   ]
  },
  {
   "cell_type": "code",
   "execution_count": 3,
   "metadata": {},
   "outputs": [
    {
     "data": {
      "text/html": [
       "<div>\n",
       "<style scoped>\n",
       "    .dataframe tbody tr th:only-of-type {\n",
       "        vertical-align: middle;\n",
       "    }\n",
       "\n",
       "    .dataframe tbody tr th {\n",
       "        vertical-align: top;\n",
       "    }\n",
       "\n",
       "    .dataframe thead th {\n",
       "        text-align: right;\n",
       "    }\n",
       "</style>\n",
       "<table border=\"1\" class=\"dataframe\">\n",
       "  <thead>\n",
       "    <tr style=\"text-align: right;\">\n",
       "      <th></th>\n",
       "      <th>WKT</th>\n",
       "      <th>id</th>\n",
       "      <th>codigo</th>\n",
       "      <th>nombre</th>\n",
       "      <th>ubicacion</th>\n",
       "      <th>tipo</th>\n",
       "      <th>horario</th>\n",
       "      <th>anclajes_t</th>\n",
       "    </tr>\n",
       "  </thead>\n",
       "  <tbody>\n",
       "    <tr>\n",
       "      <th>0</th>\n",
       "      <td>POINT (-58.3747109506359 -34.5924239181221)</td>\n",
       "      <td>2</td>\n",
       "      <td>2</td>\n",
       "      <td>002 - Retiro I</td>\n",
       "      <td>Ramos Mejia, Jose Maria, Dr. Av. &amp; Del Liberta...</td>\n",
       "      <td>AUTOMÁTICA</td>\n",
       "      <td>Estación automática: disponibilidad las 24 horas</td>\n",
       "      <td>20</td>\n",
       "    </tr>\n",
       "    <tr>\n",
       "      <th>1</th>\n",
       "      <td>POINT (-58.368256111128 -34.611033074021)</td>\n",
       "      <td>3</td>\n",
       "      <td>3</td>\n",
       "      <td>003 - ADUANA</td>\n",
       "      <td>Moreno &amp; Av Paseo Colon</td>\n",
       "      <td>AUTOMÁTICA</td>\n",
       "      <td>Estación automática: disponibilidad las 24 horas</td>\n",
       "      <td>20</td>\n",
       "    </tr>\n",
       "    <tr>\n",
       "      <th>2</th>\n",
       "      <td>POINT (-58.3687766674259 -34.6018228613782)</td>\n",
       "      <td>4</td>\n",
       "      <td>4</td>\n",
       "      <td>004 - Plaza Roma</td>\n",
       "      <td>Lavalle &amp; Bouchard</td>\n",
       "      <td>AUTOMÁTICA</td>\n",
       "      <td>Estación automática: disponibilidad las 24 horas</td>\n",
       "      <td>20</td>\n",
       "    </tr>\n",
       "    <tr>\n",
       "      <th>3</th>\n",
       "      <td>POINT (-58.420951914897 -34.5805498216605)</td>\n",
       "      <td>5</td>\n",
       "      <td>5</td>\n",
       "      <td>005 - Plaza Italia</td>\n",
       "      <td>Av. Sarmiento 2601</td>\n",
       "      <td>AUTOMÁTICA</td>\n",
       "      <td>Estación automática: disponibilidad las 24 horas</td>\n",
       "      <td>42</td>\n",
       "    </tr>\n",
       "    <tr>\n",
       "      <th>4</th>\n",
       "      <td>POINT (-58.3697538990917 -34.6285274659984)</td>\n",
       "      <td>6</td>\n",
       "      <td>6</td>\n",
       "      <td>006 - Parque Lezama</td>\n",
       "      <td>Avenida Martin Garcia, 295</td>\n",
       "      <td>AUTOMÁTICA</td>\n",
       "      <td>Estación automática: disponibilidad las 24 horas</td>\n",
       "      <td>20</td>\n",
       "    </tr>\n",
       "  </tbody>\n",
       "</table>\n",
       "</div>"
      ],
      "text/plain": [
       "                                           WKT  id  codigo  \\\n",
       "0  POINT (-58.3747109506359 -34.5924239181221)   2       2   \n",
       "1    POINT (-58.368256111128 -34.611033074021)   3       3   \n",
       "2  POINT (-58.3687766674259 -34.6018228613782)   4       4   \n",
       "3   POINT (-58.420951914897 -34.5805498216605)   5       5   \n",
       "4  POINT (-58.3697538990917 -34.6285274659984)   6       6   \n",
       "\n",
       "                nombre                                          ubicacion  \\\n",
       "0       002 - Retiro I  Ramos Mejia, Jose Maria, Dr. Av. & Del Liberta...   \n",
       "1         003 - ADUANA                            Moreno & Av Paseo Colon   \n",
       "2     004 - Plaza Roma                                 Lavalle & Bouchard   \n",
       "3   005 - Plaza Italia                                 Av. Sarmiento 2601   \n",
       "4  006 - Parque Lezama                         Avenida Martin Garcia, 295   \n",
       "\n",
       "         tipo                                           horario  anclajes_t  \n",
       "0  AUTOMÁTICA  Estación automática: disponibilidad las 24 horas          20  \n",
       "1  AUTOMÁTICA  Estación automática: disponibilidad las 24 horas          20  \n",
       "2  AUTOMÁTICA  Estación automática: disponibilidad las 24 horas          20  \n",
       "3  AUTOMÁTICA  Estación automática: disponibilidad las 24 horas          42  \n",
       "4  AUTOMÁTICA  Estación automática: disponibilidad las 24 horas          20  "
      ]
     },
     "execution_count": 3,
     "metadata": {},
     "output_type": "execute_result"
    }
   ],
   "source": [
    "estaciones_de_bicicletas.head()"
   ]
  },
  {
   "cell_type": "code",
   "execution_count": 4,
   "metadata": {},
   "outputs": [
    {
     "data": {
      "text/html": [
       "<div>\n",
       "<style scoped>\n",
       "    .dataframe tbody tr th:only-of-type {\n",
       "        vertical-align: middle;\n",
       "    }\n",
       "\n",
       "    .dataframe tbody tr th {\n",
       "        vertical-align: top;\n",
       "    }\n",
       "\n",
       "    .dataframe thead th {\n",
       "        text-align: right;\n",
       "    }\n",
       "</style>\n",
       "<table border=\"1\" class=\"dataframe\">\n",
       "  <thead>\n",
       "    <tr style=\"text-align: right;\">\n",
       "      <th></th>\n",
       "      <th>nombre</th>\n",
       "      <th>ubicacion</th>\n",
       "    </tr>\n",
       "  </thead>\n",
       "  <tbody>\n",
       "    <tr>\n",
       "      <th>0</th>\n",
       "      <td>278 - Donato Alvarez</td>\n",
       "      <td>1540 Garcia, Juan Agustin</td>\n",
       "    </tr>\n",
       "  </tbody>\n",
       "</table>\n",
       "</div>"
      ],
      "text/plain": [
       "                 nombre                  ubicacion\n",
       "0  278 - Donato Alvarez  1540 Garcia, Juan Agustin"
      ]
     },
     "execution_count": 4,
     "metadata": {},
     "output_type": "execute_result"
    }
   ],
   "source": [
    "from pandasql import sqldf\n",
    "pysqldf = lambda q: sqldf(q, globals())\n",
    "my_output = pysqldf(\"\"\"SELECT nombre, ubicacion FROM estaciones_de_bicicletas WHERE codigo = 278\"\"\")\n",
    " \n",
    "my_output"
   ]
  },
  {
   "cell_type": "code",
   "execution_count": null,
   "metadata": {},
   "outputs": [],
   "source": [
    "# Import libraries\n",
    "import pandas as pd\n",
    "import numpy as np\n",
    "import sqldf\n",
    " \n",
    " \n",
    "# Define a SQL (SQLite3) query\n",
    "query = \"\"\"\n",
    "select Gender, count(*) as obs, avg(age) as avg_age, avg(score_a) as avg_score_a,\n",
    "           avg(score_b) as avg_score_b, \n",
    "           avg(score_c) as avg_score_c\n",
    "           from my_df\n",
    "           group by gender\n",
    "\"\"\"\n",
    " \n",
    "# Run the query\n",
    "df_view = sqldf.run(query)"
   ]
  }
 ],
 "metadata": {
  "kernelspec": {
   "display_name": "my-env-business-intelligence-2021",
   "language": "python",
   "name": "my-env-business-intelligence-2021"
  },
  "language_info": {
   "codemirror_mode": {
    "name": "ipython",
    "version": 3
   },
   "file_extension": ".py",
   "mimetype": "text/x-python",
   "name": "python",
   "nbconvert_exporter": "python",
   "pygments_lexer": "ipython3",
   "version": "3.6.9"
  }
 },
 "nbformat": 4,
 "nbformat_minor": 2
}
