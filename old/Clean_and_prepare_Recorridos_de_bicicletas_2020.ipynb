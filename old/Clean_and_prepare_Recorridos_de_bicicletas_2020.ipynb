{
 "cells": [
  {
   "cell_type": "markdown",
   "metadata": {
    "colab_type": "text",
    "id": "view-in-github"
   },
   "source": [
    "<a href=\"https://colab.research.google.com/github/ioadeer/bi-bycing-ba-2021/blob/main/Clean_and_prepare_Recorridos_de_bicicletas_2020.ipynb\" target=\"_parent\"><img src=\"https://colab.research.google.com/assets/colab-badge.svg\" alt=\"Open In Colab\"/></a>"
   ]
  },
  {
   "cell_type": "code",
   "execution_count": 1,
   "metadata": {
    "id": "vWwBPI9fUBG7"
   },
   "outputs": [],
   "source": [
    "import os\n",
    "import sys\n",
    "\n",
    "import urllib.request\n",
    "# from zipfile import ZipFile\n",
    "\n",
    "import pandas as pd\n",
    "import numpy as np\n",
    "import matplotlib.pyplot as plt\n",
    "import seaborn as sns\n",
    "import matplotlib as mpl\n",
    "\n",
    "mpl.rcParams.update( mpl.rcParamsDefault ) "
   ]
  },
  {
   "cell_type": "markdown",
   "metadata": {
    "id": "yC6_du6fMjS1"
   },
   "source": [
    "Retrieve original"
   ]
  },
  {
   "cell_type": "code",
   "execution_count": null,
   "metadata": {
    "colab": {
     "base_uri": "https://localhost:8080/"
    },
    "id": "j_-Qk_1jVV4Y",
    "outputId": "11f01be7-cf7a-4ba9-81d7-1dfbf6c6dc08"
   },
   "outputs": [
    {
     "data": {
      "text/plain": [
       "('./recorridos-realizados-2022.zip',\n",
       " <http.client.HTTPMessage at 0x7f2e86a9f7d0>)"
      ]
     },
     "execution_count": 3,
     "metadata": {
      "tags": []
     },
     "output_type": "execute_result"
    }
   ],
   "source": [
    "\"\"\"\n",
    "Recorridios bicicletas\n",
    "\"\"\"\n",
    "bicis_recorridos_url = 'https://cdn.buenosaires.gob.ar/datosabiertos/datasets/transporte/bicicletas-publicas/recorridos-realizados-2020.zip'\n",
    "bicis_recorridos_zip = \"./recorridos-realizados-2022.zip\"\n",
    "# bicis_recorridos_csv = './recorridos-realizados-2021.csv'\n",
    "urllib.request.urlretrieve(\n",
    "  bicis_recorridos_url,\n",
    "  bicis_recorridos_zip\n",
    ")\n"
   ]
  },
  {
   "cell_type": "code",
   "execution_count": null,
   "metadata": {
    "id": "EZZQppOmTfFD"
   },
   "outputs": [],
   "source": [
    "bicis_recorridos_2020_df = pd.read_csv(\n",
    "    bicis_recorridos_zip,\n",
    "    compression = 'zip',\n",
    "    encoding = 'utf-8', \n",
    ")"
   ]
  },
  {
   "cell_type": "code",
   "execution_count": null,
   "metadata": {
    "id": "Xg7b9Y4CUBHJ"
   },
   "outputs": [],
   "source": [
    "'''\n",
    "read localy\n",
    "bicis_recorridos_2021_df = pd.read_csv(\n",
    "    '../sets/compressed/recorridos-realizados-2021.zip',\n",
    "    compression = 'zip',\n",
    "    encoding = 'utf-8', \n",
    ")\n",
    "'''"
   ]
  },
  {
   "cell_type": "code",
   "execution_count": null,
   "metadata": {
    "colab": {
     "base_uri": "https://localhost:8080/",
     "height": 224
    },
    "id": "ffV6uA9rLXja",
    "outputId": "5fbbf12f-d064-4aec-cdb5-9051115e4be7"
   },
   "outputs": [
    {
     "data": {
      "text/html": [
       "<div>\n",
       "<style scoped>\n",
       "    .dataframe tbody tr th:only-of-type {\n",
       "        vertical-align: middle;\n",
       "    }\n",
       "\n",
       "    .dataframe tbody tr th {\n",
       "        vertical-align: top;\n",
       "    }\n",
       "\n",
       "    .dataframe thead th {\n",
       "        text-align: right;\n",
       "    }\n",
       "</style>\n",
       "<table border=\"1\" class=\"dataframe\">\n",
       "  <thead>\n",
       "    <tr style=\"text-align: right;\">\n",
       "      <th></th>\n",
       "      <th>duracion_recorrido</th>\n",
       "      <th>id_estacion_origen</th>\n",
       "      <th>fecha_origen_recorrido</th>\n",
       "      <th>nombre_estacion_origen</th>\n",
       "      <th>fecha_destino_recorrido</th>\n",
       "      <th>id_estacion_destino</th>\n",
       "      <th>nombre_estacion_destino</th>\n",
       "      <th>id_usuario</th>\n",
       "      <th>direccion_estacion_origen</th>\n",
       "      <th>long_estacion_origen</th>\n",
       "      <th>lat_estacion_origen</th>\n",
       "      <th>direccion_estacion_destino</th>\n",
       "      <th>long_estacion_destino</th>\n",
       "      <th>lat_estacion_destino</th>\n",
       "      <th>periodo</th>\n",
       "    </tr>\n",
       "  </thead>\n",
       "  <tbody>\n",
       "    <tr>\n",
       "      <th>0</th>\n",
       "      <td>882</td>\n",
       "      <td>116</td>\n",
       "      <td>2020-12-31 23:54:22</td>\n",
       "      <td>116 - HOSPITAL ALEMÁN</td>\n",
       "      <td>2021-01-01 00:09:04</td>\n",
       "      <td>214.0</td>\n",
       "      <td>142 - Armenia y Gorriti</td>\n",
       "      <td>666202</td>\n",
       "      <td>Beruti &amp; Ecuador</td>\n",
       "      <td>-58.402586</td>\n",
       "      <td>-34.592171</td>\n",
       "      <td>Armenia 1525 y Gorriti</td>\n",
       "      <td>-58.428972</td>\n",
       "      <td>-34.590541</td>\n",
       "      <td>2020</td>\n",
       "    </tr>\n",
       "    <tr>\n",
       "      <th>1</th>\n",
       "      <td>894</td>\n",
       "      <td>116</td>\n",
       "      <td>2020-12-29 12:39:18</td>\n",
       "      <td>116 - HOSPITAL ALEMÁN</td>\n",
       "      <td>2020-12-29 12:54:12</td>\n",
       "      <td>214.0</td>\n",
       "      <td>142 - Armenia y Gorriti</td>\n",
       "      <td>332689</td>\n",
       "      <td>Beruti &amp; Ecuador</td>\n",
       "      <td>-58.402586</td>\n",
       "      <td>-34.592171</td>\n",
       "      <td>Armenia 1525 y Gorriti</td>\n",
       "      <td>-58.428972</td>\n",
       "      <td>-34.590541</td>\n",
       "      <td>2020</td>\n",
       "    </tr>\n",
       "    <tr>\n",
       "      <th>2</th>\n",
       "      <td>1361</td>\n",
       "      <td>116</td>\n",
       "      <td>2020-12-21 21:21:38</td>\n",
       "      <td>116 - HOSPITAL ALEMÁN</td>\n",
       "      <td>2020-12-21 21:44:19</td>\n",
       "      <td>214.0</td>\n",
       "      <td>142 - Armenia y Gorriti</td>\n",
       "      <td>57949</td>\n",
       "      <td>Beruti &amp; Ecuador</td>\n",
       "      <td>-58.402586</td>\n",
       "      <td>-34.592171</td>\n",
       "      <td>Armenia 1525 y Gorriti</td>\n",
       "      <td>-58.428972</td>\n",
       "      <td>-34.590541</td>\n",
       "      <td>2020</td>\n",
       "    </tr>\n",
       "    <tr>\n",
       "      <th>3</th>\n",
       "      <td>1010</td>\n",
       "      <td>116</td>\n",
       "      <td>2020-12-20 21:58:19</td>\n",
       "      <td>116 - HOSPITAL ALEMÁN</td>\n",
       "      <td>2020-12-20 22:15:09</td>\n",
       "      <td>214.0</td>\n",
       "      <td>142 - Armenia y Gorriti</td>\n",
       "      <td>454846</td>\n",
       "      <td>Beruti &amp; Ecuador</td>\n",
       "      <td>-58.402586</td>\n",
       "      <td>-34.592171</td>\n",
       "      <td>Armenia 1525 y Gorriti</td>\n",
       "      <td>-58.428972</td>\n",
       "      <td>-34.590541</td>\n",
       "      <td>2020</td>\n",
       "    </tr>\n",
       "    <tr>\n",
       "      <th>4</th>\n",
       "      <td>1490</td>\n",
       "      <td>116</td>\n",
       "      <td>2020-12-20 13:32:53</td>\n",
       "      <td>116 - HOSPITAL ALEMÁN</td>\n",
       "      <td>2020-12-20 13:57:43</td>\n",
       "      <td>214.0</td>\n",
       "      <td>142 - Armenia y Gorriti</td>\n",
       "      <td>690975</td>\n",
       "      <td>Beruti &amp; Ecuador</td>\n",
       "      <td>-58.402586</td>\n",
       "      <td>-34.592171</td>\n",
       "      <td>Armenia 1525 y Gorriti</td>\n",
       "      <td>-58.428972</td>\n",
       "      <td>-34.590541</td>\n",
       "      <td>2020</td>\n",
       "    </tr>\n",
       "  </tbody>\n",
       "</table>\n",
       "</div>"
      ],
      "text/plain": [
       "   duracion_recorrido  id_estacion_origen  ... lat_estacion_destino periodo\n",
       "0                 882                 116  ...           -34.590541    2020\n",
       "1                 894                 116  ...           -34.590541    2020\n",
       "2                1361                 116  ...           -34.590541    2020\n",
       "3                1010                 116  ...           -34.590541    2020\n",
       "4                1490                 116  ...           -34.590541    2020\n",
       "\n",
       "[5 rows x 15 columns]"
      ]
     },
     "execution_count": 5,
     "metadata": {
      "tags": []
     },
     "output_type": "execute_result"
    }
   ],
   "source": [
    "bicis_recorridos_2020_df.head()"
   ]
  },
  {
   "cell_type": "code",
   "execution_count": null,
   "metadata": {
    "colab": {
     "base_uri": "https://localhost:8080/",
     "height": 467
    },
    "id": "4d0nf8crUBHM",
    "outputId": "d194e1bd-f40e-4bda-83d7-df987b26400c"
   },
   "outputs": [
    {
     "name": "stderr",
     "output_type": "stream",
     "text": [
      "No handles with labels found to put in legend.\n"
     ]
    },
    {
     "data": {
      "image/png": "[encoded data removed]",
      "text/plain": [
       "<Figure size 640x480 with 1 Axes>"
      ]
     },
     "metadata": {
      "tags": []
     },
     "output_type": "display_data"
    }
   ],
   "source": [
    "top_10 = bicis_recorridos_2020_df['nombre_estacion_origen'].value_counts()[:10]\n",
    "top_10.index\n",
    "\n",
    "subset = bicis_recorridos_2020_df[ bicis_recorridos_2020_df['nombre_estacion_origen'].isin(top_10.index) ]\n",
    "sns.set_style('whitegrid')\n",
    "ax = sns.countplot( \n",
    "    y='nombre_estacion_origen',\n",
    "    data = subset,\n",
    "    palette = 'colorblind'\n",
    ")\n",
    "ax.legend(loc=10)\n",
    "plt.xlabel(\"Estaciones de origen\")\n",
    "plt.ylabel(\"Count\")\n",
    "plt.show() "
   ]
  },
  {
   "cell_type": "code",
   "execution_count": null,
   "metadata": {
    "colab": {
     "base_uri": "https://localhost:8080/",
     "height": 467
    },
    "id": "vkeqUURIOlUI",
    "outputId": "7aa3f252-5e24-44bd-bb2f-0d75d4462270"
   },
   "outputs": [
    {
     "name": "stderr",
     "output_type": "stream",
     "text": [
      "No handles with labels found to put in legend.\n"
     ]
    },
    {
     "data": {
      "image/png": "[encoded data removed]",
      "text/plain": [
       "<Figure size 640x480 with 1 Axes>"
      ]
     },
     "metadata": {
      "tags": []
     },
     "output_type": "display_data"
    }
   ],
   "source": [
    "top_10 = bicis_recorridos_2020_df['nombre_estacion_destino'].value_counts()[:10]\n",
    "top_10.index\n",
    "\n",
    "subset = bicis_recorridos_2020_df[ bicis_recorridos_2020_df['nombre_estacion_destino'].isin(top_10.index) ]\n",
    "sns.set_style('whitegrid')\n",
    "ax = sns.countplot( \n",
    "    y='nombre_estacion_destino',\n",
    "    data = subset,\n",
    "    palette = 'colorblind'\n",
    ")\n",
    "ax.legend(loc=10)\n",
    "plt.xlabel(\"Estaciones de origen\")\n",
    "plt.ylabel(\"Count\")\n",
    "plt.show() "
   ]
  },
  {
   "cell_type": "code",
   "execution_count": null,
   "metadata": {
    "colab": {
     "base_uri": "https://localhost:8080/"
    },
    "id": "ALfeyLOqUBHa",
    "outputId": "5f4581e5-4a7c-4eed-9441-12adc3344efd"
   },
   "outputs": [
    {
     "name": "stdout",
     "output_type": "stream",
     "text": [
      "<class 'pandas.core.frame.DataFrame'>\n",
      "RangeIndex: 2002945 entries, 0 to 2002944\n",
      "Data columns (total 15 columns):\n",
      " #   Column                      Dtype  \n",
      "---  ------                      -----  \n",
      " 0   duracion_recorrido          int64  \n",
      " 1   id_estacion_origen          int64  \n",
      " 2   fecha_origen_recorrido      object \n",
      " 3   nombre_estacion_origen      object \n",
      " 4   fecha_destino_recorrido     object \n",
      " 5   id_estacion_destino         float64\n",
      " 6   nombre_estacion_destino     object \n",
      " 7   id_usuario                  int64  \n",
      " 8   direccion_estacion_origen   object \n",
      " 9   long_estacion_origen        float64\n",
      " 10  lat_estacion_origen         float64\n",
      " 11  direccion_estacion_destino  object \n",
      " 12  long_estacion_destino       float64\n",
      " 13  lat_estacion_destino        float64\n",
      " 14  periodo                     int64  \n",
      "dtypes: float64(5), int64(4), object(6)\n",
      "memory usage: 229.2+ MB\n"
     ]
    }
   ],
   "source": [
    "bicis_recorridos_2020_df.info()"
   ]
  },
  {
   "cell_type": "markdown",
   "metadata": {
    "id": "Ptq8hRiYUBHg"
   },
   "source": [
    "### Procesar fecha\n",
    "\n",
    "Parsear object datetime a dia, mes, año"
   ]
  },
  {
   "cell_type": "code",
   "execution_count": null,
   "metadata": {
    "colab": {
     "base_uri": "https://localhost:8080/",
     "height": 411
    },
    "id": "qIy_x970UBHi",
    "outputId": "66f46b85-b632-48d5-a9a8-125e8af73f86"
   },
   "outputs": [
    {
     "data": {
      "text/html": [
       "<div>\n",
       "<style scoped>\n",
       "    .dataframe tbody tr th:only-of-type {\n",
       "        vertical-align: middle;\n",
       "    }\n",
       "\n",
       "    .dataframe tbody tr th {\n",
       "        vertical-align: top;\n",
       "    }\n",
       "\n",
       "    .dataframe thead th {\n",
       "        text-align: right;\n",
       "    }\n",
       "</style>\n",
       "<table border=\"1\" class=\"dataframe\">\n",
       "  <thead>\n",
       "    <tr style=\"text-align: right;\">\n",
       "      <th></th>\n",
       "      <th>duracion_recorrido</th>\n",
       "      <th>id_estacion_origen</th>\n",
       "      <th>fecha_origen_recorrido</th>\n",
       "      <th>nombre_estacion_origen</th>\n",
       "      <th>fecha_destino_recorrido</th>\n",
       "      <th>id_estacion_destino</th>\n",
       "      <th>nombre_estacion_destino</th>\n",
       "      <th>id_usuario</th>\n",
       "      <th>direccion_estacion_origen</th>\n",
       "      <th>long_estacion_origen</th>\n",
       "      <th>lat_estacion_origen</th>\n",
       "      <th>direccion_estacion_destino</th>\n",
       "      <th>long_estacion_destino</th>\n",
       "      <th>lat_estacion_destino</th>\n",
       "      <th>periodo</th>\n",
       "      <th>start datetime</th>\n",
       "      <th>START DATE</th>\n",
       "      <th>MES</th>\n",
       "      <th>DIA</th>\n",
       "      <th>TIME</th>\n",
       "    </tr>\n",
       "  </thead>\n",
       "  <tbody>\n",
       "    <tr>\n",
       "      <th>0</th>\n",
       "      <td>882</td>\n",
       "      <td>116</td>\n",
       "      <td>2020-12-31 23:54:22</td>\n",
       "      <td>116 - HOSPITAL ALEMÁN</td>\n",
       "      <td>2021-01-01 00:09:04</td>\n",
       "      <td>214.0</td>\n",
       "      <td>142 - Armenia y Gorriti</td>\n",
       "      <td>666202</td>\n",
       "      <td>Beruti &amp; Ecuador</td>\n",
       "      <td>-58.402586</td>\n",
       "      <td>-34.592171</td>\n",
       "      <td>Armenia 1525 y Gorriti</td>\n",
       "      <td>-58.428972</td>\n",
       "      <td>-34.590541</td>\n",
       "      <td>2020</td>\n",
       "      <td>2020-12-31 23:54:22</td>\n",
       "      <td>2020-12-31</td>\n",
       "      <td>December</td>\n",
       "      <td>Thursday</td>\n",
       "      <td>23:54</td>\n",
       "    </tr>\n",
       "    <tr>\n",
       "      <th>1</th>\n",
       "      <td>894</td>\n",
       "      <td>116</td>\n",
       "      <td>2020-12-29 12:39:18</td>\n",
       "      <td>116 - HOSPITAL ALEMÁN</td>\n",
       "      <td>2020-12-29 12:54:12</td>\n",
       "      <td>214.0</td>\n",
       "      <td>142 - Armenia y Gorriti</td>\n",
       "      <td>332689</td>\n",
       "      <td>Beruti &amp; Ecuador</td>\n",
       "      <td>-58.402586</td>\n",
       "      <td>-34.592171</td>\n",
       "      <td>Armenia 1525 y Gorriti</td>\n",
       "      <td>-58.428972</td>\n",
       "      <td>-34.590541</td>\n",
       "      <td>2020</td>\n",
       "      <td>2020-12-29 12:39:18</td>\n",
       "      <td>2020-12-29</td>\n",
       "      <td>December</td>\n",
       "      <td>Tuesday</td>\n",
       "      <td>12:39</td>\n",
       "    </tr>\n",
       "    <tr>\n",
       "      <th>2</th>\n",
       "      <td>1361</td>\n",
       "      <td>116</td>\n",
       "      <td>2020-12-21 21:21:38</td>\n",
       "      <td>116 - HOSPITAL ALEMÁN</td>\n",
       "      <td>2020-12-21 21:44:19</td>\n",
       "      <td>214.0</td>\n",
       "      <td>142 - Armenia y Gorriti</td>\n",
       "      <td>57949</td>\n",
       "      <td>Beruti &amp; Ecuador</td>\n",
       "      <td>-58.402586</td>\n",
       "      <td>-34.592171</td>\n",
       "      <td>Armenia 1525 y Gorriti</td>\n",
       "      <td>-58.428972</td>\n",
       "      <td>-34.590541</td>\n",
       "      <td>2020</td>\n",
       "      <td>2020-12-21 21:21:38</td>\n",
       "      <td>2020-12-21</td>\n",
       "      <td>December</td>\n",
       "      <td>Monday</td>\n",
       "      <td>21:21</td>\n",
       "    </tr>\n",
       "    <tr>\n",
       "      <th>3</th>\n",
       "      <td>1010</td>\n",
       "      <td>116</td>\n",
       "      <td>2020-12-20 21:58:19</td>\n",
       "      <td>116 - HOSPITAL ALEMÁN</td>\n",
       "      <td>2020-12-20 22:15:09</td>\n",
       "      <td>214.0</td>\n",
       "      <td>142 - Armenia y Gorriti</td>\n",
       "      <td>454846</td>\n",
       "      <td>Beruti &amp; Ecuador</td>\n",
       "      <td>-58.402586</td>\n",
       "      <td>-34.592171</td>\n",
       "      <td>Armenia 1525 y Gorriti</td>\n",
       "      <td>-58.428972</td>\n",
       "      <td>-34.590541</td>\n",
       "      <td>2020</td>\n",
       "      <td>2020-12-20 21:58:19</td>\n",
       "      <td>2020-12-20</td>\n",
       "      <td>December</td>\n",
       "      <td>Sunday</td>\n",
       "      <td>21:58</td>\n",
       "    </tr>\n",
       "    <tr>\n",
       "      <th>4</th>\n",
       "      <td>1490</td>\n",
       "      <td>116</td>\n",
       "      <td>2020-12-20 13:32:53</td>\n",
       "      <td>116 - HOSPITAL ALEMÁN</td>\n",
       "      <td>2020-12-20 13:57:43</td>\n",
       "      <td>214.0</td>\n",
       "      <td>142 - Armenia y Gorriti</td>\n",
       "      <td>690975</td>\n",
       "      <td>Beruti &amp; Ecuador</td>\n",
       "      <td>-58.402586</td>\n",
       "      <td>-34.592171</td>\n",
       "      <td>Armenia 1525 y Gorriti</td>\n",
       "      <td>-58.428972</td>\n",
       "      <td>-34.590541</td>\n",
       "      <td>2020</td>\n",
       "      <td>2020-12-20 13:32:53</td>\n",
       "      <td>2020-12-20</td>\n",
       "      <td>December</td>\n",
       "      <td>Sunday</td>\n",
       "      <td>13:32</td>\n",
       "    </tr>\n",
       "  </tbody>\n",
       "</table>\n",
       "</div>"
      ],
      "text/plain": [
       "   duracion_recorrido  id_estacion_origen  ...       DIA   TIME\n",
       "0                 882                 116  ...  Thursday  23:54\n",
       "1                 894                 116  ...   Tuesday  12:39\n",
       "2                1361                 116  ...    Monday  21:21\n",
       "3                1010                 116  ...    Sunday  21:58\n",
       "4                1490                 116  ...    Sunday  13:32\n",
       "\n",
       "[5 rows x 20 columns]"
      ]
     },
     "execution_count": 6,
     "metadata": {
      "tags": []
     },
     "output_type": "execute_result"
    }
   ],
   "source": [
    "bicis_recorridos_2020_df['fecha_origen_recorrido']\n",
    "formato = '%Y%m%d %H:%M:%S'\n",
    "bicis_recorridos_2020_df['start datetime'] = pd.to_datetime(\n",
    "    bicis_recorridos_2020_df['fecha_origen_recorrido'], \n",
    "    format = formato\n",
    ")\n",
    "bicis_recorridos_2020_df['START DATE'] = bicis_recorridos_2020_df['start datetime'].dt.strftime('%Y-%m-%d')\n",
    "bicis_recorridos_2020_df['MES']  = bicis_recorridos_2020_df['start datetime'].dt.strftime('%B')\n",
    "bicis_recorridos_2020_df['DIA']  = bicis_recorridos_2020_df['start datetime'].dt.strftime('%A')\n",
    "bicis_recorridos_2020_df['TIME'] = bicis_recorridos_2020_df['start datetime'].dt.strftime('%H:%M')\n",
    "bicis_recorridos_2020_df.head()"
   ]
  },
  {
   "cell_type": "markdown",
   "metadata": {
    "id": "ZDxIRiJ9UBHt"
   },
   "source": [
    "## Filtrar columnas que no se usen\n",
    "\n",
    "- fecha_origen_recorrido\n",
    "- id_estacion_origen\n",
    "- fecha_destino_recorrido\n",
    "- direccion_estacion_origen\n",
    "- long_estacion_origen\n",
    "- lat_estacion_origen\n",
    "- direccion_estacion_destino\n",
    "- long_estacion_destino\n",
    "- lat_estacion_destino\n",
    "- periodo\n",
    "\n"
   ]
  },
  {
   "cell_type": "markdown",
   "metadata": {
    "id": "vfXCQRZcUBHv"
   },
   "source": [
    "### Chequear\n",
    "- Tipo de ciclista? Solo hay categoria member\n",
    "- Origen de viaje? Code o Key Card o Mobile solo registros con code"
   ]
  },
  {
   "cell_type": "code",
   "execution_count": null,
   "metadata": {
    "id": "sTxtY0YAUBHx",
    "outputId": "1494a27f-4df7-4b5a-94ce-ef72372a79d5"
   },
   "outputs": [
    {
     "name": "stdout",
     "output_type": "stream",
     "text": [
      "Modelos de bicicleta: ['ICONIC']\n",
      "Tipos de ciclista: ['MEMBER']\n",
      "Origenes de viaje: ['CODE' 'KEYCARD' 'MOBILE']\n"
     ]
    }
   ],
   "source": [
    "modelos_de_bicicleta = bicis_recorridos_2021_df['Modelo de bicicleta'].unique()\n",
    "print('Modelos de bicicleta: '+ modelos_de_bicicleta.__str__())\n",
    "tipos_de_ciclista = bicis_recorridos_2021_df['Tipo de ciclista'].unique()\n",
    "print('Tipos de ciclista: '+ tipos_de_ciclista.__str__())\n",
    "origen_de_viaje = bicis_recorridos_2021_df['Origen de viaje'].unique()\n",
    "print('Origenes de viaje: '+ origen_de_viaje.__str__())"
   ]
  },
  {
   "cell_type": "code",
   "execution_count": null,
   "metadata": {
    "id": "ue89AfJPSgoV"
   },
   "outputs": [],
   "source": [
    "columns_to_drop = ['fecha_origen_recorrido',\n",
    "                    'id_estacion_origen',\n",
    "                    'fecha_destino_recorrido',\n",
    "                    'direccion_estacion_origen',\n",
    "                    'long_estacion_origen',\n",
    "                    'lat_estacion_origen',\n",
    "                    'direccion_estacion_destino',\n",
    "                    'long_estacion_destino',\n",
    "                    'lat_estacion_destino',\n",
    "                    'periodo',\n",
    "                    'id_estacion_destino',\n",
    "                    'id_usuario',\n",
    "                  ]"
   ]
  },
  {
   "cell_type": "code",
   "execution_count": null,
   "metadata": {
    "colab": {
     "base_uri": "https://localhost:8080/",
     "height": 204
    },
    "id": "ZzSK0uNBUBHz",
    "outputId": "373520b6-02d8-4fed-bf36-0b7a457f28f6"
   },
   "outputs": [
    {
     "data": {
      "text/html": [
       "<div>\n",
       "<style scoped>\n",
       "    .dataframe tbody tr th:only-of-type {\n",
       "        vertical-align: middle;\n",
       "    }\n",
       "\n",
       "    .dataframe tbody tr th {\n",
       "        vertical-align: top;\n",
       "    }\n",
       "\n",
       "    .dataframe thead th {\n",
       "        text-align: right;\n",
       "    }\n",
       "</style>\n",
       "<table border=\"1\" class=\"dataframe\">\n",
       "  <thead>\n",
       "    <tr style=\"text-align: right;\">\n",
       "      <th></th>\n",
       "      <th>duracion_recorrido</th>\n",
       "      <th>nombre_estacion_origen</th>\n",
       "      <th>nombre_estacion_destino</th>\n",
       "      <th>start datetime</th>\n",
       "      <th>START DATE</th>\n",
       "      <th>MES</th>\n",
       "      <th>DIA</th>\n",
       "      <th>TIME</th>\n",
       "    </tr>\n",
       "  </thead>\n",
       "  <tbody>\n",
       "    <tr>\n",
       "      <th>0</th>\n",
       "      <td>882</td>\n",
       "      <td>116 - HOSPITAL ALEMÁN</td>\n",
       "      <td>142 - Armenia y Gorriti</td>\n",
       "      <td>2020-12-31 23:54:22</td>\n",
       "      <td>2020-12-31</td>\n",
       "      <td>December</td>\n",
       "      <td>Thursday</td>\n",
       "      <td>23:54</td>\n",
       "    </tr>\n",
       "    <tr>\n",
       "      <th>1</th>\n",
       "      <td>894</td>\n",
       "      <td>116 - HOSPITAL ALEMÁN</td>\n",
       "      <td>142 - Armenia y Gorriti</td>\n",
       "      <td>2020-12-29 12:39:18</td>\n",
       "      <td>2020-12-29</td>\n",
       "      <td>December</td>\n",
       "      <td>Tuesday</td>\n",
       "      <td>12:39</td>\n",
       "    </tr>\n",
       "    <tr>\n",
       "      <th>2</th>\n",
       "      <td>1361</td>\n",
       "      <td>116 - HOSPITAL ALEMÁN</td>\n",
       "      <td>142 - Armenia y Gorriti</td>\n",
       "      <td>2020-12-21 21:21:38</td>\n",
       "      <td>2020-12-21</td>\n",
       "      <td>December</td>\n",
       "      <td>Monday</td>\n",
       "      <td>21:21</td>\n",
       "    </tr>\n",
       "    <tr>\n",
       "      <th>3</th>\n",
       "      <td>1010</td>\n",
       "      <td>116 - HOSPITAL ALEMÁN</td>\n",
       "      <td>142 - Armenia y Gorriti</td>\n",
       "      <td>2020-12-20 21:58:19</td>\n",
       "      <td>2020-12-20</td>\n",
       "      <td>December</td>\n",
       "      <td>Sunday</td>\n",
       "      <td>21:58</td>\n",
       "    </tr>\n",
       "    <tr>\n",
       "      <th>4</th>\n",
       "      <td>1490</td>\n",
       "      <td>116 - HOSPITAL ALEMÁN</td>\n",
       "      <td>142 - Armenia y Gorriti</td>\n",
       "      <td>2020-12-20 13:32:53</td>\n",
       "      <td>2020-12-20</td>\n",
       "      <td>December</td>\n",
       "      <td>Sunday</td>\n",
       "      <td>13:32</td>\n",
       "    </tr>\n",
       "  </tbody>\n",
       "</table>\n",
       "</div>"
      ],
      "text/plain": [
       "   duracion_recorrido nombre_estacion_origen  ...       DIA   TIME\n",
       "0                 882  116 - HOSPITAL ALEMÁN  ...  Thursday  23:54\n",
       "1                 894  116 - HOSPITAL ALEMÁN  ...   Tuesday  12:39\n",
       "2                1361  116 - HOSPITAL ALEMÁN  ...    Monday  21:21\n",
       "3                1010  116 - HOSPITAL ALEMÁN  ...    Sunday  21:58\n",
       "4                1490  116 - HOSPITAL ALEMÁN  ...    Sunday  13:32\n",
       "\n",
       "[5 rows x 8 columns]"
      ]
     },
     "execution_count": 8,
     "metadata": {
      "tags": []
     },
     "output_type": "execute_result"
    }
   ],
   "source": [
    "cleaned = bicis_recorridos_2020_df.drop(columns_to_drop, axis= 1)\n",
    "cleaned.head()"
   ]
  },
  {
   "cell_type": "markdown",
   "metadata": {
    "id": "oZOn_k4GyrwL"
   },
   "source": [
    "## Parear las columnas nombre de estacion de origen y nombre de estacion de destino \n",
    "\n",
    "Tienen la info correcta del id de las estaciones"
   ]
  },
  {
   "cell_type": "code",
   "execution_count": null,
   "metadata": {
    "colab": {
     "base_uri": "https://localhost:8080/",
     "height": 419
    },
    "id": "LVyibLSQUBH4",
    "outputId": "c6a15554-173c-43ed-eefb-01fc185813b2"
   },
   "outputs": [
    {
     "data": {
      "text/html": [
       "<div>\n",
       "<style scoped>\n",
       "    .dataframe tbody tr th:only-of-type {\n",
       "        vertical-align: middle;\n",
       "    }\n",
       "\n",
       "    .dataframe tbody tr th {\n",
       "        vertical-align: top;\n",
       "    }\n",
       "\n",
       "    .dataframe thead th {\n",
       "        text-align: right;\n",
       "    }\n",
       "</style>\n",
       "<table border=\"1\" class=\"dataframe\">\n",
       "  <thead>\n",
       "    <tr style=\"text-align: right;\">\n",
       "      <th></th>\n",
       "      <th>Id de estación de incio</th>\n",
       "      <th>Nombre de estación de inicio</th>\n",
       "    </tr>\n",
       "  </thead>\n",
       "  <tbody>\n",
       "    <tr>\n",
       "      <th>0</th>\n",
       "      <td>116</td>\n",
       "      <td>hospital alemán</td>\n",
       "    </tr>\n",
       "    <tr>\n",
       "      <th>1</th>\n",
       "      <td>116</td>\n",
       "      <td>hospital alemán</td>\n",
       "    </tr>\n",
       "    <tr>\n",
       "      <th>2</th>\n",
       "      <td>116</td>\n",
       "      <td>hospital alemán</td>\n",
       "    </tr>\n",
       "    <tr>\n",
       "      <th>3</th>\n",
       "      <td>116</td>\n",
       "      <td>hospital alemán</td>\n",
       "    </tr>\n",
       "    <tr>\n",
       "      <th>4</th>\n",
       "      <td>116</td>\n",
       "      <td>hospital alemán</td>\n",
       "    </tr>\n",
       "    <tr>\n",
       "      <th>...</th>\n",
       "      <td>...</td>\n",
       "      <td>...</td>\n",
       "    </tr>\n",
       "    <tr>\n",
       "      <th>2002940</th>\n",
       "      <td>032</td>\n",
       "      <td>catedral</td>\n",
       "    </tr>\n",
       "    <tr>\n",
       "      <th>2002941</th>\n",
       "      <td>037</td>\n",
       "      <td>claudia pia braudacco</td>\n",
       "    </tr>\n",
       "    <tr>\n",
       "      <th>2002942</th>\n",
       "      <td>037</td>\n",
       "      <td>claudia pia braudacco</td>\n",
       "    </tr>\n",
       "    <tr>\n",
       "      <th>2002943</th>\n",
       "      <td>373</td>\n",
       "      <td>jorgelina de simone</td>\n",
       "    </tr>\n",
       "    <tr>\n",
       "      <th>2002944</th>\n",
       "      <td>373</td>\n",
       "      <td>jorgelina de simone</td>\n",
       "    </tr>\n",
       "  </tbody>\n",
       "</table>\n",
       "<p>2002945 rows × 2 columns</p>\n",
       "</div>"
      ],
      "text/plain": [
       "        Id de estación de incio Nombre de estación de inicio\n",
       "0                          116               hospital alemán\n",
       "1                          116               hospital alemán\n",
       "2                          116               hospital alemán\n",
       "3                          116               hospital alemán\n",
       "4                          116               hospital alemán\n",
       "...                         ...                          ...\n",
       "2002940                    032                      catedral\n",
       "2002941                    037         claudia pia braudacco\n",
       "2002942                    037         claudia pia braudacco\n",
       "2002943                    373           jorgelina de simone\n",
       "2002944                    373           jorgelina de simone\n",
       "\n",
       "[2002945 rows x 2 columns]"
      ]
     },
     "execution_count": 9,
     "metadata": {
      "tags": []
     },
     "output_type": "execute_result"
    }
   ],
   "source": [
    "aux_list_2d_inicio = pd.DataFrame(cleaned['nombre_estacion_origen'].str.split('-').tolist(), columns =['Id de estación de incio','Nombre de estación de inicio'])\n",
    "aux_list_2d_inicio['Nombre de estación de inicio'] = aux_list_2d_inicio['Nombre de estación de inicio'].str.lower()\n",
    "aux_list_2d_inicio\n"
   ]
  },
  {
   "cell_type": "markdown",
   "metadata": {
    "id": "-sbX4UZJSOnb"
   },
   "source": [
    "Aca divido la columna Nombre de estacion de fin de viaje porque contiene dos campos el Id y el nombre de la estacion de inicio de viaje. Hay que validar que no haya registros Nan"
   ]
  },
  {
   "cell_type": "code",
   "execution_count": null,
   "metadata": {
    "colab": {
     "base_uri": "https://localhost:8080/",
     "height": 419
    },
    "id": "L-fVzFxYUBH7",
    "outputId": "c3bb41be-acdc-49e6-faf8-7066f64088f1"
   },
   "outputs": [
    {
     "data": {
      "text/html": [
       "<div>\n",
       "<style scoped>\n",
       "    .dataframe tbody tr th:only-of-type {\n",
       "        vertical-align: middle;\n",
       "    }\n",
       "\n",
       "    .dataframe tbody tr th {\n",
       "        vertical-align: top;\n",
       "    }\n",
       "\n",
       "    .dataframe thead th {\n",
       "        text-align: right;\n",
       "    }\n",
       "</style>\n",
       "<table border=\"1\" class=\"dataframe\">\n",
       "  <thead>\n",
       "    <tr style=\"text-align: right;\">\n",
       "      <th></th>\n",
       "      <th>Id de estación destino</th>\n",
       "      <th>Nombre de estación destino</th>\n",
       "    </tr>\n",
       "  </thead>\n",
       "  <tbody>\n",
       "    <tr>\n",
       "      <th>0</th>\n",
       "      <td>142</td>\n",
       "      <td>armenia y gorriti</td>\n",
       "    </tr>\n",
       "    <tr>\n",
       "      <th>1</th>\n",
       "      <td>142</td>\n",
       "      <td>armenia y gorriti</td>\n",
       "    </tr>\n",
       "    <tr>\n",
       "      <th>2</th>\n",
       "      <td>142</td>\n",
       "      <td>armenia y gorriti</td>\n",
       "    </tr>\n",
       "    <tr>\n",
       "      <th>3</th>\n",
       "      <td>142</td>\n",
       "      <td>armenia y gorriti</td>\n",
       "    </tr>\n",
       "    <tr>\n",
       "      <th>4</th>\n",
       "      <td>142</td>\n",
       "      <td>armenia y gorriti</td>\n",
       "    </tr>\n",
       "    <tr>\n",
       "      <th>...</th>\n",
       "      <td>...</td>\n",
       "      <td>...</td>\n",
       "    </tr>\n",
       "    <tr>\n",
       "      <th>2002940</th>\n",
       "      <td>179</td>\n",
       "      <td>casa san</td>\n",
       "    </tr>\n",
       "    <tr>\n",
       "      <th>2002941</th>\n",
       "      <td>179</td>\n",
       "      <td>casa san</td>\n",
       "    </tr>\n",
       "    <tr>\n",
       "      <th>2002942</th>\n",
       "      <td>179</td>\n",
       "      <td>casa san</td>\n",
       "    </tr>\n",
       "    <tr>\n",
       "      <th>2002943</th>\n",
       "      <td>179</td>\n",
       "      <td>casa san</td>\n",
       "    </tr>\n",
       "    <tr>\n",
       "      <th>2002944</th>\n",
       "      <td>179</td>\n",
       "      <td>casa san</td>\n",
       "    </tr>\n",
       "  </tbody>\n",
       "</table>\n",
       "<p>2002945 rows × 2 columns</p>\n",
       "</div>"
      ],
      "text/plain": [
       "        Id de estación destino Nombre de estación destino\n",
       "0                         142           armenia y gorriti\n",
       "1                         142           armenia y gorriti\n",
       "2                         142           armenia y gorriti\n",
       "3                         142           armenia y gorriti\n",
       "4                         142           armenia y gorriti\n",
       "...                        ...                        ...\n",
       "2002940                   179                    casa san\n",
       "2002941                   179                    casa san\n",
       "2002942                   179                    casa san\n",
       "2002943                   179                    casa san\n",
       "2002944                   179                    casa san\n",
       "\n",
       "[2002945 rows x 2 columns]"
      ]
     },
     "execution_count": 10,
     "metadata": {
      "tags": []
     },
     "output_type": "execute_result"
    }
   ],
   "source": [
    "bicis_recorridos_2020_df['nombre_estacion_destino'] = bicis_recorridos_2020_df['nombre_estacion_destino'].replace(np.nan, '0 - null')\n",
    "bicis_recorridos_2020_df['nombre_estacion_destino'].isna().sum()\n",
    "aux_list_2d_fin = pd.DataFrame(bicis_recorridos_2020_df['nombre_estacion_destino'].str.split('-').tolist(), columns =['Id de estación destino','Nombre de estación destino'])\n",
    "aux_list_2d_fin['Nombre de estación destino'] = aux_list_2d_fin['Nombre de estación destino'].str.lower()\n",
    "aux_list_2d_fin"
   ]
  },
  {
   "cell_type": "markdown",
   "metadata": {
    "id": "jQkaIrjPSn4_"
   },
   "source": [
    "Voy a borrar las columnas que fueron normalizadas y agregar lo spliteado al dataframe original\n"
   ]
  },
  {
   "cell_type": "code",
   "execution_count": null,
   "metadata": {
    "colab": {
     "base_uri": "https://localhost:8080/",
     "height": 306
    },
    "id": "TcUkDfnTUBH8",
    "outputId": "345a9158-d46c-469c-d2e8-980dca6f5bc0"
   },
   "outputs": [
    {
     "data": {
      "text/html": [
       "<div>\n",
       "<style scoped>\n",
       "    .dataframe tbody tr th:only-of-type {\n",
       "        vertical-align: middle;\n",
       "    }\n",
       "\n",
       "    .dataframe tbody tr th {\n",
       "        vertical-align: top;\n",
       "    }\n",
       "\n",
       "    .dataframe thead th {\n",
       "        text-align: right;\n",
       "    }\n",
       "</style>\n",
       "<table border=\"1\" class=\"dataframe\">\n",
       "  <thead>\n",
       "    <tr style=\"text-align: right;\">\n",
       "      <th></th>\n",
       "      <th>duracion_recorrido</th>\n",
       "      <th>start datetime</th>\n",
       "      <th>START DATE</th>\n",
       "      <th>MES</th>\n",
       "      <th>DIA</th>\n",
       "      <th>TIME</th>\n",
       "      <th>Id de estación destino</th>\n",
       "      <th>Nombre de estación destino</th>\n",
       "      <th>Id de estación de incio</th>\n",
       "      <th>Nombre de estación de inicio</th>\n",
       "    </tr>\n",
       "  </thead>\n",
       "  <tbody>\n",
       "    <tr>\n",
       "      <th>0</th>\n",
       "      <td>882</td>\n",
       "      <td>2020-12-31 23:54:22</td>\n",
       "      <td>2020-12-31</td>\n",
       "      <td>December</td>\n",
       "      <td>Thursday</td>\n",
       "      <td>23:54</td>\n",
       "      <td>142</td>\n",
       "      <td>armenia y gorriti</td>\n",
       "      <td>116</td>\n",
       "      <td>hospital alemán</td>\n",
       "    </tr>\n",
       "    <tr>\n",
       "      <th>1</th>\n",
       "      <td>894</td>\n",
       "      <td>2020-12-29 12:39:18</td>\n",
       "      <td>2020-12-29</td>\n",
       "      <td>December</td>\n",
       "      <td>Tuesday</td>\n",
       "      <td>12:39</td>\n",
       "      <td>142</td>\n",
       "      <td>armenia y gorriti</td>\n",
       "      <td>116</td>\n",
       "      <td>hospital alemán</td>\n",
       "    </tr>\n",
       "    <tr>\n",
       "      <th>2</th>\n",
       "      <td>1361</td>\n",
       "      <td>2020-12-21 21:21:38</td>\n",
       "      <td>2020-12-21</td>\n",
       "      <td>December</td>\n",
       "      <td>Monday</td>\n",
       "      <td>21:21</td>\n",
       "      <td>142</td>\n",
       "      <td>armenia y gorriti</td>\n",
       "      <td>116</td>\n",
       "      <td>hospital alemán</td>\n",
       "    </tr>\n",
       "    <tr>\n",
       "      <th>3</th>\n",
       "      <td>1010</td>\n",
       "      <td>2020-12-20 21:58:19</td>\n",
       "      <td>2020-12-20</td>\n",
       "      <td>December</td>\n",
       "      <td>Sunday</td>\n",
       "      <td>21:58</td>\n",
       "      <td>142</td>\n",
       "      <td>armenia y gorriti</td>\n",
       "      <td>116</td>\n",
       "      <td>hospital alemán</td>\n",
       "    </tr>\n",
       "    <tr>\n",
       "      <th>4</th>\n",
       "      <td>1490</td>\n",
       "      <td>2020-12-20 13:32:53</td>\n",
       "      <td>2020-12-20</td>\n",
       "      <td>December</td>\n",
       "      <td>Sunday</td>\n",
       "      <td>13:32</td>\n",
       "      <td>142</td>\n",
       "      <td>armenia y gorriti</td>\n",
       "      <td>116</td>\n",
       "      <td>hospital alemán</td>\n",
       "    </tr>\n",
       "  </tbody>\n",
       "</table>\n",
       "</div>"
      ],
      "text/plain": [
       "   duracion_recorrido  ... Nombre de estación de inicio\n",
       "0                 882  ...              hospital alemán\n",
       "1                 894  ...              hospital alemán\n",
       "2                1361  ...              hospital alemán\n",
       "3                1010  ...              hospital alemán\n",
       "4                1490  ...              hospital alemán\n",
       "\n",
       "[5 rows x 10 columns]"
      ]
     },
     "execution_count": 11,
     "metadata": {
      "tags": []
     },
     "output_type": "execute_result"
    }
   ],
   "source": [
    "cleaned = cleaned.drop(['nombre_estacion_destino','nombre_estacion_origen'], axis= 1)\n",
    "test = pd.concat([cleaned,aux_list_2d_fin, aux_list_2d_inicio ], axis= 1)\n",
    "test.head()"
   ]
  },
  {
   "cell_type": "code",
   "execution_count": null,
   "metadata": {
    "colab": {
     "base_uri": "https://localhost:8080/",
     "height": 623
    },
    "id": "4gHEQS3FaS91",
    "outputId": "e2f15544-054c-41af-c91e-330256b922c2"
   },
   "outputs": [
    {
     "data": {
      "text/html": [
       "<div>\n",
       "<style scoped>\n",
       "    .dataframe tbody tr th:only-of-type {\n",
       "        vertical-align: middle;\n",
       "    }\n",
       "\n",
       "    .dataframe tbody tr th {\n",
       "        vertical-align: top;\n",
       "    }\n",
       "\n",
       "    .dataframe thead th {\n",
       "        text-align: right;\n",
       "    }\n",
       "</style>\n",
       "<table border=\"1\" class=\"dataframe\">\n",
       "  <thead>\n",
       "    <tr style=\"text-align: right;\">\n",
       "      <th></th>\n",
       "      <th>duracion_recorrido</th>\n",
       "      <th>start datetime</th>\n",
       "      <th>START DATE</th>\n",
       "      <th>MES</th>\n",
       "      <th>DIA</th>\n",
       "      <th>TIME</th>\n",
       "      <th>Id de estación destino</th>\n",
       "      <th>Nombre de estación destino</th>\n",
       "      <th>Id de estación de incio</th>\n",
       "      <th>Nombre de estación de inicio</th>\n",
       "    </tr>\n",
       "  </thead>\n",
       "  <tbody>\n",
       "    <tr>\n",
       "      <th>593758</th>\n",
       "      <td>6563</td>\n",
       "      <td>2020-01-01 00:02:50</td>\n",
       "      <td>2020-01-01</td>\n",
       "      <td>January</td>\n",
       "      <td>Wednesday</td>\n",
       "      <td>00:02</td>\n",
       "      <td>030</td>\n",
       "      <td>peña</td>\n",
       "      <td>030</td>\n",
       "      <td>peña</td>\n",
       "    </tr>\n",
       "    <tr>\n",
       "      <th>687904</th>\n",
       "      <td>1150</td>\n",
       "      <td>2020-01-01 00:04:19</td>\n",
       "      <td>2020-01-01</td>\n",
       "      <td>January</td>\n",
       "      <td>Wednesday</td>\n",
       "      <td>00:04</td>\n",
       "      <td>123</td>\n",
       "      <td>armenia</td>\n",
       "      <td>159</td>\n",
       "      <td>fitz roy &amp; gorriti</td>\n",
       "    </tr>\n",
       "    <tr>\n",
       "      <th>1026453</th>\n",
       "      <td>383</td>\n",
       "      <td>2020-01-01 00:05:23</td>\n",
       "      <td>2020-01-01</td>\n",
       "      <td>January</td>\n",
       "      <td>Wednesday</td>\n",
       "      <td>00:05</td>\n",
       "      <td>255</td>\n",
       "      <td>barrancas de belgrano</td>\n",
       "      <td>251</td>\n",
       "      <td>solar de la abadía</td>\n",
       "    </tr>\n",
       "    <tr>\n",
       "      <th>1876322</th>\n",
       "      <td>72</td>\n",
       "      <td>2020-01-01 00:05:42</td>\n",
       "      <td>2020-01-01</td>\n",
       "      <td>January</td>\n",
       "      <td>Wednesday</td>\n",
       "      <td>00:05</td>\n",
       "      <td>092</td>\n",
       "      <td>salcedo</td>\n",
       "      <td>092</td>\n",
       "      <td>salcedo</td>\n",
       "    </tr>\n",
       "    <tr>\n",
       "      <th>1126779</th>\n",
       "      <td>769</td>\n",
       "      <td>2020-01-01 00:07:30</td>\n",
       "      <td>2020-01-01</td>\n",
       "      <td>January</td>\n",
       "      <td>Wednesday</td>\n",
       "      <td>00:07</td>\n",
       "      <td>041</td>\n",
       "      <td>urquiza y rondeau</td>\n",
       "      <td>041</td>\n",
       "      <td>urquiza y rondeau</td>\n",
       "    </tr>\n",
       "    <tr>\n",
       "      <th>...</th>\n",
       "      <td>...</td>\n",
       "      <td>...</td>\n",
       "      <td>...</td>\n",
       "      <td>...</td>\n",
       "      <td>...</td>\n",
       "      <td>...</td>\n",
       "      <td>...</td>\n",
       "      <td>...</td>\n",
       "      <td>...</td>\n",
       "      <td>...</td>\n",
       "    </tr>\n",
       "    <tr>\n",
       "      <th>1866032</th>\n",
       "      <td>206</td>\n",
       "      <td>2020-12-31 23:49:27</td>\n",
       "      <td>2020-12-31</td>\n",
       "      <td>December</td>\n",
       "      <td>Thursday</td>\n",
       "      <td>23:49</td>\n",
       "      <td>289</td>\n",
       "      <td>montañeses</td>\n",
       "      <td>250</td>\n",
       "      <td>fleni</td>\n",
       "    </tr>\n",
       "    <tr>\n",
       "      <th>944078</th>\n",
       "      <td>1867</td>\n",
       "      <td>2020-12-31 23:51:47</td>\n",
       "      <td>2020-12-31</td>\n",
       "      <td>December</td>\n",
       "      <td>Thursday</td>\n",
       "      <td>23:51</td>\n",
       "      <td>059</td>\n",
       "      <td>coronel diaz</td>\n",
       "      <td>059</td>\n",
       "      <td>coronel diaz</td>\n",
       "    </tr>\n",
       "    <tr>\n",
       "      <th>1484687</th>\n",
       "      <td>628</td>\n",
       "      <td>2020-12-31 23:53:26</td>\n",
       "      <td>2020-12-31</td>\n",
       "      <td>December</td>\n",
       "      <td>Thursday</td>\n",
       "      <td>23:53</td>\n",
       "      <td>240</td>\n",
       "      <td>echeverria</td>\n",
       "      <td>381</td>\n",
       "      <td>matienzo y arce</td>\n",
       "    </tr>\n",
       "    <tr>\n",
       "      <th>1891710</th>\n",
       "      <td>68</td>\n",
       "      <td>2020-12-31 23:54:09</td>\n",
       "      <td>2020-12-31</td>\n",
       "      <td>December</td>\n",
       "      <td>Thursday</td>\n",
       "      <td>23:54</td>\n",
       "      <td>349</td>\n",
       "      <td>plaza saenz peña</td>\n",
       "      <td>349</td>\n",
       "      <td>plaza saenz peña</td>\n",
       "    </tr>\n",
       "    <tr>\n",
       "      <th>0</th>\n",
       "      <td>882</td>\n",
       "      <td>2020-12-31 23:54:22</td>\n",
       "      <td>2020-12-31</td>\n",
       "      <td>December</td>\n",
       "      <td>Thursday</td>\n",
       "      <td>23:54</td>\n",
       "      <td>142</td>\n",
       "      <td>armenia y gorriti</td>\n",
       "      <td>116</td>\n",
       "      <td>hospital alemán</td>\n",
       "    </tr>\n",
       "  </tbody>\n",
       "</table>\n",
       "<p>2002945 rows × 10 columns</p>\n",
       "</div>"
      ],
      "text/plain": [
       "         duracion_recorrido  ... Nombre de estación de inicio\n",
       "593758                 6563  ...                         peña\n",
       "687904                 1150  ...           fitz roy & gorriti\n",
       "1026453                 383  ...           solar de la abadía\n",
       "1876322                  72  ...                      salcedo\n",
       "1126779                 769  ...            urquiza y rondeau\n",
       "...                     ...  ...                          ...\n",
       "1866032                 206  ...                        fleni\n",
       "944078                 1867  ...                 coronel diaz\n",
       "1484687                 628  ...              matienzo y arce\n",
       "1891710                  68  ...             plaza saenz peña\n",
       "0                       882  ...              hospital alemán\n",
       "\n",
       "[2002945 rows x 10 columns]"
      ]
     },
     "execution_count": 31,
     "metadata": {
      "tags": []
     },
     "output_type": "execute_result"
    }
   ],
   "source": [
    "test.sort_values(by='start datetime')"
   ]
  },
  {
   "cell_type": "markdown",
   "metadata": {
    "id": "4GpWUCoizNhl"
   },
   "source": [
    "Export csv\n",
    "- Download\n",
    "- Upload to cloud\n"
   ]
  },
  {
   "cell_type": "code",
   "execution_count": null,
   "metadata": {
    "id": "s4xY_2--VcMn"
   },
   "outputs": [],
   "source": [
    "compression_opts = dict(method='zip',archive_name='recorridos_2020-cleaned.csv')  \n",
    "test.to_csv('recorridos_2020-celaned.zip', index=False,compression=compression_opts)\n"
   ]
  },
  {
   "cell_type": "code",
   "execution_count": null,
   "metadata": {
    "colab": {
     "base_uri": "https://localhost:8080/",
     "height": 17
    },
    "id": "gfWi5nWeWGxP",
    "outputId": "0eda87a6-f4f5-4bb1-9f70-c887ecb8360d"
   },
   "outputs": [
    {
     "data": {
      "application/javascript": [
       "\n",
       "    async function download(id, filename, size) {\n",
       "      if (!google.colab.kernel.accessAllowed) {\n",
       "        return;\n",
       "      }\n",
       "      const div = document.createElement('div');\n",
       "      const label = document.createElement('label');\n",
       "      label.textContent = `Downloading \"${filename}\": `;\n",
       "      div.appendChild(label);\n",
       "      const progress = document.createElement('progress');\n",
       "      progress.max = size;\n",
       "      div.appendChild(progress);\n",
       "      document.body.appendChild(div);\n",
       "\n",
       "      const buffers = [];\n",
       "      let downloaded = 0;\n",
       "\n",
       "      const channel = await google.colab.kernel.comms.open(id);\n",
       "      // Send a message to notify the kernel that we're ready.\n",
       "      channel.send({})\n",
       "\n",
       "      for await (const message of channel.messages) {\n",
       "        // Send a message to notify the kernel that we're ready.\n",
       "        channel.send({})\n",
       "        if (message.buffers) {\n",
       "          for (const buffer of message.buffers) {\n",
       "            buffers.push(buffer);\n",
       "            downloaded += buffer.byteLength;\n",
       "            progress.value = downloaded;\n",
       "          }\n",
       "        }\n",
       "      }\n",
       "      const blob = new Blob(buffers, {type: 'application/binary'});\n",
       "      const a = document.createElement('a');\n",
       "      a.href = window.URL.createObjectURL(blob);\n",
       "      a.download = filename;\n",
       "      div.appendChild(a);\n",
       "      a.click();\n",
       "      div.remove();\n",
       "    }\n",
       "  "
      ],
      "text/plain": [
       "<IPython.core.display.Javascript object>"
      ]
     },
     "metadata": {
      "tags": []
     },
     "output_type": "display_data"
    },
    {
     "data": {
      "application/javascript": [
       "download(\"download_64562043-dff1-4d48-b980-162d54b0ab1a\", \"recorridos_2020-celaned.zip\", 31422822)"
      ],
      "text/plain": [
       "<IPython.core.display.Javascript object>"
      ]
     },
     "metadata": {
      "tags": []
     },
     "output_type": "display_data"
    }
   ],
   "source": [
    "from google.colab import files\n",
    "files.download('recorridos_2020-celaned.zip')"
   ]
  },
  {
   "cell_type": "code",
   "execution_count": null,
   "metadata": {
    "colab": {
     "base_uri": "https://localhost:8080/"
    },
    "id": "ioXdyZE0z_PQ",
    "outputId": "45f123bf-5458-4529-fb72-21536ff00be1"
   },
   "outputs": [
    {
     "name": "stdout",
     "output_type": "stream",
     "text": [
      "Mounted at /drive\n"
     ]
    }
   ],
   "source": [
    "from google.colab import drive\n",
    "drive.mount('/drive')\n"
   ]
  },
  {
   "cell_type": "code",
   "execution_count": null,
   "metadata": {
    "id": "-hSRpLT304SS"
   },
   "outputs": [],
   "source": [
    "test.to_csv('/drive/My Drive/Datasets-bicing/recorridos-2020-cleaned-2.csv')"
   ]
  },
  {
   "cell_type": "markdown",
   "metadata": {
    "id": "IIKqluXaMsid"
   },
   "source": [
    "##Retrieve latest\n",
    "\n",
    "Fetch already cleaned csv from drive\n"
   ]
  },
  {
   "cell_type": "markdown",
   "metadata": {
    "id": "j7qlPTBgN9x_"
   },
   "source": []
  },
  {
   "cell_type": "code",
   "execution_count": 3,
   "metadata": {
    "id": "5Yg4HZP8Nfs-"
   },
   "outputs": [],
   "source": [
    "# Code to read csv file into Colaboratory:\n",
    "!pip install -U -q PyDrive\n",
    "from pydrive.auth import GoogleAuth\n",
    "from pydrive.drive import GoogleDrive\n",
    "from google.colab import auth\n",
    "from oauth2client.client import GoogleCredentials\n",
    "# Authenticate and create the PyDrive client.\n",
    "auth.authenticate_user()\n",
    "gauth = GoogleAuth()\n",
    "gauth.credentials = GoogleCredentials.get_application_default()\n",
    "drive = GoogleDrive(gauth)"
   ]
  },
  {
   "cell_type": "code",
   "execution_count": 5,
   "metadata": {
    "colab": {
     "base_uri": "https://localhost:8080/",
     "height": 323
    },
    "id": "Y1Sbt-4XMvXO",
    "outputId": "751e9c70-3567-4855-8c5e-200e8b8a6877"
   },
   "outputs": [
    {
     "data": {
      "text/html": [
       "<div>\n",
       "<style scoped>\n",
       "    .dataframe tbody tr th:only-of-type {\n",
       "        vertical-align: middle;\n",
       "    }\n",
       "\n",
       "    .dataframe tbody tr th {\n",
       "        vertical-align: top;\n",
       "    }\n",
       "\n",
       "    .dataframe thead th {\n",
       "        text-align: right;\n",
       "    }\n",
       "</style>\n",
       "<table border=\"1\" class=\"dataframe\">\n",
       "  <thead>\n",
       "    <tr style=\"text-align: right;\">\n",
       "      <th></th>\n",
       "      <th>Unnamed: 0</th>\n",
       "      <th>duracion_recorrido</th>\n",
       "      <th>start datetime</th>\n",
       "      <th>START DATE</th>\n",
       "      <th>MES</th>\n",
       "      <th>DIA</th>\n",
       "      <th>TIME</th>\n",
       "      <th>Id de estación destino</th>\n",
       "      <th>Nombre de estación destino</th>\n",
       "      <th>Id de estación de incio</th>\n",
       "      <th>Nombre de estación de inicio</th>\n",
       "    </tr>\n",
       "  </thead>\n",
       "  <tbody>\n",
       "    <tr>\n",
       "      <th>0</th>\n",
       "      <td>0</td>\n",
       "      <td>882</td>\n",
       "      <td>2020-12-31 23:54:22</td>\n",
       "      <td>2020-12-31</td>\n",
       "      <td>December</td>\n",
       "      <td>Thursday</td>\n",
       "      <td>23:54</td>\n",
       "      <td>142</td>\n",
       "      <td>armenia y gorriti</td>\n",
       "      <td>116</td>\n",
       "      <td>hospital alemán</td>\n",
       "    </tr>\n",
       "    <tr>\n",
       "      <th>1</th>\n",
       "      <td>1</td>\n",
       "      <td>894</td>\n",
       "      <td>2020-12-29 12:39:18</td>\n",
       "      <td>2020-12-29</td>\n",
       "      <td>December</td>\n",
       "      <td>Tuesday</td>\n",
       "      <td>12:39</td>\n",
       "      <td>142</td>\n",
       "      <td>armenia y gorriti</td>\n",
       "      <td>116</td>\n",
       "      <td>hospital alemán</td>\n",
       "    </tr>\n",
       "    <tr>\n",
       "      <th>2</th>\n",
       "      <td>2</td>\n",
       "      <td>1361</td>\n",
       "      <td>2020-12-21 21:21:38</td>\n",
       "      <td>2020-12-21</td>\n",
       "      <td>December</td>\n",
       "      <td>Monday</td>\n",
       "      <td>21:21</td>\n",
       "      <td>142</td>\n",
       "      <td>armenia y gorriti</td>\n",
       "      <td>116</td>\n",
       "      <td>hospital alemán</td>\n",
       "    </tr>\n",
       "    <tr>\n",
       "      <th>3</th>\n",
       "      <td>3</td>\n",
       "      <td>1010</td>\n",
       "      <td>2020-12-20 21:58:19</td>\n",
       "      <td>2020-12-20</td>\n",
       "      <td>December</td>\n",
       "      <td>Sunday</td>\n",
       "      <td>21:58</td>\n",
       "      <td>142</td>\n",
       "      <td>armenia y gorriti</td>\n",
       "      <td>116</td>\n",
       "      <td>hospital alemán</td>\n",
       "    </tr>\n",
       "    <tr>\n",
       "      <th>4</th>\n",
       "      <td>4</td>\n",
       "      <td>1490</td>\n",
       "      <td>2020-12-20 13:32:53</td>\n",
       "      <td>2020-12-20</td>\n",
       "      <td>December</td>\n",
       "      <td>Sunday</td>\n",
       "      <td>13:32</td>\n",
       "      <td>142</td>\n",
       "      <td>armenia y gorriti</td>\n",
       "      <td>116</td>\n",
       "      <td>hospital alemán</td>\n",
       "    </tr>\n",
       "  </tbody>\n",
       "</table>\n",
       "</div>"
      ],
      "text/plain": [
       "   Unnamed: 0  ...  Nombre de estación de inicio\n",
       "0           0  ...               hospital alemán\n",
       "1           1  ...               hospital alemán\n",
       "2           2  ...               hospital alemán\n",
       "3           3  ...               hospital alemán\n",
       "4           4  ...               hospital alemán\n",
       "\n",
       "[5 rows x 11 columns]"
      ]
     },
     "execution_count": 5,
     "metadata": {
      "tags": []
     },
     "output_type": "execute_result"
    }
   ],
   "source": [
    "id = '17liAPD1lyj2wT-Hcbh4ed9-Cn4peoyIq'\n",
    "downloaded = drive.CreateFile({'id':id}) \n",
    "downloaded.GetContentFile('recorridos-2020-cleaned-2.csv') \n",
    "bicis_recorridos_2020_df = pd.read_csv('recorridos-2020-cleaned-2.csv')\n",
    "bicis_recorridos_2020_df.head()"
   ]
  },
  {
   "cell_type": "markdown",
   "metadata": {
    "id": "Yj1mTZDgxE0N"
   },
   "source": [
    "Workingday or Weekend"
   ]
  },
  {
   "cell_type": "code",
   "execution_count": 11,
   "metadata": {
    "id": "ztmsTctnxIoq"
   },
   "outputs": [],
   "source": [
    "dias_habiles = [\n",
    "             'Monday',\n",
    "             'Tuesday',\n",
    "             'Wednesday',\n",
    "             'Thursday',\n",
    "             'Friday'\n",
    "            ]\n",
    "\n",
    "df_with_workingday = bicis_recorridos_2020_df.assign(dia_habil=[1 if dia in dias_habiles else 0 for dia in bicis_recorridos_2020_df['DIA']])\n"
   ]
  },
  {
   "cell_type": "code",
   "execution_count": 12,
   "metadata": {
    "colab": {
     "base_uri": "https://localhost:8080/",
     "height": 793
    },
    "id": "7SjGxPgC2Tc_",
    "outputId": "740e111b-395d-4ed8-a322-d2a2490087dd"
   },
   "outputs": [
    {
     "data": {
      "text/html": [
       "<div>\n",
       "<style scoped>\n",
       "    .dataframe tbody tr th:only-of-type {\n",
       "        vertical-align: middle;\n",
       "    }\n",
       "\n",
       "    .dataframe tbody tr th {\n",
       "        vertical-align: top;\n",
       "    }\n",
       "\n",
       "    .dataframe thead th {\n",
       "        text-align: right;\n",
       "    }\n",
       "</style>\n",
       "<table border=\"1\" class=\"dataframe\">\n",
       "  <thead>\n",
       "    <tr style=\"text-align: right;\">\n",
       "      <th></th>\n",
       "      <th>Unnamed: 0</th>\n",
       "      <th>duracion_recorrido</th>\n",
       "      <th>start datetime</th>\n",
       "      <th>START DATE</th>\n",
       "      <th>MES</th>\n",
       "      <th>DIA</th>\n",
       "      <th>TIME</th>\n",
       "      <th>Id de estación destino</th>\n",
       "      <th>Nombre de estación destino</th>\n",
       "      <th>Id de estación de incio</th>\n",
       "      <th>Nombre de estación de inicio</th>\n",
       "      <th>dia_habil</th>\n",
       "    </tr>\n",
       "  </thead>\n",
       "  <tbody>\n",
       "    <tr>\n",
       "      <th>0</th>\n",
       "      <td>0</td>\n",
       "      <td>882</td>\n",
       "      <td>2020-12-31 23:54:22</td>\n",
       "      <td>2020-12-31</td>\n",
       "      <td>December</td>\n",
       "      <td>Thursday</td>\n",
       "      <td>23:54</td>\n",
       "      <td>142</td>\n",
       "      <td>armenia y gorriti</td>\n",
       "      <td>116</td>\n",
       "      <td>hospital alemán</td>\n",
       "      <td>1</td>\n",
       "    </tr>\n",
       "    <tr>\n",
       "      <th>1</th>\n",
       "      <td>1</td>\n",
       "      <td>894</td>\n",
       "      <td>2020-12-29 12:39:18</td>\n",
       "      <td>2020-12-29</td>\n",
       "      <td>December</td>\n",
       "      <td>Tuesday</td>\n",
       "      <td>12:39</td>\n",
       "      <td>142</td>\n",
       "      <td>armenia y gorriti</td>\n",
       "      <td>116</td>\n",
       "      <td>hospital alemán</td>\n",
       "      <td>1</td>\n",
       "    </tr>\n",
       "    <tr>\n",
       "      <th>2</th>\n",
       "      <td>2</td>\n",
       "      <td>1361</td>\n",
       "      <td>2020-12-21 21:21:38</td>\n",
       "      <td>2020-12-21</td>\n",
       "      <td>December</td>\n",
       "      <td>Monday</td>\n",
       "      <td>21:21</td>\n",
       "      <td>142</td>\n",
       "      <td>armenia y gorriti</td>\n",
       "      <td>116</td>\n",
       "      <td>hospital alemán</td>\n",
       "      <td>1</td>\n",
       "    </tr>\n",
       "    <tr>\n",
       "      <th>3</th>\n",
       "      <td>3</td>\n",
       "      <td>1010</td>\n",
       "      <td>2020-12-20 21:58:19</td>\n",
       "      <td>2020-12-20</td>\n",
       "      <td>December</td>\n",
       "      <td>Sunday</td>\n",
       "      <td>21:58</td>\n",
       "      <td>142</td>\n",
       "      <td>armenia y gorriti</td>\n",
       "      <td>116</td>\n",
       "      <td>hospital alemán</td>\n",
       "      <td>0</td>\n",
       "    </tr>\n",
       "    <tr>\n",
       "      <th>4</th>\n",
       "      <td>4</td>\n",
       "      <td>1490</td>\n",
       "      <td>2020-12-20 13:32:53</td>\n",
       "      <td>2020-12-20</td>\n",
       "      <td>December</td>\n",
       "      <td>Sunday</td>\n",
       "      <td>13:32</td>\n",
       "      <td>142</td>\n",
       "      <td>armenia y gorriti</td>\n",
       "      <td>116</td>\n",
       "      <td>hospital alemán</td>\n",
       "      <td>0</td>\n",
       "    </tr>\n",
       "    <tr>\n",
       "      <th>...</th>\n",
       "      <td>...</td>\n",
       "      <td>...</td>\n",
       "      <td>...</td>\n",
       "      <td>...</td>\n",
       "      <td>...</td>\n",
       "      <td>...</td>\n",
       "      <td>...</td>\n",
       "      <td>...</td>\n",
       "      <td>...</td>\n",
       "      <td>...</td>\n",
       "      <td>...</td>\n",
       "      <td>...</td>\n",
       "    </tr>\n",
       "    <tr>\n",
       "      <th>2002940</th>\n",
       "      <td>2002940</td>\n",
       "      <td>2455</td>\n",
       "      <td>2020-03-07 12:00:20</td>\n",
       "      <td>2020-03-07</td>\n",
       "      <td>March</td>\n",
       "      <td>Saturday</td>\n",
       "      <td>12:00</td>\n",
       "      <td>179</td>\n",
       "      <td>casa san</td>\n",
       "      <td>32</td>\n",
       "      <td>catedral</td>\n",
       "      <td>0</td>\n",
       "    </tr>\n",
       "    <tr>\n",
       "      <th>2002941</th>\n",
       "      <td>2002941</td>\n",
       "      <td>2162</td>\n",
       "      <td>2020-03-03 09:42:59</td>\n",
       "      <td>2020-03-03</td>\n",
       "      <td>March</td>\n",
       "      <td>Tuesday</td>\n",
       "      <td>09:42</td>\n",
       "      <td>179</td>\n",
       "      <td>casa san</td>\n",
       "      <td>37</td>\n",
       "      <td>claudia pia braudacco</td>\n",
       "      <td>1</td>\n",
       "    </tr>\n",
       "    <tr>\n",
       "      <th>2002942</th>\n",
       "      <td>2002942</td>\n",
       "      <td>1027</td>\n",
       "      <td>2020-01-02 06:36:24</td>\n",
       "      <td>2020-01-02</td>\n",
       "      <td>January</td>\n",
       "      <td>Thursday</td>\n",
       "      <td>06:36</td>\n",
       "      <td>179</td>\n",
       "      <td>casa san</td>\n",
       "      <td>37</td>\n",
       "      <td>claudia pia braudacco</td>\n",
       "      <td>1</td>\n",
       "    </tr>\n",
       "    <tr>\n",
       "      <th>2002943</th>\n",
       "      <td>2002943</td>\n",
       "      <td>1911</td>\n",
       "      <td>2020-03-06 13:40:09</td>\n",
       "      <td>2020-03-06</td>\n",
       "      <td>March</td>\n",
       "      <td>Friday</td>\n",
       "      <td>13:40</td>\n",
       "      <td>179</td>\n",
       "      <td>casa san</td>\n",
       "      <td>373</td>\n",
       "      <td>jorgelina de simone</td>\n",
       "      <td>1</td>\n",
       "    </tr>\n",
       "    <tr>\n",
       "      <th>2002944</th>\n",
       "      <td>2002944</td>\n",
       "      <td>1213</td>\n",
       "      <td>2020-01-02 17:06:33</td>\n",
       "      <td>2020-01-02</td>\n",
       "      <td>January</td>\n",
       "      <td>Thursday</td>\n",
       "      <td>17:06</td>\n",
       "      <td>179</td>\n",
       "      <td>casa san</td>\n",
       "      <td>373</td>\n",
       "      <td>jorgelina de simone</td>\n",
       "      <td>1</td>\n",
       "    </tr>\n",
       "  </tbody>\n",
       "</table>\n",
       "<p>2002945 rows × 12 columns</p>\n",
       "</div>"
      ],
      "text/plain": [
       "         Unnamed: 0  duracion_recorrido  ... Nombre de estación de inicio dia_habil\n",
       "0                 0                 882  ...              hospital alemán         1\n",
       "1                 1                 894  ...              hospital alemán         1\n",
       "2                 2                1361  ...              hospital alemán         1\n",
       "3                 3                1010  ...              hospital alemán         0\n",
       "4                 4                1490  ...              hospital alemán         0\n",
       "...             ...                 ...  ...                          ...       ...\n",
       "2002940     2002940                2455  ...                     catedral         0\n",
       "2002941     2002941                2162  ...        claudia pia braudacco         1\n",
       "2002942     2002942                1027  ...        claudia pia braudacco         1\n",
       "2002943     2002943                1911  ...          jorgelina de simone         1\n",
       "2002944     2002944                1213  ...          jorgelina de simone         1\n",
       "\n",
       "[2002945 rows x 12 columns]"
      ]
     },
     "execution_count": 12,
     "metadata": {
      "tags": []
     },
     "output_type": "execute_result"
    }
   ],
   "source": [
    "df_with_workingday"
   ]
  },
  {
   "cell_type": "markdown",
   "metadata": {
    "id": "FxmdAYmJUBID"
   },
   "source": [
    "### Agrego datos del clima queda por hacer"
   ]
  },
  {
   "cell_type": "markdown",
   "metadata": {
    "id": "BJllkQ-yOKEY"
   },
   "source": [
    "Fetch from drive"
   ]
  },
  {
   "cell_type": "code",
   "execution_count": 9,
   "metadata": {
    "colab": {
     "base_uri": "https://localhost:8080/",
     "height": 204
    },
    "id": "KKhFdtVaONL2",
    "outputId": "44d2402b-470b-4c79-e977-dd4522519c05"
   },
   "outputs": [
    {
     "data": {
      "text/html": [
       "<div>\n",
       "<style scoped>\n",
       "    .dataframe tbody tr th:only-of-type {\n",
       "        vertical-align: middle;\n",
       "    }\n",
       "\n",
       "    .dataframe tbody tr th {\n",
       "        vertical-align: top;\n",
       "    }\n",
       "\n",
       "    .dataframe thead th {\n",
       "        text-align: right;\n",
       "    }\n",
       "</style>\n",
       "<table border=\"1\" class=\"dataframe\">\n",
       "  <thead>\n",
       "    <tr style=\"text-align: right;\">\n",
       "      <th></th>\n",
       "      <th>DATE</th>\n",
       "      <th>PRCP</th>\n",
       "      <th>TAVG</th>\n",
       "    </tr>\n",
       "  </thead>\n",
       "  <tbody>\n",
       "    <tr>\n",
       "      <th>0</th>\n",
       "      <td>2017-01-01</td>\n",
       "      <td>0.0</td>\n",
       "      <td>30.3</td>\n",
       "    </tr>\n",
       "    <tr>\n",
       "      <th>1</th>\n",
       "      <td>2017-01-02</td>\n",
       "      <td>0.0</td>\n",
       "      <td>25.6</td>\n",
       "    </tr>\n",
       "    <tr>\n",
       "      <th>2</th>\n",
       "      <td>2017-01-03</td>\n",
       "      <td>0.0</td>\n",
       "      <td>26.2</td>\n",
       "    </tr>\n",
       "    <tr>\n",
       "      <th>3</th>\n",
       "      <td>2017-01-04</td>\n",
       "      <td>0.0</td>\n",
       "      <td>26.2</td>\n",
       "    </tr>\n",
       "    <tr>\n",
       "      <th>4</th>\n",
       "      <td>2017-01-05</td>\n",
       "      <td>0.0</td>\n",
       "      <td>25.1</td>\n",
       "    </tr>\n",
       "  </tbody>\n",
       "</table>\n",
       "</div>"
      ],
      "text/plain": [
       "         DATE  PRCP  TAVG\n",
       "0  2017-01-01   0.0  30.3\n",
       "1  2017-01-02   0.0  25.6\n",
       "2  2017-01-03   0.0  26.2\n",
       "3  2017-01-04   0.0  26.2\n",
       "4  2017-01-05   0.0  25.1"
      ]
     },
     "execution_count": 9,
     "metadata": {
      "tags": []
     },
     "output_type": "execute_result"
    }
   ],
   "source": [
    "id = '14BpBfjQ3IrfeK8CajCWrEdfPg7S0eqc8'\n",
    "downloaded = drive.CreateFile({'id':id}) \n",
    "downloaded.GetContentFile('weather-data-ba.csv') \n",
    "weather_data_df = pd.read_csv('weather-data-ba.csv')\n",
    "weather_data_df.head()\n",
    "weather_data_df = weather_data_df.filter(['DATE','PRCP','TAVG'])\n",
    "weather_data_df.isnull().sum(axis=0)\n",
    "weather_data_df['PRCP'] = weather_data_df['PRCP'].replace(np.nan, 0)\n",
    "weather_data_df.head()"
   ]
  },
  {
   "cell_type": "code",
   "execution_count": 13,
   "metadata": {
    "id": "maHFL4gLUBIF"
   },
   "outputs": [],
   "source": [
    "recorridos_latest_df = pd.merge(left=df_with_workingday, right=weather_data_df, left_on='START DATE', right_on='DATE')"
   ]
  },
  {
   "cell_type": "code",
   "execution_count": 14,
   "metadata": {
    "colab": {
     "base_uri": "https://localhost:8080/",
     "height": 442
    },
    "id": "nqCL_k8hUBIH",
    "outputId": "02b0fa70-76dc-4b94-8f55-4ef67e4c1c8a"
   },
   "outputs": [
    {
     "data": {
      "text/html": [
       "<div>\n",
       "<style scoped>\n",
       "    .dataframe tbody tr th:only-of-type {\n",
       "        vertical-align: middle;\n",
       "    }\n",
       "\n",
       "    .dataframe tbody tr th {\n",
       "        vertical-align: top;\n",
       "    }\n",
       "\n",
       "    .dataframe thead th {\n",
       "        text-align: right;\n",
       "    }\n",
       "</style>\n",
       "<table border=\"1\" class=\"dataframe\">\n",
       "  <thead>\n",
       "    <tr style=\"text-align: right;\">\n",
       "      <th></th>\n",
       "      <th>Unnamed: 0</th>\n",
       "      <th>duracion_recorrido</th>\n",
       "      <th>start datetime</th>\n",
       "      <th>START DATE</th>\n",
       "      <th>MES</th>\n",
       "      <th>DIA</th>\n",
       "      <th>TIME</th>\n",
       "      <th>Id de estación destino</th>\n",
       "      <th>Nombre de estación destino</th>\n",
       "      <th>Id de estación de incio</th>\n",
       "      <th>Nombre de estación de inicio</th>\n",
       "      <th>dia_habil</th>\n",
       "      <th>DATE</th>\n",
       "      <th>PRCP</th>\n",
       "      <th>TAVG</th>\n",
       "    </tr>\n",
       "  </thead>\n",
       "  <tbody>\n",
       "    <tr>\n",
       "      <th>0</th>\n",
       "      <td>0</td>\n",
       "      <td>882</td>\n",
       "      <td>2020-12-31 23:54:22</td>\n",
       "      <td>2020-12-31</td>\n",
       "      <td>December</td>\n",
       "      <td>Thursday</td>\n",
       "      <td>23:54</td>\n",
       "      <td>142</td>\n",
       "      <td>armenia y gorriti</td>\n",
       "      <td>116</td>\n",
       "      <td>hospital alemán</td>\n",
       "      <td>1</td>\n",
       "      <td>2020-12-31</td>\n",
       "      <td>0.0</td>\n",
       "      <td>22.3</td>\n",
       "    </tr>\n",
       "    <tr>\n",
       "      <th>1</th>\n",
       "      <td>250</td>\n",
       "      <td>438</td>\n",
       "      <td>2020-12-31 10:05:55</td>\n",
       "      <td>2020-12-31</td>\n",
       "      <td>December</td>\n",
       "      <td>Thursday</td>\n",
       "      <td>10:05</td>\n",
       "      <td>142</td>\n",
       "      <td>armenia y gorriti</td>\n",
       "      <td>59</td>\n",
       "      <td>coronel diaz</td>\n",
       "      <td>1</td>\n",
       "      <td>2020-12-31</td>\n",
       "      <td>0.0</td>\n",
       "      <td>22.3</td>\n",
       "    </tr>\n",
       "    <tr>\n",
       "      <th>2</th>\n",
       "      <td>436</td>\n",
       "      <td>888</td>\n",
       "      <td>2020-12-31 09:35:08</td>\n",
       "      <td>2020-12-31</td>\n",
       "      <td>December</td>\n",
       "      <td>Thursday</td>\n",
       "      <td>09:35</td>\n",
       "      <td>142</td>\n",
       "      <td>armenia y gorriti</td>\n",
       "      <td>182</td>\n",
       "      <td>ravignani y guatemala</td>\n",
       "      <td>1</td>\n",
       "      <td>2020-12-31</td>\n",
       "      <td>0.0</td>\n",
       "      <td>22.3</td>\n",
       "    </tr>\n",
       "    <tr>\n",
       "      <th>3</th>\n",
       "      <td>1070</td>\n",
       "      <td>903</td>\n",
       "      <td>2020-12-31 13:44:23</td>\n",
       "      <td>2020-12-31</td>\n",
       "      <td>December</td>\n",
       "      <td>Thursday</td>\n",
       "      <td>13:44</td>\n",
       "      <td>142</td>\n",
       "      <td>armenia y gorriti</td>\n",
       "      <td>69</td>\n",
       "      <td>ecuador</td>\n",
       "      <td>1</td>\n",
       "      <td>2020-12-31</td>\n",
       "      <td>0.0</td>\n",
       "      <td>22.3</td>\n",
       "    </tr>\n",
       "    <tr>\n",
       "      <th>4</th>\n",
       "      <td>1272</td>\n",
       "      <td>1979</td>\n",
       "      <td>2020-12-31 12:43:21</td>\n",
       "      <td>2020-12-31</td>\n",
       "      <td>December</td>\n",
       "      <td>Thursday</td>\n",
       "      <td>12:43</td>\n",
       "      <td>142</td>\n",
       "      <td>armenia y gorriti</td>\n",
       "      <td>183</td>\n",
       "      <td>virrey cevallos</td>\n",
       "      <td>1</td>\n",
       "      <td>2020-12-31</td>\n",
       "      <td>0.0</td>\n",
       "      <td>22.3</td>\n",
       "    </tr>\n",
       "  </tbody>\n",
       "</table>\n",
       "</div>"
      ],
      "text/plain": [
       "   Unnamed: 0  duracion_recorrido       start datetime  ...        DATE PRCP  TAVG\n",
       "0           0                 882  2020-12-31 23:54:22  ...  2020-12-31  0.0  22.3\n",
       "1         250                 438  2020-12-31 10:05:55  ...  2020-12-31  0.0  22.3\n",
       "2         436                 888  2020-12-31 09:35:08  ...  2020-12-31  0.0  22.3\n",
       "3        1070                 903  2020-12-31 13:44:23  ...  2020-12-31  0.0  22.3\n",
       "4        1272                1979  2020-12-31 12:43:21  ...  2020-12-31  0.0  22.3\n",
       "\n",
       "[5 rows x 15 columns]"
      ]
     },
     "execution_count": 14,
     "metadata": {
      "tags": []
     },
     "output_type": "execute_result"
    }
   ],
   "source": [
    "recorridos_latest_df.head()"
   ]
  },
  {
   "cell_type": "code",
   "execution_count": 15,
   "metadata": {
    "colab": {
     "base_uri": "https://localhost:8080/"
    },
    "id": "D0hNu2LUQOrv",
    "outputId": "a9a1f10a-941b-44d2-9909-77cd083d91c9"
   },
   "outputs": [
    {
     "name": "stdout",
     "output_type": "stream",
     "text": [
      "Mounted at /drive\n"
     ]
    }
   ],
   "source": [
    "from google.colab import drive\n",
    "drive.mount('/drive')"
   ]
  },
  {
   "cell_type": "code",
   "execution_count": 17,
   "metadata": {
    "id": "BO2KzlL2QcDv"
   },
   "outputs": [],
   "source": [
    "recorridos_latest_df.to_csv('/drive/My Drive/Datasets-bicing/recorridos-2020-cleaned-weather-workingday-3.csv')"
   ]
  }
 ],
 "metadata": {
  "colab": {
   "collapsed_sections": [],
   "include_colab_link": true,
   "name": " Clean and prepare Recorridos de bicicletas 2020.ipynb",
   "provenance": []
  },
  "kernelspec": {
   "display_name": "Python 3",
   "language": "python",
   "name": "python3"
  },
  "language_info": {
   "codemirror_mode": {
    "name": "ipython",
    "version": 3
   },
   "file_extension": ".py",
   "mimetype": "text/x-python",
   "name": "python",
   "nbconvert_exporter": "python",
   "pygments_lexer": "ipython3",
   "version": "3.9.5"
  }
 },
 "nbformat": 4,
 "nbformat_minor": 4
}
