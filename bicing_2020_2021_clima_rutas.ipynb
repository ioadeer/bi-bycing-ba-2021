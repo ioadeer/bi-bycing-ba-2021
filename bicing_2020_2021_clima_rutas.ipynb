{
 "cells": [
  {
   "cell_type": "markdown",
   "metadata": {
    "colab_type": "text",
    "id": "view-in-github"
   },
   "source": [
    "<a href=\"https://colab.research.google.com/github/ioadeer/bi-bycing-ba-2021/blob/main/bicing_2020_2021_clima_rutas.ipynb\" target=\"_parent\"><img src=\"https://colab.research.google.com/assets/colab-badge.svg\" alt=\"Open In Colab\"/></a>"
   ]
  },
  {
   "cell_type": "markdown",
   "metadata": {
    "id": "M9ilfCr3btnG"
   },
   "source": [
    "# Movilidad Sustentable\n",
    "## Ciencia de Datos e Inteligencia de Negocios\n"
   ]
  },
  {
   "cell_type": "markdown",
   "metadata": {
    "id": "KZjoFuv8dVMD"
   },
   "source": [
    "### Configuración"
   ]
  },
  {
   "cell_type": "code",
   "execution_count": 1,
   "metadata": {
    "id": "vWwBPI9fUBG7"
   },
   "outputs": [],
   "source": [
    "\"\"\"\n",
    "Bicicletas: Recorridos\n",
    "Clima: PRCP TAVG TEMP[C] HUM[%] PNM[hPa] DD[gr] FF[km/hr]                                                 \n",
    "2020-2021\n",
    "Data acquisition & wrangling\n",
    "\"\"\"\n",
    "import os\n",
    "import sys\n",
    "import urllib.request\n",
    "\n",
    "import numpy as np\n",
    "import pandas as pd\n",
    "pd.options.mode.chained_assignment = None  # default='warn'\n",
    "import datetime\n",
    "# from datetime import date, timedelta\n",
    "import re\n",
    "\n",
    "\n",
    "datadir = 'datasets/'"
   ]
  },
  {
   "cell_type": "code",
   "execution_count": 2,
   "metadata": {
    "colab": {
     "base_uri": "https://localhost:8080/"
    },
    "id": "ldceDsU_RpC6",
    "outputId": "20e655c7-fe0c-44fe-f308-698c0a424dbb"
   },
   "outputs": [],
   "source": [
    "# from google.colab import drive\n",
    "# drive.mount(\n",
    "#   '/content/drive/', \n",
    "#   # force_remount = True\n",
    "# )\n",
    "# if drive:\n",
    "#   datadir = '/content/drive/MyDrive/Academicos/UTN/BI/datasets/'"
   ]
  },
  {
   "cell_type": "markdown",
   "metadata": {
    "id": "0av6wXSuajZN"
   },
   "source": [
    "# Adquisición\n"
   ]
  },
  {
   "cell_type": "code",
   "execution_count": 3,
   "metadata": {
    "id": "pk_E7pq5RkJH"
   },
   "outputs": [],
   "source": [
    "insumos = {\n",
    "  \"recorridos-2020\" : {\n",
    "    \"remote\" : 'https://cdn.buenosaires.gob.ar/datosabiertos/datasets/transporte/bicicletas-publicas/recorridos-realizados-2020.zip',\n",
    "    \"local\" : datadir + 'recorridos-realizados-2020.zip',\n",
    "    \"df\" : pd.DataFrame(),\n",
    "  },\n",
    "  \"recorridos-2021\" : {\n",
    "    \"remote\" : 'https://cdn.buenosaires.gob.ar/datosabiertos/datasets/transporte/bicicletas-publicas/recorridos-realizados-2021.zip',   \n",
    "    \"local\" : datadir + 'recorridos-realizados-2021.zip',\n",
    "    \"df\" : pd.DataFrame(),\n",
    "  },\n",
    "  \"clima\" : {\n",
    "    \"remote\" : '',   \n",
    "    \"local\" : datadir + 'weather-data-ba.csv',\n",
    "    \"df\" : pd.DataFrame(),\n",
    "  },\n",
    "  \"estaciones\" : {\n",
    "    \"remote\" : 'https://cdn.buenosaires.gob.ar/datosabiertos/datasets/transporte/estaciones-bicicletas-publicas/nuevas-estaciones-bicicletas-publicas.xlsx',   \n",
    "    \"local\" : datadir + 'nuevas_estaciones.xlsx',\n",
    "    \"df\" : pd.DataFrame(),\n",
    "  },\n",
    "  \"rutas\" : {\n",
    "    \"remote\" : '',   \n",
    "    \"local\" : datadir + 'rutas.csv',\n",
    "    \"df\" : pd.DataFrame(),\n",
    "  },\n",
    "}"
   ]
  },
  {
   "cell_type": "code",
   "execution_count": 4,
   "metadata": {
    "id": "OUNJNx4JRkJI"
   },
   "outputs": [],
   "source": [
    "\"\"\"\n",
    "Cargar insumos\n",
    "\"\"\"\n",
    "def cargar_insumos( insumos ):\n",
    "    for i in insumos:\n",
    "        if not os.path.exists( insumos[i][\"local\"] ):\n",
    "            print(\"Descargando:\", insumos[i][\"remote\"])\n",
    "            urllib.request.urlretrieve(\n",
    "              insumos[i][\"remote\"],\n",
    "              insumos[i][\"local\"]\n",
    "            )\n",
    "        if \"zip\" in insumos[i][\"local\"]:\n",
    "            insumos[i][\"df\"] = pd.read_csv(\n",
    "                insumos[i][\"local\"],\n",
    "                compression = 'zip',\n",
    "                encoding = 'utf-8', \n",
    "            )\n",
    "        if \"csv\" in insumos[i][\"local\"]:\n",
    "            insumos[i][\"df\"] = pd.read_csv(\n",
    "                insumos[i][\"local\"],\n",
    "            )\n",
    "        if \"xlsx\" in insumos[i][\"local\"]:\n",
    "            insumos[i][\"df\"] = pd.read_excel(\n",
    "                insumos[i][\"local\"],\n",
    "            )\n",
    "        print( 'Cargado: ', insumos[i][\"local\"] )\n",
    "    return insumos"
   ]
  },
  {
   "cell_type": "code",
   "execution_count": 5,
   "metadata": {
    "colab": {
     "base_uri": "https://localhost:8080/"
    },
    "id": "mNXoe6RWRkJJ",
    "outputId": "23b325c8-6abe-43f7-900e-7e999b9f19c7"
   },
   "outputs": [
    {
     "name": "stdout",
     "output_type": "stream",
     "text": [
      "Cargado:  datasets/recorridos-realizados-2020.zip\n",
      "Cargado:  datasets/recorridos-realizados-2021.zip\n",
      "Cargado:  datasets/weather-data-ba.csv\n",
      "Cargado:  datasets/nuevas_estaciones.xlsx\n",
      "Cargado:  datasets/rutas.csv\n"
     ]
    }
   ],
   "source": [
    "insumos = cargar_insumos( insumos )"
   ]
  },
  {
   "cell_type": "markdown",
   "metadata": {
    "id": "04Qn4D0IbidY"
   },
   "source": [
    "# Subproductos"
   ]
  },
  {
   "cell_type": "code",
   "execution_count": 6,
   "metadata": {
    "id": "zer0swUV7zTj"
   },
   "outputs": [],
   "source": [
    "derivados = {\n",
    "  \"recorridos\" : {\n",
    "    \"df\"     : pd.DataFrame(),\n",
    "    \"local\"  : datadir + 'recorridos.csv',\n",
    "    \"remote\" : '',   \n",
    "  },\n",
    "  \"vueltas\" : {\n",
    "    \"df\"     : pd.DataFrame(),\n",
    "    \"local\"  : datadir + 'vueltas.csv',\n",
    "    \"remote\" : '',   \n",
    "  },\n",
    "  \"estaciones\" : {\n",
    "    \"df\"     : pd.DataFrame(),\n",
    "    \"local\"  : datadir + 'estaciones.csv',\n",
    "    \"remote\" : '',   \n",
    "  },\n",
    "  \"distancias\" : {\n",
    "    \"df\"     : pd.DataFrame(),\n",
    "    \"local\"  : datadir + 'distancias_estaciones.csv',\n",
    "    \"remote\" : '',   \n",
    "  },\n",
    "  \"rutas\" : {\n",
    "    \"df\"     : pd.DataFrame(),\n",
    "    \"local\"  : datadir + 'rutas_estaciones.csv',\n",
    "    \"remote\" : '',   \n",
    "  },\n",
    "  \"clima\" : {\n",
    "    \"df\"     : pd.DataFrame(),\n",
    "    \"local\"  : datadir + 'clima_datohorario_2020_2021.csv', \n",
    "    \"remote\" : '',\n",
    "  },\n",
    "  \"pronostico\" : {\n",
    "    \"df\"     : pd.DataFrame(),\n",
    "    \"local\"  : datadir + 'pronostico_2020_2021.csv', \n",
    "    \"remote\" : '',\n",
    "  },\n",
    "}"
   ]
  },
  {
   "cell_type": "markdown",
   "metadata": {
    "id": "TCLX76JPdyBL"
   },
   "source": [
    " ## Normalizacion"
   ]
  },
  {
   "cell_type": "code",
   "execution_count": 7,
   "metadata": {
    "id": "LUu7r97bRkJL"
   },
   "outputs": [],
   "source": [
    "# renombrar y filtrar columnas  2021\n",
    "encabezados2021 = {\n",
    "    'ID'                                  : 'id',\n",
    "    'Duración'                            : 'duracion_recorrido',\n",
    "    'Estado cerrado'                      : 'estado_cerrado',\n",
    "    'ID de ciclista'                      : 'id_usuario',\n",
    "    'Tipo de ciclista'                    : 'cilicsta_tipo',\n",
    "    'Modelo de bicicleta'                 : 'bicicleta_modelo',   \n",
    "    'Id de estación de inicio'            : 'id_estacion_origen', \n",
    "    'Nombre de estación de inicio'        : 'nombre_estacion_origen',\n",
    "    'Fecha de inicio'                     : 'fecha_origen_recorrido',     \n",
    "    'Origen de viaje'                     : 'direccion_estacion_origen',  \n",
    "#     'lon_estacion_origen'                : 'lon_estacion_origen',        \n",
    "#     'lat_estacion_origen'                 : 'lat_estacion_origen',\n",
    "    'Id de estación de fin de viaje'      : 'id_estacion_destino',     \n",
    "    'Nombre de estación de fin de viaje'  : 'nombre_estacion_destino',\n",
    "    'Fecha de fin'                        : 'fecha_destino_recorrido',          \n",
    "#     'direccion_estacion_destino'          : 'direccion_estacion_origen',           \n",
    "#     'lon_estacion_destino'               : 'lon_estacion_destino',       \n",
    "#     'lat_estacion_destino'                : 'lat_estacion_destino',\n",
    "#     'periodo'                             : 'periodo',  \n",
    "}\n",
    "insumos[\"recorridos-2021\"][\"df\"] = insumos[\"recorridos-2021\"][\"df\"].rename( \n",
    "    columns = encabezados2021\n",
    ")\n",
    "insumos[\"recorridos-2021\"][\"df\"][\"id\"] = insumos[\"recorridos-2021\"][\"df\"]['id'].astype('Int64')"
   ]
  },
  {
   "cell_type": "code",
   "execution_count": 8,
   "metadata": {
    "id": "6EMTpai0RkJM"
   },
   "outputs": [],
   "source": [
    "# Concatenar recorridos 2020:2021\n",
    "recorridos = [\n",
    "    insumos[\"recorridos-2020\"][\"df\"],\n",
    "    insumos[\"recorridos-2021\"][\"df\"]\n",
    "]\n",
    "derivados[\"recorridos\"][\"df\"] = pd.concat( recorridos )\n",
    "del recorridos  "
   ]
  },
  {
   "cell_type": "code",
   "execution_count": 9,
   "metadata": {
    "id": "vi1TnxNDRkJP"
   },
   "outputs": [],
   "source": [
    "encabezados = {\n",
    "    'id'                         : 'id',\n",
    "    'duracion_recorrido'         : 'duracion',\n",
    "    'estado_cerrado'             : 'estado_cerrado',\n",
    "    'id_usuario'                 : 'usuario_id',\n",
    "#     'cilicsta_tipo'            : 'cilicsta_tipo',\n",
    "#     'bicicleta_modelo'         : 'bicicleta_modelo',   \n",
    "    'id_estacion_origen'         : 'origen_id', \n",
    "    'nombre_estacion_origen'     : 'origen_nombre',\n",
    "    'fecha_origen_recorrido'     : 'origen_fecha',     \n",
    "    'direccion_estacion_origen'  : 'origen_direccion',\n",
    "    'lat_estacion_origen'        : 'origen_lat',  \n",
    "    'long_estacion_origen'       : 'origen_lon',        \n",
    "    'id_estacion_destino'        : 'destino_id',     \n",
    "    'nombre_estacion_destino'    : 'destino_nombre',\n",
    "    'fecha_destino_recorrido'    : 'destino_fecha',          \n",
    "    'direccion_estacion_destino' : 'destino_direccion', \n",
    "    'lat_estacion_destino'       : 'destino_lat',          \n",
    "    'long_estacion_destino'      : 'destino_lon',       \n",
    "#     'periodo'                    : 'periodo',  \n",
    "}\n",
    "derivados[\"recorridos\"][\"df\"] = derivados[\"recorridos\"][\"df\"].rename( columns = encabezados )\n",
    "derivados[\"recorridos\"][\"df\"] = derivados[\"recorridos\"][\"df\"][ list( encabezados.values() ) ]"
   ]
  },
  {
   "cell_type": "code",
   "execution_count": 10,
   "metadata": {
    "id": "EZZQppOmTfFD"
   },
   "outputs": [],
   "source": [
    "derivados[\"recorridos\"][\"df\"]['destino_nombre'] = derivados[\"recorridos\"][\"df\"]['destino_nombre'].fillna(\n",
    "    '999 - Vacio'\n",
    ")\n",
    "derivados[\"recorridos\"][\"df\"]['destino_nombre'] = derivados[\"recorridos\"][\"df\"]['destino_nombre'].str.replace(\n",
    "    'Balboa Definitivo', \n",
    "    '666 - Balboa Definitivo', \n",
    "    regex = False\n",
    ")"
   ]
  },
  {
   "cell_type": "code",
   "execution_count": 11,
   "metadata": {
    "id": "4cZgdEwARkJS"
   },
   "outputs": [],
   "source": [
    "\"\"\"\n",
    "Separar las columnas nombre de estacion de origen y nombre de estacion de destino \n",
    "Tienen la info correcta del id de las estaciones.\n",
    "Divido la columna Nombre de estacion de fin de viaje porque contiene dos campos \n",
    "el Id y el nombre de la estacion de inicio de viaje.\n",
    "\"\"\"\n",
    "derivados[\"recorridos\"][\"df\"][\n",
    "    ['origen_id','origen_nombre']\n",
    "] = derivados[\"recorridos\"][\"df\"]['origen_nombre'].str.split('-', expand = True )\n",
    "derivados[\"recorridos\"][\"df\"]['origen_id'] = derivados[\"recorridos\"][\"df\"]['origen_id'].str.strip(' ')\n",
    "derivados[\"recorridos\"][\"df\"]['origen_nombre'] = derivados[\"recorridos\"][\"df\"]['origen_nombre'].str.strip(' ')\n",
    "\n",
    "derivados[\"recorridos\"][\"df\"][\n",
    "    ['destino_id','destino_nombre']\n",
    "] = derivados[\"recorridos\"][\"df\"]['destino_nombre'].str.split('-', expand = True )\n",
    "derivados[\"recorridos\"][\"df\"]['destino_id'] = derivados[\"recorridos\"][\"df\"]['destino_id'].str.strip(' ')\n",
    "derivados[\"recorridos\"][\"df\"]['destino_nombre'] = derivados[\"recorridos\"][\"df\"]['destino_nombre'].str.strip(' ')"
   ]
  },
  {
   "cell_type": "code",
   "execution_count": 12,
   "metadata": {
    "id": "k0nV5WenRkJT"
   },
   "outputs": [],
   "source": [
    "derivados[\"recorridos\"][\"df\"]['origen_id'] = derivados[\"recorridos\"][\"df\"][\"origen_id\"].str.lstrip('0').astype(int)\n",
    "derivados[\"recorridos\"][\"df\"]['destino_id'] = derivados[\"recorridos\"][\"df\"][\"destino_id\"].str.lstrip('0').astype(int)\n",
    "derivados[\"recorridos\"][\"df\"][\"origen_nombre\"]  = derivados[\"recorridos\"][\"df\"][\"origen_nombre\"].str.upper()\n",
    "derivados[\"recorridos\"][\"df\"][\"destino_nombre\"]  = derivados[\"recorridos\"][\"df\"][\"destino_nombre\"].str.upper()\n",
    "derivados[\"recorridos\"][\"df\"][\"origen_direccion\"]  = derivados[\"recorridos\"][\"df\"][\"origen_direccion\"].str.upper()\n",
    "derivados[\"recorridos\"][\"df\"][\"destino_direccion\"]  = derivados[\"recorridos\"][\"df\"][\"destino_direccion\"].str.upper()"
   ]
  },
  {
   "cell_type": "code",
   "execution_count": 13,
   "metadata": {},
   "outputs": [],
   "source": [
    "# ESTACIONES"
   ]
  },
  {
   "cell_type": "code",
   "execution_count": 14,
   "metadata": {},
   "outputs": [
    {
     "data": {
      "text/html": [
       "<div>\n",
       "<style scoped>\n",
       "    .dataframe tbody tr th:only-of-type {\n",
       "        vertical-align: middle;\n",
       "    }\n",
       "\n",
       "    .dataframe tbody tr th {\n",
       "        vertical-align: top;\n",
       "    }\n",
       "\n",
       "    .dataframe thead th {\n",
       "        text-align: right;\n",
       "    }\n",
       "</style>\n",
       "<table border=\"1\" class=\"dataframe\">\n",
       "  <thead>\n",
       "    <tr style=\"text-align: right;\">\n",
       "      <th></th>\n",
       "      <th>WKT</th>\n",
       "      <th>id</th>\n",
       "      <th>codigo</th>\n",
       "      <th>nombre</th>\n",
       "      <th>ubicacion</th>\n",
       "      <th>tipo</th>\n",
       "      <th>horario</th>\n",
       "      <th>anclajes_t</th>\n",
       "    </tr>\n",
       "  </thead>\n",
       "  <tbody>\n",
       "    <tr>\n",
       "      <th>0</th>\n",
       "      <td>POINT (-58.3747109506359 -34.5924239181221)</td>\n",
       "      <td>2</td>\n",
       "      <td>2</td>\n",
       "      <td>002 - Retiro I</td>\n",
       "      <td>Ramos Mejia, Jose Maria, Dr. Av. &amp; Del Liberta...</td>\n",
       "      <td>AUTOMÁTICA</td>\n",
       "      <td>Estación automática: disponibilidad las 24 horas</td>\n",
       "      <td>20</td>\n",
       "    </tr>\n",
       "    <tr>\n",
       "      <th>1</th>\n",
       "      <td>POINT (-58.368256111128 -34.611033074021)</td>\n",
       "      <td>3</td>\n",
       "      <td>3</td>\n",
       "      <td>003 - ADUANA</td>\n",
       "      <td>Moreno &amp; Av Paseo Colon</td>\n",
       "      <td>AUTOMÁTICA</td>\n",
       "      <td>Estación automática: disponibilidad las 24 horas</td>\n",
       "      <td>20</td>\n",
       "    </tr>\n",
       "    <tr>\n",
       "      <th>2</th>\n",
       "      <td>POINT (-58.3687766674259 -34.6018228613782)</td>\n",
       "      <td>4</td>\n",
       "      <td>4</td>\n",
       "      <td>004 - Plaza Roma</td>\n",
       "      <td>Lavalle &amp; Bouchard</td>\n",
       "      <td>AUTOMÁTICA</td>\n",
       "      <td>Estación automática: disponibilidad las 24 horas</td>\n",
       "      <td>20</td>\n",
       "    </tr>\n",
       "    <tr>\n",
       "      <th>3</th>\n",
       "      <td>POINT (-58.420951914897 -34.5805498216605)</td>\n",
       "      <td>5</td>\n",
       "      <td>5</td>\n",
       "      <td>005 - Plaza Italia</td>\n",
       "      <td>Av. Sarmiento 2601</td>\n",
       "      <td>AUTOMÁTICA</td>\n",
       "      <td>Estación automática: disponibilidad las 24 horas</td>\n",
       "      <td>42</td>\n",
       "    </tr>\n",
       "    <tr>\n",
       "      <th>4</th>\n",
       "      <td>POINT (-58.3697538990917 -34.6285274659984)</td>\n",
       "      <td>6</td>\n",
       "      <td>6</td>\n",
       "      <td>006 - Parque Lezama</td>\n",
       "      <td>Avenida Martin Garcia, 295</td>\n",
       "      <td>AUTOMÁTICA</td>\n",
       "      <td>Estación automática: disponibilidad las 24 horas</td>\n",
       "      <td>20</td>\n",
       "    </tr>\n",
       "    <tr>\n",
       "      <th>...</th>\n",
       "      <td>...</td>\n",
       "      <td>...</td>\n",
       "      <td>...</td>\n",
       "      <td>...</td>\n",
       "      <td>...</td>\n",
       "      <td>...</td>\n",
       "      <td>...</td>\n",
       "      <td>...</td>\n",
       "    </tr>\n",
       "    <tr>\n",
       "      <th>224</th>\n",
       "      <td>POINT (-58.4594980806633 -34.5445021121101)</td>\n",
       "      <td>396</td>\n",
       "      <td>227</td>\n",
       "      <td>227 -Club Ciudad de Buenos Aires</td>\n",
       "      <td>Miguel Sanchez y Av Libertadores</td>\n",
       "      <td>AUTOMÁTICA</td>\n",
       "      <td>Estación automática: disponibilidad las 24 horas</td>\n",
       "      <td>16</td>\n",
       "    </tr>\n",
       "    <tr>\n",
       "      <th>225</th>\n",
       "      <td>POINT (-58.3747959781335 -34.6098020140517)</td>\n",
       "      <td>398</td>\n",
       "      <td>16</td>\n",
       "      <td>016 - Legislatura</td>\n",
       "      <td>169 Peru &amp; Roca, Julio A., Presidente Diagonal...</td>\n",
       "      <td>AUTOMÁTICA</td>\n",
       "      <td>Estación automática: disponibilidad las 24 horas</td>\n",
       "      <td>20</td>\n",
       "    </tr>\n",
       "    <tr>\n",
       "      <th>226</th>\n",
       "      <td>POINT (-58.370711799739 -34.6089370142298)</td>\n",
       "      <td>401</td>\n",
       "      <td>61</td>\n",
       "      <td>061-Ministerio de Economia</td>\n",
       "      <td>Balcarce &amp; Yrigoyen, Hipolito Av.</td>\n",
       "      <td>AUTOMÁTICA</td>\n",
       "      <td>Estación automática: disponibilidad las 24 horas</td>\n",
       "      <td>24</td>\n",
       "    </tr>\n",
       "    <tr>\n",
       "      <th>227</th>\n",
       "      <td>POINT (-58.3788579541696 -34.5824223699167)</td>\n",
       "      <td>403</td>\n",
       "      <td>393</td>\n",
       "      <td>393 - Barrio 31</td>\n",
       "      <td>Carlos H. Perette 11</td>\n",
       "      <td>AUTOMÁTICA</td>\n",
       "      <td>Estación automática: disponibilidad las 24 horas</td>\n",
       "      <td>24</td>\n",
       "    </tr>\n",
       "    <tr>\n",
       "      <th>228</th>\n",
       "      <td>POINT (-58.4632508461667 -34.6290840208419)</td>\n",
       "      <td>405</td>\n",
       "      <td>352</td>\n",
       "      <td>352 - San Jose de Flores</td>\n",
       "      <td>Avenida Rivadavia y Fray Cayetano</td>\n",
       "      <td>AUTOMÁTICA</td>\n",
       "      <td>Estación automática: disponibilidad las 24 horas</td>\n",
       "      <td>24</td>\n",
       "    </tr>\n",
       "  </tbody>\n",
       "</table>\n",
       "<p>229 rows × 8 columns</p>\n",
       "</div>"
      ],
      "text/plain": [
       "                                             WKT   id  codigo  \\\n",
       "0    POINT (-58.3747109506359 -34.5924239181221)    2       2   \n",
       "1      POINT (-58.368256111128 -34.611033074021)    3       3   \n",
       "2    POINT (-58.3687766674259 -34.6018228613782)    4       4   \n",
       "3     POINT (-58.420951914897 -34.5805498216605)    5       5   \n",
       "4    POINT (-58.3697538990917 -34.6285274659984)    6       6   \n",
       "..                                           ...  ...     ...   \n",
       "224  POINT (-58.4594980806633 -34.5445021121101)  396     227   \n",
       "225  POINT (-58.3747959781335 -34.6098020140517)  398      16   \n",
       "226   POINT (-58.370711799739 -34.6089370142298)  401      61   \n",
       "227  POINT (-58.3788579541696 -34.5824223699167)  403     393   \n",
       "228  POINT (-58.4632508461667 -34.6290840208419)  405     352   \n",
       "\n",
       "                               nombre  \\\n",
       "0                      002 - Retiro I   \n",
       "1                        003 - ADUANA   \n",
       "2                    004 - Plaza Roma   \n",
       "3                  005 - Plaza Italia   \n",
       "4                 006 - Parque Lezama   \n",
       "..                                ...   \n",
       "224  227 -Club Ciudad de Buenos Aires   \n",
       "225                 016 - Legislatura   \n",
       "226        061-Ministerio de Economia   \n",
       "227                   393 - Barrio 31   \n",
       "228          352 - San Jose de Flores   \n",
       "\n",
       "                                             ubicacion        tipo  \\\n",
       "0    Ramos Mejia, Jose Maria, Dr. Av. & Del Liberta...  AUTOMÁTICA   \n",
       "1                              Moreno & Av Paseo Colon  AUTOMÁTICA   \n",
       "2                                   Lavalle & Bouchard  AUTOMÁTICA   \n",
       "3                                   Av. Sarmiento 2601  AUTOMÁTICA   \n",
       "4                           Avenida Martin Garcia, 295  AUTOMÁTICA   \n",
       "..                                                 ...         ...   \n",
       "224                   Miguel Sanchez y Av Libertadores  AUTOMÁTICA   \n",
       "225  169 Peru & Roca, Julio A., Presidente Diagonal...  AUTOMÁTICA   \n",
       "226                  Balcarce & Yrigoyen, Hipolito Av.  AUTOMÁTICA   \n",
       "227                               Carlos H. Perette 11  AUTOMÁTICA   \n",
       "228                  Avenida Rivadavia y Fray Cayetano  AUTOMÁTICA   \n",
       "\n",
       "                                              horario  anclajes_t  \n",
       "0    Estación automática: disponibilidad las 24 horas          20  \n",
       "1    Estación automática: disponibilidad las 24 horas          20  \n",
       "2    Estación automática: disponibilidad las 24 horas          20  \n",
       "3    Estación automática: disponibilidad las 24 horas          42  \n",
       "4    Estación automática: disponibilidad las 24 horas          20  \n",
       "..                                                ...         ...  \n",
       "224  Estación automática: disponibilidad las 24 horas          16  \n",
       "225  Estación automática: disponibilidad las 24 horas          20  \n",
       "226  Estación automática: disponibilidad las 24 horas          24  \n",
       "227  Estación automática: disponibilidad las 24 horas          24  \n",
       "228  Estación automática: disponibilidad las 24 horas          24  \n",
       "\n",
       "[229 rows x 8 columns]"
      ]
     },
     "execution_count": 14,
     "metadata": {},
     "output_type": "execute_result"
    }
   ],
   "source": [
    "insumos[\"estaciones\"][\"df\"] # raw"
   ]
  },
  {
   "cell_type": "code",
   "execution_count": 15,
   "metadata": {},
   "outputs": [
    {
     "data": {
      "text/html": [
       "<div>\n",
       "<style scoped>\n",
       "    .dataframe tbody tr th:only-of-type {\n",
       "        vertical-align: middle;\n",
       "    }\n",
       "\n",
       "    .dataframe tbody tr th {\n",
       "        vertical-align: top;\n",
       "    }\n",
       "\n",
       "    .dataframe thead th {\n",
       "        text-align: right;\n",
       "    }\n",
       "</style>\n",
       "<table border=\"1\" class=\"dataframe\">\n",
       "  <thead>\n",
       "    <tr style=\"text-align: right;\">\n",
       "      <th></th>\n",
       "      <th>id</th>\n",
       "      <th>nombre</th>\n",
       "      <th>oid</th>\n",
       "      <th>direccion</th>\n",
       "      <th>lon</th>\n",
       "      <th>lat</th>\n",
       "      <th>anclajes</th>\n",
       "    </tr>\n",
       "  </thead>\n",
       "  <tbody>\n",
       "    <tr>\n",
       "      <th>0</th>\n",
       "      <td>2</td>\n",
       "      <td>RETIRO I</td>\n",
       "      <td>2</td>\n",
       "      <td>RAMOS MEJIA, JOSE MARIA, DR. AV. &amp; DEL LIBERTA...</td>\n",
       "      <td>-58.3747109506359</td>\n",
       "      <td>-34.5924239181221</td>\n",
       "      <td>20</td>\n",
       "    </tr>\n",
       "    <tr>\n",
       "      <th>1</th>\n",
       "      <td>3</td>\n",
       "      <td>ADUANA</td>\n",
       "      <td>3</td>\n",
       "      <td>MORENO &amp; AV PASEO COLON</td>\n",
       "      <td>-58.368256111128</td>\n",
       "      <td>-34.611033074021</td>\n",
       "      <td>20</td>\n",
       "    </tr>\n",
       "    <tr>\n",
       "      <th>2</th>\n",
       "      <td>4</td>\n",
       "      <td>PLAZA ROMA</td>\n",
       "      <td>4</td>\n",
       "      <td>LAVALLE &amp; BOUCHARD</td>\n",
       "      <td>-58.3687766674259</td>\n",
       "      <td>-34.6018228613782</td>\n",
       "      <td>20</td>\n",
       "    </tr>\n",
       "    <tr>\n",
       "      <th>3</th>\n",
       "      <td>5</td>\n",
       "      <td>PLAZA ITALIA</td>\n",
       "      <td>5</td>\n",
       "      <td>AV. SARMIENTO 2601</td>\n",
       "      <td>-58.420951914897</td>\n",
       "      <td>-34.5805498216605</td>\n",
       "      <td>42</td>\n",
       "    </tr>\n",
       "    <tr>\n",
       "      <th>4</th>\n",
       "      <td>6</td>\n",
       "      <td>PARQUE LEZAMA</td>\n",
       "      <td>6</td>\n",
       "      <td>AVENIDA MARTIN GARCIA, 295</td>\n",
       "      <td>-58.3697538990917</td>\n",
       "      <td>-34.6285274659984</td>\n",
       "      <td>20</td>\n",
       "    </tr>\n",
       "    <tr>\n",
       "      <th>...</th>\n",
       "      <td>...</td>\n",
       "      <td>...</td>\n",
       "      <td>...</td>\n",
       "      <td>...</td>\n",
       "      <td>...</td>\n",
       "      <td>...</td>\n",
       "      <td>...</td>\n",
       "    </tr>\n",
       "    <tr>\n",
       "      <th>224</th>\n",
       "      <td>227</td>\n",
       "      <td>CLUB CIUDAD DE BUENOS AIRES</td>\n",
       "      <td>396</td>\n",
       "      <td>MIGUEL SANCHEZ Y AV LIBERTADORES</td>\n",
       "      <td>-58.4594980806633</td>\n",
       "      <td>-34.5445021121101</td>\n",
       "      <td>16</td>\n",
       "    </tr>\n",
       "    <tr>\n",
       "      <th>225</th>\n",
       "      <td>16</td>\n",
       "      <td>LEGISLATURA</td>\n",
       "      <td>398</td>\n",
       "      <td>169 PERU &amp; ROCA, JULIO A., PRESIDENTE DIAGONAL...</td>\n",
       "      <td>-58.3747959781335</td>\n",
       "      <td>-34.6098020140517</td>\n",
       "      <td>20</td>\n",
       "    </tr>\n",
       "    <tr>\n",
       "      <th>226</th>\n",
       "      <td>61</td>\n",
       "      <td>MINISTERIO DE ECONOMIA</td>\n",
       "      <td>401</td>\n",
       "      <td>BALCARCE &amp; YRIGOYEN, HIPOLITO AV.</td>\n",
       "      <td>-58.370711799739</td>\n",
       "      <td>-34.6089370142298</td>\n",
       "      <td>24</td>\n",
       "    </tr>\n",
       "    <tr>\n",
       "      <th>227</th>\n",
       "      <td>393</td>\n",
       "      <td>BARRIO</td>\n",
       "      <td>403</td>\n",
       "      <td>CARLOS H. PERETTE 11</td>\n",
       "      <td>-58.3788579541696</td>\n",
       "      <td>-34.5824223699167</td>\n",
       "      <td>24</td>\n",
       "    </tr>\n",
       "    <tr>\n",
       "      <th>228</th>\n",
       "      <td>352</td>\n",
       "      <td>SAN JOSE DE FLORES</td>\n",
       "      <td>405</td>\n",
       "      <td>AVENIDA RIVADAVIA Y FRAY CAYETANO</td>\n",
       "      <td>-58.4632508461667</td>\n",
       "      <td>-34.6290840208419</td>\n",
       "      <td>24</td>\n",
       "    </tr>\n",
       "  </tbody>\n",
       "</table>\n",
       "<p>229 rows × 7 columns</p>\n",
       "</div>"
      ],
      "text/plain": [
       "      id                       nombre  oid  \\\n",
       "0      2                     RETIRO I    2   \n",
       "1      3                       ADUANA    3   \n",
       "2      4                   PLAZA ROMA    4   \n",
       "3      5                 PLAZA ITALIA    5   \n",
       "4      6                PARQUE LEZAMA    6   \n",
       "..   ...                          ...  ...   \n",
       "224  227  CLUB CIUDAD DE BUENOS AIRES  396   \n",
       "225   16                  LEGISLATURA  398   \n",
       "226   61       MINISTERIO DE ECONOMIA  401   \n",
       "227  393                       BARRIO  403   \n",
       "228  352           SAN JOSE DE FLORES  405   \n",
       "\n",
       "                                             direccion                lon  \\\n",
       "0    RAMOS MEJIA, JOSE MARIA, DR. AV. & DEL LIBERTA...  -58.3747109506359   \n",
       "1                              MORENO & AV PASEO COLON   -58.368256111128   \n",
       "2                                   LAVALLE & BOUCHARD  -58.3687766674259   \n",
       "3                                   AV. SARMIENTO 2601   -58.420951914897   \n",
       "4                           AVENIDA MARTIN GARCIA, 295  -58.3697538990917   \n",
       "..                                                 ...                ...   \n",
       "224                   MIGUEL SANCHEZ Y AV LIBERTADORES  -58.4594980806633   \n",
       "225  169 PERU & ROCA, JULIO A., PRESIDENTE DIAGONAL...  -58.3747959781335   \n",
       "226                  BALCARCE & YRIGOYEN, HIPOLITO AV.   -58.370711799739   \n",
       "227                               CARLOS H. PERETTE 11  -58.3788579541696   \n",
       "228                  AVENIDA RIVADAVIA Y FRAY CAYETANO  -58.4632508461667   \n",
       "\n",
       "                   lat  anclajes  \n",
       "0    -34.5924239181221        20  \n",
       "1     -34.611033074021        20  \n",
       "2    -34.6018228613782        20  \n",
       "3    -34.5805498216605        42  \n",
       "4    -34.6285274659984        20  \n",
       "..                 ...       ...  \n",
       "224  -34.5445021121101        16  \n",
       "225  -34.6098020140517        20  \n",
       "226  -34.6089370142298        24  \n",
       "227  -34.5824223699167        24  \n",
       "228  -34.6290840208419        24  \n",
       "\n",
       "[229 rows x 7 columns]"
      ]
     },
     "execution_count": 15,
     "metadata": {},
     "output_type": "execute_result"
    }
   ],
   "source": [
    "derivados[\"estaciones\"][\"df\"] = pd.DataFrame()\n",
    "derivados[\"estaciones\"][\"df\"]['id'] = insumos[\"estaciones\"][\"df\"]['codigo']\n",
    "derivados[\"estaciones\"][\"df\"]['nombre'] = insumos[\"estaciones\"][\"df\"]['nombre'].str.replace(\n",
    "    '\\d+', '',\n",
    "    regex=True\n",
    ").str.replace('-', '', regex=True).str.strip(' ').str.upper()\n",
    "derivados[\"estaciones\"][\"df\"]['oid'] = insumos[\"estaciones\"][\"df\"]['id']\n",
    "derivados[\"estaciones\"][\"df\"]['direccion'] = insumos[\"estaciones\"][\"df\"]['ubicacion'].str.upper()\n",
    "derivados[\"estaciones\"][\"df\"][\n",
    "    ['lon','lat']\n",
    "] = insumos[\"estaciones\"][\"df\"]['WKT'].str.replace('POINT ','').str.lstrip('(').str.rstrip(')').str.split(' ', expand = True )\n",
    "derivados[\"estaciones\"][\"df\"]['anclajes'] = insumos[\"estaciones\"][\"df\"]['anclajes_t']\n",
    "\n",
    "derivados[\"estaciones\"][\"df\"] # clean"
   ]
  },
  {
   "cell_type": "code",
   "execution_count": 16,
   "metadata": {
    "id": "55ODIY98RkJV"
   },
   "outputs": [
    {
     "data": {
      "text/html": [
       "<div>\n",
       "<style scoped>\n",
       "    .dataframe tbody tr th:only-of-type {\n",
       "        vertical-align: middle;\n",
       "    }\n",
       "\n",
       "    .dataframe tbody tr th {\n",
       "        vertical-align: top;\n",
       "    }\n",
       "\n",
       "    .dataframe thead th {\n",
       "        text-align: right;\n",
       "    }\n",
       "</style>\n",
       "<table border=\"1\" class=\"dataframe\">\n",
       "  <thead>\n",
       "    <tr style=\"text-align: right;\">\n",
       "      <th></th>\n",
       "      <th>id</th>\n",
       "      <th>nombre</th>\n",
       "      <th>oid</th>\n",
       "      <th>direccion</th>\n",
       "      <th>lon</th>\n",
       "      <th>lat</th>\n",
       "      <th>anclajes</th>\n",
       "      <th>salidas</th>\n",
       "      <th>arribos</th>\n",
       "    </tr>\n",
       "  </thead>\n",
       "  <tbody>\n",
       "    <tr>\n",
       "      <th>142</th>\n",
       "      <td>160</td>\n",
       "      <td>GODOY CRUZ Y LIBERTADOR</td>\n",
       "      <td>194</td>\n",
       "      <td>GODOY CRUZ  3279 Y LIBERTADOR</td>\n",
       "      <td>-58.4206256441755</td>\n",
       "      <td>-34.5725829417623</td>\n",
       "      <td>20</td>\n",
       "      <td>47822</td>\n",
       "      <td>48368</td>\n",
       "    </tr>\n",
       "    <tr>\n",
       "      <th>10</th>\n",
       "      <td>14</td>\n",
       "      <td>PACIFICO</td>\n",
       "      <td>13</td>\n",
       "      <td>SANTA FE AV. &amp; BULLRICH, INT. AV.</td>\n",
       "      <td>-58.4263849214833</td>\n",
       "      <td>-34.5774240238566</td>\n",
       "      <td>30</td>\n",
       "      <td>47577</td>\n",
       "      <td>44859</td>\n",
       "    </tr>\n",
       "    <tr>\n",
       "      <th>20</th>\n",
       "      <td>29</td>\n",
       "      <td>PARQUE CENTENARIO</td>\n",
       "      <td>27</td>\n",
       "      <td>AV. PATRICIAS ARGENTINAS &amp; ESTIVAO</td>\n",
       "      <td>-58.4335557423123</td>\n",
       "      <td>-34.6079420843387</td>\n",
       "      <td>30</td>\n",
       "      <td>46426</td>\n",
       "      <td>44650</td>\n",
       "    </tr>\n",
       "    <tr>\n",
       "      <th>172</th>\n",
       "      <td>292</td>\n",
       "      <td>PLAZA BOLIVIA</td>\n",
       "      <td>246</td>\n",
       "      <td>OLLEROS AV. &amp; DEL LIBERTADOR AV.</td>\n",
       "      <td>-58.4361132320095</td>\n",
       "      <td>-34.5635386599873</td>\n",
       "      <td>12</td>\n",
       "      <td>43534</td>\n",
       "      <td>44648</td>\n",
       "    </tr>\n",
       "    <tr>\n",
       "      <th>178</th>\n",
       "      <td>255</td>\n",
       "      <td>BARRANCAS DE BELGRANO</td>\n",
       "      <td>258</td>\n",
       "      <td>SUCRE, ANTONIO JOSE DE, MCAL. Y VERTIZ VIRREY AV.</td>\n",
       "      <td>-58.4483127191579</td>\n",
       "      <td>-34.5598005151061</td>\n",
       "      <td>24</td>\n",
       "      <td>40615</td>\n",
       "      <td>40928</td>\n",
       "    </tr>\n",
       "    <tr>\n",
       "      <th>...</th>\n",
       "      <td>...</td>\n",
       "      <td>...</td>\n",
       "      <td>...</td>\n",
       "      <td>...</td>\n",
       "      <td>...</td>\n",
       "      <td>...</td>\n",
       "      <td>...</td>\n",
       "      <td>...</td>\n",
       "      <td>...</td>\n",
       "    </tr>\n",
       "    <tr>\n",
       "      <th>205</th>\n",
       "      <td>367</td>\n",
       "      <td>MARTINEZ CASTRO</td>\n",
       "      <td>337</td>\n",
       "      <td>MARIANO ACOSTA 1190</td>\n",
       "      <td>-58.4703149491282</td>\n",
       "      <td>-34.6436738190981</td>\n",
       "      <td>16</td>\n",
       "      <td>234</td>\n",
       "      <td>303</td>\n",
       "    </tr>\n",
       "    <tr>\n",
       "      <th>182</th>\n",
       "      <td>309</td>\n",
       "      <td>UTN II</td>\n",
       "      <td>273</td>\n",
       "      <td>MOZART 2391</td>\n",
       "      <td>-58.467418748307</td>\n",
       "      <td>-34.6605055177537</td>\n",
       "      <td>20</td>\n",
       "      <td>203</td>\n",
       "      <td>260</td>\n",
       "    </tr>\n",
       "    <tr>\n",
       "      <th>152</th>\n",
       "      <td>348</td>\n",
       "      <td>VILLA DEL PARQUE</td>\n",
       "      <td>212</td>\n",
       "      <td>GUTIERREZ, RICARDO 3105</td>\n",
       "      <td>-58.4941239444018</td>\n",
       "      <td>-34.6008742255191</td>\n",
       "      <td>12</td>\n",
       "      <td>66</td>\n",
       "      <td>305</td>\n",
       "    </tr>\n",
       "    <tr>\n",
       "      <th>177</th>\n",
       "      <td>333</td>\n",
       "      <td>MIRO</td>\n",
       "      <td>257</td>\n",
       "      <td>1684 MIRO</td>\n",
       "      <td>-58.4429507721387</td>\n",
       "      <td>-34.6404899809383</td>\n",
       "      <td>19</td>\n",
       "      <td>0</td>\n",
       "      <td>0</td>\n",
       "    </tr>\n",
       "    <tr>\n",
       "      <th>214</th>\n",
       "      <td>0</td>\n",
       "      <td>BUENOS AIRES</td>\n",
       "      <td>409</td>\n",
       "      <td>LAFAYETTE 678</td>\n",
       "      <td>-58.3897856456985</td>\n",
       "      <td>-34.6427424928089</td>\n",
       "      <td>20</td>\n",
       "      <td>0</td>\n",
       "      <td>0</td>\n",
       "    </tr>\n",
       "  </tbody>\n",
       "</table>\n",
       "<p>229 rows × 9 columns</p>\n",
       "</div>"
      ],
      "text/plain": [
       "      id                   nombre  oid  \\\n",
       "142  160  GODOY CRUZ Y LIBERTADOR  194   \n",
       "10    14                 PACIFICO   13   \n",
       "20    29        PARQUE CENTENARIO   27   \n",
       "172  292            PLAZA BOLIVIA  246   \n",
       "178  255    BARRANCAS DE BELGRANO  258   \n",
       "..   ...                      ...  ...   \n",
       "205  367          MARTINEZ CASTRO  337   \n",
       "182  309                   UTN II  273   \n",
       "152  348         VILLA DEL PARQUE  212   \n",
       "177  333                     MIRO  257   \n",
       "214    0             BUENOS AIRES  409   \n",
       "\n",
       "                                             direccion                lon  \\\n",
       "142                      GODOY CRUZ  3279 Y LIBERTADOR  -58.4206256441755   \n",
       "10                   SANTA FE AV. & BULLRICH, INT. AV.  -58.4263849214833   \n",
       "20                  AV. PATRICIAS ARGENTINAS & ESTIVAO  -58.4335557423123   \n",
       "172                   OLLEROS AV. & DEL LIBERTADOR AV.  -58.4361132320095   \n",
       "178  SUCRE, ANTONIO JOSE DE, MCAL. Y VERTIZ VIRREY AV.  -58.4483127191579   \n",
       "..                                                 ...                ...   \n",
       "205                                MARIANO ACOSTA 1190  -58.4703149491282   \n",
       "182                                        MOZART 2391   -58.467418748307   \n",
       "152                            GUTIERREZ, RICARDO 3105  -58.4941239444018   \n",
       "177                                          1684 MIRO  -58.4429507721387   \n",
       "214                                      LAFAYETTE 678  -58.3897856456985   \n",
       "\n",
       "                   lat  anclajes  salidas  arribos  \n",
       "142  -34.5725829417623        20    47822    48368  \n",
       "10   -34.5774240238566        30    47577    44859  \n",
       "20   -34.6079420843387        30    46426    44650  \n",
       "172  -34.5635386599873        12    43534    44648  \n",
       "178  -34.5598005151061        24    40615    40928  \n",
       "..                 ...       ...      ...      ...  \n",
       "205  -34.6436738190981        16      234      303  \n",
       "182  -34.6605055177537        20      203      260  \n",
       "152  -34.6008742255191        12       66      305  \n",
       "177  -34.6404899809383        19        0        0  \n",
       "214  -34.6427424928089        20        0        0  \n",
       "\n",
       "[229 rows x 9 columns]"
      ]
     },
     "execution_count": 16,
     "metadata": {},
     "output_type": "execute_result"
    }
   ],
   "source": [
    "salidas = derivados[\"recorridos\"][\"df\"].groupby(\n",
    "    'origen_id' \n",
    ").agg(\n",
    "    salidas = pd.NamedAgg( column = \"origen_id\", aggfunc = \"count\"),\n",
    ").reset_index()\n",
    "\n",
    "arribos = derivados[\"recorridos\"][\"df\"].groupby(\n",
    "    'destino_id'\n",
    ").agg(\n",
    "  arribos = pd.NamedAgg( column = \"destino_id\", aggfunc = \"count\"),\n",
    ").reset_index()\n",
    "\n",
    "salidas_arribos = pd.merge(\n",
    "    left     = salidas,\n",
    "    right    = arribos,\n",
    "    how      = 'left',\n",
    "    left_on  = ['origen_id'],\n",
    "    right_on = ['destino_id']\n",
    ")\n",
    "derivados[\"estaciones\"][\"df\"] = pd.merge(\n",
    "    left     = derivados[\"estaciones\"][\"df\"],\n",
    "    right    = salidas_arribos,\n",
    "    how      = 'left',\n",
    "    left_on  = ['id','id'],\n",
    "    right_on = ['origen_id','destino_id']\n",
    ")\n",
    "del [salidas, arribos, salidas_arribos]\n",
    "derivados[\"estaciones\"][\"df\"][\"salidas\"] = derivados[\"estaciones\"][\"df\"][\"salidas\"].fillna(0).astype(int)\n",
    "derivados[\"estaciones\"][\"df\"][\"arribos\"] = derivados[\"estaciones\"][\"df\"][\"arribos\"].fillna(0).astype(int)\n",
    "derivados[\"estaciones\"][\"df\"] = derivados[\"estaciones\"][\"df\"].drop(\n",
    "    columns = ['origen_id','destino_id']\n",
    ")\n",
    "derivados[\"estaciones\"][\"df\"] = derivados[\"estaciones\"][\"df\"].sort_values(\n",
    "   by = ['salidas'], ascending = [False]\n",
    ")\n",
    "derivados[\"estaciones\"][\"df\"]"
   ]
  },
  {
   "cell_type": "code",
   "execution_count": 23,
   "metadata": {},
   "outputs": [
    {
     "name": "stdout",
     "output_type": "stream",
     "text": [
      "3329717 3329252\n"
     ]
    }
   ],
   "source": [
    "print(derivados[\"estaciones\"][\"df\"][\"salidas\"].sum(),derivados[\"estaciones\"][\"df\"][\"arribos\"].sum())"
   ]
  },
  {
   "cell_type": "code",
   "execution_count": 17,
   "metadata": {},
   "outputs": [],
   "source": [
    "# GRABAR CSV ESTACIONES\n",
    "derivados[\"estaciones\"][\"df\"].to_csv(\n",
    "  derivados[\"estaciones\"][\"local\"],\n",
    "  index = False,\n",
    ")"
   ]
  },
  {
   "cell_type": "markdown",
   "metadata": {
    "id": "Ptq8hRiYUBHg"
   },
   "source": [
    "## RESAMPLING (REMUESTREO)\n",
    "\n",
    "### Downsampling frequencies \n",
    "\n",
    "Sample size = minutes"
   ]
  },
  {
   "cell_type": "code",
   "execution_count": 18,
   "metadata": {
    "id": "qIy_x970UBHi"
   },
   "outputs": [],
   "source": [
    "formato = '%Y%m%d %H:%M:%S'\n",
    "derivados[\"recorridos\"][\"df\"]['origen_datetime'] = pd.to_datetime(\n",
    "    derivados[\"recorridos\"][\"df\"]['origen_fecha'], \n",
    "    format = formato\n",
    ")\n",
    "derivados[\"recorridos\"][\"df\"]['fecha'] = derivados[\"recorridos\"][\"df\"]['origen_datetime'].dt.strftime('%Y-%m-%d')\n",
    "derivados[\"recorridos\"][\"df\"]['wdia'] = derivados[\"recorridos\"][\"df\"]['origen_datetime'].dt.strftime('%w').astype(str).astype(int)\n",
    "derivados[\"recorridos\"][\"df\"].eval( 'dhabil = wdia > 4', inplace = True )\n",
    "derivados[\"recorridos\"][\"df\"]['hora'] = derivados[\"recorridos\"][\"df\"]['origen_datetime'].dt.strftime('%H').astype(str).astype(int)\n",
    "\n",
    "# derivados[\"recorridos\"][\"df\"]['nmes'] = derivados[\"recorridos\"][\"df\"]['origen_datetime'].dt.strftime('%m').astype(str).astype(int)\n",
    "# derivados[\"recorridos\"][\"df\"]['mes']  = bicicletas[\"recorridos_df\"]['start_datetime'].dt.strftime('%b').str.lower()\n",
    "# derivados[\"recorridos\"][\"df\"]['ndia'] = derivados[\"recorridos\"][\"df\"]['origen_datetime'].dt.strftime('%j').astype(str).astype(int)\n",
    "# derivados[\"recorridos\"][\"df\"]['hora'] = derivados[\"recorridos\"][\"df\"]['hora'].astype(str).astype(int)\n",
    "# derivados[\"recorridos\"][\"df\"]['mins'] = derivados[\"recorridos\"][\"df\"]['origen_datetime'].dt.strftime('%M')"
   ]
  },
  {
   "cell_type": "markdown",
   "metadata": {
    "id": "PXRbCGcqrMoh"
   },
   "source": [
    "## SUBPRODUCTOS / CLUSTERING"
   ]
  },
  {
   "cell_type": "markdown",
   "metadata": {
    "id": "ZD_Rr2o3fSOq"
   },
   "source": [
    "### GRUPING & RESHAIPING\n",
    "#### DEMANDA HORARIA"
   ]
  },
  {
   "cell_type": "code",
   "execution_count": 24,
   "metadata": {},
   "outputs": [
    {
     "data": {
      "text/html": [
       "<div>\n",
       "<style scoped>\n",
       "    .dataframe tbody tr th:only-of-type {\n",
       "        vertical-align: middle;\n",
       "    }\n",
       "\n",
       "    .dataframe tbody tr th {\n",
       "        vertical-align: top;\n",
       "    }\n",
       "\n",
       "    .dataframe thead tr th {\n",
       "        text-align: left;\n",
       "    }\n",
       "\n",
       "    .dataframe thead tr:last-of-type th {\n",
       "        text-align: right;\n",
       "    }\n",
       "</style>\n",
       "<table border=\"1\" class=\"dataframe\">\n",
       "  <thead>\n",
       "    <tr>\n",
       "      <th></th>\n",
       "      <th></th>\n",
       "      <th colspan=\"21\" halign=\"left\">salidas</th>\n",
       "    </tr>\n",
       "    <tr>\n",
       "      <th></th>\n",
       "      <th>fecha</th>\n",
       "      <th>2020-01-01</th>\n",
       "      <th>2020-01-02</th>\n",
       "      <th>2020-01-03</th>\n",
       "      <th>2020-01-04</th>\n",
       "      <th>2020-01-05</th>\n",
       "      <th>2020-01-06</th>\n",
       "      <th>2020-01-07</th>\n",
       "      <th>2020-01-08</th>\n",
       "      <th>2020-01-09</th>\n",
       "      <th>2020-01-10</th>\n",
       "      <th>...</th>\n",
       "      <th>2021-05-24</th>\n",
       "      <th>2021-05-25</th>\n",
       "      <th>2021-05-26</th>\n",
       "      <th>2021-05-27</th>\n",
       "      <th>2021-05-28</th>\n",
       "      <th>2021-05-29</th>\n",
       "      <th>2021-05-30</th>\n",
       "      <th>2021-05-31</th>\n",
       "      <th>2021-06-01</th>\n",
       "      <th>2021-06-02</th>\n",
       "    </tr>\n",
       "    <tr>\n",
       "      <th>origen_nombre</th>\n",
       "      <th>origen_id</th>\n",
       "      <th></th>\n",
       "      <th></th>\n",
       "      <th></th>\n",
       "      <th></th>\n",
       "      <th></th>\n",
       "      <th></th>\n",
       "      <th></th>\n",
       "      <th></th>\n",
       "      <th></th>\n",
       "      <th></th>\n",
       "      <th></th>\n",
       "      <th></th>\n",
       "      <th></th>\n",
       "      <th></th>\n",
       "      <th></th>\n",
       "      <th></th>\n",
       "      <th></th>\n",
       "      <th></th>\n",
       "      <th></th>\n",
       "      <th></th>\n",
       "      <th></th>\n",
       "    </tr>\n",
       "  </thead>\n",
       "  <tbody>\n",
       "    <tr>\n",
       "      <th>FACULTAD DE DERECHO</th>\n",
       "      <th>1</th>\n",
       "      <td>26</td>\n",
       "      <td>34</td>\n",
       "      <td>50</td>\n",
       "      <td>66</td>\n",
       "      <td>41</td>\n",
       "      <td>46</td>\n",
       "      <td>35</td>\n",
       "      <td>54</td>\n",
       "      <td>34</td>\n",
       "      <td>43</td>\n",
       "      <td>...</td>\n",
       "      <td>45</td>\n",
       "      <td>51</td>\n",
       "      <td>57</td>\n",
       "      <td>74</td>\n",
       "      <td>76</td>\n",
       "      <td>41</td>\n",
       "      <td>71</td>\n",
       "      <td>60</td>\n",
       "      <td>34</td>\n",
       "      <td>27</td>\n",
       "    </tr>\n",
       "    <tr>\n",
       "      <th>RETIRO I</th>\n",
       "      <th>2</th>\n",
       "      <td>8</td>\n",
       "      <td>19</td>\n",
       "      <td>23</td>\n",
       "      <td>25</td>\n",
       "      <td>19</td>\n",
       "      <td>22</td>\n",
       "      <td>30</td>\n",
       "      <td>26</td>\n",
       "      <td>14</td>\n",
       "      <td>15</td>\n",
       "      <td>...</td>\n",
       "      <td>5</td>\n",
       "      <td>3</td>\n",
       "      <td>21</td>\n",
       "      <td>16</td>\n",
       "      <td>14</td>\n",
       "      <td>10</td>\n",
       "      <td>8</td>\n",
       "      <td>13</td>\n",
       "      <td>11</td>\n",
       "      <td>7</td>\n",
       "    </tr>\n",
       "    <tr>\n",
       "      <th>ADUANA</th>\n",
       "      <th>3</th>\n",
       "      <td>9</td>\n",
       "      <td>47</td>\n",
       "      <td>54</td>\n",
       "      <td>13</td>\n",
       "      <td>25</td>\n",
       "      <td>59</td>\n",
       "      <td>76</td>\n",
       "      <td>60</td>\n",
       "      <td>45</td>\n",
       "      <td>48</td>\n",
       "      <td>...</td>\n",
       "      <td>4</td>\n",
       "      <td>9</td>\n",
       "      <td>21</td>\n",
       "      <td>18</td>\n",
       "      <td>19</td>\n",
       "      <td>1</td>\n",
       "      <td>6</td>\n",
       "      <td>25</td>\n",
       "      <td>17</td>\n",
       "      <td>22</td>\n",
       "    </tr>\n",
       "    <tr>\n",
       "      <th>PLAZA ROMA</th>\n",
       "      <th>4</th>\n",
       "      <td>5</td>\n",
       "      <td>32</td>\n",
       "      <td>25</td>\n",
       "      <td>4</td>\n",
       "      <td>12</td>\n",
       "      <td>29</td>\n",
       "      <td>58</td>\n",
       "      <td>43</td>\n",
       "      <td>42</td>\n",
       "      <td>45</td>\n",
       "      <td>...</td>\n",
       "      <td>4</td>\n",
       "      <td>9</td>\n",
       "      <td>18</td>\n",
       "      <td>15</td>\n",
       "      <td>15</td>\n",
       "      <td>5</td>\n",
       "      <td>2</td>\n",
       "      <td>20</td>\n",
       "      <td>14</td>\n",
       "      <td>10</td>\n",
       "    </tr>\n",
       "    <tr>\n",
       "      <th>PLAZA ITALIA</th>\n",
       "      <th>5</th>\n",
       "      <td>52</td>\n",
       "      <td>54</td>\n",
       "      <td>77</td>\n",
       "      <td>57</td>\n",
       "      <td>71</td>\n",
       "      <td>67</td>\n",
       "      <td>52</td>\n",
       "      <td>59</td>\n",
       "      <td>40</td>\n",
       "      <td>54</td>\n",
       "      <td>...</td>\n",
       "      <td>40</td>\n",
       "      <td>47</td>\n",
       "      <td>60</td>\n",
       "      <td>83</td>\n",
       "      <td>82</td>\n",
       "      <td>51</td>\n",
       "      <td>52</td>\n",
       "      <td>93</td>\n",
       "      <td>67</td>\n",
       "      <td>46</td>\n",
       "    </tr>\n",
       "    <tr>\n",
       "      <th>...</th>\n",
       "      <th>...</th>\n",
       "      <td>...</td>\n",
       "      <td>...</td>\n",
       "      <td>...</td>\n",
       "      <td>...</td>\n",
       "      <td>...</td>\n",
       "      <td>...</td>\n",
       "      <td>...</td>\n",
       "      <td>...</td>\n",
       "      <td>...</td>\n",
       "      <td>...</td>\n",
       "      <td>...</td>\n",
       "      <td>...</td>\n",
       "      <td>...</td>\n",
       "      <td>...</td>\n",
       "      <td>...</td>\n",
       "      <td>...</td>\n",
       "      <td>...</td>\n",
       "      <td>...</td>\n",
       "      <td>...</td>\n",
       "      <td>...</td>\n",
       "      <td>...</td>\n",
       "    </tr>\n",
       "    <tr>\n",
       "      <th>BARRIO 31</th>\n",
       "      <th>393</th>\n",
       "      <td>10</td>\n",
       "      <td>23</td>\n",
       "      <td>27</td>\n",
       "      <td>22</td>\n",
       "      <td>31</td>\n",
       "      <td>25</td>\n",
       "      <td>39</td>\n",
       "      <td>31</td>\n",
       "      <td>33</td>\n",
       "      <td>28</td>\n",
       "      <td>...</td>\n",
       "      <td>6</td>\n",
       "      <td>1</td>\n",
       "      <td>4</td>\n",
       "      <td>2</td>\n",
       "      <td>8</td>\n",
       "      <td>1</td>\n",
       "      <td>0</td>\n",
       "      <td>3</td>\n",
       "      <td>8</td>\n",
       "      <td>7</td>\n",
       "    </tr>\n",
       "    <tr>\n",
       "      <th>AV. LA PLATA</th>\n",
       "      <th>394</th>\n",
       "      <td>0</td>\n",
       "      <td>0</td>\n",
       "      <td>0</td>\n",
       "      <td>0</td>\n",
       "      <td>0</td>\n",
       "      <td>0</td>\n",
       "      <td>0</td>\n",
       "      <td>0</td>\n",
       "      <td>0</td>\n",
       "      <td>0</td>\n",
       "      <td>...</td>\n",
       "      <td>6</td>\n",
       "      <td>3</td>\n",
       "      <td>11</td>\n",
       "      <td>14</td>\n",
       "      <td>16</td>\n",
       "      <td>2</td>\n",
       "      <td>2</td>\n",
       "      <td>15</td>\n",
       "      <td>10</td>\n",
       "      <td>9</td>\n",
       "    </tr>\n",
       "    <tr>\n",
       "      <th>AGRONOMIA II</th>\n",
       "      <th>395</th>\n",
       "      <td>0</td>\n",
       "      <td>0</td>\n",
       "      <td>0</td>\n",
       "      <td>0</td>\n",
       "      <td>0</td>\n",
       "      <td>0</td>\n",
       "      <td>0</td>\n",
       "      <td>0</td>\n",
       "      <td>0</td>\n",
       "      <td>0</td>\n",
       "      <td>...</td>\n",
       "      <td>9</td>\n",
       "      <td>7</td>\n",
       "      <td>8</td>\n",
       "      <td>7</td>\n",
       "      <td>5</td>\n",
       "      <td>2</td>\n",
       "      <td>10</td>\n",
       "      <td>5</td>\n",
       "      <td>8</td>\n",
       "      <td>8</td>\n",
       "    </tr>\n",
       "    <tr>\n",
       "      <th>PLAZA ALBERTI</th>\n",
       "      <th>396</th>\n",
       "      <td>23</td>\n",
       "      <td>27</td>\n",
       "      <td>43</td>\n",
       "      <td>28</td>\n",
       "      <td>23</td>\n",
       "      <td>27</td>\n",
       "      <td>38</td>\n",
       "      <td>27</td>\n",
       "      <td>32</td>\n",
       "      <td>24</td>\n",
       "      <td>...</td>\n",
       "      <td>26</td>\n",
       "      <td>16</td>\n",
       "      <td>34</td>\n",
       "      <td>29</td>\n",
       "      <td>6</td>\n",
       "      <td>25</td>\n",
       "      <td>33</td>\n",
       "      <td>35</td>\n",
       "      <td>19</td>\n",
       "      <td>5</td>\n",
       "    </tr>\n",
       "    <tr>\n",
       "      <th>GARCIA DEL RIO</th>\n",
       "      <th>399</th>\n",
       "      <td>40</td>\n",
       "      <td>37</td>\n",
       "      <td>46</td>\n",
       "      <td>45</td>\n",
       "      <td>39</td>\n",
       "      <td>47</td>\n",
       "      <td>46</td>\n",
       "      <td>37</td>\n",
       "      <td>36</td>\n",
       "      <td>37</td>\n",
       "      <td>...</td>\n",
       "      <td>47</td>\n",
       "      <td>72</td>\n",
       "      <td>49</td>\n",
       "      <td>59</td>\n",
       "      <td>40</td>\n",
       "      <td>48</td>\n",
       "      <td>53</td>\n",
       "      <td>54</td>\n",
       "      <td>22</td>\n",
       "      <td>36</td>\n",
       "    </tr>\n",
       "  </tbody>\n",
       "</table>\n",
       "<p>236 rows × 469 columns</p>\n",
       "</div>"
      ],
      "text/plain": [
       "                                 salidas                                   \\\n",
       "fecha                         2020-01-01 2020-01-02 2020-01-03 2020-01-04   \n",
       "origen_nombre       origen_id                                               \n",
       "FACULTAD DE DERECHO 1                 26         34         50         66   \n",
       "RETIRO I            2                  8         19         23         25   \n",
       "ADUANA              3                  9         47         54         13   \n",
       "PLAZA ROMA          4                  5         32         25          4   \n",
       "PLAZA ITALIA        5                 52         54         77         57   \n",
       "...                                  ...        ...        ...        ...   \n",
       "BARRIO 31           393               10         23         27         22   \n",
       "AV. LA PLATA        394                0          0          0          0   \n",
       "AGRONOMIA II        395                0          0          0          0   \n",
       "PLAZA ALBERTI       396               23         27         43         28   \n",
       "GARCIA DEL RIO      399               40         37         46         45   \n",
       "\n",
       "                                                                           \\\n",
       "fecha                         2020-01-05 2020-01-06 2020-01-07 2020-01-08   \n",
       "origen_nombre       origen_id                                               \n",
       "FACULTAD DE DERECHO 1                 41         46         35         54   \n",
       "RETIRO I            2                 19         22         30         26   \n",
       "ADUANA              3                 25         59         76         60   \n",
       "PLAZA ROMA          4                 12         29         58         43   \n",
       "PLAZA ITALIA        5                 71         67         52         59   \n",
       "...                                  ...        ...        ...        ...   \n",
       "BARRIO 31           393               31         25         39         31   \n",
       "AV. LA PLATA        394                0          0          0          0   \n",
       "AGRONOMIA II        395                0          0          0          0   \n",
       "PLAZA ALBERTI       396               23         27         38         27   \n",
       "GARCIA DEL RIO      399               39         47         46         37   \n",
       "\n",
       "                                                     ...             \\\n",
       "fecha                         2020-01-09 2020-01-10  ... 2021-05-24   \n",
       "origen_nombre       origen_id                        ...              \n",
       "FACULTAD DE DERECHO 1                 34         43  ...         45   \n",
       "RETIRO I            2                 14         15  ...          5   \n",
       "ADUANA              3                 45         48  ...          4   \n",
       "PLAZA ROMA          4                 42         45  ...          4   \n",
       "PLAZA ITALIA        5                 40         54  ...         40   \n",
       "...                                  ...        ...  ...        ...   \n",
       "BARRIO 31           393               33         28  ...          6   \n",
       "AV. LA PLATA        394                0          0  ...          6   \n",
       "AGRONOMIA II        395                0          0  ...          9   \n",
       "PLAZA ALBERTI       396               32         24  ...         26   \n",
       "GARCIA DEL RIO      399               36         37  ...         47   \n",
       "\n",
       "                                                                           \\\n",
       "fecha                         2021-05-25 2021-05-26 2021-05-27 2021-05-28   \n",
       "origen_nombre       origen_id                                               \n",
       "FACULTAD DE DERECHO 1                 51         57         74         76   \n",
       "RETIRO I            2                  3         21         16         14   \n",
       "ADUANA              3                  9         21         18         19   \n",
       "PLAZA ROMA          4                  9         18         15         15   \n",
       "PLAZA ITALIA        5                 47         60         83         82   \n",
       "...                                  ...        ...        ...        ...   \n",
       "BARRIO 31           393                1          4          2          8   \n",
       "AV. LA PLATA        394                3         11         14         16   \n",
       "AGRONOMIA II        395                7          8          7          5   \n",
       "PLAZA ALBERTI       396               16         34         29          6   \n",
       "GARCIA DEL RIO      399               72         49         59         40   \n",
       "\n",
       "                                                                           \\\n",
       "fecha                         2021-05-29 2021-05-30 2021-05-31 2021-06-01   \n",
       "origen_nombre       origen_id                                               \n",
       "FACULTAD DE DERECHO 1                 41         71         60         34   \n",
       "RETIRO I            2                 10          8         13         11   \n",
       "ADUANA              3                  1          6         25         17   \n",
       "PLAZA ROMA          4                  5          2         20         14   \n",
       "PLAZA ITALIA        5                 51         52         93         67   \n",
       "...                                  ...        ...        ...        ...   \n",
       "BARRIO 31           393                1          0          3          8   \n",
       "AV. LA PLATA        394                2          2         15         10   \n",
       "AGRONOMIA II        395                2         10          5          8   \n",
       "PLAZA ALBERTI       396               25         33         35         19   \n",
       "GARCIA DEL RIO      399               48         53         54         22   \n",
       "\n",
       "                                          \n",
       "fecha                         2021-06-02  \n",
       "origen_nombre       origen_id             \n",
       "FACULTAD DE DERECHO 1                 27  \n",
       "RETIRO I            2                  7  \n",
       "ADUANA              3                 22  \n",
       "PLAZA ROMA          4                 10  \n",
       "PLAZA ITALIA        5                 46  \n",
       "...                                  ...  \n",
       "BARRIO 31           393                7  \n",
       "AV. LA PLATA        394                9  \n",
       "AGRONOMIA II        395                8  \n",
       "PLAZA ALBERTI       396                5  \n",
       "GARCIA DEL RIO      399               36  \n",
       "\n",
       "[236 rows x 469 columns]"
      ]
     },
     "execution_count": 24,
     "metadata": {},
     "output_type": "execute_result"
    }
   ],
   "source": [
    "# del demanda_horaria\n",
    "demanda_diaria = derivados[\"recorridos\"][\"df\"]\n",
    "# Fitro x dia\n",
    "demanda_diaria = demanda_diaria.groupby(\n",
    "    ['origen_nombre', 'origen_id','fecha',]\n",
    ").agg(\n",
    "#   total = ( ['hora','origen_id'],  'count'),\n",
    "  salidas = ( 'fecha',  'count'),\n",
    "  total = ( 'origen_id',  'count'),\n",
    "#   fill_values = 0,\n",
    ")\n",
    "# .reset_index()\n",
    "# df.set_index(['id', 'date', 'location'], append=True)\n",
    "demanda_diaria = demanda_diaria.pivot_table(\n",
    "    index = ['origen_nombre',  'origen_id', ],\n",
    "    columns = [\"fecha\"],\n",
    "    values = [\"salidas\"],\n",
    "    # aggfunc ='sum',\n",
    "    fill_value =0,\n",
    ").sort_values('origen_id')\n",
    "\n",
    "# demanda_horaria = demanda_horaria[demanda_horaria[\"fecha\"] == '2020-01-01' ]\n",
    "\n",
    "# demanda_horaria[\"total\"] = demanda_horaria[\"salidas\"].assign( **{'hora': col.values} )\n",
    "demanda_diaria\n",
    "\n",
    "# # print(demanda_diaria[\"salidas\"])\n",
    "# for dia in demanda_diaria[\"salidas\"].columns.to_list():\n",
    "# #     demandas = demanda_diaria[\"salidas\"][h]\n",
    "#     estaciones = demanda_diaria[\"salidas\"][dia].reset_index()\n",
    "#     for e in estaciones.iterrows():\n",
    "#         estacion = e[1]\n",
    "#         estacion_origen =  estacion['origen_id']\n",
    "#         estacion_salidas =  estacion[h]\n",
    "#         print(h, estacion_origen, estacion_salidas)\n"
   ]
  },
  {
   "cell_type": "code",
   "execution_count": null,
   "metadata": {},
   "outputs": [],
   "source": [
    "## DEMANDA HORARIA"
   ]
  },
  {
   "cell_type": "code",
   "execution_count": 148,
   "metadata": {
    "colab": {
     "base_uri": "https://localhost:8080/",
     "height": 446
    },
    "id": "MprLmGFkfUs-",
    "outputId": "19be913d-d620-4db6-baf0-0a29125a626d",
    "tags": []
   },
   "outputs": [
    {
     "data": {
      "text/html": [
       "<div>\n",
       "<style scoped>\n",
       "    .dataframe tbody tr th:only-of-type {\n",
       "        vertical-align: middle;\n",
       "    }\n",
       "\n",
       "    .dataframe tbody tr th {\n",
       "        vertical-align: top;\n",
       "    }\n",
       "\n",
       "    .dataframe thead tr th {\n",
       "        text-align: left;\n",
       "    }\n",
       "\n",
       "    .dataframe thead tr:last-of-type th {\n",
       "        text-align: right;\n",
       "    }\n",
       "</style>\n",
       "<table border=\"1\" class=\"dataframe\">\n",
       "  <thead>\n",
       "    <tr>\n",
       "      <th></th>\n",
       "      <th></th>\n",
       "      <th colspan=\"21\" halign=\"left\">salidas</th>\n",
       "    </tr>\n",
       "    <tr>\n",
       "      <th></th>\n",
       "      <th>hora</th>\n",
       "      <th>0</th>\n",
       "      <th>1</th>\n",
       "      <th>2</th>\n",
       "      <th>3</th>\n",
       "      <th>4</th>\n",
       "      <th>5</th>\n",
       "      <th>6</th>\n",
       "      <th>7</th>\n",
       "      <th>8</th>\n",
       "      <th>9</th>\n",
       "      <th>...</th>\n",
       "      <th>14</th>\n",
       "      <th>15</th>\n",
       "      <th>16</th>\n",
       "      <th>17</th>\n",
       "      <th>18</th>\n",
       "      <th>19</th>\n",
       "      <th>20</th>\n",
       "      <th>21</th>\n",
       "      <th>22</th>\n",
       "      <th>23</th>\n",
       "    </tr>\n",
       "    <tr>\n",
       "      <th>origen_nombre</th>\n",
       "      <th>origen_id</th>\n",
       "      <th></th>\n",
       "      <th></th>\n",
       "      <th></th>\n",
       "      <th></th>\n",
       "      <th></th>\n",
       "      <th></th>\n",
       "      <th></th>\n",
       "      <th></th>\n",
       "      <th></th>\n",
       "      <th></th>\n",
       "      <th></th>\n",
       "      <th></th>\n",
       "      <th></th>\n",
       "      <th></th>\n",
       "      <th></th>\n",
       "      <th></th>\n",
       "      <th></th>\n",
       "      <th></th>\n",
       "      <th></th>\n",
       "      <th></th>\n",
       "      <th></th>\n",
       "    </tr>\n",
       "  </thead>\n",
       "  <tbody>\n",
       "    <tr>\n",
       "      <th>FACULTAD DE DERECHO</th>\n",
       "      <th>1</th>\n",
       "      <td>395</td>\n",
       "      <td>252</td>\n",
       "      <td>148</td>\n",
       "      <td>102</td>\n",
       "      <td>76</td>\n",
       "      <td>151</td>\n",
       "      <td>440</td>\n",
       "      <td>598</td>\n",
       "      <td>938</td>\n",
       "      <td>904</td>\n",
       "      <td>...</td>\n",
       "      <td>1697</td>\n",
       "      <td>2303</td>\n",
       "      <td>3026</td>\n",
       "      <td>3491</td>\n",
       "      <td>3795</td>\n",
       "      <td>3724</td>\n",
       "      <td>2632</td>\n",
       "      <td>1564</td>\n",
       "      <td>802</td>\n",
       "      <td>519</td>\n",
       "    </tr>\n",
       "    <tr>\n",
       "      <th>RETIRO I</th>\n",
       "      <th>2</th>\n",
       "      <td>72</td>\n",
       "      <td>30</td>\n",
       "      <td>12</td>\n",
       "      <td>6</td>\n",
       "      <td>5</td>\n",
       "      <td>59</td>\n",
       "      <td>120</td>\n",
       "      <td>255</td>\n",
       "      <td>336</td>\n",
       "      <td>440</td>\n",
       "      <td>...</td>\n",
       "      <td>563</td>\n",
       "      <td>596</td>\n",
       "      <td>654</td>\n",
       "      <td>780</td>\n",
       "      <td>843</td>\n",
       "      <td>397</td>\n",
       "      <td>322</td>\n",
       "      <td>271</td>\n",
       "      <td>153</td>\n",
       "      <td>82</td>\n",
       "    </tr>\n",
       "    <tr>\n",
       "      <th>ADUANA</th>\n",
       "      <th>3</th>\n",
       "      <td>99</td>\n",
       "      <td>84</td>\n",
       "      <td>44</td>\n",
       "      <td>20</td>\n",
       "      <td>25</td>\n",
       "      <td>167</td>\n",
       "      <td>204</td>\n",
       "      <td>509</td>\n",
       "      <td>614</td>\n",
       "      <td>601</td>\n",
       "      <td>...</td>\n",
       "      <td>848</td>\n",
       "      <td>907</td>\n",
       "      <td>844</td>\n",
       "      <td>685</td>\n",
       "      <td>530</td>\n",
       "      <td>367</td>\n",
       "      <td>260</td>\n",
       "      <td>197</td>\n",
       "      <td>141</td>\n",
       "      <td>147</td>\n",
       "    </tr>\n",
       "    <tr>\n",
       "      <th>PLAZA ROMA</th>\n",
       "      <th>4</th>\n",
       "      <td>79</td>\n",
       "      <td>41</td>\n",
       "      <td>29</td>\n",
       "      <td>21</td>\n",
       "      <td>13</td>\n",
       "      <td>67</td>\n",
       "      <td>160</td>\n",
       "      <td>238</td>\n",
       "      <td>363</td>\n",
       "      <td>433</td>\n",
       "      <td>...</td>\n",
       "      <td>407</td>\n",
       "      <td>528</td>\n",
       "      <td>625</td>\n",
       "      <td>703</td>\n",
       "      <td>511</td>\n",
       "      <td>350</td>\n",
       "      <td>201</td>\n",
       "      <td>131</td>\n",
       "      <td>125</td>\n",
       "      <td>93</td>\n",
       "    </tr>\n",
       "    <tr>\n",
       "      <th>PLAZA ITALIA</th>\n",
       "      <th>5</th>\n",
       "      <td>655</td>\n",
       "      <td>533</td>\n",
       "      <td>408</td>\n",
       "      <td>231</td>\n",
       "      <td>129</td>\n",
       "      <td>337</td>\n",
       "      <td>376</td>\n",
       "      <td>807</td>\n",
       "      <td>1197</td>\n",
       "      <td>1044</td>\n",
       "      <td>...</td>\n",
       "      <td>1917</td>\n",
       "      <td>2299</td>\n",
       "      <td>2695</td>\n",
       "      <td>3017</td>\n",
       "      <td>3124</td>\n",
       "      <td>2598</td>\n",
       "      <td>2226</td>\n",
       "      <td>1316</td>\n",
       "      <td>932</td>\n",
       "      <td>767</td>\n",
       "    </tr>\n",
       "    <tr>\n",
       "      <th>...</th>\n",
       "      <th>...</th>\n",
       "      <td>...</td>\n",
       "      <td>...</td>\n",
       "      <td>...</td>\n",
       "      <td>...</td>\n",
       "      <td>...</td>\n",
       "      <td>...</td>\n",
       "      <td>...</td>\n",
       "      <td>...</td>\n",
       "      <td>...</td>\n",
       "      <td>...</td>\n",
       "      <td>...</td>\n",
       "      <td>...</td>\n",
       "      <td>...</td>\n",
       "      <td>...</td>\n",
       "      <td>...</td>\n",
       "      <td>...</td>\n",
       "      <td>...</td>\n",
       "      <td>...</td>\n",
       "      <td>...</td>\n",
       "      <td>...</td>\n",
       "      <td>...</td>\n",
       "    </tr>\n",
       "    <tr>\n",
       "      <th>BARRIO 31</th>\n",
       "      <th>393</th>\n",
       "      <td>93</td>\n",
       "      <td>63</td>\n",
       "      <td>27</td>\n",
       "      <td>14</td>\n",
       "      <td>37</td>\n",
       "      <td>466</td>\n",
       "      <td>460</td>\n",
       "      <td>257</td>\n",
       "      <td>494</td>\n",
       "      <td>246</td>\n",
       "      <td>...</td>\n",
       "      <td>342</td>\n",
       "      <td>449</td>\n",
       "      <td>515</td>\n",
       "      <td>647</td>\n",
       "      <td>532</td>\n",
       "      <td>308</td>\n",
       "      <td>238</td>\n",
       "      <td>190</td>\n",
       "      <td>161</td>\n",
       "      <td>111</td>\n",
       "    </tr>\n",
       "    <tr>\n",
       "      <th>AV. LA PLATA</th>\n",
       "      <th>394</th>\n",
       "      <td>1</td>\n",
       "      <td>2</td>\n",
       "      <td>0</td>\n",
       "      <td>1</td>\n",
       "      <td>0</td>\n",
       "      <td>6</td>\n",
       "      <td>13</td>\n",
       "      <td>41</td>\n",
       "      <td>22</td>\n",
       "      <td>12</td>\n",
       "      <td>...</td>\n",
       "      <td>37</td>\n",
       "      <td>65</td>\n",
       "      <td>77</td>\n",
       "      <td>95</td>\n",
       "      <td>71</td>\n",
       "      <td>43</td>\n",
       "      <td>40</td>\n",
       "      <td>19</td>\n",
       "      <td>11</td>\n",
       "      <td>13</td>\n",
       "    </tr>\n",
       "    <tr>\n",
       "      <th>AGRONOMIA II</th>\n",
       "      <th>395</th>\n",
       "      <td>7</td>\n",
       "      <td>5</td>\n",
       "      <td>3</td>\n",
       "      <td>3</td>\n",
       "      <td>0</td>\n",
       "      <td>10</td>\n",
       "      <td>0</td>\n",
       "      <td>7</td>\n",
       "      <td>14</td>\n",
       "      <td>43</td>\n",
       "      <td>...</td>\n",
       "      <td>28</td>\n",
       "      <td>59</td>\n",
       "      <td>74</td>\n",
       "      <td>63</td>\n",
       "      <td>64</td>\n",
       "      <td>49</td>\n",
       "      <td>22</td>\n",
       "      <td>29</td>\n",
       "      <td>10</td>\n",
       "      <td>6</td>\n",
       "    </tr>\n",
       "    <tr>\n",
       "      <th>PLAZA ALBERTI</th>\n",
       "      <th>396</th>\n",
       "      <td>384</td>\n",
       "      <td>323</td>\n",
       "      <td>165</td>\n",
       "      <td>91</td>\n",
       "      <td>50</td>\n",
       "      <td>84</td>\n",
       "      <td>250</td>\n",
       "      <td>384</td>\n",
       "      <td>685</td>\n",
       "      <td>838</td>\n",
       "      <td>...</td>\n",
       "      <td>1168</td>\n",
       "      <td>1435</td>\n",
       "      <td>1527</td>\n",
       "      <td>1777</td>\n",
       "      <td>1940</td>\n",
       "      <td>1623</td>\n",
       "      <td>1380</td>\n",
       "      <td>970</td>\n",
       "      <td>638</td>\n",
       "      <td>560</td>\n",
       "    </tr>\n",
       "    <tr>\n",
       "      <th>GARCIA DEL RIO</th>\n",
       "      <th>399</th>\n",
       "      <td>534</td>\n",
       "      <td>323</td>\n",
       "      <td>208</td>\n",
       "      <td>160</td>\n",
       "      <td>89</td>\n",
       "      <td>99</td>\n",
       "      <td>193</td>\n",
       "      <td>396</td>\n",
       "      <td>820</td>\n",
       "      <td>1037</td>\n",
       "      <td>...</td>\n",
       "      <td>1361</td>\n",
       "      <td>1825</td>\n",
       "      <td>2234</td>\n",
       "      <td>2541</td>\n",
       "      <td>2897</td>\n",
       "      <td>2741</td>\n",
       "      <td>2403</td>\n",
       "      <td>1640</td>\n",
       "      <td>942</td>\n",
       "      <td>714</td>\n",
       "    </tr>\n",
       "  </tbody>\n",
       "</table>\n",
       "<p>236 rows × 24 columns</p>\n",
       "</div>"
      ],
      "text/plain": [
       "                              salidas                                     \\\n",
       "hora                               0    1    2    3    4    5    6    7    \n",
       "origen_nombre       origen_id                                              \n",
       "FACULTAD DE DERECHO 1             395  252  148  102   76  151  440  598   \n",
       "RETIRO I            2              72   30   12    6    5   59  120  255   \n",
       "ADUANA              3              99   84   44   20   25  167  204  509   \n",
       "PLAZA ROMA          4              79   41   29   21   13   67  160  238   \n",
       "PLAZA ITALIA        5             655  533  408  231  129  337  376  807   \n",
       "...                               ...  ...  ...  ...  ...  ...  ...  ...   \n",
       "BARRIO 31           393            93   63   27   14   37  466  460  257   \n",
       "AV. LA PLATA        394             1    2    0    1    0    6   13   41   \n",
       "AGRONOMIA II        395             7    5    3    3    0   10    0    7   \n",
       "PLAZA ALBERTI       396           384  323  165   91   50   84  250  384   \n",
       "GARCIA DEL RIO      399           534  323  208  160   89   99  193  396   \n",
       "\n",
       "                                           ...                                \\\n",
       "hora                             8     9   ...    14    15    16    17    18   \n",
       "origen_nombre       origen_id              ...                                 \n",
       "FACULTAD DE DERECHO 1           938   904  ...  1697  2303  3026  3491  3795   \n",
       "RETIRO I            2           336   440  ...   563   596   654   780   843   \n",
       "ADUANA              3           614   601  ...   848   907   844   685   530   \n",
       "PLAZA ROMA          4           363   433  ...   407   528   625   703   511   \n",
       "PLAZA ITALIA        5          1197  1044  ...  1917  2299  2695  3017  3124   \n",
       "...                             ...   ...  ...   ...   ...   ...   ...   ...   \n",
       "BARRIO 31           393         494   246  ...   342   449   515   647   532   \n",
       "AV. LA PLATA        394          22    12  ...    37    65    77    95    71   \n",
       "AGRONOMIA II        395          14    43  ...    28    59    74    63    64   \n",
       "PLAZA ALBERTI       396         685   838  ...  1168  1435  1527  1777  1940   \n",
       "GARCIA DEL RIO      399         820  1037  ...  1361  1825  2234  2541  2897   \n",
       "\n",
       "                                                           \n",
       "hora                             19    20    21   22   23  \n",
       "origen_nombre       origen_id                              \n",
       "FACULTAD DE DERECHO 1          3724  2632  1564  802  519  \n",
       "RETIRO I            2           397   322   271  153   82  \n",
       "ADUANA              3           367   260   197  141  147  \n",
       "PLAZA ROMA          4           350   201   131  125   93  \n",
       "PLAZA ITALIA        5          2598  2226  1316  932  767  \n",
       "...                             ...   ...   ...  ...  ...  \n",
       "BARRIO 31           393         308   238   190  161  111  \n",
       "AV. LA PLATA        394          43    40    19   11   13  \n",
       "AGRONOMIA II        395          49    22    29   10    6  \n",
       "PLAZA ALBERTI       396        1623  1380   970  638  560  \n",
       "GARCIA DEL RIO      399        2741  2403  1640  942  714  \n",
       "\n",
       "[236 rows x 24 columns]"
      ]
     },
     "execution_count": 148,
     "metadata": {},
     "output_type": "execute_result"
    }
   ],
   "source": [
    "# https://pandas.pydata.org/docs/user_guide/reshaping.html\n",
    "# demanda_horaria.pivot( index = \"origen_id\", columns=\"hora\", values=\"salidas\")\n",
    "# demanda_horaria.stack()\n",
    "# https://stackoverflow.com/questions/28651079/pandas-unstack-problems-valueerror-index-contains-duplicate-entries-cannot-re\n",
    "# https://www.shanelynn.ie/summarising-aggregation-and-grouping-data-in-python-pandas/\n",
    "# del demanda_horaria\n",
    "demanda_horaria = derivados[\"recorridos\"][\"df\"]\n",
    "# Fitro x dia\n",
    "# demanda_horaria = demanda_horaria[demanda_horaria[\"fecha\"] == '2020-01-01' ]\n",
    "demanda_horaria = demanda_horaria.groupby(\n",
    "    ['origen_nombre', 'origen_id','hora',]\n",
    ").agg(\n",
    "#   total = ( ['hora','origen_id'],  'count'),\n",
    "  salidas = ( 'hora',  'count'),\n",
    "  total = ( 'origen_id',  'count'),\n",
    "#   fill_values = 0,\n",
    ")\n",
    "# .reset_index()\n",
    "# df.set_index(['id', 'date', 'location'], append=True)\n",
    "demanda_horaria = demanda_horaria.pivot_table(\n",
    "    index = ['origen_nombre',  'origen_id', ],\n",
    "    columns = [\"hora\"],\n",
    "    values = [\"salidas\"],\n",
    "    # aggfunc ='sum',\n",
    "    fill_value =0,\n",
    ").sort_values('origen_id')\n",
    "\n",
    "# demanda_horaria[\"total\"] = demanda_horaria[\"salidas\"].assign( **{'hora': col.values} )\n",
    "demanda_horaria\n",
    "\n",
    "# # print(demanda_horaria[\"salidas\"])\n",
    "# for h in demanda_horaria[\"salidas\"].columns.to_list():\n",
    "# #     demandas = demanda_horaria[\"salidas\"][h]\n",
    "#     estaciones = demanda_horaria[\"salidas\"][h].reset_index()\n",
    "#     for e in estaciones.iterrows():\n",
    "#         estacion = e[1]\n",
    "#         estacion_origen =  estacion['origen_id']\n",
    "#         estacion_salidas =  estacion[h]\n",
    "#         print(h, estacion_origen, estacion_salidas)\n",
    "# # demanda_horaria\n",
    "# for h in demanda_horaria.columns.to_list():\n",
    "#     demandas = demanda_viz[h]\n",
    "#     estaciones = demanda_viz[h].reset_index()\n",
    "#     for e in estaciones.iterrows():\n",
    "#         estacion = e[1]\n",
    "#         print(h, estacion)\n",
    "    "
   ]
  },
  {
   "cell_type": "code",
   "execution_count": null,
   "metadata": {},
   "outputs": [],
   "source": [
    "# https://www.shanelynn.ie/summarising-aggregation-and-grouping-data-in-python-pandas/\n",
    "# TOTAL HORARIO\n",
    "# del demanda_horaria\n",
    "# demanda_horaria = derivados[\"recorridos\"][\"df\"]\n",
    "# # Fitro x dia\n",
    "# # demanda_horaria = demanda_horaria[demanda_horaria[\"fecha\"] == '2020-01-01' ]\n",
    "# demanda_horaria = demanda_horaria.groupby(\n",
    "#     ['origen_nombre', 'origen_id','hora',]\n",
    "# ).agg(\n",
    "# #   total = ( ['hora','origen_id'],  'count'),\n",
    "#   salidas = ( 'hora',  'count'),\n",
    "#   total = ( 'origen_id',  'count'),\n",
    "# #   fill_values = 0,\n",
    "# )\n",
    "# # .reset_index()\n",
    "# # df.set_index(['id', 'date', 'location'], append=True)\n",
    "# demanda_horaria = demanda_horaria.pivot_table(\n",
    "#     index = ['origen_nombre',  'origen_id', \"total\"],\n",
    "#     columns = [\"hora\" ],\n",
    "#     values = [\"salidas\",\"total\"],\n",
    "#     # aggfunc ='sum',\n",
    "#     fill_value =0,\n",
    "# ).sort_values('origen_id')\n",
    "# demanda_horaria"
   ]
  },
  {
   "cell_type": "markdown",
   "metadata": {
    "id": "oFfRBwAIpg4e"
   },
   "source": [
    "### SUMINISTRO HORARIO\n",
    "\n",
    "\n"
   ]
  },
  {
   "cell_type": "code",
   "execution_count": null,
   "metadata": {
    "colab": {
     "base_uri": "https://localhost:8080/",
     "height": 446
    },
    "id": "t0zYsoelyIJg",
    "outputId": "9323b828-22f9-43a1-fb03-36b4f012008c"
   },
   "outputs": [],
   "source": [
    "suministro_horario = derivados[\"recorridos\"][\"df\"].groupby(\n",
    "    [ 'destino_nombre',  'destino_id', 'hora' ]\n",
    ").agg(\n",
    "  salidas = ( 'hora',  'count'),\n",
    ")\n",
    "suministro_horario = suministro_horario.pivot_table(\n",
    "    index = ['destino_nombre',  'destino_id'],\n",
    "    columns = \"hora\",\n",
    "    values = \"salidas\",\n",
    "    # aggfunc = 'sum',\n",
    ").sort_values('destino_id')\n",
    "suministro_horario"
   ]
  },
  {
   "cell_type": "code",
   "execution_count": null,
   "metadata": {
    "colab": {
     "base_uri": "https://localhost:8080/",
     "height": 446
    },
    "id": "r8yYxehTcBiP",
    "outputId": "5d67ac19-0201-4d2b-e423-443a013e9e85"
   },
   "outputs": [],
   "source": [
    "demanda_diaria = derivados[\"recorridos\"][\"df\"].groupby(\n",
    "    ['origen_nombre', 'origen_id','wdia']\n",
    ").agg(\n",
    "  salidas = ( 'wdia',  'count'),\n",
    ")\n",
    "demanda_diaria = demanda_diaria.pivot_table(\n",
    "    index   = ['origen_nombre',  'origen_id'],\n",
    "    columns = \"wdia\",\n",
    "    values  = \"salidas\",\n",
    "    # aggfunc = 'count',\n",
    ").sort_values('origen_id')\n",
    "demanda_diaria "
   ]
  },
  {
   "cell_type": "markdown",
   "metadata": {
    "id": "0Q07iII4RxBu"
   },
   "source": [
    "## SALIDAS Y ARRIBOS"
   ]
  },
  {
   "cell_type": "code",
   "execution_count": 20,
   "metadata": {
    "colab": {
     "base_uri": "https://localhost:8080/",
     "height": 416
    },
    "id": "JHnCDfc_RkJZ",
    "outputId": "84d1e33c-c429-4687-f047-3e5b81e4022c"
   },
   "outputs": [],
   "source": [
    "# # derivados[\"estaciones\"][\"df\"]\n",
    "# derivados[\"estaciones\"][\"df\"] = pd.merge(\n",
    "#     left     = derivados[\"estaciones\"][\"df\"],\n",
    "#     right    = insumos[\"estaciones\"][\"df\"],\n",
    "#     how      = 'right', \n",
    "#     left_on  = ['id'], \n",
    "#     right_on = ['codigo']\n",
    "# )"
   ]
  },
  {
   "cell_type": "code",
   "execution_count": null,
   "metadata": {
    "colab": {
     "base_uri": "https://localhost:8080/",
     "height": 416
    },
    "id": "JHnCDfc_RkJZ",
    "outputId": "84d1e33c-c429-4687-f047-3e5b81e4022c"
   },
   "outputs": [],
   "source": [
    "# # orden_filtro = {\n",
    "# #       'codigo' : 'id'\n",
    "# #       'direccion' : 'direccion',\n",
    "#         'nombre_y'\n",
    "# # }\n",
    "# # derivados[\"estaciones\"][\"df\"] = derivados[\"estaciones\"][\"df\"].rename( columns = orden_filtro )\n",
    "# # derivados[\"estaciones\"][\"df\"] = derivados[\"estaciones\"][\"df\"][ list( orden_filtro.values() ) ]\n",
    "# derivados[\"estaciones\"][\"df\"].columns.tolist()"
   ]
  },
  {
   "cell_type": "code",
   "execution_count": null,
   "metadata": {
    "id": "8jvFtyDDRHww"
   },
   "outputs": [],
   "source": []
  },
  {
   "cell_type": "markdown",
   "metadata": {
    "id": "J8WAVsJAm2ub"
   },
   "source": [
    "## FEATURE DISCOVERY"
   ]
  },
  {
   "cell_type": "markdown",
   "metadata": {
    "id": "8TbEK5qsV17u"
   },
   "source": [
    "### duracion_cat (catergories)"
   ]
  },
  {
   "cell_type": "code",
   "execution_count": null,
   "metadata": {
    "colab": {
     "base_uri": "https://localhost:8080/"
    },
    "id": "4EE5UvUllIvd",
    "outputId": "f692e955-6e92-407a-cadc-da131063ec79"
   },
   "outputs": [],
   "source": [
    "# DURACION EN MINUTOS \n",
    "derivados[\"recorridos\"][\"df\"].eval('duracion_mins = duracion / 60', inplace = True)\n",
    "derivados[\"recorridos\"][\"df\"][\"duracion_mins\"] = derivados[\"recorridos\"][\"df\"][\"duracion_mins\"].astype(int)\n",
    "# MINUTOS TO CATEGORIES\n",
    "# labels = [ \"{0}-{1}\".format(i, i + 15) for i in range(0, 265, 15) ]\n",
    "dur_cortes    = [ 0,     5,   15,  30,    45,  60,   90,  120,  240, 320, 60000 ]\n",
    "dur_etiquetas = [ 'XXS', 'XS', 'S', 'SM', 'M', 'ML', 'L', 'XL', 'XXL', 'OS' ]\n",
    "derivados[\"recorridos\"][\"df\"][\"duracion_cat\"] = pd.cut( \n",
    "    derivados[\"recorridos\"][\"df\"].duracion_mins,\n",
    "    dur_cortes,\n",
    "    include_lowest = True,\n",
    "    labels = dur_etiquetas\n",
    "   # right = False,\n",
    ")\n",
    "derivados[\"recorridos\"][\"df\"]['duracion_cat'].unique()"
   ]
  },
  {
   "cell_type": "code",
   "execution_count": null,
   "metadata": {
    "id": "mwM7Bej5POOO"
   },
   "outputs": [],
   "source": [
    "# derivados[\"recorridos\"][\"df\"][derivados[\"recorridos\"][\"df\"]['duracion_cat'] == 'M' ]"
   ]
  },
  {
   "cell_type": "markdown",
   "metadata": {
    "id": "etzsFLhCU2vI"
   },
   "source": [
    "### TIPO DE RECORRIDO: VUELTA / IDA"
   ]
  },
  {
   "cell_type": "code",
   "execution_count": null,
   "metadata": {
    "id": "8vlkg9hmR8kJ"
   },
   "outputs": [],
   "source": [
    "derivados[\"recorridos\"][\"df\"]['vuelta'] = np.where( \n",
    "  derivados[\"recorridos\"][\"df\"]['origen_id'] == derivados[\"recorridos\"][\"df\"]['destino_id'], 1, 0\n",
    ")"
   ]
  },
  {
   "cell_type": "code",
   "execution_count": null,
   "metadata": {
    "colab": {
     "base_uri": "https://localhost:8080/",
     "height": 678
    },
    "id": "Kfyhx1XwgI06",
    "outputId": "4c236cfc-6e8b-4977-beff-1aae97ce6f1e"
   },
   "outputs": [],
   "source": [
    "# FILTRAR VUELTAs y duracion_cat\n",
    "vueltas = derivados[\"recorridos\"][\"df\"][ derivados[\"recorridos\"][\"df\"]['vuelta'] == 1]\n",
    "vueltas[ vueltas['duracion_cat'] == 'OS'  ].sort_values(\"duracion_mins\", ascending = False)\n"
   ]
  },
  {
   "cell_type": "markdown",
   "metadata": {
    "id": "T3yUhuXZtjRi"
   },
   "source": [
    "### DISTANCIAS\n"
   ]
  },
  {
   "cell_type": "code",
   "execution_count": null,
   "metadata": {
    "colab": {
     "base_uri": "https://localhost:8080/"
    },
    "id": "EeP-4Q71nDJC",
    "outputId": "e56103b8-9b06-4cc0-9917-1ed45ab8537c"
   },
   "outputs": [],
   "source": [
    "# !pip install openrouteservice"
   ]
  },
  {
   "cell_type": "code",
   "execution_count": null,
   "metadata": {
    "colab": {
     "base_uri": "https://localhost:8080/"
    },
    "id": "YFfn3c94YNmU",
    "outputId": "380add7f-1121-4ce7-9ff0-9fa37def2388"
   },
   "outputs": [],
   "source": [
    "estaciones = [ x for x in derivados[\"estaciones\"][\"df\"].set_index('id').sort_values('id').iterrows() ]\n",
    "rutas = {}\n",
    "nid = 0\n",
    "for o in estaciones:\n",
    "    origen_id = int(o[0])\n",
    "    # https://ask.openrouteservice.org/t/could-not-find-point-within-a-radius-of-350-0-meters/2668/16\n",
    "    origen_coords = ( o[1]['lon'], o[1]['lat'] ) # ORS takes lon,lat \n",
    "    for d in estaciones:\n",
    "        destino_id = int(d[0])\n",
    "        destino_coords = ( d[1]['lon'], d[1]['lat'] ) # ibidem\n",
    "        ruta_id = str( origen_id ) + 'to' + str( destino_id )\n",
    "        vuelta_id = str( destino_id) + 'to' + str( origen_id )\n",
    "        ruta = {\n",
    "          \"id\" : ruta_id,\n",
    "          \"nid\" : nid,\n",
    "          \"origen_id\": origen_id,\n",
    "          \"destino_id\": destino_id,\n",
    "          \"coords\" : ( origen_coords, destino_coords ),\n",
    "          \"distancia\" : 0,\n",
    "          \"duracion_estimada\" : 0,\n",
    "          \"consultar\" : ( origen_id != destino_id ),\n",
    "          \"complemetaria\" : vuelta_id,\n",
    "          \"preexiste\" : (ruta_id in rutas or vuelta_id in rutas),\n",
    "        }\n",
    "    nid+=1\n",
    "    rutas[ruta_id] = ruta\n",
    "print( 'rutas:', len( rutas ) )\n",
    "\n",
    "# del rutas_calcular\n",
    "rutas_calcular = {}\n",
    "chunk = 0\n",
    "cuenta_rutas = 0\n",
    "for r in rutas:\n",
    "    ruta = rutas[r]\n",
    "    if ruta['consultar'] and not ruta[\"preexiste\"]:\n",
    "        if( (cuenta_rutas % 2000) == 0 ): # due to ors dayly cuota\n",
    "            chunk = chunk + 1  \n",
    "        ruta[\"chunk\"] = chunk\n",
    "        rutas_calcular[r] = ruta\n",
    "        cuenta_rutas = cuenta_rutas + 1\n",
    "print( 'rutas a calular:', len( rutas_calcular ) )\n",
    "\n"
   ]
  },
  {
   "cell_type": "code",
   "execution_count": null,
   "metadata": {
    "colab": {
     "base_uri": "https://localhost:8080/",
     "height": 377
    },
    "id": "Svxnc7cQlUud",
    "outputId": "4c101fb7-a150-4143-8d91-c929f2c2325c"
   },
   "outputs": [],
   "source": [
    "from time import sleep\n",
    "import openrouteservice as ors\n",
    "\n",
    "ors_client = ors.Client(\n",
    "    key = '5b3ce3597851110001cf624827a63bd0239f438caa1f7504352a9fc8'\n",
    ") \n",
    "# del rutas_calculadas\n",
    "rutas_calculadas = pd.DataFrame()\n",
    "cuenta_calculadas = 1\n",
    "for rc in rutas_calcular:\n",
    "    ruta = rutas[rc]\n",
    "    if ruta['chunk'] == 1: # CAMBIAR MAÑANA\n",
    "        if ( ( cuenta_calculadas % 40) == 0): # due to ors minute cuota\n",
    "            print( 'durmiendo', cuenta_calculadas )\n",
    "            print( 'rutas calculadas:', rutas_calculadas.size )\n",
    "            rutas_calculadas\n",
    "            sleep(60)\n",
    "        ruta['directions'] = ors_client.directions(\n",
    "          ruta['coords'],\n",
    "          profile = 'cycling-regular',\n",
    "        )\n",
    "        cuenta_calculadas = cuenta_calculadas + 1\n",
    "        rutas_calculadas = rutas_calculadas.append(\n",
    "           ruta,\n",
    "           ignore_index = True\n",
    "        )\n",
    "print( 'rutas calculadas:', rutas_calculadas.size )\n",
    "# rutas_df = pd.concat(  [ insumos[\"rutas\"][\"df\"] , rutas_df ] )\n",
    "\n",
    "rutas_calculadas.to_csv(\n",
    "  datadir + 'rutas.csv',\n",
    "  index = False,\n",
    ")\n",
    "# rutas_df.reset_index()"
   ]
  },
  {
   "cell_type": "code",
   "execution_count": null,
   "metadata": {
    "colab": {
     "base_uri": "https://localhost:8080/",
     "height": 32
    },
    "id": "3KIdyq0emDyb",
    "outputId": "24af82ae-b0e7-4017-a8de-f7f2919721de"
   },
   "outputs": [],
   "source": [
    "rutas_calculadas"
   ]
  },
  {
   "cell_type": "code",
   "execution_count": null,
   "metadata": {
    "id": "M2NOYVXfmp7t"
   },
   "outputs": [],
   "source": [
    "rutas_df = pd.read_csv(\n",
    "  datadir + 'rutas.csv',\n",
    ")\n",
    "rutas_df"
   ]
  },
  {
   "cell_type": "code",
   "execution_count": null,
   "metadata": {
    "id": "YIkEOs4vhZdS"
   },
   "outputs": [],
   "source": [
    "# GEOPY\n",
    "\n",
    "# import geopy\n",
    "\n",
    "# # DF DISTANCIAS\n",
    "# distancias = pd.DataFrame()\n",
    "# estaciones = [ x for x in derivados[\"estaciones\"][\"df\"].set_index('id').sort_values('id').iterrows() ]\n",
    "# for o in estaciones:\n",
    "#   print(cuenta_calls)\n",
    "#   origen_id = int( o[0] )\n",
    "#   origen_geocoords = ( o[1]['lat'], o[1]['lon'] )\n",
    "#   # distancias[origen_id] = {}\n",
    "#   for d in estaciones:\n",
    "#     destino_id = int( d[0] )\n",
    "#     destino_geocoords = ( d[1]['lat'], d[1]['lon'] ) \n",
    "#     fila = {\n",
    "#       \"id\"  : str(origen_id) + 'to' + str(destino_id),\n",
    "#       \"origen_id\": origen_id,\n",
    "#       \"destino_id\": destino_id,\n",
    "#       \"distancia\" : 0,\n",
    "#     }\n",
    "#     if (\n",
    "#         destino_id != origen_id\n",
    "#     ): \n",
    "#       geocoords = ( origen_coords, destino_coords )\n",
    "#       distancia = round( \n",
    "#         geopy.distance.vincenty( origen_geocoords, destino_geocoords ).km, \n",
    "#         2\n",
    "#       ) \n",
    "#       fila[\"distancia\"] = distancia\n",
    "#     distancias = distancias.append( fila, ignore_index = True )\n",
    "# distancias['origen_id'] = distancias['origen_id'].astype(int)\n",
    "# distancias\n",
    "# distancias.to_csv(\n",
    "#   datadir + 'distancias.csv',\n",
    "#   index = False,\n",
    "# )"
   ]
  },
  {
   "cell_type": "code",
   "execution_count": null,
   "metadata": {
    "colab": {
     "background_save": true
    },
    "id": "eJN26yprEinQ",
    "outputId": "d8bd236b-b3d9-4de4-91fd-d172ae35c37a"
   },
   "outputs": [],
   "source": [
    "distancias"
   ]
  },
  {
   "cell_type": "markdown",
   "metadata": {
    "id": "9qGLZBMUEVX7"
   },
   "source": [
    "### Data aligment / Pairing"
   ]
  },
  {
   "cell_type": "code",
   "execution_count": null,
   "metadata": {
    "id": "c3IKg3fML-j2"
   },
   "outputs": [],
   "source": [
    "# derivados[\"recorridos\"][\"df\"][\"distancia\"] = 0\n",
    "derivados[\"recorridos\"][\"df\"] = pd.merge(\n",
    "    left     = derivados[\"recorridos\"][\"df\"],\n",
    "    right    = distancias,\n",
    "    how      = 'left', \n",
    "    left_on  = ['origen_id','destino_id'], \n",
    "    right_on = ['origen_id','destino_id']\n",
    ")"
   ]
  },
  {
   "cell_type": "code",
   "execution_count": null,
   "metadata": {
    "colab": {
     "base_uri": "https://localhost:8080/"
    },
    "id": "rB0uzxlyIQ07",
    "outputId": "1884e070-1d38-4d30-b574-673e63e0c937"
   },
   "outputs": [],
   "source": [
    "derivados[\"recorridos\"][\"df\"][\"distancia\"].max()"
   ]
  },
  {
   "cell_type": "code",
   "execution_count": null,
   "metadata": {
    "colab": {
     "base_uri": "https://localhost:8080/"
    },
    "id": "jtq9THlZOR0p",
    "outputId": "3fe3c205-380b-4966-ce96-d15aa6ef0a80"
   },
   "outputs": [],
   "source": [
    "# derivados[\"recorridos\"][\"df\"][\"distnacia\"].unique()\n",
    "dis_cortes    = [ 0,    2,   4,    6,   8,    10,   12,  14 ]\n",
    "dis_etiquetas = [ 'XS', 'S', 'SM', 'M', 'ML', 'L', 'XL']\n",
    "derivados[\"recorridos\"][\"df\"][\"distancia_cat\"] = pd.cut( \n",
    "    derivados[\"recorridos\"][\"df\"].distancia,\n",
    "    dis_cortes,\n",
    "    # include_lowest = True,\n",
    "    labels = dis_etiquetas,\n",
    "    ordered = True,\n",
    "   # right = False,\n",
    ")\n",
    "derivados[\"recorridos\"][\"df\"]['distancia_cat'].unique()"
   ]
  },
  {
   "cell_type": "code",
   "execution_count": null,
   "metadata": {
    "colab": {
     "base_uri": "https://localhost:8080/",
     "height": 416
    },
    "id": "KjTSEytElUHU",
    "outputId": "34130ae4-4c6e-4860-98ce-eadb35e3fa2f"
   },
   "outputs": [],
   "source": [
    "derivados[\"recorridos\"][\"df\"][derivados[\"recorridos\"][\"df\"][\"vuelta\"] == 0 ]"
   ]
  },
  {
   "cell_type": "markdown",
   "metadata": {
    "id": "YTtJbfbtTbiy"
   },
   "source": [
    "### VELOCIDAD"
   ]
  },
  {
   "cell_type": "code",
   "execution_count": null,
   "metadata": {
    "colab": {
     "base_uri": "https://localhost:8080/",
     "height": 661
    },
    "id": "EIWWWhMQBZca",
    "outputId": "0bee6228-7eaf-4328-ad22-8a99ffb8e56e"
   },
   "outputs": [],
   "source": [
    "derivados[\"recorridos\"][\"df\"].eval( 'velocidad_kmm = distancia / duracion_mins', inplace = True )\n",
    "derivados[\"recorridos\"][\"df\"][ derivados[\"recorridos\"][\"df\"][\"distancia_cat\"] == \"XL\" ]"
   ]
  },
  {
   "cell_type": "code",
   "execution_count": null,
   "metadata": {
    "colab": {
     "base_uri": "https://localhost:8080/"
    },
    "id": "iGQnEneBZiaH",
    "outputId": "2ef087e2-2148-41e7-beae-fd6f05f54e10"
   },
   "outputs": [],
   "source": [
    "column = derivados[\"recorridos\"][\"df\"][ derivados[\"recorridos\"][\"df\"]['velocidad_kmm'] != np.inf ][\"velocidad_kmm\"].dropna()\n",
    "max_value = column.max()\n",
    "mean_value = column.mean()\n",
    "print(max_value)\n",
    "print(mean_value)\n",
    "derivados[\"recorridos\"][\"df\"][\"velocidad_kmm\"].mean()"
   ]
  },
  {
   "cell_type": "code",
   "execution_count": null,
   "metadata": {
    "colab": {
     "base_uri": "https://localhost:8080/"
    },
    "id": "y-k3xiA_ZMVU",
    "outputId": "3ff53a9d-3563-4d42-f071-34786946319d"
   },
   "outputs": [],
   "source": [
    "vel_cortes    = [  0,      0.05,     0.1,    0.15,    0.2,     0.25,     0.3,         0.5,        0.7,      1 ]\n",
    "vel_etiquetas = [ 'slento','lento','normal','nrapido','rapido','xrapido','xxrapido', 'xxxrapido', 'mrapido'   ]\n",
    "derivados[\"recorridos\"][\"df\"][\"velocidad_cat\"] = pd.cut( \n",
    "    derivados[\"recorridos\"][\"df\"].velocidad_kmm,\n",
    "    vel_cortes,\n",
    "    include_lowest = True,\n",
    "    labels = vel_etiquetas,\n",
    "    ordered = True,\n",
    "    # right = False,\n",
    ")\n",
    "derivados[\"recorridos\"][\"df\"]['velocidad_cat'].unique()"
   ]
  },
  {
   "cell_type": "code",
   "execution_count": null,
   "metadata": {
    "colab": {
     "base_uri": "https://localhost:8080/",
     "height": 609
    },
    "id": "v7bNmKi8TbP9",
    "outputId": "3177be29-73b9-4c3c-b74f-698ec89bba1a"
   },
   "outputs": [],
   "source": [
    "derivados[\"recorridos\"][\"df\"][derivados[\"recorridos\"][\"df\"]['velocidad_cat'] == 'slento']"
   ]
  },
  {
   "cell_type": "markdown",
   "metadata": {
    "id": "YcPXmUXWfeC_"
   },
   "source": [
    "\n",
    "### CLIMA\n",
    "https://www.smn.gob.ar/descarga-de-datos\n",
    "https://www.smn.gob.ar/datos-abiertos-smn\n"
   ]
  },
  {
   "cell_type": "markdown",
   "metadata": {
    "id": "QRH8uscyPAEc"
   },
   "source": [
    "### Regular sequences: pd.date_range()\n",
    "\n",
    "Regular date sequences "
   ]
  },
  {
   "cell_type": "code",
   "execution_count": null,
   "metadata": {
    "id": "ebG5UuB9ON7t"
   },
   "outputs": [],
   "source": [
    "# Lista de dias a obtener\n",
    "sdate = date(2020,1,1)  # start date\n",
    "today = datetime.date.today()\n",
    "yesterday = today - datetime.timedelta( days = 1 )\n",
    "dias = pd.date_range(\n",
    "  sdate, \n",
    "  yesterday - timedelta( days  1 ),\n",
    "  freq='d'\n",
    ")"
   ]
  },
  {
   "cell_type": "markdown",
   "metadata": {
    "id": "bnkpC-VrQXkU"
   },
   "source": [
    "### Observaciones Horarias\n",
    "```\n",
    "$ curl -v --silent https://ssl.smn.gob.ar/dpd/descarga_opendata.php?file=observaciones/datohorario20210518.txt 2>&1 | grep AERO\n",
    "!curl --silent https://ssl.smn.gob.ar/dpd/descarga_opendata.php?file=observaciones/datohorario20210518.txt | head -n 1\n",
    "!curl --silent https://ssl.smn.gob.ar/dpd/descarga_opendata.php?file=observaciones/datohorario20210518.txt | grep AEROPARQUE\n",
    "\n",
    "```"
   ]
  },
  {
   "cell_type": "code",
   "execution_count": null,
   "metadata": {
    "colab": {
     "base_uri": "https://localhost:8080/"
    },
    "id": "-MQ3Ya-4PHt_",
    "outputId": "3c21ae5a-256b-4854-acff-5f343d623e3a"
   },
   "outputs": [],
   "source": [
    "!curl --silent https://ssl.smn.gob.ar/dpd/descarga_opendata.php?file=observaciones/datohorario20210518.txt | grep AEROPARQUE"
   ]
  },
  {
   "cell_type": "markdown",
   "metadata": {
    "id": "gM8Ne3s5PK3A"
   },
   "source": [
    "#### Pronostico\n",
    "```\n",
    "curl --silent https://ssl.smn.gob.ar/dpd/descarga_opendata.php?file=pron5d/pron20210101.txt | head -n 52\n",
    "curl --silent https://ssl.smn.gob.ar/dpd/descarga_opendata.php?file=pron5d/pron20210101.txt | head -n 18\n",
    "curl --silent https://ssl.smn.gob.ar/dpd/descarga_opendata.php?file=pron5d/pron20210101.txt | head -n 18 | tail -n 8 | awk '/1/ -F \":\" {print $1,$2,$7}'\n",
    "```"
   ]
  },
  {
   "cell_type": "code",
   "execution_count": null,
   "metadata": {
    "colab": {
     "base_uri": "https://localhost:8080/"
    },
    "id": "0VBU9y7FyqZc",
    "outputId": "c0736369-bf9b-4a22-9638-f0ffa5a5fad9"
   },
   "outputs": [],
   "source": [
    "!curl --silent https://ssl.smn.gob.ar/dpd/descarga_opendata.php?file=pron5d/pron20210101.txt | head -n 18 | tail -n 8 | awk '/1/ -F \":\" {print $1,$2,$7}'"
   ]
  },
  {
   "cell_type": "code",
   "execution_count": null,
   "metadata": {
    "id": "uWkS7yv0UZSk"
   },
   "outputs": [],
   "source": [
    "\"\"\" Obtener datos horarios para cada dia  \"\"\"\n",
    "dh_formato = '%d%m%Y%H'\n",
    "prefijo = 'https://ssl.smn.gob.ar/dpd/descarga_opendata.php?file=observaciones/datohorario'\n",
    "sufijo = '.txt'\n",
    "for i, d in enumerate(dias):\n",
    "  dstr = d.strftime('%Y%m%d') \n",
    "  dato_horario = prefijo + dstr + sufijo\n",
    "  req = urllib.request.Request( dato_horario )\n",
    "  response = urllib.request.urlopen( req )\n",
    "  lines = response.readlines()\n",
    "  fecha = d.strftime('%Y-%m-%d')\n",
    "  print(i, 'procesando', dato_horario)\n",
    "  # encabezados = lines[0].decode(\"utf-8\").split()  \n",
    "  # ['FECHA', 'HORA', 'TEMP', 'HUM', 'PNM', 'DD', 'FF', 'NOMBRE']\n",
    "  # [b'[HOA]', b'[\\xbaC]', b'[%]', b'[hPa]', b'[gr]', b'[km/hr]']\n",
    "  # fstl = lines[2].decode(\"utf-8\").split()  \n",
    "  # print( encabezados )\n",
    "  # print( fstl )\n",
    "  \n",
    "  for l in lines:\n",
    "    if b'AEROPARQUE' in l:\n",
    "      row =  l.decode(\"utf-8\").split()\n",
    "      # dh = str(row[0]) + str(row[1])\n",
    "      # dh_dt = pd.to_datetime(\n",
    "      #   dh, \n",
    "      #   format = dh_formato\n",
    "      # ) \n",
    "      dh_dic = {\n",
    "        # 'DH_DT'   : dh_dt,\n",
    "        'FECHA'   : fecha,\n",
    "        'HORA'    : row[1],\n",
    "        'TEMP'    : row[2], \n",
    "        'HUM'     : row[3], \n",
    "        'PNM'     : row[4], \n",
    "        'DD'      : row[5], \n",
    "        'FF'      : row[6], \n",
    "        # 'NOMBRE'  : row[7]\n",
    "      }\n",
    "      derivados[\"clima\"][\"df\"] = derivados[\"clima\"][\"df\"].append(\n",
    "        dh_dic,\n",
    "        ignore_index=True\n",
    "      )"
   ]
  },
  {
   "cell_type": "code",
   "execution_count": null,
   "metadata": {
    "colab": {
     "base_uri": "https://localhost:8080/"
    },
    "id": "TGhOPPcUQu-Y",
    "outputId": "293ca0d7-4e23-46c6-ecf1-1ba1c9ad8c7d"
   },
   "outputs": [],
   "source": [
    "# CARGAR CLIMA\n",
    "derivados[\"clima\"][\"df\"] = pd.read_csv(\n",
    "  derivados[\"clima\"][\"local\"],\n",
    ")\n",
    "derivados[\"clima\"][\"df\"].info()"
   ]
  },
  {
   "cell_type": "code",
   "execution_count": null,
   "metadata": {
    "id": "VlVO1Z9jgU_W"
   },
   "outputs": [],
   "source": [
    "# formato = '%Y-%m-%d'\n",
    "# derivados[\"clima\"][\"df\"]['DATE'] = pd.to_datetime(\n",
    "#   derivados[\"clima\"][\"df\"]['DATE'], \n",
    "#   format = formato\n",
    "# )\n",
    "# # derivados[\"clima\"][\"df\"]['TAVG'].unique()\n",
    "# derivados[\"clima\"][\"df\"]['TEMP'].unique()"
   ]
  },
  {
   "cell_type": "code",
   "execution_count": null,
   "metadata": {
    "colab": {
     "base_uri": "https://localhost:8080/",
     "height": 609
    },
    "id": "maHFL4gLUBIF",
    "outputId": "c01401ea-7354-4427-b38e-1cd9870cf65e"
   },
   "outputs": [],
   "source": [
    "derivados[\"recorridos\"][\"df\"] = pd.merge(\n",
    "    left     = derivados[\"recorridos\"][\"df\"],\n",
    "    right    = derivados[\"clima\"][\"df\"],\n",
    "    how      = 'left', \n",
    "    left_on  = ['fecha','hora'], \n",
    "    right_on = ['FECHA','HORA']\n",
    ")\n",
    "derivados[\"recorridos\"][\"df\"]"
   ]
  },
  {
   "cell_type": "code",
   "execution_count": null,
   "metadata": {
    "id": "K8XFs-IY6kBG"
   },
   "outputs": [],
   "source": [
    "derivados[\"recorridos\"][\"df\"] = pd.merge(\n",
    "    left     = derivados[\"recorridos\"][\"df\"],\n",
    "    right    = insumos[\"clima\"][\"df\"],\n",
    "    how      = 'left', \n",
    "    left_on  = 'fecha', \n",
    "    right_on = 'DATE'\n",
    ")"
   ]
  },
  {
   "cell_type": "code",
   "execution_count": null,
   "metadata": {
    "colab": {
     "base_uri": "https://localhost:8080/",
     "height": 416
    },
    "id": "1ncamsX_60Yy",
    "outputId": "04fa455a-45dd-42ba-d3f6-a81c0283d3f9"
   },
   "outputs": [],
   "source": [
    "orden = [\n",
    "#  'id',\n",
    "#  'estado_cerrado',\n",
    "  'usuario_id',\n",
    "  'origen_id',\n",
    "  'origen_nombre',\n",
    "  # 'origen_fecha',\n",
    "  # 'origen_direccion',\n",
    "  # 'origen_lon',\n",
    "  # 'origen_lat',\n",
    "  'destino_id',\n",
    "  'destino_nombre',\n",
    "#  'destino_fecha',\n",
    "#  'destino_direccion',\n",
    "#  'destino_lon',\n",
    "#  'destino_lat',\n",
    "  'vuelta', \n",
    "  'duracion',\n",
    "  'duracion_mins',\n",
    "  'duracion_cat',\n",
    "  'distancia',\n",
    "  'distancia_cat',\n",
    "  'velocidad_kmm',\n",
    "  'velocidad_cat',\n",
    "  'origen_datetime',\n",
    "  'fecha',\n",
    "  'wdia',\n",
    "  'hora',\n",
    "  'dhabil',\n",
    "  'DD',\n",
    "  'FF',\n",
    "  'HUM',\n",
    "  'PNM',\n",
    "  'TEMP',\n",
    "  'PRCP',\n",
    "  'TAVG',\n",
    "#  'FECHA',\n",
    "#  'HORA',\n",
    "#  STATION\tNAME\tLATITUDE\tlonITUDE\tELEVATION\tDATE\n",
    "#  PRCP_ATTRIBUTES\n",
    "#  TAVG_ATTRIBUTES\tTMAX\tTMAX_ATTRIBUTES\tTMIN\tTMIN_ATTRIBUTES                                                \n",
    "]\n",
    "derivados[\"recorridos\"][\"df\"] = derivados[\"recorridos\"][\"df\"][ orden ]\n",
    "derivados[\"recorridos\"][\"df\"]"
   ]
  },
  {
   "cell_type": "code",
   "execution_count": null,
   "metadata": {
    "id": "OJZmd9NIu_bp"
   },
   "outputs": [],
   "source": [
    "# recorridos_clima \n",
    "derivados[\"recorridos\"][\"df\"].to_csv(\n",
    "  derivados[\"recorridos\"][\"local\"],\n",
    "  index = False,\n",
    ")"
   ]
  },
  {
   "cell_type": "code",
   "execution_count": null,
   "metadata": {
    "colab": {
     "base_uri": "https://localhost:8080/"
    },
    "id": "Bs_UQJzcvRMY",
    "outputId": "496def1c-788c-49b2-c667-589adbc5fa5d"
   },
   "outputs": [],
   "source": [
    "derivados[\"recorridos\"][\"df\"].info()"
   ]
  },
  {
   "cell_type": "code",
   "execution_count": null,
   "metadata": {
    "id": "lH-MAl2s_2vH"
   },
   "outputs": [],
   "source": [
    "# GRUPING USERS\n",
    "usurios = derivados[\"recorridos\"][\"df\"].groupby(\n",
    "    ['usuario_id']\n",
    ").agg(\n",
    "  salidas = ( 'destino_id',  'count'),\n",
    "  vueltas = ( 'vuelta',  'sum'),\n",
    "  velocidad = ( 'velocidad_kmm',  'max'),\n",
    "  distancia = ( 'distancia',  'max')\n",
    ")\n",
    "# usurios = usurios.pivot_table(\n",
    "#     index   = [ 'usuario_id'],\n",
    "#     columns = \"salidas\",\n",
    "#     values  = \"salidas\",\n",
    "#     # aggfunc = 'count',\n",
    "# ).sort_values('origen_id')\n",
    "# demanda_diaria # comprobar"
   ]
  },
  {
   "cell_type": "code",
   "execution_count": null,
   "metadata": {
    "colab": {
     "base_uri": "https://localhost:8080/",
     "height": 1000
    },
    "id": "TfufCc7Mhp-u",
    "outputId": "2a108e37-78b3-4692-9ac5-37f4da7b8b13"
   },
   "outputs": [],
   "source": [
    "usurios = usurios[ ~usurios.isin([np.nan, np.inf, -np.inf]).any(1) ]\n",
    "# usurios\n",
    "usurios.sort_values( 'velocidad' , ascending = False).head(30)"
   ]
  },
  {
   "cell_type": "markdown",
   "metadata": {
    "id": "vPIKhM-Nhplh"
   },
   "source": []
  },
  {
   "cell_type": "markdown",
   "metadata": {
    "id": "oBIIBMQ0kIW-"
   },
   "source": [
    "# Analisis Exploratorio de Datos Espaciales\n",
    "\n"
   ]
  },
  {
   "cell_type": "code",
   "execution_count": null,
   "metadata": {
    "colab": {
     "base_uri": "https://localhost:8080/",
     "height": 661
    },
    "id": "faXz9_Dk3ey2",
    "outputId": "ad0c4ea0-0386-4422-c170-2f0ff1992f16"
   },
   "outputs": [],
   "source": [
    "# demanda_viz = derivados[\"recorridos\"][\"df\"]\n",
    "# # Fitro x dia\n",
    "\n",
    "# demanda_viz = demanda_viz[ demanda_viz[\"fecha\"] == '2020-01-01' ]\n",
    "# demanda_viz"
   ]
  },
  {
   "cell_type": "markdown",
   "metadata": {
    "id": "KPYYFuVL485g"
   },
   "source": [
    "## Exploratory Spatial Data Analysis (ESDA)\n",
    "\n",
    "https://alcidanalytics.com/p/geographic-heatmap-in-python\n",
    "\n",
    "https://alysivji.github.io/getting-started-with-folium.html\n",
    "\n",
    "https://medium.com/analytics-vidhya/measure-driving-distance-time-and-plot-routes-between-two-geographical-locations-using-python-39995dfea7e"
   ]
  },
  {
   "cell_type": "code",
   "execution_count": 13,
   "metadata": {
    "colab": {
     "base_uri": "https://localhost:8080/",
     "height": 450
    },
    "id": "V-oVPAu_3EhD",
    "outputId": "63688bb5-7a62-45e6-9143-95ffab465b6c"
   },
   "outputs": [
    {
     "data": {
      "text/plain": [
       "7"
      ]
     },
     "execution_count": 13,
     "metadata": {},
     "output_type": "execute_result"
    }
   ],
   "source": [
    "demanda_viz = derivados[\"recorridos\"][\"df\"]\n",
    "# Fitro x dia\n",
    "fecha_viz   = '2020-03-01'\n",
    "demanda_viz = demanda_viz[ demanda_viz[\"fecha\"] == fecha_viz ]\n",
    "demanda_viz = demanda_viz.groupby(\n",
    "    ['origen_nombre', 'origen_id', 'hora', 'origen_lon','origen_lat']\n",
    ").agg(\n",
    "  salidas = ( 'hora',  'count' ),\n",
    "  nombre  = ( 'origen_nombre',  'first' ),\n",
    "  id      = ( 'origen_id',  'first' ),\n",
    "  lon     = ( 'origen_lon',  'first' ),\n",
    "  lat     = ( 'origen_lat',  'first' ),\n",
    ")\n",
    "# ).reset_index()\n",
    "# df.set_index(['id', 'date', 'location'], append=True)\n",
    "demanda_viz = demanda_viz.pivot_table(\n",
    "    index = ['nombre',  'id', 'lon','lat'],\n",
    "    columns = \"hora\",\n",
    "    values = \"salidas\",\n",
    "    fill_value = 0,\n",
    "    # aggfunc = 'sum',\n",
    ").sort_values('id')\n"
   ]
  },
  {
   "cell_type": "code",
   "execution_count": null,
   "metadata": {
    "id": "oz5-QBLykEQz"
   },
   "outputs": [],
   "source": [
    "# import folium\n",
    "# from folium import plugins\n",
    "# # import pandas as pd\n",
    "# # import matplotlib.pyplot as plt\n",
    "# import seaborn as sns\n",
    "\n",
    "# %matplotlib inline\n",
    "\n",
    "\n"
   ]
  },
  {
   "cell_type": "code",
   "execution_count": 14,
   "metadata": {
    "colab": {
     "base_uri": "https://localhost:8080/",
     "height": 428
    },
    "id": "XLNcQNqGkVju",
    "outputId": "cc3189be-d4b9-47bc-a0df-5a4d14537519"
   },
   "outputs": [],
   "source": [
    "#... where m is my map object. And 5 is the time (seconds) to render the map.\n",
    "# https://stackoverflow.com/questions/53565979/export-a-folium-map-as-a-png\n",
    "# https://blog.ouseful.info/2015/12/15/grabbing-screenshots-of-folium-produced-choropleth-leaflet-maps-using-selenium/\n",
    "# from time import sleep\n",
    "import io\n",
    "from PIL import Image\n",
    "\n",
    "# import the folium library\n",
    "# !pip install folium selenium\n",
    "import folium \n",
    "from folium.features import DivIcon\n",
    "import selenium\n",
    "\n",
    "# from selenium.webdriver import Firefox\n",
    "\n",
    "# driver = Firefox()\n",
    "# driver.set_window_size(1920, 1080)  # choose a resolution\n",
    "\n",
    "\n",
    "\n",
    "\n",
    "import math\n",
    "def mapear(x): \n",
    "    return int( (x / 10 ) * 255)\n",
    "\n",
    "# initialize the map and store it in a m object\n",
    "# m = folium.Map(location=[40, -95], zoom_start=4)\n",
    "\n"
   ]
  },
  {
   "cell_type": "code",
   "execution_count": 17,
   "metadata": {
    "colab": {
     "base_uri": "https://localhost:8080/",
     "height": 428
    },
    "id": "VyR8wcwi9GJU",
    "outputId": "00852d89-349e-45fd-8972-54389d4b9eb9"
   },
   "outputs": [],
   "source": [
    "# del m\n",
    "m = ''\n",
    "for h in demanda_viz.columns.to_list():\n",
    "    del m\n",
    "    m = folium.Map(\n",
    "#         [ -34.606499,-58.381094 ], # obelisco\n",
    "        [-34.606739, -58.435539 ], # parque centenario\n",
    "        zoom_start = 13,\n",
    "#         tiles='stamentoner'\n",
    "    )\n",
    "    folium.map.Marker(\n",
    "        [ -34.559920, -58.372211 ],\n",
    "        icon = DivIcon(\n",
    "            icon_size=(600,400),\n",
    "            icon_anchor=(0,0),\n",
    "            html='<div style=\"font-size: 20pt;font-family: monospace;\">' \\\n",
    "            + fecha_viz + ' HORA:' + \"{:02d}\".format( h ) \\\n",
    "            + '</div>',\n",
    "        )\n",
    "    ).add_to(m)\n",
    "    demandas = demanda_viz[h]\n",
    "    estaciones = demanda_viz[h].reset_index()\n",
    "    for e in estaciones.iterrows():\n",
    "        estacion = e[1]\n",
    "        folium.CircleMarker(\n",
    "            [ estacion['lat'], estacion['lon'] ],\n",
    "            radius = estacion[h] * 5, \n",
    "            popup = \"{0}\\:{1}\\demanda:{2}\".format(\n",
    "                estacion['id'],\n",
    "                estacion['nombre'],\n",
    "                str(estacion[h]),\n",
    "            ),\n",
    "            fill_color = \"#{0:02x}{1:02x}{2:02x}\".format(\n",
    "                mapear( int(estacion[h]) ),\n",
    "                255 - mapear( int(estacion[h]) ) ,\n",
    "                255 - mapear( int(estacion[h]) )\n",
    "            )\n",
    "        ).add_to(m)\n",
    "    img_data = m._to_png(5)\n",
    "    img = Image.open(io.BytesIO(img_data))\n",
    "    img.save( 'ESDA/' + fecha_viz + '_' + \"{:02d}\".format( h ) + '_' + 'map.png' )"
   ]
  },
  {
   "cell_type": "code",
   "execution_count": 19,
   "metadata": {},
   "outputs": [
    {
     "name": "stdout",
     "output_type": "stream",
     "text": [
      "ffmpeg version n4.4 Copyright (c) 2000-2021 the FFmpeg developers\n",
      "  built with gcc 11.1.0 (GCC)\n",
      "  configuration: --prefix=/usr --disable-debug --disable-static --disable-stripping --enable-amf --enable-avisynth --enable-cuda-llvm --enable-lto --enable-fontconfig --enable-gmp --enable-gnutls --enable-gpl --enable-ladspa --enable-libaom --enable-libass --enable-libbluray --enable-libdav1d --enable-libdrm --enable-libfreetype --enable-libfribidi --enable-libgsm --enable-libiec61883 --enable-libjack --enable-libmfx --enable-libmodplug --enable-libmp3lame --enable-libopencore_amrnb --enable-libopencore_amrwb --enable-libopenjpeg --enable-libopus --enable-libpulse --enable-librav1e --enable-librsvg --enable-libsoxr --enable-libspeex --enable-libsrt --enable-libssh --enable-libsvtav1 --enable-libtheora --enable-libv4l2 --enable-libvidstab --enable-libvmaf --enable-libvorbis --enable-libvpx --enable-libwebp --enable-libx264 --enable-libx265 --enable-libxcb --enable-libxml2 --enable-libxvid --enable-libzimg --enable-nvdec --enable-nvenc --enable-shared --enable-version3\n",
      "  libavutil      56. 70.100 / 56. 70.100\n",
      "  libavcodec     58.134.100 / 58.134.100\n",
      "  libavformat    58. 76.100 / 58. 76.100\n",
      "  libavdevice    58. 13.100 / 58. 13.100\n",
      "  libavfilter     7.110.100 /  7.110.100\n",
      "  libswscale      5.  9.100 /  5.  9.100\n",
      "  libswresample   3.  9.100 /  3.  9.100\n",
      "  libpostproc    55.  9.100 / 55.  9.100\n",
      "Input #0, image2, from './ESDA/*.png':\n",
      "  Duration: 00:00:00.96, start: 0.000000, bitrate: N/A\n",
      "  Stream #0:0: Video: png, rgba(pc), 1366x683, 25 fps, 25 tbr, 25 tbn, 25 tbc\n",
      "Stream mapping:\n",
      "  Stream #0:0 -> #0:0 (png (native) -> h264 (libx264))\n",
      "Press [q] to stop, [?] for help\n",
      "\u001b[1;32m[Parsed_framerate_1 @ 0x55e1ac15ff40] \u001b[0mtime base:1/5 -> 1/25 exact:1\n",
      "\u001b[1;32m[Parsed_framerate_1 @ 0x55e1ac15ff40] \u001b[0mfps -> fps:25/1 scene score:8.200000 interpolate start:15 end:240\n",
      "\u001b[1;36m[libx264 @ 0x55e1ac110ec0] \u001b[0musing cpu capabilities: MMX2 SSE2Fast SSSE3 SSE4.2 AVX\n",
      "\u001b[1;36m[libx264 @ 0x55e1ac110ec0] \u001b[0mprofile High 4:4:4 Predictive, level 3.2, 4:4:4, 8-bit\n",
      "\u001b[1;36m[libx264 @ 0x55e1ac110ec0] \u001b[0m264 - core 161 r3039 544c61f - H.264/MPEG-4 AVC codec - Copyleft 2003-2021 - http://www.videolan.org/x264.html - options: cabac=1 ref=3 deblock=1:0:0 analyse=0x3:0x113 me=hex subme=7 psy=1 psy_rd=1.00:0.00 mixed_ref=1 me_range=16 chroma_me=1 trellis=1 8x8dct=1 cqm=0 deadzone=21,11 fast_pskip=1 chroma_qp_offset=4 threads=6 lookahead_threads=1 sliced_threads=0 nr=0 decimate=1 interlaced=0 bluray_compat=0 constrained_intra=0 bframes=3 b_pyramid=2 b_adapt=1 b_bias=0 direct=1 weightb=1 open_gop=0 weightp=2 keyint=250 keyint_min=25 scenecut=40 intra_refresh=0 rc_lookahead=40 rc=crf mbtree=1 crf=23.0 qcomp=0.60 qpmin=0 qpmax=69 qpstep=4 ip_ratio=1.40 aq=1:1.00\n",
      "Output #0, mp4, to 'ESDA.mp4':\n",
      "  Metadata:\n",
      "    encoder         : Lavf58.76.100\n",
      "  Stream #0:0: Video: h264 (avc1 / 0x31637661), yuv444p(progressive), 1366x683, q=2-31, 25 fps, 12800 tbn\n",
      "    Metadata:\n",
      "      encoder         : Lavc58.134.100 libx264\n",
      "    Side data:\n",
      "      cpb: bitrate max/min/avg: 0/0/0 buffer size: 0 vbv_delay: N/A\n",
      "frame=  480 fps= 17 q=-1.0 Lsize=    2727kB time=00:00:19.08 bitrate=1171.0kbits/s speed=0.693x     \n",
      "video:2721kB audio:0kB subtitle:0kB other streams:0kB global headers:0kB muxing overhead: 0.223134%\n",
      "\u001b[1;36m[libx264 @ 0x55e1ac110ec0] \u001b[0mframe I:2     Avg QP:19.25  size:454038\n",
      "\u001b[1;36m[libx264 @ 0x55e1ac110ec0] \u001b[0mframe P:176   Avg QP:23.33  size: 10563\n",
      "\u001b[1;36m[libx264 @ 0x55e1ac110ec0] \u001b[0mframe B:302   Avg QP:32.33  size:    63\n",
      "\u001b[1;36m[libx264 @ 0x55e1ac110ec0] \u001b[0mconsecutive B-frames: 15.8%  0.8%  0.0% 83.3%\n",
      "\u001b[1;36m[libx264 @ 0x55e1ac110ec0] \u001b[0mmb I  I16..4:  0.5% 18.0% 81.6%\n",
      "\u001b[1;36m[libx264 @ 0x55e1ac110ec0] \u001b[0mmb P  I16..4:  0.0%  0.0%  0.1%  P16..4:  7.9%  0.5%  0.9%  0.0%  0.0%    skip:90.6%\n",
      "\u001b[1;36m[libx264 @ 0x55e1ac110ec0] \u001b[0mmb B  I16..4:  0.0%  0.0%  0.0%  B16..8:  1.2%  0.0%  0.0%  direct: 0.0%  skip:98.8%  L0: 6.7% L1:93.3% BI: 0.0%\n",
      "\u001b[1;36m[libx264 @ 0x55e1ac110ec0] \u001b[0m8x8 transform intra:18.2% inter:43.1%\n",
      "\u001b[1;36m[libx264 @ 0x55e1ac110ec0] \u001b[0mcoded y,u,v intra: 85.9% 66.6% 59.7% inter: 1.7% 1.6% 1.5%\n",
      "\u001b[1;36m[libx264 @ 0x55e1ac110ec0] \u001b[0mi16 v,h,dc,p: 35% 48% 18%  0%\n",
      "\u001b[1;36m[libx264 @ 0x55e1ac110ec0] \u001b[0mi8 v,h,dc,ddl,ddr,vr,hd,vl,hu: 55%  5% 19%  4%  8%  4%  1%  1%  4%\n",
      "\u001b[1;36m[libx264 @ 0x55e1ac110ec0] \u001b[0mi4 v,h,dc,ddl,ddr,vr,hd,vl,hu: 15% 12% 14% 10% 14% 10%  8%  7% 11%\n",
      "\u001b[1;36m[libx264 @ 0x55e1ac110ec0] \u001b[0mWeighted P-Frames: Y:0.0% UV:0.0%\n",
      "\u001b[1;36m[libx264 @ 0x55e1ac110ec0] \u001b[0mref P L0: 68.7% 10.2% 17.1%  3.9%\n",
      "\u001b[1;36m[libx264 @ 0x55e1ac110ec0] \u001b[0mref B L0: 82.8% 16.2%  1.0%\n",
      "\u001b[1;36m[libx264 @ 0x55e1ac110ec0] \u001b[0mref B L1: 88.5% 11.5%\n",
      "\u001b[1;36m[libx264 @ 0x55e1ac110ec0] \u001b[0mkb/s:1160.82\n"
     ]
    }
   ],
   "source": [
    "# !ffmpeg -pattern_type glob -i './ESDA/*.png' -vf zoompan=z=1:d=4:s=1366x683:fps=5,framerate=25 -vcodec libx264 -acodec aac ESDA.mp4\n",
    "!ffmpeg -pattern_type glob -i './ESDA/*.png' -vf zoompan=z=1:d=4:s=1366x683:fps=5,framerate=25 -vcodec libx264 -an ESDA.mp4"
   ]
  },
  {
   "cell_type": "markdown",
   "metadata": {
    "id": "k1wAkTAMkPhT"
   },
   "source": [
    "## reserva"
   ]
  },
  {
   "cell_type": "code",
   "execution_count": 43,
   "metadata": {},
   "outputs": [
    {
     "data": {
      "text/plain": [
       "(None, None)"
      ]
     },
     "execution_count": 43,
     "metadata": {},
     "output_type": "execute_result"
    }
   ],
   "source": [
    "# # !pip install ffmpeg-python\n",
    "# import ffmpeg\n",
    "# # stream = ffmpeg.input('input.mp4')\n",
    "# # stream = ffmpeg.hflip(stream)\n",
    "# # stream = ffmpeg.output(stream, 'output.mp4')\n",
    "# # ffmpeg.run(stream)\n",
    "# del stream\n",
    "# stream = ffmpeg.input( 'ESDA/*.png', pattern_type = 'glob', framerate = 24 )\n",
    "# stream = ffmpeg.output( stream, 'ESDA.mp4')\n",
    "# ffmpeg.run(stream)\n"
   ]
  },
  {
   "cell_type": "code",
   "execution_count": null,
   "metadata": {
    "colab": {
     "base_uri": "https://localhost:8080/",
     "height": 234
    },
    "id": "P-aKaZ-cktrj",
    "outputId": "53b44f0c-9348-4597-8612-9f93d776efdb"
   },
   "outputs": [],
   "source": [
    "# import math\n",
    "# def mapear(x): \n",
    "#   return int( (x / 30295 ) * 255) \n",
    "# m = folium.Map(\n",
    "#   [ -34.606499,-58.381094 ],\n",
    "#   zoom_start = 14\n",
    "# )\n",
    "# #  mark each station as a point\n",
    "# for e in derivados[\"estaciones\"][\"df\"].iterrows():\n",
    "#   folium.CircleMarker(\n",
    "#       [ estacion['lat'], estacion['lon'] ],\n",
    "#       radius= estacion['salidas'] * 0.002, \n",
    "#       popup = \"{0}\\nsalidas:{1}\\narribos:{2}\".format(\n",
    "#           estacion['nombre'],\n",
    "#           str(estacion['salidas']),\n",
    "#           str(estacion['arribos'])\n",
    "#       ),\n",
    "#       fill_color = \"#{0:02x}{1:02x}{2:02x}\".format(\n",
    "#           mapear( int(estacion['salidas']) ),\n",
    "#           255 - mapear( int(estacion['salidas']) ) ,\n",
    "#           255 - mapear( int(estacion['salidas']) )\n",
    "#       )\n",
    "#   ).add_to(m)\n",
    "# m"
   ]
  },
  {
   "cell_type": "code",
   "execution_count": null,
   "metadata": {
    "id": "1NLSNB96ld2m"
   },
   "outputs": [],
   "source": [
    "# # convert to (n, 2) nd-array format for heatmap\n",
    "# # stationArr = derivados[\"estaciones\"][\"df\"][['lat', 'lon']].as_matrix()\n",
    "# # https://stackoverflow.com/a/63293803\n",
    "# stationArr = derivados[\"estaciones\"][\"df\"][['salidas']].values\n",
    "\n",
    "# # plot heatmap\n",
    "# m.add_children(plugins.HeatMap(stationArr, radius=15))\n",
    "# m"
   ]
  },
  {
   "cell_type": "code",
   "execution_count": null,
   "metadata": {
    "id": "4TeuTg0RFvv7"
   },
   "outputs": [],
   "source": [
    "\"\"\"\n",
    "We will create a helper function with default keyword arguments to abstact away\n",
    "Folium's complexity. This leaves us with a simple API we can use going forward.\n",
    "https://alysivji.github.io/getting-started-with-folium.html\n",
    "\"\"\"\n",
    "def map_points(\n",
    "    df,\n",
    "    lat_col = 'lat',\n",
    "    lon_col = 'lon',\n",
    "    zoom_start = 11, \n",
    "    plot_points = False,\n",
    "    pt_radius = 15, \n",
    "    draw_heatmap = False,\n",
    "    heat_map_weights_col = None, \n",
    "    heat_map_weights_normalize = False,\n",
    "    heat_map_radius = 15,\n",
    "    popup_name = 'nombre'\n",
    "):\n",
    "  \"\"\"\n",
    "  Creates a map given a dataframe of points. \n",
    "  Can also produce a heatmap overlay\n",
    "\n",
    "  Arg:\n",
    "    df: dataframe containing points to maps\n",
    "    lat_col: Column containing latitude (string)\n",
    "    lon_col: Column containing lonitude (string)\n",
    "    zoom_start: Integer representing the initial zoom of the map\n",
    "    plot_points: Add points to map (boolean)\n",
    "    pt_radius: Size of each point\n",
    "    draw_heatmap: Add heatmap to map (boolean)\n",
    "    heat_map_weights_col: Column containing heatmap weights\n",
    "    heat_map_weights_normalize: Normalize heatmap weights (boolean)\n",
    "    heat_map_radius: Size of heatmap point\n",
    "    popup_name: name of the popup\n",
    "\n",
    "  Returns:\n",
    "      folium map object\n",
    "  \"\"\"\n",
    "\n",
    "  ## center map in the middle of points center in\n",
    "  middle_lat = df[lat_col].median()\n",
    "  middle_lon = df[lon_col].median()\n",
    "\n",
    "  curr_map = folium.Map(\n",
    "      location=[middle_lat, middle_lon],\n",
    "      zoom_start=zoom_start\n",
    "  )\n",
    "  cols_to_pull = [ lat_col, lon_col, heat_map_weights_col ]\n",
    "  # add points to map\n",
    "  if plot_points:\n",
    "    for _, row in df.iterrows():\n",
    "      folium.CircleMarker(\n",
    "        [ row[lat_col], row[lon_col] ],\n",
    "        radius = pt_radius,\n",
    "        popup = row[ popup_name ],\n",
    "        fill_color = \"#3db7e4\", # divvy color\n",
    "      ).add_to( curr_map )\n",
    "  \n",
    "\n",
    "  # add heatmap\n",
    "  if draw_heatmap:\n",
    "    # convert to (n, 2) or (n, 3) matrix format\n",
    "    if heat_map_weights_col is None:\n",
    "      cols_to_pull = [lat_col, lon_col]\n",
    "    else:\n",
    "      # if we have to normalize\n",
    "      if heat_map_weights_normalize:\n",
    "        df[ heat_map_weights_col] = df[heat_map_weights_col] / df[heat_map_weights_col].sum()\n",
    "        cols_to_pull = [ lat_col, lon_col, heat_map_weights_col ]\n",
    "      stations = df[cols_to_pull].values\n",
    "      curr_map.add_children(\n",
    "          plugins.HeatMap(\n",
    "              stations,\n",
    "              radius = heat_map_radius\n",
    "          )\n",
    "      )\n",
    "  return curr_map"
   ]
  },
  {
   "cell_type": "code",
   "execution_count": null,
   "metadata": {
    "id": "ztPDIWVZHP2v"
   },
   "outputs": [],
   "source": [
    "# del m\n",
    "m = map_points(\n",
    "    derivados[\"estaciones\"][\"df\"],\n",
    "    plot_points = False,\n",
    "    draw_heatmap = True,\n",
    "    heat_map_weights_col = 'salidas',\n",
    "    heat_map_weights_normalize = True,\n",
    ")\n",
    "m"
   ]
  },
  {
   "cell_type": "code",
   "execution_count": null,
   "metadata": {
    "id": "DWooJ92lRkJb"
   },
   "outputs": [],
   "source": [
    "derivados[\"recorridos\"][\"df\"].info()"
   ]
  },
  {
   "cell_type": "code",
   "execution_count": null,
   "metadata": {
    "id": "5Yg4HZP8Nfs-"
   },
   "outputs": [],
   "source": [
    "# Code to read csv file into Colaboratory:\n",
    "!pip install -U -q PyDrive\n",
    "from pydrive.auth import GoogleAuth\n",
    "from pydrive.drive import GoogleDrive\n",
    "from google.colab import auth\n",
    "from oauth2client.client import GoogleCredentials\n",
    "# Authenticate and create the PyDrive client.\n",
    "auth.authenticate_user()\n",
    "gauth = GoogleAuth()\n",
    "gauth.credentials = GoogleCredentials.get_application_default()\n",
    "drive = GoogleDrive(gauth)"
   ]
  },
  {
   "cell_type": "code",
   "execution_count": null,
   "metadata": {
    "id": "D0hNu2LUQOrv"
   },
   "outputs": [],
   "source": [
    "from google.colab import drive\n",
    "drive.mount('/drive')"
   ]
  },
  {
   "cell_type": "code",
   "execution_count": null,
   "metadata": {
    "id": "KKhFdtVaONL2"
   },
   "outputs": [],
   "source": [
    "# Fetch weather from drive\n",
    "id = '14BpBfjQ3IrfeK8CajCWrEdfPg7S0eqc8'\n",
    "downloaded = drive.CreateFile({'id':id}) \n",
    "downloaded.GetContentFile('weather-data-ba.csv') \n",
    "weather_data_df = pd.read_csv('weather-data-ba.csv')\n",
    "weather_data_df.head()\n",
    "weather_data_df = weather_data_df.filter(\n",
    "    ['DATE','PRCP','TAVG']\n",
    ")\n",
    "weather_data_df.isnull().sum( axis = 0 )\n",
    "weather_data_df['PRCP'] = weather_data_df['PRCP'].replace( np.nan, 0 )\n",
    "weather_data_df.head()"
   ]
  },
  {
   "cell_type": "code",
   "execution_count": null,
   "metadata": {
    "id": "BO2KzlL2QcDv"
   },
   "outputs": [],
   "source": [
    "bicicletas[\"recorridos_clima_df\"].to_csv(\n",
    "    '/drive/My Drive/Datasets-bicing/recorridos-clima-2020-2021.csv'\n",
    ")"
   ]
  },
  {
   "cell_type": "code",
   "execution_count": null,
   "metadata": {
    "id": "nqCL_k8hUBIH"
   },
   "outputs": [],
   "source": [
    "bicicletas[\"recorridos_clima_df\"].head()"
   ]
  },
  {
   "cell_type": "markdown",
   "metadata": {
    "id": "IIKqluXaMsid"
   },
   "source": [
    "## Bajar el ultimo\n",
    "Bajar el dataset limpio desde drive"
   ]
  },
  {
   "cell_type": "code",
   "execution_count": null,
   "metadata": {
    "id": "gfWi5nWeWGxP"
   },
   "outputs": [],
   "source": [
    "from google.colab import files\n",
    "files.download('recorridos_2020-2021.zip')"
   ]
  },
  {
   "cell_type": "code",
   "execution_count": null,
   "metadata": {
    "id": "-hSRpLT304SS"
   },
   "outputs": [],
   "source": [
    "bicicletas[\"recorridos_df\"].to_csv(\n",
    "    '/drive/My Drive/Datasets-bicing/recorridos_2020-2021.csv'\n",
    ")"
   ]
  },
  {
   "cell_type": "code",
   "execution_count": null,
   "metadata": {
    "id": "Y1Sbt-4XMvXO"
   },
   "outputs": [],
   "source": [
    "id = '17liAPD1lyj2wT-Hcbh4ed9-Cn4peoyIq'\n",
    "downloaded = drive.CreateFile({'id':id}) \n",
    "downloaded.GetContentFile('recorridos_2020-2021.csv') \n",
    "bicicletas[\"recorridos_df\"] = pd.read_csv('recorridos_2020-2021.csv')\n",
    "bicicletas[\"recorridos_df\"].head()"
   ]
  },
  {
   "cell_type": "code",
   "execution_count": null,
   "metadata": {
    "id": "ZgDtT4ybRkJi"
   },
   "outputs": [],
   "source": []
  }
 ],
 "metadata": {
  "colab": {
   "collapsed_sections": [
    "T3yUhuXZtjRi",
    "9qGLZBMUEVX7",
    "YTtJbfbtTbiy",
    "YcPXmUXWfeC_"
   ],
   "include_colab_link": true,
   "name": "bicing_2020-2021_clima_rutas",
   "provenance": []
  },
  "kernelspec": {
   "display_name": "Python 3",
   "language": "python",
   "name": "python3"
  },
  "language_info": {
   "codemirror_mode": {
    "name": "ipython",
    "version": 3
   },
   "file_extension": ".py",
   "mimetype": "text/x-python",
   "name": "python",
   "nbconvert_exporter": "python",
   "pygments_lexer": "ipython3",
   "version": "3.9.6"
  }
 },
 "nbformat": 4,
 "nbformat_minor": 4
}
