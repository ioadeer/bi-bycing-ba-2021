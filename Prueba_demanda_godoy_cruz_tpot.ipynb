{
  "nbformat": 4,
  "nbformat_minor": 0,
  "metadata": {
    "colab": {
      "name": "Prueba demanda godoy cruz tpot.ipynb",
      "provenance": [],
      "authorship_tag": "ABX9TyNqHVLYN8a88/OmAK/xrk0b",
      "include_colab_link": true
    },
    "kernelspec": {
      "name": "python3",
      "display_name": "Python 3"
    },
    "language_info": {
      "name": "python"
    },
    "widgets": {
      "application/vnd.jupyter.widget-state+json": {
        "9299b6e77b7147108cf06f00ae44a519": {
          "model_module": "@jupyter-widgets/controls",
          "model_name": "HBoxModel",
          "state": {
            "_view_name": "HBoxView",
            "_dom_classes": [],
            "_model_name": "HBoxModel",
            "_view_module": "@jupyter-widgets/controls",
            "_model_module_version": "1.5.0",
            "_view_count": null,
            "_view_module_version": "1.5.0",
            "box_style": "",
            "layout": "IPY_MODEL_cac1bc77422e48e58e54fe778908c313",
            "_model_module": "@jupyter-widgets/controls",
            "children": [
              "IPY_MODEL_7f89fc8ba1944814a615a159e48deadb",
              "IPY_MODEL_259a1299157c47db83c745a2d0318ed0"
            ]
          }
        },
        "cac1bc77422e48e58e54fe778908c313": {
          "model_module": "@jupyter-widgets/base",
          "model_name": "LayoutModel",
          "state": {
            "_view_name": "LayoutView",
            "grid_template_rows": null,
            "right": null,
            "justify_content": null,
            "_view_module": "@jupyter-widgets/base",
            "overflow": null,
            "_model_module_version": "1.2.0",
            "_view_count": null,
            "flex_flow": null,
            "width": null,
            "min_width": null,
            "border": null,
            "align_items": null,
            "bottom": null,
            "_model_module": "@jupyter-widgets/base",
            "top": null,
            "grid_column": null,
            "overflow_y": null,
            "overflow_x": null,
            "grid_auto_flow": null,
            "grid_area": null,
            "grid_template_columns": null,
            "flex": null,
            "_model_name": "LayoutModel",
            "justify_items": null,
            "grid_row": null,
            "max_height": null,
            "align_content": null,
            "visibility": null,
            "align_self": null,
            "height": null,
            "min_height": null,
            "padding": null,
            "grid_auto_rows": null,
            "grid_gap": null,
            "max_width": null,
            "order": null,
            "_view_module_version": "1.2.0",
            "grid_template_areas": null,
            "object_position": null,
            "object_fit": null,
            "grid_auto_columns": null,
            "margin": null,
            "display": null,
            "left": null
          }
        },
        "7f89fc8ba1944814a615a159e48deadb": {
          "model_module": "@jupyter-widgets/controls",
          "model_name": "FloatProgressModel",
          "state": {
            "_view_name": "ProgressView",
            "style": "IPY_MODEL_2f1350ab833d41cd8216570df4f7f22c",
            "_dom_classes": [],
            "description": "Optimization Progress: ",
            "_model_name": "FloatProgressModel",
            "bar_style": "",
            "max": 40,
            "_view_module": "@jupyter-widgets/controls",
            "_model_module_version": "1.5.0",
            "value": 40,
            "_view_count": null,
            "_view_module_version": "1.5.0",
            "orientation": "horizontal",
            "min": 0,
            "description_tooltip": null,
            "_model_module": "@jupyter-widgets/controls",
            "layout": "IPY_MODEL_efef9391b6134b96a0eb7874601f4bae"
          }
        },
        "259a1299157c47db83c745a2d0318ed0": {
          "model_module": "@jupyter-widgets/controls",
          "model_name": "HTMLModel",
          "state": {
            "_view_name": "HTMLView",
            "style": "IPY_MODEL_9e2f63c4b51f42fba50ced2e70d310cd",
            "_dom_classes": [],
            "description": "",
            "_model_name": "HTMLModel",
            "placeholder": "​",
            "_view_module": "@jupyter-widgets/controls",
            "_model_module_version": "1.5.0",
            "value": " 617/? [09:49&lt;00:00,  1.25s/pipeline]",
            "_view_count": null,
            "_view_module_version": "1.5.0",
            "description_tooltip": null,
            "_model_module": "@jupyter-widgets/controls",
            "layout": "IPY_MODEL_6843672a33214d868bd2fa324c9831c4"
          }
        },
        "2f1350ab833d41cd8216570df4f7f22c": {
          "model_module": "@jupyter-widgets/controls",
          "model_name": "ProgressStyleModel",
          "state": {
            "_view_name": "StyleView",
            "_model_name": "ProgressStyleModel",
            "description_width": "initial",
            "_view_module": "@jupyter-widgets/base",
            "_model_module_version": "1.5.0",
            "_view_count": null,
            "_view_module_version": "1.2.0",
            "bar_color": null,
            "_model_module": "@jupyter-widgets/controls"
          }
        },
        "efef9391b6134b96a0eb7874601f4bae": {
          "model_module": "@jupyter-widgets/base",
          "model_name": "LayoutModel",
          "state": {
            "_view_name": "LayoutView",
            "grid_template_rows": null,
            "right": null,
            "justify_content": null,
            "_view_module": "@jupyter-widgets/base",
            "overflow": null,
            "_model_module_version": "1.2.0",
            "_view_count": null,
            "flex_flow": null,
            "width": null,
            "min_width": null,
            "border": null,
            "align_items": null,
            "bottom": null,
            "_model_module": "@jupyter-widgets/base",
            "top": null,
            "grid_column": null,
            "overflow_y": null,
            "overflow_x": null,
            "grid_auto_flow": null,
            "grid_area": null,
            "grid_template_columns": null,
            "flex": null,
            "_model_name": "LayoutModel",
            "justify_items": null,
            "grid_row": null,
            "max_height": null,
            "align_content": null,
            "visibility": null,
            "align_self": null,
            "height": null,
            "min_height": null,
            "padding": null,
            "grid_auto_rows": null,
            "grid_gap": null,
            "max_width": null,
            "order": null,
            "_view_module_version": "1.2.0",
            "grid_template_areas": null,
            "object_position": null,
            "object_fit": null,
            "grid_auto_columns": null,
            "margin": null,
            "display": null,
            "left": null
          }
        },
        "9e2f63c4b51f42fba50ced2e70d310cd": {
          "model_module": "@jupyter-widgets/controls",
          "model_name": "DescriptionStyleModel",
          "state": {
            "_view_name": "StyleView",
            "_model_name": "DescriptionStyleModel",
            "description_width": "",
            "_view_module": "@jupyter-widgets/base",
            "_model_module_version": "1.5.0",
            "_view_count": null,
            "_view_module_version": "1.2.0",
            "_model_module": "@jupyter-widgets/controls"
          }
        },
        "6843672a33214d868bd2fa324c9831c4": {
          "model_module": "@jupyter-widgets/base",
          "model_name": "LayoutModel",
          "state": {
            "_view_name": "LayoutView",
            "grid_template_rows": null,
            "right": null,
            "justify_content": null,
            "_view_module": "@jupyter-widgets/base",
            "overflow": null,
            "_model_module_version": "1.2.0",
            "_view_count": null,
            "flex_flow": null,
            "width": null,
            "min_width": null,
            "border": null,
            "align_items": null,
            "bottom": null,
            "_model_module": "@jupyter-widgets/base",
            "top": null,
            "grid_column": null,
            "overflow_y": null,
            "overflow_x": null,
            "grid_auto_flow": null,
            "grid_area": null,
            "grid_template_columns": null,
            "flex": null,
            "_model_name": "LayoutModel",
            "justify_items": null,
            "grid_row": null,
            "max_height": null,
            "align_content": null,
            "visibility": null,
            "align_self": null,
            "height": null,
            "min_height": null,
            "padding": null,
            "grid_auto_rows": null,
            "grid_gap": null,
            "max_width": null,
            "order": null,
            "_view_module_version": "1.2.0",
            "grid_template_areas": null,
            "object_position": null,
            "object_fit": null,
            "grid_auto_columns": null,
            "margin": null,
            "display": null,
            "left": null
          }
        },
        "361d8d717bc542438035e3f67b2992a5": {
          "model_module": "@jupyter-widgets/controls",
          "model_name": "HBoxModel",
          "state": {
            "_view_name": "HBoxView",
            "_dom_classes": [],
            "_model_name": "HBoxModel",
            "_view_module": "@jupyter-widgets/controls",
            "_model_module_version": "1.5.0",
            "_view_count": null,
            "_view_module_version": "1.5.0",
            "box_style": "",
            "layout": "IPY_MODEL_e75475f548a147cab5b19c6658349140",
            "_model_module": "@jupyter-widgets/controls",
            "children": [
              "IPY_MODEL_fa233d61aabf44aa9aba015a49a4687a",
              "IPY_MODEL_2788c6c4424a41f9a3b3e732175b4d01"
            ]
          }
        },
        "e75475f548a147cab5b19c6658349140": {
          "model_module": "@jupyter-widgets/base",
          "model_name": "LayoutModel",
          "state": {
            "_view_name": "LayoutView",
            "grid_template_rows": null,
            "right": null,
            "justify_content": null,
            "_view_module": "@jupyter-widgets/base",
            "overflow": null,
            "_model_module_version": "1.2.0",
            "_view_count": null,
            "flex_flow": null,
            "width": null,
            "min_width": null,
            "border": null,
            "align_items": null,
            "bottom": null,
            "_model_module": "@jupyter-widgets/base",
            "top": null,
            "grid_column": null,
            "overflow_y": null,
            "overflow_x": null,
            "grid_auto_flow": null,
            "grid_area": null,
            "grid_template_columns": null,
            "flex": null,
            "_model_name": "LayoutModel",
            "justify_items": null,
            "grid_row": null,
            "max_height": null,
            "align_content": null,
            "visibility": null,
            "align_self": null,
            "height": null,
            "min_height": null,
            "padding": null,
            "grid_auto_rows": null,
            "grid_gap": null,
            "max_width": null,
            "order": null,
            "_view_module_version": "1.2.0",
            "grid_template_areas": null,
            "object_position": null,
            "object_fit": null,
            "grid_auto_columns": null,
            "margin": null,
            "display": null,
            "left": null
          }
        },
        "fa233d61aabf44aa9aba015a49a4687a": {
          "model_module": "@jupyter-widgets/controls",
          "model_name": "FloatProgressModel",
          "state": {
            "_view_name": "ProgressView",
            "style": "IPY_MODEL_f1f6819ce54844f28b3968fd744a806b",
            "_dom_classes": [],
            "description": "Optimization Progress: ",
            "_model_name": "FloatProgressModel",
            "bar_style": "",
            "max": 40,
            "_view_module": "@jupyter-widgets/controls",
            "_model_module_version": "1.5.0",
            "value": 40,
            "_view_count": null,
            "_view_module_version": "1.5.0",
            "orientation": "horizontal",
            "min": 0,
            "description_tooltip": null,
            "_model_module": "@jupyter-widgets/controls",
            "layout": "IPY_MODEL_a15ca4ac8ce44628a568cea8d2f1ee35"
          }
        },
        "2788c6c4424a41f9a3b3e732175b4d01": {
          "model_module": "@jupyter-widgets/controls",
          "model_name": "HTMLModel",
          "state": {
            "_view_name": "HTMLView",
            "style": "IPY_MODEL_a964f429db174e29aea849d81a8a37b5",
            "_dom_classes": [],
            "description": "",
            "_model_name": "HTMLModel",
            "placeholder": "​",
            "_view_module": "@jupyter-widgets/controls",
            "_model_module_version": "1.5.0",
            "value": " 644/? [09:57&lt;00:00,  1.59s/pipeline]",
            "_view_count": null,
            "_view_module_version": "1.5.0",
            "description_tooltip": null,
            "_model_module": "@jupyter-widgets/controls",
            "layout": "IPY_MODEL_555867dfe2d346e281aef98269e1fd15"
          }
        },
        "f1f6819ce54844f28b3968fd744a806b": {
          "model_module": "@jupyter-widgets/controls",
          "model_name": "ProgressStyleModel",
          "state": {
            "_view_name": "StyleView",
            "_model_name": "ProgressStyleModel",
            "description_width": "initial",
            "_view_module": "@jupyter-widgets/base",
            "_model_module_version": "1.5.0",
            "_view_count": null,
            "_view_module_version": "1.2.0",
            "bar_color": null,
            "_model_module": "@jupyter-widgets/controls"
          }
        },
        "a15ca4ac8ce44628a568cea8d2f1ee35": {
          "model_module": "@jupyter-widgets/base",
          "model_name": "LayoutModel",
          "state": {
            "_view_name": "LayoutView",
            "grid_template_rows": null,
            "right": null,
            "justify_content": null,
            "_view_module": "@jupyter-widgets/base",
            "overflow": null,
            "_model_module_version": "1.2.0",
            "_view_count": null,
            "flex_flow": null,
            "width": null,
            "min_width": null,
            "border": null,
            "align_items": null,
            "bottom": null,
            "_model_module": "@jupyter-widgets/base",
            "top": null,
            "grid_column": null,
            "overflow_y": null,
            "overflow_x": null,
            "grid_auto_flow": null,
            "grid_area": null,
            "grid_template_columns": null,
            "flex": null,
            "_model_name": "LayoutModel",
            "justify_items": null,
            "grid_row": null,
            "max_height": null,
            "align_content": null,
            "visibility": null,
            "align_self": null,
            "height": null,
            "min_height": null,
            "padding": null,
            "grid_auto_rows": null,
            "grid_gap": null,
            "max_width": null,
            "order": null,
            "_view_module_version": "1.2.0",
            "grid_template_areas": null,
            "object_position": null,
            "object_fit": null,
            "grid_auto_columns": null,
            "margin": null,
            "display": null,
            "left": null
          }
        },
        "a964f429db174e29aea849d81a8a37b5": {
          "model_module": "@jupyter-widgets/controls",
          "model_name": "DescriptionStyleModel",
          "state": {
            "_view_name": "StyleView",
            "_model_name": "DescriptionStyleModel",
            "description_width": "",
            "_view_module": "@jupyter-widgets/base",
            "_model_module_version": "1.5.0",
            "_view_count": null,
            "_view_module_version": "1.2.0",
            "_model_module": "@jupyter-widgets/controls"
          }
        },
        "555867dfe2d346e281aef98269e1fd15": {
          "model_module": "@jupyter-widgets/base",
          "model_name": "LayoutModel",
          "state": {
            "_view_name": "LayoutView",
            "grid_template_rows": null,
            "right": null,
            "justify_content": null,
            "_view_module": "@jupyter-widgets/base",
            "overflow": null,
            "_model_module_version": "1.2.0",
            "_view_count": null,
            "flex_flow": null,
            "width": null,
            "min_width": null,
            "border": null,
            "align_items": null,
            "bottom": null,
            "_model_module": "@jupyter-widgets/base",
            "top": null,
            "grid_column": null,
            "overflow_y": null,
            "overflow_x": null,
            "grid_auto_flow": null,
            "grid_area": null,
            "grid_template_columns": null,
            "flex": null,
            "_model_name": "LayoutModel",
            "justify_items": null,
            "grid_row": null,
            "max_height": null,
            "align_content": null,
            "visibility": null,
            "align_self": null,
            "height": null,
            "min_height": null,
            "padding": null,
            "grid_auto_rows": null,
            "grid_gap": null,
            "max_width": null,
            "order": null,
            "_view_module_version": "1.2.0",
            "grid_template_areas": null,
            "object_position": null,
            "object_fit": null,
            "grid_auto_columns": null,
            "margin": null,
            "display": null,
            "left": null
          }
        }
      }
    }
  },
  "cells": [
    {
      "cell_type": "markdown",
      "metadata": {
        "id": "view-in-github",
        "colab_type": "text"
      },
      "source": [
        "<a href=\"https://colab.research.google.com/github/ioadeer/bi-bycing-ba-2021/blob/main/Prueba_demanda_godoy_cruz_tpot.ipynb\" target=\"_parent\"><img src=\"https://colab.research.google.com/assets/colab-badge.svg\" alt=\"Open In Colab\"/></a>"
      ]
    },
    {
      "cell_type": "code",
      "metadata": {
        "id": "UIuz5_ODKGMf"
      },
      "source": [
        "# Code to read csv file into Colaboratory:\n",
        "!pip install -U -q PyDrive\n",
        "from pydrive.auth import GoogleAuth\n",
        "from pydrive.drive import GoogleDrive\n",
        "from google.colab import auth\n",
        "\n",
        "from oauth2client.client import GoogleCredentials\n",
        "# Authenticate and create the PyDrive client.\n",
        "auth.authenticate_user()\n",
        "gauth = GoogleAuth()\n",
        "gauth.credentials = GoogleCredentials.get_application_default()\n",
        "drive = GoogleDrive(gauth)"
      ],
      "execution_count": null,
      "outputs": []
    },
    {
      "cell_type": "code",
      "metadata": {
        "colab": {
          "base_uri": "https://localhost:8080/"
        },
        "id": "w-4lrigzMLsZ",
        "outputId": "7e14c92c-7e93-476e-b6ee-8ddd71e9f665"
      },
      "source": [
        "!pip install tpot"
      ],
      "execution_count": null,
      "outputs": [
        {
          "output_type": "stream",
          "text": [
            "Collecting tpot\n",
            "\u001b[?25l  Downloading https://files.pythonhosted.org/packages/b2/55/a7185198f554ea19758e5ac4641f100c94cba4585e738e2e48e3c40a0b7f/TPOT-0.11.7-py3-none-any.whl (87kB)\n",
            "\u001b[K     |████████████████████████████████| 92kB 6.0MB/s \n",
            "\u001b[?25hRequirement already satisfied: scikit-learn>=0.22.0 in /usr/local/lib/python3.7/dist-packages (from tpot) (0.22.2.post1)\n",
            "Requirement already satisfied: tqdm>=4.36.1 in /usr/local/lib/python3.7/dist-packages (from tpot) (4.41.1)\n",
            "Requirement already satisfied: scipy>=1.3.1 in /usr/local/lib/python3.7/dist-packages (from tpot) (1.4.1)\n",
            "Requirement already satisfied: numpy>=1.16.3 in /usr/local/lib/python3.7/dist-packages (from tpot) (1.19.5)\n",
            "Collecting deap>=1.2\n",
            "\u001b[?25l  Downloading https://files.pythonhosted.org/packages/99/d1/803c7a387d8a7e6866160b1541307f88d534da4291572fb32f69d2548afb/deap-1.3.1-cp37-cp37m-manylinux2010_x86_64.whl (157kB)\n",
            "\u001b[K     |████████████████████████████████| 163kB 27.2MB/s \n",
            "\u001b[?25hRequirement already satisfied: pandas>=0.24.2 in /usr/local/lib/python3.7/dist-packages (from tpot) (1.1.5)\n",
            "Collecting xgboost>=1.1.0\n",
            "\u001b[?25l  Downloading https://files.pythonhosted.org/packages/bb/35/169eec194bf1f9ef52ed670f5032ef2abaf6ed285cfadcb4b6026b800fc9/xgboost-1.4.2-py3-none-manylinux2010_x86_64.whl (166.7MB)\n",
            "\u001b[K     |████████████████████████████████| 166.7MB 79kB/s \n",
            "\u001b[?25hCollecting update-checker>=0.16\n",
            "  Downloading https://files.pythonhosted.org/packages/0c/ba/8dd7fa5f0b1c6a8ac62f8f57f7e794160c1f86f31c6d0fb00f582372a3e4/update_checker-0.18.0-py3-none-any.whl\n",
            "Requirement already satisfied: joblib>=0.13.2 in /usr/local/lib/python3.7/dist-packages (from tpot) (1.0.1)\n",
            "Collecting stopit>=1.1.1\n",
            "  Downloading https://files.pythonhosted.org/packages/35/58/e8bb0b0fb05baf07bbac1450c447d753da65f9701f551dca79823ce15d50/stopit-1.1.2.tar.gz\n",
            "Requirement already satisfied: python-dateutil>=2.7.3 in /usr/local/lib/python3.7/dist-packages (from pandas>=0.24.2->tpot) (2.8.1)\n",
            "Requirement already satisfied: pytz>=2017.2 in /usr/local/lib/python3.7/dist-packages (from pandas>=0.24.2->tpot) (2018.9)\n",
            "Requirement already satisfied: requests>=2.3.0 in /usr/local/lib/python3.7/dist-packages (from update-checker>=0.16->tpot) (2.23.0)\n",
            "Requirement already satisfied: six>=1.5 in /usr/local/lib/python3.7/dist-packages (from python-dateutil>=2.7.3->pandas>=0.24.2->tpot) (1.15.0)\n",
            "Requirement already satisfied: idna<3,>=2.5 in /usr/local/lib/python3.7/dist-packages (from requests>=2.3.0->update-checker>=0.16->tpot) (2.10)\n",
            "Requirement already satisfied: urllib3!=1.25.0,!=1.25.1,<1.26,>=1.21.1 in /usr/local/lib/python3.7/dist-packages (from requests>=2.3.0->update-checker>=0.16->tpot) (1.24.3)\n",
            "Requirement already satisfied: chardet<4,>=3.0.2 in /usr/local/lib/python3.7/dist-packages (from requests>=2.3.0->update-checker>=0.16->tpot) (3.0.4)\n",
            "Requirement already satisfied: certifi>=2017.4.17 in /usr/local/lib/python3.7/dist-packages (from requests>=2.3.0->update-checker>=0.16->tpot) (2021.5.30)\n",
            "Building wheels for collected packages: stopit\n",
            "  Building wheel for stopit (setup.py) ... \u001b[?25l\u001b[?25hdone\n",
            "  Created wheel for stopit: filename=stopit-1.1.2-cp37-none-any.whl size=11954 sha256=a97d75e8f772cda7ea88ea0fd4b14fe2f2bb3c843ac6ef3f7a8ef4d2e30156ab\n",
            "  Stored in directory: /root/.cache/pip/wheels/3c/85/2b/2580190404636bfc63e8de3dff629c03bb795021e1983a6cc7\n",
            "Successfully built stopit\n",
            "Installing collected packages: deap, xgboost, update-checker, stopit, tpot\n",
            "  Found existing installation: xgboost 0.90\n",
            "    Uninstalling xgboost-0.90:\n",
            "      Successfully uninstalled xgboost-0.90\n",
            "Successfully installed deap-1.3.1 stopit-1.1.2 tpot-0.11.7 update-checker-0.18.0 xgboost-1.4.2\n"
          ],
          "name": "stdout"
        }
      ]
    },
    {
      "cell_type": "code",
      "metadata": {
        "colab": {
          "base_uri": "https://localhost:8080/"
        },
        "id": "WVq7VEGuKbDX",
        "outputId": "ce819976-6623-4e6a-c801-c2e2bc70ceea"
      },
      "source": [
        "\n",
        "# Import required libraries\n",
        "from tpot import TPOTClassifier\n",
        "from sklearn.model_selection import train_test_split\n",
        "import pandas as pd \n",
        "import numpy as np"
      ],
      "execution_count": null,
      "outputs": [
        {
          "output_type": "stream",
          "text": [
            "/usr/local/lib/python3.7/dist-packages/sklearn/externals/six.py:31: FutureWarning: The module is deprecated in version 0.21 and will be removed in version 0.23 since we've dropped support for Python 2.7. Please rely on the official version of six (https://pypi.org/project/six/).\n",
            "  \"(https://pypi.org/project/six/).\", FutureWarning)\n",
            "/usr/local/lib/python3.7/dist-packages/sklearn/utils/deprecation.py:144: FutureWarning: The sklearn.neighbors.base module is  deprecated in version 0.22 and will be removed in version 0.24. The corresponding classes / functions should instead be imported from sklearn.neighbors. Anything that cannot be imported from sklearn.neighbors is now part of the private API.\n",
            "  warnings.warn(message, FutureWarning)\n"
          ],
          "name": "stderr"
        }
      ]
    },
    {
      "cell_type": "code",
      "metadata": {
        "colab": {
          "base_uri": "https://localhost:8080/",
          "height": 406
        },
        "id": "Wy_npSf3PhCy",
        "outputId": "f2a283d6-5a43-4ed3-dcac-359f9a85281c"
      },
      "source": [
        "'''\n",
        "https://drive.google.com/file/d/1hNI40ftjmvS5zA7RG5ttjUSFOLCZshZx/view?usp=sharing\n",
        "'''\n",
        "\n",
        "id = '1hNI40ftjmvS5zA7RG5ttjUSFOLCZshZx'\n",
        "downloaded = drive.CreateFile({'id':id}) \n",
        "downloaded.GetContentFile('estacion-godoy-cruz-demanda-final.csv') \n",
        "demanda_est_gc_df = pd.read_csv('estacion-godoy-cruz-demanda-final.csv')\n",
        "demanda_est_gc_df = demanda_est_gc_df.drop(['Unnamed: 0'], axis=1)\n",
        "demanda_est_gc_df"
      ],
      "execution_count": null,
      "outputs": [
        {
          "output_type": "execute_result",
          "data": {
            "text/html": [
              "<div>\n",
              "<style scoped>\n",
              "    .dataframe tbody tr th:only-of-type {\n",
              "        vertical-align: middle;\n",
              "    }\n",
              "\n",
              "    .dataframe tbody tr th {\n",
              "        vertical-align: top;\n",
              "    }\n",
              "\n",
              "    .dataframe thead th {\n",
              "        text-align: right;\n",
              "    }\n",
              "</style>\n",
              "<table border=\"1\" class=\"dataframe\">\n",
              "  <thead>\n",
              "    <tr style=\"text-align: right;\">\n",
              "      <th></th>\n",
              "      <th>index</th>\n",
              "      <th>count</th>\n",
              "      <th>anio</th>\n",
              "      <th>nmes</th>\n",
              "      <th>ndia</th>\n",
              "      <th>wdia</th>\n",
              "      <th>hora</th>\n",
              "      <th>dia_habil</th>\n",
              "      <th>DD</th>\n",
              "      <th>FF</th>\n",
              "      <th>HORA</th>\n",
              "      <th>HUM</th>\n",
              "      <th>PNM</th>\n",
              "      <th>TEMP</th>\n",
              "    </tr>\n",
              "  </thead>\n",
              "  <tbody>\n",
              "    <tr>\n",
              "      <th>0</th>\n",
              "      <td>0</td>\n",
              "      <td>3</td>\n",
              "      <td>2020</td>\n",
              "      <td>1</td>\n",
              "      <td>1</td>\n",
              "      <td>3</td>\n",
              "      <td>2</td>\n",
              "      <td>1</td>\n",
              "      <td>160</td>\n",
              "      <td>13</td>\n",
              "      <td>2</td>\n",
              "      <td>72.0</td>\n",
              "      <td>1011.4</td>\n",
              "      <td>22.0</td>\n",
              "    </tr>\n",
              "    <tr>\n",
              "      <th>1</th>\n",
              "      <td>1</td>\n",
              "      <td>2</td>\n",
              "      <td>2020</td>\n",
              "      <td>1</td>\n",
              "      <td>1</td>\n",
              "      <td>3</td>\n",
              "      <td>4</td>\n",
              "      <td>1</td>\n",
              "      <td>180</td>\n",
              "      <td>11</td>\n",
              "      <td>4</td>\n",
              "      <td>87.0</td>\n",
              "      <td>1011.8</td>\n",
              "      <td>20.9</td>\n",
              "    </tr>\n",
              "    <tr>\n",
              "      <th>2</th>\n",
              "      <td>2</td>\n",
              "      <td>1</td>\n",
              "      <td>2020</td>\n",
              "      <td>1</td>\n",
              "      <td>1</td>\n",
              "      <td>3</td>\n",
              "      <td>6</td>\n",
              "      <td>1</td>\n",
              "      <td>180</td>\n",
              "      <td>15</td>\n",
              "      <td>6</td>\n",
              "      <td>87.0</td>\n",
              "      <td>1012.1</td>\n",
              "      <td>20.5</td>\n",
              "    </tr>\n",
              "    <tr>\n",
              "      <th>3</th>\n",
              "      <td>3</td>\n",
              "      <td>2</td>\n",
              "      <td>2020</td>\n",
              "      <td>1</td>\n",
              "      <td>1</td>\n",
              "      <td>3</td>\n",
              "      <td>7</td>\n",
              "      <td>1</td>\n",
              "      <td>160</td>\n",
              "      <td>15</td>\n",
              "      <td>7</td>\n",
              "      <td>85.0</td>\n",
              "      <td>1013.0</td>\n",
              "      <td>20.4</td>\n",
              "    </tr>\n",
              "    <tr>\n",
              "      <th>4</th>\n",
              "      <td>4</td>\n",
              "      <td>2</td>\n",
              "      <td>2020</td>\n",
              "      <td>1</td>\n",
              "      <td>1</td>\n",
              "      <td>3</td>\n",
              "      <td>11</td>\n",
              "      <td>1</td>\n",
              "      <td>140</td>\n",
              "      <td>17</td>\n",
              "      <td>11</td>\n",
              "      <td>63.0</td>\n",
              "      <td>1014.4</td>\n",
              "      <td>24.0</td>\n",
              "    </tr>\n",
              "    <tr>\n",
              "      <th>...</th>\n",
              "      <td>...</td>\n",
              "      <td>...</td>\n",
              "      <td>...</td>\n",
              "      <td>...</td>\n",
              "      <td>...</td>\n",
              "      <td>...</td>\n",
              "      <td>...</td>\n",
              "      <td>...</td>\n",
              "      <td>...</td>\n",
              "      <td>...</td>\n",
              "      <td>...</td>\n",
              "      <td>...</td>\n",
              "      <td>...</td>\n",
              "      <td>...</td>\n",
              "    </tr>\n",
              "    <tr>\n",
              "      <th>7520</th>\n",
              "      <td>7524</td>\n",
              "      <td>1</td>\n",
              "      <td>2021</td>\n",
              "      <td>6</td>\n",
              "      <td>153</td>\n",
              "      <td>3</td>\n",
              "      <td>11</td>\n",
              "      <td>1</td>\n",
              "      <td>200</td>\n",
              "      <td>13</td>\n",
              "      <td>11</td>\n",
              "      <td>73.0</td>\n",
              "      <td>1015.0</td>\n",
              "      <td>14.6</td>\n",
              "    </tr>\n",
              "    <tr>\n",
              "      <th>7521</th>\n",
              "      <td>7525</td>\n",
              "      <td>2</td>\n",
              "      <td>2021</td>\n",
              "      <td>6</td>\n",
              "      <td>153</td>\n",
              "      <td>3</td>\n",
              "      <td>12</td>\n",
              "      <td>1</td>\n",
              "      <td>180</td>\n",
              "      <td>15</td>\n",
              "      <td>12</td>\n",
              "      <td>65.0</td>\n",
              "      <td>1015.3</td>\n",
              "      <td>14.7</td>\n",
              "    </tr>\n",
              "    <tr>\n",
              "      <th>7522</th>\n",
              "      <td>7526</td>\n",
              "      <td>7</td>\n",
              "      <td>2021</td>\n",
              "      <td>6</td>\n",
              "      <td>153</td>\n",
              "      <td>3</td>\n",
              "      <td>13</td>\n",
              "      <td>1</td>\n",
              "      <td>200</td>\n",
              "      <td>9</td>\n",
              "      <td>13</td>\n",
              "      <td>56.0</td>\n",
              "      <td>1015.3</td>\n",
              "      <td>15.7</td>\n",
              "    </tr>\n",
              "    <tr>\n",
              "      <th>7523</th>\n",
              "      <td>7527</td>\n",
              "      <td>1</td>\n",
              "      <td>2021</td>\n",
              "      <td>6</td>\n",
              "      <td>153</td>\n",
              "      <td>3</td>\n",
              "      <td>14</td>\n",
              "      <td>1</td>\n",
              "      <td>230</td>\n",
              "      <td>11</td>\n",
              "      <td>14</td>\n",
              "      <td>42.0</td>\n",
              "      <td>1013.7</td>\n",
              "      <td>17.5</td>\n",
              "    </tr>\n",
              "    <tr>\n",
              "      <th>7524</th>\n",
              "      <td>7528</td>\n",
              "      <td>10</td>\n",
              "      <td>2021</td>\n",
              "      <td>6</td>\n",
              "      <td>153</td>\n",
              "      <td>3</td>\n",
              "      <td>15</td>\n",
              "      <td>1</td>\n",
              "      <td>200</td>\n",
              "      <td>9</td>\n",
              "      <td>15</td>\n",
              "      <td>40.0</td>\n",
              "      <td>1014.8</td>\n",
              "      <td>17.0</td>\n",
              "    </tr>\n",
              "  </tbody>\n",
              "</table>\n",
              "<p>7525 rows × 14 columns</p>\n",
              "</div>"
            ],
            "text/plain": [
              "      index  count  anio  nmes  ndia  wdia  ...   DD  FF  HORA   HUM     PNM  TEMP\n",
              "0         0      3  2020     1     1     3  ...  160  13     2  72.0  1011.4  22.0\n",
              "1         1      2  2020     1     1     3  ...  180  11     4  87.0  1011.8  20.9\n",
              "2         2      1  2020     1     1     3  ...  180  15     6  87.0  1012.1  20.5\n",
              "3         3      2  2020     1     1     3  ...  160  15     7  85.0  1013.0  20.4\n",
              "4         4      2  2020     1     1     3  ...  140  17    11  63.0  1014.4  24.0\n",
              "...     ...    ...   ...   ...   ...   ...  ...  ...  ..   ...   ...     ...   ...\n",
              "7520   7524      1  2021     6   153     3  ...  200  13    11  73.0  1015.0  14.6\n",
              "7521   7525      2  2021     6   153     3  ...  180  15    12  65.0  1015.3  14.7\n",
              "7522   7526      7  2021     6   153     3  ...  200   9    13  56.0  1015.3  15.7\n",
              "7523   7527      1  2021     6   153     3  ...  230  11    14  42.0  1013.7  17.5\n",
              "7524   7528     10  2021     6   153     3  ...  200   9    15  40.0  1014.8  17.0\n",
              "\n",
              "[7525 rows x 14 columns]"
            ]
          },
          "metadata": {
            "tags": []
          },
          "execution_count": 4
        }
      ]
    },
    {
      "cell_type": "code",
      "metadata": {
        "colab": {
          "base_uri": "https://localhost:8080/",
          "height": 406
        },
        "id": "j169_XpUaXDa",
        "outputId": "43da3981-8cb8-4fd2-f632-c4452da38f94"
      },
      "source": [
        "demanda_est_gc_df_2 = demanda_est_gc_df.drop(columns=['index','hora'], axis=1)\n",
        "demanda_est_gc_df_2 = demanda_est_gc_df_2.reset_index(drop='True')\n",
        "demanda_est_gc_df_2"
      ],
      "execution_count": null,
      "outputs": [
        {
          "output_type": "execute_result",
          "data": {
            "text/html": [
              "<div>\n",
              "<style scoped>\n",
              "    .dataframe tbody tr th:only-of-type {\n",
              "        vertical-align: middle;\n",
              "    }\n",
              "\n",
              "    .dataframe tbody tr th {\n",
              "        vertical-align: top;\n",
              "    }\n",
              "\n",
              "    .dataframe thead th {\n",
              "        text-align: right;\n",
              "    }\n",
              "</style>\n",
              "<table border=\"1\" class=\"dataframe\">\n",
              "  <thead>\n",
              "    <tr style=\"text-align: right;\">\n",
              "      <th></th>\n",
              "      <th>count</th>\n",
              "      <th>anio</th>\n",
              "      <th>nmes</th>\n",
              "      <th>ndia</th>\n",
              "      <th>wdia</th>\n",
              "      <th>dia_habil</th>\n",
              "      <th>DD</th>\n",
              "      <th>FF</th>\n",
              "      <th>HORA</th>\n",
              "      <th>HUM</th>\n",
              "      <th>PNM</th>\n",
              "      <th>TEMP</th>\n",
              "    </tr>\n",
              "  </thead>\n",
              "  <tbody>\n",
              "    <tr>\n",
              "      <th>0</th>\n",
              "      <td>3</td>\n",
              "      <td>2020</td>\n",
              "      <td>1</td>\n",
              "      <td>1</td>\n",
              "      <td>3</td>\n",
              "      <td>1</td>\n",
              "      <td>160</td>\n",
              "      <td>13</td>\n",
              "      <td>2</td>\n",
              "      <td>72.0</td>\n",
              "      <td>1011.4</td>\n",
              "      <td>22.0</td>\n",
              "    </tr>\n",
              "    <tr>\n",
              "      <th>1</th>\n",
              "      <td>2</td>\n",
              "      <td>2020</td>\n",
              "      <td>1</td>\n",
              "      <td>1</td>\n",
              "      <td>3</td>\n",
              "      <td>1</td>\n",
              "      <td>180</td>\n",
              "      <td>11</td>\n",
              "      <td>4</td>\n",
              "      <td>87.0</td>\n",
              "      <td>1011.8</td>\n",
              "      <td>20.9</td>\n",
              "    </tr>\n",
              "    <tr>\n",
              "      <th>2</th>\n",
              "      <td>1</td>\n",
              "      <td>2020</td>\n",
              "      <td>1</td>\n",
              "      <td>1</td>\n",
              "      <td>3</td>\n",
              "      <td>1</td>\n",
              "      <td>180</td>\n",
              "      <td>15</td>\n",
              "      <td>6</td>\n",
              "      <td>87.0</td>\n",
              "      <td>1012.1</td>\n",
              "      <td>20.5</td>\n",
              "    </tr>\n",
              "    <tr>\n",
              "      <th>3</th>\n",
              "      <td>2</td>\n",
              "      <td>2020</td>\n",
              "      <td>1</td>\n",
              "      <td>1</td>\n",
              "      <td>3</td>\n",
              "      <td>1</td>\n",
              "      <td>160</td>\n",
              "      <td>15</td>\n",
              "      <td>7</td>\n",
              "      <td>85.0</td>\n",
              "      <td>1013.0</td>\n",
              "      <td>20.4</td>\n",
              "    </tr>\n",
              "    <tr>\n",
              "      <th>4</th>\n",
              "      <td>2</td>\n",
              "      <td>2020</td>\n",
              "      <td>1</td>\n",
              "      <td>1</td>\n",
              "      <td>3</td>\n",
              "      <td>1</td>\n",
              "      <td>140</td>\n",
              "      <td>17</td>\n",
              "      <td>11</td>\n",
              "      <td>63.0</td>\n",
              "      <td>1014.4</td>\n",
              "      <td>24.0</td>\n",
              "    </tr>\n",
              "    <tr>\n",
              "      <th>...</th>\n",
              "      <td>...</td>\n",
              "      <td>...</td>\n",
              "      <td>...</td>\n",
              "      <td>...</td>\n",
              "      <td>...</td>\n",
              "      <td>...</td>\n",
              "      <td>...</td>\n",
              "      <td>...</td>\n",
              "      <td>...</td>\n",
              "      <td>...</td>\n",
              "      <td>...</td>\n",
              "      <td>...</td>\n",
              "    </tr>\n",
              "    <tr>\n",
              "      <th>7520</th>\n",
              "      <td>1</td>\n",
              "      <td>2021</td>\n",
              "      <td>6</td>\n",
              "      <td>153</td>\n",
              "      <td>3</td>\n",
              "      <td>1</td>\n",
              "      <td>200</td>\n",
              "      <td>13</td>\n",
              "      <td>11</td>\n",
              "      <td>73.0</td>\n",
              "      <td>1015.0</td>\n",
              "      <td>14.6</td>\n",
              "    </tr>\n",
              "    <tr>\n",
              "      <th>7521</th>\n",
              "      <td>2</td>\n",
              "      <td>2021</td>\n",
              "      <td>6</td>\n",
              "      <td>153</td>\n",
              "      <td>3</td>\n",
              "      <td>1</td>\n",
              "      <td>180</td>\n",
              "      <td>15</td>\n",
              "      <td>12</td>\n",
              "      <td>65.0</td>\n",
              "      <td>1015.3</td>\n",
              "      <td>14.7</td>\n",
              "    </tr>\n",
              "    <tr>\n",
              "      <th>7522</th>\n",
              "      <td>7</td>\n",
              "      <td>2021</td>\n",
              "      <td>6</td>\n",
              "      <td>153</td>\n",
              "      <td>3</td>\n",
              "      <td>1</td>\n",
              "      <td>200</td>\n",
              "      <td>9</td>\n",
              "      <td>13</td>\n",
              "      <td>56.0</td>\n",
              "      <td>1015.3</td>\n",
              "      <td>15.7</td>\n",
              "    </tr>\n",
              "    <tr>\n",
              "      <th>7523</th>\n",
              "      <td>1</td>\n",
              "      <td>2021</td>\n",
              "      <td>6</td>\n",
              "      <td>153</td>\n",
              "      <td>3</td>\n",
              "      <td>1</td>\n",
              "      <td>230</td>\n",
              "      <td>11</td>\n",
              "      <td>14</td>\n",
              "      <td>42.0</td>\n",
              "      <td>1013.7</td>\n",
              "      <td>17.5</td>\n",
              "    </tr>\n",
              "    <tr>\n",
              "      <th>7524</th>\n",
              "      <td>10</td>\n",
              "      <td>2021</td>\n",
              "      <td>6</td>\n",
              "      <td>153</td>\n",
              "      <td>3</td>\n",
              "      <td>1</td>\n",
              "      <td>200</td>\n",
              "      <td>9</td>\n",
              "      <td>15</td>\n",
              "      <td>40.0</td>\n",
              "      <td>1014.8</td>\n",
              "      <td>17.0</td>\n",
              "    </tr>\n",
              "  </tbody>\n",
              "</table>\n",
              "<p>7525 rows × 12 columns</p>\n",
              "</div>"
            ],
            "text/plain": [
              "      count  anio  nmes  ndia  wdia  ...  FF  HORA   HUM     PNM  TEMP\n",
              "0         3  2020     1     1     3  ...  13     2  72.0  1011.4  22.0\n",
              "1         2  2020     1     1     3  ...  11     4  87.0  1011.8  20.9\n",
              "2         1  2020     1     1     3  ...  15     6  87.0  1012.1  20.5\n",
              "3         2  2020     1     1     3  ...  15     7  85.0  1013.0  20.4\n",
              "4         2  2020     1     1     3  ...  17    11  63.0  1014.4  24.0\n",
              "...     ...   ...   ...   ...   ...  ...  ..   ...   ...     ...   ...\n",
              "7520      1  2021     6   153     3  ...  13    11  73.0  1015.0  14.6\n",
              "7521      2  2021     6   153     3  ...  15    12  65.0  1015.3  14.7\n",
              "7522      7  2021     6   153     3  ...   9    13  56.0  1015.3  15.7\n",
              "7523      1  2021     6   153     3  ...  11    14  42.0  1013.7  17.5\n",
              "7524     10  2021     6   153     3  ...   9    15  40.0  1014.8  17.0\n",
              "\n",
              "[7525 rows x 12 columns]"
            ]
          },
          "metadata": {
            "tags": []
          },
          "execution_count": 8
        }
      ]
    },
    {
      "cell_type": "code",
      "metadata": {
        "colab": {
          "base_uri": "https://localhost:8080/"
        },
        "id": "v19u62shP0HR",
        "outputId": "e8296d24-1b11-4770-9ed5-271ac0f7e66d"
      },
      "source": [
        "pd.isnull(demanda_est_gc_df).any()"
      ],
      "execution_count": null,
      "outputs": [
        {
          "output_type": "execute_result",
          "data": {
            "text/plain": [
              "index        False\n",
              "count        False\n",
              "anio         False\n",
              "nmes         False\n",
              "ndia         False\n",
              "wdia         False\n",
              "hora         False\n",
              "dia_habil    False\n",
              "DD           False\n",
              "FF           False\n",
              "HORA         False\n",
              "HUM          False\n",
              "PNM          False\n",
              "TEMP         False\n",
              "dtype: bool"
            ]
          },
          "metadata": {
            "tags": []
          },
          "execution_count": 10
        }
      ]
    },
    {
      "cell_type": "markdown",
      "metadata": {
        "id": "I91DPGPrHniw"
      },
      "source": [
        "#1 Averiguar demanda"
      ]
    },
    {
      "cell_type": "code",
      "metadata": {
        "colab": {
          "base_uri": "https://localhost:8080/"
        },
        "id": "JMf9_sNyHeUl",
        "outputId": "da636f9f-8aea-414e-ed3e-6090c1c3fd3f"
      },
      "source": [
        "estacion_gc_df = demanda_est_gc_df_2.rename(columns={'count':'target'})\n",
        "estacion_gc_df\n",
        "target_class = estacion_gc_df['target'].values\n",
        "print(target_class)\n",
        "estacion_gc_df = estacion_gc_df.drop(['target'], axis=1)\n",
        "estacion_gc_df\n",
        "estacion_gc_df.info()"
      ],
      "execution_count": null,
      "outputs": [
        {
          "output_type": "stream",
          "text": [
            "[ 3  2  1 ...  7  1 10]\n",
            "<class 'pandas.core.frame.DataFrame'>\n",
            "RangeIndex: 7525 entries, 0 to 7524\n",
            "Data columns (total 11 columns):\n",
            " #   Column     Non-Null Count  Dtype  \n",
            "---  ------     --------------  -----  \n",
            " 0   anio       7525 non-null   int64  \n",
            " 1   nmes       7525 non-null   int64  \n",
            " 2   ndia       7525 non-null   int64  \n",
            " 3   wdia       7525 non-null   int64  \n",
            " 4   dia_habil  7525 non-null   int64  \n",
            " 5   DD         7525 non-null   int64  \n",
            " 6   FF         7525 non-null   int64  \n",
            " 7   HORA       7525 non-null   int64  \n",
            " 8   HUM        7525 non-null   float64\n",
            " 9   PNM        7525 non-null   float64\n",
            " 10  TEMP       7525 non-null   float64\n",
            "dtypes: float64(3), int64(8)\n",
            "memory usage: 646.8 KB\n"
          ],
          "name": "stdout"
        }
      ]
    },
    {
      "cell_type": "code",
      "metadata": {
        "colab": {
          "base_uri": "https://localhost:8080/"
        },
        "id": "iA_ftJjaPrtF",
        "outputId": "c9aee4da-f8d9-417e-d100-517678fced3d"
      },
      "source": [
        "estacion_new = np.vstack(estacion_gc_df.values)\n",
        "estacion_new.shape"
      ],
      "execution_count": null,
      "outputs": [
        {
          "output_type": "execute_result",
          "data": {
            "text/plain": [
              "(7525, 11)"
            ]
          },
          "metadata": {
            "tags": []
          },
          "execution_count": 39
        }
      ]
    },
    {
      "cell_type": "code",
      "metadata": {
        "colab": {
          "base_uri": "https://localhost:8080/"
        },
        "id": "ezvRSTw-NIQI",
        "outputId": "d654a73a-25fa-4b40-de5d-02643539b1c5"
      },
      "source": [
        "training_indices, validation_indices = training_indices, testing_indices = train_test_split(estacion_gc_df.index, stratify = target_class, train_size=0.75, test_size=0.25)\n",
        "training_indices.size, validation_indices.size"
      ],
      "execution_count": null,
      "outputs": [
        {
          "output_type": "execute_result",
          "data": {
            "text/plain": [
              "(5643, 1882)"
            ]
          },
          "metadata": {
            "tags": []
          },
          "execution_count": 40
        }
      ]
    },
    {
      "cell_type": "code",
      "metadata": {
        "colab": {
          "base_uri": "https://localhost:8080/",
          "height": 636,
          "referenced_widgets": [
            "9299b6e77b7147108cf06f00ae44a519",
            "cac1bc77422e48e58e54fe778908c313",
            "7f89fc8ba1944814a615a159e48deadb",
            "259a1299157c47db83c745a2d0318ed0",
            "2f1350ab833d41cd8216570df4f7f22c",
            "efef9391b6134b96a0eb7874601f4bae",
            "9e2f63c4b51f42fba50ced2e70d310cd",
            "6843672a33214d868bd2fa324c9831c4"
          ]
        },
        "id": "ebmHBnrkWv5m",
        "outputId": "c46fc1a5-d03d-440c-9c28-2c6899ba164b"
      },
      "source": [
        "tpot = TPOTClassifier(verbosity=2, max_time_mins=10, max_eval_time_mins=0.04, population_size=40)\n",
        "tpot.fit(estacion_new[training_indices], target_class[training_indices])"
      ],
      "execution_count": null,
      "outputs": [
        {
          "output_type": "display_data",
          "data": {
            "application/vnd.jupyter.widget-view+json": {
              "model_id": "9299b6e77b7147108cf06f00ae44a519",
              "version_minor": 0,
              "version_major": 2
            },
            "text/plain": [
              "HBox(children=(FloatProgress(value=0.0, description='Optimization Progress', max=40.0, style=ProgressStyle(des…"
            ]
          },
          "metadata": {
            "tags": []
          }
        },
        {
          "output_type": "stream",
          "text": [
            "\r\n",
            "Generation 1 - Current best internal CV score: 0.22399569065701774\n",
            "\n",
            "Generation 2 - Current best internal CV score: 0.22505685066179196\n",
            "\n",
            "Generation 3 - Current best internal CV score: 0.22505685066179196\n",
            "\n",
            "Generation 4 - Current best internal CV score: 0.22505685066179196\n",
            "\n",
            "Generation 5 - Current best internal CV score: 0.22505685066179196\n",
            "\n",
            "Generation 6 - Current best internal CV score: 0.22665400875688646\n",
            "\n",
            "Generation 7 - Current best internal CV score: 0.22665400875688646\n",
            "\n",
            "Generation 8 - Current best internal CV score: 0.22665400875688646\n",
            "\n",
            "Generation 9 - Current best internal CV score: 0.22665400875688646\n",
            "\n",
            "Generation 10 - Current best internal CV score: 0.22877821331875947\n",
            "\n",
            "10.01 minutes have elapsed. TPOT will close down.\n",
            "TPOT closed during evaluation in one generation.\n",
            "WARNING: TPOT may not provide a good pipeline if TPOT is stopped/interrupted in a early generation.\n",
            "\n",
            "\n",
            "TPOT closed prematurely. Will use the current best pipeline.\n",
            "\n",
            "Best pipeline: DecisionTreeClassifier(DecisionTreeClassifier(input_matrix, criterion=entropy, max_depth=3, min_samples_leaf=5, min_samples_split=9), criterion=entropy, max_depth=4, min_samples_leaf=11, min_samples_split=7)\n"
          ],
          "name": "stdout"
        },
        {
          "output_type": "execute_result",
          "data": {
            "text/plain": [
              "TPOTClassifier(config_dict=None, crossover_rate=0.1, cv=5,\n",
              "               disable_update_check=False, early_stop=None, generations=100,\n",
              "               log_file=None, max_eval_time_mins=0.04, max_time_mins=10,\n",
              "               memory=None, mutation_rate=0.9, n_jobs=1, offspring_size=None,\n",
              "               periodic_checkpoint_folder=None, population_size=40,\n",
              "               random_state=None, scoring=None, subsample=1.0, template=None,\n",
              "               use_dask=False, verbosity=2, warm_start=False)"
            ]
          },
          "metadata": {
            "tags": []
          },
          "execution_count": 41
        }
      ]
    },
    {
      "cell_type": "markdown",
      "metadata": {
        "id": "5ozXbE2dVaJd"
      },
      "source": [
        "# 2 Averiguar Hora"
      ]
    },
    {
      "cell_type": "code",
      "metadata": {
        "colab": {
          "base_uri": "https://localhost:8080/"
        },
        "id": "9eozODQTVeld",
        "outputId": "bb8d1f94-f1c1-4e5b-ace3-8587d29df286"
      },
      "source": [
        "estacion_gc_df = demanda_est_gc_df_2.rename(columns={'HORA':'target'})\n",
        "estacion_gc_df\n",
        "target_class = estacion_gc_df['target'].values\n",
        "print(target_class)\n",
        "estacion_gc_df = estacion_gc_df.drop(['target'], axis=1)\n",
        "estacion_gc_df\n",
        "estacion_gc_df.info()"
      ],
      "execution_count": null,
      "outputs": [
        {
          "output_type": "stream",
          "text": [
            "[ 2  4  6 ... 13 14 15]\n",
            "<class 'pandas.core.frame.DataFrame'>\n",
            "RangeIndex: 7525 entries, 0 to 7524\n",
            "Data columns (total 11 columns):\n",
            " #   Column     Non-Null Count  Dtype  \n",
            "---  ------     --------------  -----  \n",
            " 0   count      7525 non-null   int64  \n",
            " 1   anio       7525 non-null   int64  \n",
            " 2   nmes       7525 non-null   int64  \n",
            " 3   ndia       7525 non-null   int64  \n",
            " 4   wdia       7525 non-null   int64  \n",
            " 5   dia_habil  7525 non-null   int64  \n",
            " 6   DD         7525 non-null   int64  \n",
            " 7   FF         7525 non-null   int64  \n",
            " 8   HUM        7525 non-null   float64\n",
            " 9   PNM        7525 non-null   float64\n",
            " 10  TEMP       7525 non-null   float64\n",
            "dtypes: float64(3), int64(8)\n",
            "memory usage: 646.8 KB\n"
          ],
          "name": "stdout"
        }
      ]
    },
    {
      "cell_type": "code",
      "metadata": {
        "colab": {
          "base_uri": "https://localhost:8080/"
        },
        "id": "KWv_X87eYa68",
        "outputId": "342cbf6d-40f3-47f5-8ad3-69ee7ce29ffc"
      },
      "source": [
        "from sklearn.preprocessing import MultiLabelBinarizer\n",
        "mlb = MultiLabelBinarizer()\n",
        "demandaTransform = mlb.fit_transform([{str(val)} for val in estacion_gc_df['count'].values])\n",
        "\n",
        "demandaTransform"
      ],
      "execution_count": null,
      "outputs": [
        {
          "output_type": "execute_result",
          "data": {
            "text/plain": [
              "array([[0, 0, 0, ..., 0, 0, 0],\n",
              "       [0, 0, 0, ..., 0, 0, 0],\n",
              "       [1, 0, 0, ..., 0, 0, 0],\n",
              "       ...,\n",
              "       [0, 0, 0, ..., 1, 0, 0],\n",
              "       [1, 0, 0, ..., 0, 0, 0],\n",
              "       [0, 1, 0, ..., 0, 0, 0]])"
            ]
          },
          "metadata": {
            "tags": []
          },
          "execution_count": 43
        }
      ]
    },
    {
      "cell_type": "code",
      "metadata": {
        "colab": {
          "base_uri": "https://localhost:8080/"
        },
        "id": "hSX9Nse3YxYG",
        "outputId": "a861777c-b730-40d0-c348-66e0cf922d68"
      },
      "source": [
        "demandaTransform.shape"
      ],
      "execution_count": null,
      "outputs": [
        {
          "output_type": "execute_result",
          "data": {
            "text/plain": [
              "(7525, 49)"
            ]
          },
          "metadata": {
            "tags": []
          },
          "execution_count": 44
        }
      ]
    },
    {
      "cell_type": "code",
      "metadata": {
        "colab": {
          "base_uri": "https://localhost:8080/"
        },
        "id": "u6Rt76BEY4hI",
        "outputId": "fee25f86-2635-4571-cc41-4a8a9fbfcf09"
      },
      "source": [
        "estacion_gc_df_new = np.hstack((estacion_gc_df.values,demandaTransform))\n",
        "estacion_gc_df_new.shape"
      ],
      "execution_count": null,
      "outputs": [
        {
          "output_type": "execute_result",
          "data": {
            "text/plain": [
              "(7525, 60)"
            ]
          },
          "metadata": {
            "tags": []
          },
          "execution_count": 46
        }
      ]
    },
    {
      "cell_type": "code",
      "metadata": {
        "id": "rJSqqGMch12n",
        "colab": {
          "base_uri": "https://localhost:8080/"
        },
        "outputId": "e33c69a3-a452-41f4-98a0-c88fb182a8a0"
      },
      "source": [
        "training_indices, validation_indices = training_indices, testing_indices = train_test_split(estacion_gc_df.index, stratify = target_class, train_size=0.75, test_size=0.25)\n",
        "training_indices.size, validation_indices.size"
      ],
      "execution_count": null,
      "outputs": [
        {
          "output_type": "execute_result",
          "data": {
            "text/plain": [
              "(5643, 1882)"
            ]
          },
          "metadata": {
            "tags": []
          },
          "execution_count": 45
        }
      ]
    },
    {
      "cell_type": "code",
      "metadata": {
        "colab": {
          "base_uri": "https://localhost:8080/",
          "height": 670,
          "referenced_widgets": [
            "361d8d717bc542438035e3f67b2992a5",
            "e75475f548a147cab5b19c6658349140",
            "fa233d61aabf44aa9aba015a49a4687a",
            "2788c6c4424a41f9a3b3e732175b4d01",
            "f1f6819ce54844f28b3968fd744a806b",
            "a15ca4ac8ce44628a568cea8d2f1ee35",
            "a964f429db174e29aea849d81a8a37b5",
            "555867dfe2d346e281aef98269e1fd15"
          ]
        },
        "id": "J_MQCyE8WHCW",
        "outputId": "f55d1151-b4dd-4011-f456-3bbdd424f9ff"
      },
      "source": [
        "tpot = TPOTClassifier(verbosity=2, max_time_mins=10, max_eval_time_mins=0.04, population_size=40)\n",
        "tpot.fit(estacion_gc_df_new[training_indices], target_class[training_indices])"
      ],
      "execution_count": null,
      "outputs": [
        {
          "output_type": "display_data",
          "data": {
            "application/vnd.jupyter.widget-view+json": {
              "model_id": "361d8d717bc542438035e3f67b2992a5",
              "version_minor": 0,
              "version_major": 2
            },
            "text/plain": [
              "HBox(children=(FloatProgress(value=0.0, description='Optimization Progress', max=40.0, style=ProgressStyle(des…"
            ]
          },
          "metadata": {
            "tags": []
          }
        },
        {
          "output_type": "stream",
          "text": [
            "\r\n",
            "Generation 1 - Current best internal CV score: 0.11554158892888329\n",
            "\n",
            "Generation 2 - Current best internal CV score: 0.11554158892888329\n",
            "\n",
            "Generation 3 - Current best internal CV score: 0.11554158892888329\n",
            "\n",
            "Generation 4 - Current best internal CV score: 0.11554158892888329\n",
            "\n",
            "Generation 5 - Current best internal CV score: 0.11554158892888329\n",
            "\n",
            "Generation 6 - Current best internal CV score: 0.11554158892888329\n",
            "\n",
            "Generation 7 - Current best internal CV score: 0.11554158892888329\n",
            "\n",
            "Generation 8 - Current best internal CV score: 0.1181989647525897\n",
            "\n",
            "Generation 9 - Current best internal CV score: 0.1181989647525897\n",
            "\n",
            "Generation 10 - Current best internal CV score: 0.1181989647525897\n",
            "\n",
            "Generation 11 - Current best internal CV score: 0.1181989647525897\n",
            "\n",
            "10.02 minutes have elapsed. TPOT will close down.\n",
            "TPOT closed during evaluation in one generation.\n",
            "WARNING: TPOT may not provide a good pipeline if TPOT is stopped/interrupted in a early generation.\n",
            "\n",
            "\n",
            "TPOT closed prematurely. Will use the current best pipeline.\n",
            "\n",
            "Best pipeline: ExtraTreesClassifier(SelectFwe(input_matrix, alpha=0.039), bootstrap=True, criterion=gini, max_features=0.2, min_samples_leaf=3, min_samples_split=16, n_estimators=100)\n"
          ],
          "name": "stdout"
        },
        {
          "output_type": "execute_result",
          "data": {
            "text/plain": [
              "TPOTClassifier(config_dict=None, crossover_rate=0.1, cv=5,\n",
              "               disable_update_check=False, early_stop=None, generations=100,\n",
              "               log_file=None, max_eval_time_mins=0.04, max_time_mins=10,\n",
              "               memory=None, mutation_rate=0.9, n_jobs=1, offspring_size=None,\n",
              "               periodic_checkpoint_folder=None, population_size=40,\n",
              "               random_state=None, scoring=None, subsample=1.0, template=None,\n",
              "               use_dask=False, verbosity=2, warm_start=False)"
            ]
          },
          "metadata": {
            "tags": []
          },
          "execution_count": 47
        }
      ]
    },
    {
      "cell_type": "markdown",
      "metadata": {
        "id": "QyS3p5EkWR5o"
      },
      "source": [
        "# =======================================================================\n"
      ]
    },
    {
      "cell_type": "markdown",
      "metadata": {
        "id": "eXa3wuiMWAZu"
      },
      "source": [
        ""
      ]
    },
    {
      "cell_type": "code",
      "metadata": {
        "id": "BO2KzlL2QcDv"
      },
      "source": [
        "demanda_est_gc_df_2.to_csv('/drive/My Drive/Datasets-bicing/estacion-godoy-cruz-demanda-final.csv')"
      ],
      "execution_count": null,
      "outputs": []
    }
  ]
}