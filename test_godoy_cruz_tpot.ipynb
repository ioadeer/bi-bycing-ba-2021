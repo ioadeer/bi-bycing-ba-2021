{
  "nbformat": 4,
  "nbformat_minor": 0,
  "metadata": {
    "colab": {
      "name": "test godoy cruz tpot.ipynb",
      "provenance": [],
      "authorship_tag": "ABX9TyMvog/M4myYLQNNfvwWokBE",
      "include_colab_link": true
    },
    "kernelspec": {
      "name": "python3",
      "display_name": "Python 3"
    },
    "language_info": {
      "name": "python"
    },
    "widgets": {
      "application/vnd.jupyter.widget-state+json": {
        "627c786426dc4a948301216073375462": {
          "model_module": "@jupyter-widgets/controls",
          "model_name": "HBoxModel",
          "state": {
            "_view_name": "HBoxView",
            "_dom_classes": [],
            "_model_name": "HBoxModel",
            "_view_module": "@jupyter-widgets/controls",
            "_model_module_version": "1.5.0",
            "_view_count": null,
            "_view_module_version": "1.5.0",
            "box_style": "",
            "layout": "IPY_MODEL_a6f406a8e3aa4ed89bbb30134cf61f9d",
            "_model_module": "@jupyter-widgets/controls",
            "children": [
              "IPY_MODEL_1f19002b14e8480d8c88040c169d15f2",
              "IPY_MODEL_0c03b8742b8f4f5fb1ed9d5f30948970"
            ]
          }
        },
        "a6f406a8e3aa4ed89bbb30134cf61f9d": {
          "model_module": "@jupyter-widgets/base",
          "model_name": "LayoutModel",
          "state": {
            "_view_name": "LayoutView",
            "grid_template_rows": null,
            "right": null,
            "justify_content": null,
            "_view_module": "@jupyter-widgets/base",
            "overflow": null,
            "_model_module_version": "1.2.0",
            "_view_count": null,
            "flex_flow": null,
            "width": null,
            "min_width": null,
            "border": null,
            "align_items": null,
            "bottom": null,
            "_model_module": "@jupyter-widgets/base",
            "top": null,
            "grid_column": null,
            "overflow_y": null,
            "overflow_x": null,
            "grid_auto_flow": null,
            "grid_area": null,
            "grid_template_columns": null,
            "flex": null,
            "_model_name": "LayoutModel",
            "justify_items": null,
            "grid_row": null,
            "max_height": null,
            "align_content": null,
            "visibility": null,
            "align_self": null,
            "height": null,
            "min_height": null,
            "padding": null,
            "grid_auto_rows": null,
            "grid_gap": null,
            "max_width": null,
            "order": null,
            "_view_module_version": "1.2.0",
            "grid_template_areas": null,
            "object_position": null,
            "object_fit": null,
            "grid_auto_columns": null,
            "margin": null,
            "display": null,
            "left": null
          }
        },
        "1f19002b14e8480d8c88040c169d15f2": {
          "model_module": "@jupyter-widgets/controls",
          "model_name": "FloatProgressModel",
          "state": {
            "_view_name": "ProgressView",
            "style": "IPY_MODEL_b263f9b6166d4aca91adc4b901c5dacb",
            "_dom_classes": [],
            "description": "Optimization Progress: ",
            "_model_name": "FloatProgressModel",
            "bar_style": "",
            "max": 40,
            "_view_module": "@jupyter-widgets/controls",
            "_model_module_version": "1.5.0",
            "value": 40,
            "_view_count": null,
            "_view_module_version": "1.5.0",
            "orientation": "horizontal",
            "min": 0,
            "description_tooltip": null,
            "_model_module": "@jupyter-widgets/controls",
            "layout": "IPY_MODEL_e1d32ee3345b41a79345fc3873ce258f"
          }
        },
        "0c03b8742b8f4f5fb1ed9d5f30948970": {
          "model_module": "@jupyter-widgets/controls",
          "model_name": "HTMLModel",
          "state": {
            "_view_name": "HTMLView",
            "style": "IPY_MODEL_210f3ff6c85549ba935e97f5b44bda4a",
            "_dom_classes": [],
            "description": "",
            "_model_name": "HTMLModel",
            "placeholder": "​",
            "_view_module": "@jupyter-widgets/controls",
            "_model_module_version": "1.5.0",
            "value": " 515/? [09:48&lt;00:00,  6.53s/pipeline]",
            "_view_count": null,
            "_view_module_version": "1.5.0",
            "description_tooltip": null,
            "_model_module": "@jupyter-widgets/controls",
            "layout": "IPY_MODEL_05d610bd39e84d38ba9cd6a466d90842"
          }
        },
        "b263f9b6166d4aca91adc4b901c5dacb": {
          "model_module": "@jupyter-widgets/controls",
          "model_name": "ProgressStyleModel",
          "state": {
            "_view_name": "StyleView",
            "_model_name": "ProgressStyleModel",
            "description_width": "initial",
            "_view_module": "@jupyter-widgets/base",
            "_model_module_version": "1.5.0",
            "_view_count": null,
            "_view_module_version": "1.2.0",
            "bar_color": null,
            "_model_module": "@jupyter-widgets/controls"
          }
        },
        "e1d32ee3345b41a79345fc3873ce258f": {
          "model_module": "@jupyter-widgets/base",
          "model_name": "LayoutModel",
          "state": {
            "_view_name": "LayoutView",
            "grid_template_rows": null,
            "right": null,
            "justify_content": null,
            "_view_module": "@jupyter-widgets/base",
            "overflow": null,
            "_model_module_version": "1.2.0",
            "_view_count": null,
            "flex_flow": null,
            "width": null,
            "min_width": null,
            "border": null,
            "align_items": null,
            "bottom": null,
            "_model_module": "@jupyter-widgets/base",
            "top": null,
            "grid_column": null,
            "overflow_y": null,
            "overflow_x": null,
            "grid_auto_flow": null,
            "grid_area": null,
            "grid_template_columns": null,
            "flex": null,
            "_model_name": "LayoutModel",
            "justify_items": null,
            "grid_row": null,
            "max_height": null,
            "align_content": null,
            "visibility": null,
            "align_self": null,
            "height": null,
            "min_height": null,
            "padding": null,
            "grid_auto_rows": null,
            "grid_gap": null,
            "max_width": null,
            "order": null,
            "_view_module_version": "1.2.0",
            "grid_template_areas": null,
            "object_position": null,
            "object_fit": null,
            "grid_auto_columns": null,
            "margin": null,
            "display": null,
            "left": null
          }
        },
        "210f3ff6c85549ba935e97f5b44bda4a": {
          "model_module": "@jupyter-widgets/controls",
          "model_name": "DescriptionStyleModel",
          "state": {
            "_view_name": "StyleView",
            "_model_name": "DescriptionStyleModel",
            "description_width": "",
            "_view_module": "@jupyter-widgets/base",
            "_model_module_version": "1.5.0",
            "_view_count": null,
            "_view_module_version": "1.2.0",
            "_model_module": "@jupyter-widgets/controls"
          }
        },
        "05d610bd39e84d38ba9cd6a466d90842": {
          "model_module": "@jupyter-widgets/base",
          "model_name": "LayoutModel",
          "state": {
            "_view_name": "LayoutView",
            "grid_template_rows": null,
            "right": null,
            "justify_content": null,
            "_view_module": "@jupyter-widgets/base",
            "overflow": null,
            "_model_module_version": "1.2.0",
            "_view_count": null,
            "flex_flow": null,
            "width": null,
            "min_width": null,
            "border": null,
            "align_items": null,
            "bottom": null,
            "_model_module": "@jupyter-widgets/base",
            "top": null,
            "grid_column": null,
            "overflow_y": null,
            "overflow_x": null,
            "grid_auto_flow": null,
            "grid_area": null,
            "grid_template_columns": null,
            "flex": null,
            "_model_name": "LayoutModel",
            "justify_items": null,
            "grid_row": null,
            "max_height": null,
            "align_content": null,
            "visibility": null,
            "align_self": null,
            "height": null,
            "min_height": null,
            "padding": null,
            "grid_auto_rows": null,
            "grid_gap": null,
            "max_width": null,
            "order": null,
            "_view_module_version": "1.2.0",
            "grid_template_areas": null,
            "object_position": null,
            "object_fit": null,
            "grid_auto_columns": null,
            "margin": null,
            "display": null,
            "left": null
          }
        },
        "20324ca3e4d3437c82b0bd973caf1393": {
          "model_module": "@jupyter-widgets/controls",
          "model_name": "HBoxModel",
          "state": {
            "_view_name": "HBoxView",
            "_dom_classes": [],
            "_model_name": "HBoxModel",
            "_view_module": "@jupyter-widgets/controls",
            "_model_module_version": "1.5.0",
            "_view_count": null,
            "_view_module_version": "1.5.0",
            "box_style": "",
            "layout": "IPY_MODEL_ee6476f5031e46c5b34276c6e2b9933b",
            "_model_module": "@jupyter-widgets/controls",
            "children": [
              "IPY_MODEL_6042441474584f27b940de6abdc4fb50",
              "IPY_MODEL_e75e2c5cd3134b42a79d94ecb50484f1"
            ]
          }
        },
        "ee6476f5031e46c5b34276c6e2b9933b": {
          "model_module": "@jupyter-widgets/base",
          "model_name": "LayoutModel",
          "state": {
            "_view_name": "LayoutView",
            "grid_template_rows": null,
            "right": null,
            "justify_content": null,
            "_view_module": "@jupyter-widgets/base",
            "overflow": null,
            "_model_module_version": "1.2.0",
            "_view_count": null,
            "flex_flow": null,
            "width": null,
            "min_width": null,
            "border": null,
            "align_items": null,
            "bottom": null,
            "_model_module": "@jupyter-widgets/base",
            "top": null,
            "grid_column": null,
            "overflow_y": null,
            "overflow_x": null,
            "grid_auto_flow": null,
            "grid_area": null,
            "grid_template_columns": null,
            "flex": null,
            "_model_name": "LayoutModel",
            "justify_items": null,
            "grid_row": null,
            "max_height": null,
            "align_content": null,
            "visibility": null,
            "align_self": null,
            "height": null,
            "min_height": null,
            "padding": null,
            "grid_auto_rows": null,
            "grid_gap": null,
            "max_width": null,
            "order": null,
            "_view_module_version": "1.2.0",
            "grid_template_areas": null,
            "object_position": null,
            "object_fit": null,
            "grid_auto_columns": null,
            "margin": null,
            "display": null,
            "left": null
          }
        },
        "6042441474584f27b940de6abdc4fb50": {
          "model_module": "@jupyter-widgets/controls",
          "model_name": "FloatProgressModel",
          "state": {
            "_view_name": "ProgressView",
            "style": "IPY_MODEL_fd993627a3cb451fbe5c3236d8a04168",
            "_dom_classes": [],
            "description": "Optimization Progress: ",
            "_model_name": "FloatProgressModel",
            "bar_style": "",
            "max": 40,
            "_view_module": "@jupyter-widgets/controls",
            "_model_module_version": "1.5.0",
            "value": 40,
            "_view_count": null,
            "_view_module_version": "1.5.0",
            "orientation": "horizontal",
            "min": 0,
            "description_tooltip": null,
            "_model_module": "@jupyter-widgets/controls",
            "layout": "IPY_MODEL_49bf72fc01244d0dbb00010820510bac"
          }
        },
        "e75e2c5cd3134b42a79d94ecb50484f1": {
          "model_module": "@jupyter-widgets/controls",
          "model_name": "HTMLModel",
          "state": {
            "_view_name": "HTMLView",
            "style": "IPY_MODEL_cb79f1deadf74b0c8da86623db03252e",
            "_dom_classes": [],
            "description": "",
            "_model_name": "HTMLModel",
            "placeholder": "​",
            "_view_module": "@jupyter-widgets/controls",
            "_model_module_version": "1.5.0",
            "value": " 623/? [09:53&lt;00:00,  4.75s/pipeline]",
            "_view_count": null,
            "_view_module_version": "1.5.0",
            "description_tooltip": null,
            "_model_module": "@jupyter-widgets/controls",
            "layout": "IPY_MODEL_0bd51f98d70f4acb935805472dad9afd"
          }
        },
        "fd993627a3cb451fbe5c3236d8a04168": {
          "model_module": "@jupyter-widgets/controls",
          "model_name": "ProgressStyleModel",
          "state": {
            "_view_name": "StyleView",
            "_model_name": "ProgressStyleModel",
            "description_width": "initial",
            "_view_module": "@jupyter-widgets/base",
            "_model_module_version": "1.5.0",
            "_view_count": null,
            "_view_module_version": "1.2.0",
            "bar_color": null,
            "_model_module": "@jupyter-widgets/controls"
          }
        },
        "49bf72fc01244d0dbb00010820510bac": {
          "model_module": "@jupyter-widgets/base",
          "model_name": "LayoutModel",
          "state": {
            "_view_name": "LayoutView",
            "grid_template_rows": null,
            "right": null,
            "justify_content": null,
            "_view_module": "@jupyter-widgets/base",
            "overflow": null,
            "_model_module_version": "1.2.0",
            "_view_count": null,
            "flex_flow": null,
            "width": null,
            "min_width": null,
            "border": null,
            "align_items": null,
            "bottom": null,
            "_model_module": "@jupyter-widgets/base",
            "top": null,
            "grid_column": null,
            "overflow_y": null,
            "overflow_x": null,
            "grid_auto_flow": null,
            "grid_area": null,
            "grid_template_columns": null,
            "flex": null,
            "_model_name": "LayoutModel",
            "justify_items": null,
            "grid_row": null,
            "max_height": null,
            "align_content": null,
            "visibility": null,
            "align_self": null,
            "height": null,
            "min_height": null,
            "padding": null,
            "grid_auto_rows": null,
            "grid_gap": null,
            "max_width": null,
            "order": null,
            "_view_module_version": "1.2.0",
            "grid_template_areas": null,
            "object_position": null,
            "object_fit": null,
            "grid_auto_columns": null,
            "margin": null,
            "display": null,
            "left": null
          }
        },
        "cb79f1deadf74b0c8da86623db03252e": {
          "model_module": "@jupyter-widgets/controls",
          "model_name": "DescriptionStyleModel",
          "state": {
            "_view_name": "StyleView",
            "_model_name": "DescriptionStyleModel",
            "description_width": "",
            "_view_module": "@jupyter-widgets/base",
            "_model_module_version": "1.5.0",
            "_view_count": null,
            "_view_module_version": "1.2.0",
            "_model_module": "@jupyter-widgets/controls"
          }
        },
        "0bd51f98d70f4acb935805472dad9afd": {
          "model_module": "@jupyter-widgets/base",
          "model_name": "LayoutModel",
          "state": {
            "_view_name": "LayoutView",
            "grid_template_rows": null,
            "right": null,
            "justify_content": null,
            "_view_module": "@jupyter-widgets/base",
            "overflow": null,
            "_model_module_version": "1.2.0",
            "_view_count": null,
            "flex_flow": null,
            "width": null,
            "min_width": null,
            "border": null,
            "align_items": null,
            "bottom": null,
            "_model_module": "@jupyter-widgets/base",
            "top": null,
            "grid_column": null,
            "overflow_y": null,
            "overflow_x": null,
            "grid_auto_flow": null,
            "grid_area": null,
            "grid_template_columns": null,
            "flex": null,
            "_model_name": "LayoutModel",
            "justify_items": null,
            "grid_row": null,
            "max_height": null,
            "align_content": null,
            "visibility": null,
            "align_self": null,
            "height": null,
            "min_height": null,
            "padding": null,
            "grid_auto_rows": null,
            "grid_gap": null,
            "max_width": null,
            "order": null,
            "_view_module_version": "1.2.0",
            "grid_template_areas": null,
            "object_position": null,
            "object_fit": null,
            "grid_auto_columns": null,
            "margin": null,
            "display": null,
            "left": null
          }
        }
      }
    }
  },
  "cells": [
    {
      "cell_type": "markdown",
      "metadata": {
        "id": "view-in-github",
        "colab_type": "text"
      },
      "source": [
        "<a href=\"https://colab.research.google.com/github/ioadeer/bi-bycing-ba-2021/blob/main/test_godoy_cruz_tpot.ipynb\" target=\"_parent\"><img src=\"https://colab.research.google.com/assets/colab-badge.svg\" alt=\"Open In Colab\"/></a>"
      ]
    },
    {
      "cell_type": "code",
      "metadata": {
        "id": "UIuz5_ODKGMf"
      },
      "source": [
        "# Code to read csv file into Colaboratory:\n",
        "!pip install -U -q PyDrive\n",
        "from pydrive.auth import GoogleAuth\n",
        "from pydrive.drive import GoogleDrive\n",
        "from google.colab import auth\n",
        "\n",
        "from oauth2client.client import GoogleCredentials\n",
        "# Authenticate and create the PyDrive client.\n",
        "auth.authenticate_user()\n",
        "gauth = GoogleAuth()\n",
        "gauth.credentials = GoogleCredentials.get_application_default()\n",
        "drive = GoogleDrive(gauth)"
      ],
      "execution_count": 2,
      "outputs": []
    },
    {
      "cell_type": "code",
      "metadata": {
        "colab": {
          "base_uri": "https://localhost:8080/"
        },
        "id": "w-4lrigzMLsZ",
        "outputId": "14036f2b-8cd4-4879-fdce-1461210cd3b1"
      },
      "source": [
        "!pip install tpot"
      ],
      "execution_count": 4,
      "outputs": [
        {
          "output_type": "stream",
          "text": [
            "Collecting tpot\n",
            "\u001b[?25l  Downloading https://files.pythonhosted.org/packages/b2/55/a7185198f554ea19758e5ac4641f100c94cba4585e738e2e48e3c40a0b7f/TPOT-0.11.7-py3-none-any.whl (87kB)\n",
            "\r\u001b[K     |███▊                            | 10kB 14.2MB/s eta 0:00:01\r\u001b[K     |███████▌                        | 20kB 7.7MB/s eta 0:00:01\r\u001b[K     |███████████▎                    | 30kB 5.4MB/s eta 0:00:01\r\u001b[K     |███████████████                 | 40kB 5.3MB/s eta 0:00:01\r\u001b[K     |██████████████████▉             | 51kB 2.7MB/s eta 0:00:01\r\u001b[K     |██████████████████████▋         | 61kB 3.0MB/s eta 0:00:01\r\u001b[K     |██████████████████████████▎     | 71kB 3.3MB/s eta 0:00:01\r\u001b[K     |██████████████████████████████  | 81kB 3.5MB/s eta 0:00:01\r\u001b[K     |████████████████████████████████| 92kB 2.7MB/s \n",
            "\u001b[?25hCollecting stopit>=1.1.1\n",
            "  Downloading https://files.pythonhosted.org/packages/35/58/e8bb0b0fb05baf07bbac1450c447d753da65f9701f551dca79823ce15d50/stopit-1.1.2.tar.gz\n",
            "Collecting deap>=1.2\n",
            "\u001b[?25l  Downloading https://files.pythonhosted.org/packages/99/d1/803c7a387d8a7e6866160b1541307f88d534da4291572fb32f69d2548afb/deap-1.3.1-cp37-cp37m-manylinux2010_x86_64.whl (157kB)\n",
            "\u001b[K     |████████████████████████████████| 163kB 18.3MB/s \n",
            "\u001b[?25hRequirement already satisfied: pandas>=0.24.2 in /usr/local/lib/python3.7/dist-packages (from tpot) (1.1.5)\n",
            "Requirement already satisfied: scikit-learn>=0.22.0 in /usr/local/lib/python3.7/dist-packages (from tpot) (0.22.2.post1)\n",
            "Requirement already satisfied: joblib>=0.13.2 in /usr/local/lib/python3.7/dist-packages (from tpot) (1.0.1)\n",
            "Requirement already satisfied: numpy>=1.16.3 in /usr/local/lib/python3.7/dist-packages (from tpot) (1.19.5)\n",
            "Requirement already satisfied: scipy>=1.3.1 in /usr/local/lib/python3.7/dist-packages (from tpot) (1.4.1)\n",
            "Collecting xgboost>=1.1.0\n",
            "\u001b[?25l  Downloading https://files.pythonhosted.org/packages/bb/35/169eec194bf1f9ef52ed670f5032ef2abaf6ed285cfadcb4b6026b800fc9/xgboost-1.4.2-py3-none-manylinux2010_x86_64.whl (166.7MB)\n",
            "\u001b[K     |████████████████████████████████| 166.7MB 84kB/s \n",
            "\u001b[?25hRequirement already satisfied: tqdm>=4.36.1 in /usr/local/lib/python3.7/dist-packages (from tpot) (4.41.1)\n",
            "Collecting update-checker>=0.16\n",
            "  Downloading https://files.pythonhosted.org/packages/0c/ba/8dd7fa5f0b1c6a8ac62f8f57f7e794160c1f86f31c6d0fb00f582372a3e4/update_checker-0.18.0-py3-none-any.whl\n",
            "Requirement already satisfied: pytz>=2017.2 in /usr/local/lib/python3.7/dist-packages (from pandas>=0.24.2->tpot) (2018.9)\n",
            "Requirement already satisfied: python-dateutil>=2.7.3 in /usr/local/lib/python3.7/dist-packages (from pandas>=0.24.2->tpot) (2.8.1)\n",
            "Requirement already satisfied: requests>=2.3.0 in /usr/local/lib/python3.7/dist-packages (from update-checker>=0.16->tpot) (2.23.0)\n",
            "Requirement already satisfied: six>=1.5 in /usr/local/lib/python3.7/dist-packages (from python-dateutil>=2.7.3->pandas>=0.24.2->tpot) (1.15.0)\n",
            "Requirement already satisfied: chardet<4,>=3.0.2 in /usr/local/lib/python3.7/dist-packages (from requests>=2.3.0->update-checker>=0.16->tpot) (3.0.4)\n",
            "Requirement already satisfied: certifi>=2017.4.17 in /usr/local/lib/python3.7/dist-packages (from requests>=2.3.0->update-checker>=0.16->tpot) (2021.5.30)\n",
            "Requirement already satisfied: urllib3!=1.25.0,!=1.25.1,<1.26,>=1.21.1 in /usr/local/lib/python3.7/dist-packages (from requests>=2.3.0->update-checker>=0.16->tpot) (1.24.3)\n",
            "Requirement already satisfied: idna<3,>=2.5 in /usr/local/lib/python3.7/dist-packages (from requests>=2.3.0->update-checker>=0.16->tpot) (2.10)\n",
            "Building wheels for collected packages: stopit\n",
            "  Building wheel for stopit (setup.py) ... \u001b[?25l\u001b[?25hdone\n",
            "  Created wheel for stopit: filename=stopit-1.1.2-cp37-none-any.whl size=11954 sha256=dbef93b8661dc9880dbbdab9655e97abfd1908a29b9b38d1c2191a7ac379cd29\n",
            "  Stored in directory: /root/.cache/pip/wheels/3c/85/2b/2580190404636bfc63e8de3dff629c03bb795021e1983a6cc7\n",
            "Successfully built stopit\n",
            "Installing collected packages: stopit, deap, xgboost, update-checker, tpot\n",
            "  Found existing installation: xgboost 0.90\n",
            "    Uninstalling xgboost-0.90:\n",
            "      Successfully uninstalled xgboost-0.90\n",
            "Successfully installed deap-1.3.1 stopit-1.1.2 tpot-0.11.7 update-checker-0.18.0 xgboost-1.4.2\n"
          ],
          "name": "stdout"
        }
      ]
    },
    {
      "cell_type": "code",
      "metadata": {
        "colab": {
          "base_uri": "https://localhost:8080/"
        },
        "id": "WVq7VEGuKbDX",
        "outputId": "111c89fe-e543-4651-a783-19280f67c1c5"
      },
      "source": [
        "\n",
        "# Import required libraries\n",
        "from tpot import TPOTClassifier\n",
        "from sklearn.model_selection import train_test_split\n",
        "import pandas as pd \n",
        "import numpy as np"
      ],
      "execution_count": 5,
      "outputs": [
        {
          "output_type": "stream",
          "text": [
            "/usr/local/lib/python3.7/dist-packages/sklearn/externals/six.py:31: FutureWarning: The module is deprecated in version 0.21 and will be removed in version 0.23 since we've dropped support for Python 2.7. Please rely on the official version of six (https://pypi.org/project/six/).\n",
            "  \"(https://pypi.org/project/six/).\", FutureWarning)\n",
            "/usr/local/lib/python3.7/dist-packages/sklearn/utils/deprecation.py:144: FutureWarning: The sklearn.neighbors.base module is  deprecated in version 0.22 and will be removed in version 0.24. The corresponding classes / functions should instead be imported from sklearn.neighbors. Anything that cannot be imported from sklearn.neighbors is now part of the private API.\n",
            "  warnings.warn(message, FutureWarning)\n"
          ],
          "name": "stderr"
        }
      ]
    },
    {
      "cell_type": "code",
      "metadata": {
        "colab": {
          "base_uri": "https://localhost:8080/",
          "height": 197
        },
        "id": "0A2WqazsagHr",
        "outputId": "4c0b5393-7ef1-49ae-b8fb-5d09c09ecd92"
      },
      "source": [
        "'''\n",
        "https://drive.google.com/file/d/1zFhldrGPDxeyvwOQX5_GDUVUGMkZXPFf/view?usp=sharing\n",
        "'''\n",
        "\n",
        "id = '1zFhldrGPDxeyvwOQX5_GDUVUGMkZXPFf'\n",
        "downloaded = drive.CreateFile({'id':id}) \n",
        "downloaded.GetContentFile('estacion-godoy-cruz-count-2020-2021-07-08-2021.csv') \n",
        "demanda_est_gc_df = pd.read_csv('estacion-godoy-cruz-count-2020-2021-07-08-2021.csv')\n",
        "demanda_est_gc_df = demanda_est_gc_df.drop(['Unnamed: 0'], axis=1)\n",
        "demanda_est_gc_df.head()"
      ],
      "execution_count": 8,
      "outputs": [
        {
          "output_type": "execute_result",
          "data": {
            "text/html": [
              "<div>\n",
              "<style scoped>\n",
              "    .dataframe tbody tr th:only-of-type {\n",
              "        vertical-align: middle;\n",
              "    }\n",
              "\n",
              "    .dataframe tbody tr th {\n",
              "        vertical-align: top;\n",
              "    }\n",
              "\n",
              "    .dataframe thead th {\n",
              "        text-align: right;\n",
              "    }\n",
              "</style>\n",
              "<table border=\"1\" class=\"dataframe\">\n",
              "  <thead>\n",
              "    <tr style=\"text-align: right;\">\n",
              "      <th></th>\n",
              "      <th>count</th>\n",
              "      <th>anio</th>\n",
              "      <th>nmes</th>\n",
              "      <th>ndia</th>\n",
              "      <th>wdia</th>\n",
              "      <th>hora</th>\n",
              "      <th>dia_habil</th>\n",
              "      <th>DD</th>\n",
              "      <th>FF</th>\n",
              "      <th>HORA</th>\n",
              "      <th>HUM</th>\n",
              "      <th>PNM</th>\n",
              "      <th>TEMP</th>\n",
              "    </tr>\n",
              "  </thead>\n",
              "  <tbody>\n",
              "    <tr>\n",
              "      <th>0</th>\n",
              "      <td>3</td>\n",
              "      <td>2020</td>\n",
              "      <td>1</td>\n",
              "      <td>1</td>\n",
              "      <td>3</td>\n",
              "      <td>2</td>\n",
              "      <td>1</td>\n",
              "      <td>160</td>\n",
              "      <td>13</td>\n",
              "      <td>2</td>\n",
              "      <td>72.0</td>\n",
              "      <td>1011.4</td>\n",
              "      <td>22.0</td>\n",
              "    </tr>\n",
              "    <tr>\n",
              "      <th>1</th>\n",
              "      <td>2</td>\n",
              "      <td>2020</td>\n",
              "      <td>1</td>\n",
              "      <td>1</td>\n",
              "      <td>3</td>\n",
              "      <td>4</td>\n",
              "      <td>1</td>\n",
              "      <td>180</td>\n",
              "      <td>11</td>\n",
              "      <td>4</td>\n",
              "      <td>87.0</td>\n",
              "      <td>1011.8</td>\n",
              "      <td>20.9</td>\n",
              "    </tr>\n",
              "    <tr>\n",
              "      <th>2</th>\n",
              "      <td>1</td>\n",
              "      <td>2020</td>\n",
              "      <td>1</td>\n",
              "      <td>1</td>\n",
              "      <td>3</td>\n",
              "      <td>6</td>\n",
              "      <td>1</td>\n",
              "      <td>180</td>\n",
              "      <td>15</td>\n",
              "      <td>6</td>\n",
              "      <td>87.0</td>\n",
              "      <td>1012.1</td>\n",
              "      <td>20.5</td>\n",
              "    </tr>\n",
              "    <tr>\n",
              "      <th>3</th>\n",
              "      <td>2</td>\n",
              "      <td>2020</td>\n",
              "      <td>1</td>\n",
              "      <td>1</td>\n",
              "      <td>3</td>\n",
              "      <td>7</td>\n",
              "      <td>1</td>\n",
              "      <td>160</td>\n",
              "      <td>15</td>\n",
              "      <td>7</td>\n",
              "      <td>85.0</td>\n",
              "      <td>1013.0</td>\n",
              "      <td>20.4</td>\n",
              "    </tr>\n",
              "    <tr>\n",
              "      <th>4</th>\n",
              "      <td>2</td>\n",
              "      <td>2020</td>\n",
              "      <td>1</td>\n",
              "      <td>1</td>\n",
              "      <td>3</td>\n",
              "      <td>11</td>\n",
              "      <td>1</td>\n",
              "      <td>140</td>\n",
              "      <td>17</td>\n",
              "      <td>11</td>\n",
              "      <td>63.0</td>\n",
              "      <td>1014.4</td>\n",
              "      <td>24.0</td>\n",
              "    </tr>\n",
              "  </tbody>\n",
              "</table>\n",
              "</div>"
            ],
            "text/plain": [
              "   count  anio  nmes  ndia  wdia  hora  ...   DD  FF HORA   HUM     PNM  TEMP\n",
              "0      3  2020     1     1     3     2  ...  160  13    2  72.0  1011.4  22.0\n",
              "1      2  2020     1     1     3     4  ...  180  11    4  87.0  1011.8  20.9\n",
              "2      1  2020     1     1     3     6  ...  180  15    6  87.0  1012.1  20.5\n",
              "3      2  2020     1     1     3     7  ...  160  15    7  85.0  1013.0  20.4\n",
              "4      2  2020     1     1     3    11  ...  140  17   11  63.0  1014.4  24.0\n",
              "\n",
              "[5 rows x 13 columns]"
            ]
          },
          "metadata": {
            "tags": []
          },
          "execution_count": 8
        }
      ]
    },
    {
      "cell_type": "code",
      "metadata": {
        "colab": {
          "base_uri": "https://localhost:8080/"
        },
        "id": "-heTbL-LMzga",
        "outputId": "71349b14-cc2a-46ed-ceda-e35848131065"
      },
      "source": [
        "demanda_est_gc_df.info()\n",
        "demanda_est_gc_df['DD'][demanda_est_gc_df['DD'] =='AEROPARQUE'] = 0\n",
        "demanda_est_gc_df['FF'][demanda_est_gc_df['FF'] =='AERO'] = 0\n",
        "demanda_est_gc_df['FF'].astype(str).astype(int)\n",
        "demanda_est_gc_df['FF'] = demanda_est_gc_df['FF'].astype(str).astype(int)\n",
        "demanda_est_gc_df['DD'] = demanda_est_gc_df['DD'].astype(str).astype(int)\n",
        "demanda_est_gc_df.info()\n",
        "#demanda_est_gc_df[demanda_est_gc_df['DD'] =='AEROPARQUE']"
      ],
      "execution_count": 25,
      "outputs": [
        {
          "output_type": "stream",
          "text": [
            "<class 'pandas.core.frame.DataFrame'>\n",
            "RangeIndex: 7529 entries, 0 to 7528\n",
            "Data columns (total 13 columns):\n",
            " #   Column     Non-Null Count  Dtype  \n",
            "---  ------     --------------  -----  \n",
            " 0   count      7529 non-null   int64  \n",
            " 1   anio       7529 non-null   int64  \n",
            " 2   nmes       7529 non-null   int64  \n",
            " 3   ndia       7529 non-null   int64  \n",
            " 4   wdia       7529 non-null   int64  \n",
            " 5   hora       7529 non-null   int64  \n",
            " 6   dia_habil  7529 non-null   int64  \n",
            " 7   DD         7529 non-null   object \n",
            " 8   FF         7529 non-null   object \n",
            " 9   HORA       7529 non-null   int64  \n",
            " 10  HUM        7529 non-null   float64\n",
            " 11  PNM        7529 non-null   float64\n",
            " 12  TEMP       7529 non-null   float64\n",
            "dtypes: float64(3), int64(8), object(2)\n",
            "memory usage: 764.8+ KB\n",
            "<class 'pandas.core.frame.DataFrame'>\n",
            "RangeIndex: 7529 entries, 0 to 7528\n",
            "Data columns (total 13 columns):\n",
            " #   Column     Non-Null Count  Dtype  \n",
            "---  ------     --------------  -----  \n",
            " 0   count      7529 non-null   int64  \n",
            " 1   anio       7529 non-null   int64  \n",
            " 2   nmes       7529 non-null   int64  \n",
            " 3   ndia       7529 non-null   int64  \n",
            " 4   wdia       7529 non-null   int64  \n",
            " 5   hora       7529 non-null   int64  \n",
            " 6   dia_habil  7529 non-null   int64  \n",
            " 7   DD         7529 non-null   int64  \n",
            " 8   FF         7529 non-null   int64  \n",
            " 9   HORA       7529 non-null   int64  \n",
            " 10  HUM        7529 non-null   float64\n",
            " 11  PNM        7529 non-null   float64\n",
            " 12  TEMP       7529 non-null   float64\n",
            "dtypes: float64(3), int64(10)\n",
            "memory usage: 764.8 KB\n"
          ],
          "name": "stdout"
        },
        {
          "output_type": "stream",
          "text": [
            "/usr/local/lib/python3.7/dist-packages/ipykernel_launcher.py:2: SettingWithCopyWarning: \n",
            "A value is trying to be set on a copy of a slice from a DataFrame\n",
            "\n",
            "See the caveats in the documentation: https://pandas.pydata.org/pandas-docs/stable/user_guide/indexing.html#returning-a-view-versus-a-copy\n",
            "  \n",
            "/usr/local/lib/python3.7/dist-packages/ipykernel_launcher.py:3: SettingWithCopyWarning: \n",
            "A value is trying to be set on a copy of a slice from a DataFrame\n",
            "\n",
            "See the caveats in the documentation: https://pandas.pydata.org/pandas-docs/stable/user_guide/indexing.html#returning-a-view-versus-a-copy\n",
            "  This is separate from the ipykernel package so we can avoid doing imports until\n"
          ],
          "name": "stderr"
        }
      ]
    },
    {
      "cell_type": "code",
      "metadata": {
        "colab": {
          "base_uri": "https://localhost:8080/",
          "height": 406
        },
        "id": "yj_iJnLYO6P9",
        "outputId": "089b30fa-fa07-4a12-87c8-6b18d97f1549"
      },
      "source": [
        "demanda_est_gc_df"
      ],
      "execution_count": 20,
      "outputs": [
        {
          "output_type": "execute_result",
          "data": {
            "text/html": [
              "<div>\n",
              "<style scoped>\n",
              "    .dataframe tbody tr th:only-of-type {\n",
              "        vertical-align: middle;\n",
              "    }\n",
              "\n",
              "    .dataframe tbody tr th {\n",
              "        vertical-align: top;\n",
              "    }\n",
              "\n",
              "    .dataframe thead th {\n",
              "        text-align: right;\n",
              "    }\n",
              "</style>\n",
              "<table border=\"1\" class=\"dataframe\">\n",
              "  <thead>\n",
              "    <tr style=\"text-align: right;\">\n",
              "      <th></th>\n",
              "      <th>count</th>\n",
              "      <th>anio</th>\n",
              "      <th>nmes</th>\n",
              "      <th>ndia</th>\n",
              "      <th>wdia</th>\n",
              "      <th>hora</th>\n",
              "      <th>dia_habil</th>\n",
              "      <th>DD</th>\n",
              "      <th>FF</th>\n",
              "      <th>HORA</th>\n",
              "      <th>HUM</th>\n",
              "      <th>PNM</th>\n",
              "      <th>TEMP</th>\n",
              "    </tr>\n",
              "  </thead>\n",
              "  <tbody>\n",
              "    <tr>\n",
              "      <th>0</th>\n",
              "      <td>3</td>\n",
              "      <td>2020</td>\n",
              "      <td>1</td>\n",
              "      <td>1</td>\n",
              "      <td>3</td>\n",
              "      <td>2</td>\n",
              "      <td>1</td>\n",
              "      <td>160</td>\n",
              "      <td>13</td>\n",
              "      <td>2</td>\n",
              "      <td>72.0</td>\n",
              "      <td>1011.4</td>\n",
              "      <td>22.0</td>\n",
              "    </tr>\n",
              "    <tr>\n",
              "      <th>1</th>\n",
              "      <td>2</td>\n",
              "      <td>2020</td>\n",
              "      <td>1</td>\n",
              "      <td>1</td>\n",
              "      <td>3</td>\n",
              "      <td>4</td>\n",
              "      <td>1</td>\n",
              "      <td>180</td>\n",
              "      <td>11</td>\n",
              "      <td>4</td>\n",
              "      <td>87.0</td>\n",
              "      <td>1011.8</td>\n",
              "      <td>20.9</td>\n",
              "    </tr>\n",
              "    <tr>\n",
              "      <th>2</th>\n",
              "      <td>1</td>\n",
              "      <td>2020</td>\n",
              "      <td>1</td>\n",
              "      <td>1</td>\n",
              "      <td>3</td>\n",
              "      <td>6</td>\n",
              "      <td>1</td>\n",
              "      <td>180</td>\n",
              "      <td>15</td>\n",
              "      <td>6</td>\n",
              "      <td>87.0</td>\n",
              "      <td>1012.1</td>\n",
              "      <td>20.5</td>\n",
              "    </tr>\n",
              "    <tr>\n",
              "      <th>3</th>\n",
              "      <td>2</td>\n",
              "      <td>2020</td>\n",
              "      <td>1</td>\n",
              "      <td>1</td>\n",
              "      <td>3</td>\n",
              "      <td>7</td>\n",
              "      <td>1</td>\n",
              "      <td>160</td>\n",
              "      <td>15</td>\n",
              "      <td>7</td>\n",
              "      <td>85.0</td>\n",
              "      <td>1013.0</td>\n",
              "      <td>20.4</td>\n",
              "    </tr>\n",
              "    <tr>\n",
              "      <th>4</th>\n",
              "      <td>2</td>\n",
              "      <td>2020</td>\n",
              "      <td>1</td>\n",
              "      <td>1</td>\n",
              "      <td>3</td>\n",
              "      <td>11</td>\n",
              "      <td>1</td>\n",
              "      <td>140</td>\n",
              "      <td>17</td>\n",
              "      <td>11</td>\n",
              "      <td>63.0</td>\n",
              "      <td>1014.4</td>\n",
              "      <td>24.0</td>\n",
              "    </tr>\n",
              "    <tr>\n",
              "      <th>...</th>\n",
              "      <td>...</td>\n",
              "      <td>...</td>\n",
              "      <td>...</td>\n",
              "      <td>...</td>\n",
              "      <td>...</td>\n",
              "      <td>...</td>\n",
              "      <td>...</td>\n",
              "      <td>...</td>\n",
              "      <td>...</td>\n",
              "      <td>...</td>\n",
              "      <td>...</td>\n",
              "      <td>...</td>\n",
              "      <td>...</td>\n",
              "    </tr>\n",
              "    <tr>\n",
              "      <th>7524</th>\n",
              "      <td>1</td>\n",
              "      <td>2021</td>\n",
              "      <td>6</td>\n",
              "      <td>153</td>\n",
              "      <td>3</td>\n",
              "      <td>11</td>\n",
              "      <td>1</td>\n",
              "      <td>200</td>\n",
              "      <td>13</td>\n",
              "      <td>11</td>\n",
              "      <td>73.0</td>\n",
              "      <td>1015.0</td>\n",
              "      <td>14.6</td>\n",
              "    </tr>\n",
              "    <tr>\n",
              "      <th>7525</th>\n",
              "      <td>2</td>\n",
              "      <td>2021</td>\n",
              "      <td>6</td>\n",
              "      <td>153</td>\n",
              "      <td>3</td>\n",
              "      <td>12</td>\n",
              "      <td>1</td>\n",
              "      <td>180</td>\n",
              "      <td>15</td>\n",
              "      <td>12</td>\n",
              "      <td>65.0</td>\n",
              "      <td>1015.3</td>\n",
              "      <td>14.7</td>\n",
              "    </tr>\n",
              "    <tr>\n",
              "      <th>7526</th>\n",
              "      <td>7</td>\n",
              "      <td>2021</td>\n",
              "      <td>6</td>\n",
              "      <td>153</td>\n",
              "      <td>3</td>\n",
              "      <td>13</td>\n",
              "      <td>1</td>\n",
              "      <td>200</td>\n",
              "      <td>9</td>\n",
              "      <td>13</td>\n",
              "      <td>56.0</td>\n",
              "      <td>1015.3</td>\n",
              "      <td>15.7</td>\n",
              "    </tr>\n",
              "    <tr>\n",
              "      <th>7527</th>\n",
              "      <td>1</td>\n",
              "      <td>2021</td>\n",
              "      <td>6</td>\n",
              "      <td>153</td>\n",
              "      <td>3</td>\n",
              "      <td>14</td>\n",
              "      <td>1</td>\n",
              "      <td>230</td>\n",
              "      <td>11</td>\n",
              "      <td>14</td>\n",
              "      <td>42.0</td>\n",
              "      <td>1013.7</td>\n",
              "      <td>17.5</td>\n",
              "    </tr>\n",
              "    <tr>\n",
              "      <th>7528</th>\n",
              "      <td>10</td>\n",
              "      <td>2021</td>\n",
              "      <td>6</td>\n",
              "      <td>153</td>\n",
              "      <td>3</td>\n",
              "      <td>15</td>\n",
              "      <td>1</td>\n",
              "      <td>200</td>\n",
              "      <td>9</td>\n",
              "      <td>15</td>\n",
              "      <td>40.0</td>\n",
              "      <td>1014.8</td>\n",
              "      <td>17.0</td>\n",
              "    </tr>\n",
              "  </tbody>\n",
              "</table>\n",
              "<p>7529 rows × 13 columns</p>\n",
              "</div>"
            ],
            "text/plain": [
              "      count  anio  nmes  ndia  wdia  hora  ...   DD  FF HORA   HUM     PNM  TEMP\n",
              "0         3  2020     1     1     3     2  ...  160  13    2  72.0  1011.4  22.0\n",
              "1         2  2020     1     1     3     4  ...  180  11    4  87.0  1011.8  20.9\n",
              "2         1  2020     1     1     3     6  ...  180  15    6  87.0  1012.1  20.5\n",
              "3         2  2020     1     1     3     7  ...  160  15    7  85.0  1013.0  20.4\n",
              "4         2  2020     1     1     3    11  ...  140  17   11  63.0  1014.4  24.0\n",
              "...     ...   ...   ...   ...   ...   ...  ...  ...  ..  ...   ...     ...   ...\n",
              "7524      1  2021     6   153     3    11  ...  200  13   11  73.0  1015.0  14.6\n",
              "7525      2  2021     6   153     3    12  ...  180  15   12  65.0  1015.3  14.7\n",
              "7526      7  2021     6   153     3    13  ...  200   9   13  56.0  1015.3  15.7\n",
              "7527      1  2021     6   153     3    14  ...  230  11   14  42.0  1013.7  17.5\n",
              "7528     10  2021     6   153     3    15  ...  200   9   15  40.0  1014.8  17.0\n",
              "\n",
              "[7529 rows x 13 columns]"
            ]
          },
          "metadata": {
            "tags": []
          },
          "execution_count": 20
        }
      ]
    },
    {
      "cell_type": "code",
      "metadata": {
        "colab": {
          "base_uri": "https://localhost:8080/"
        },
        "id": "v19u62shP0HR",
        "outputId": "1875a2f0-2f1e-47f2-c797-84896f5f7990"
      },
      "source": [
        "pd.isnull(demanda_est_gc_df).any()"
      ],
      "execution_count": 26,
      "outputs": [
        {
          "output_type": "execute_result",
          "data": {
            "text/plain": [
              "count        False\n",
              "anio         False\n",
              "nmes         False\n",
              "ndia         False\n",
              "wdia         False\n",
              "hora         False\n",
              "dia_habil    False\n",
              "DD           False\n",
              "FF           False\n",
              "HORA         False\n",
              "HUM          False\n",
              "PNM          False\n",
              "TEMP         False\n",
              "dtype: bool"
            ]
          },
          "metadata": {
            "tags": []
          },
          "execution_count": 26
        }
      ]
    },
    {
      "cell_type": "code",
      "metadata": {
        "colab": {
          "base_uri": "https://localhost:8080/"
        },
        "id": "drh03MdwRYTA",
        "outputId": "ae202fd7-351b-44f9-9403-1efa31575456"
      },
      "source": [
        "demanda_est_gc_df_2 = demanda_est_gc_df[demanda_est_gc_df['count'] != 62]\n",
        "demanda_est_gc_df_2 = demanda_est_gc_df_2[demanda_est_gc_df['count'] != 58]\n",
        "demanda_est_gc_df_2 = demanda_est_gc_df_2[demanda_est_gc_df['count'] != 47]\n",
        "demanda_est_gc_df_2 = demanda_est_gc_df_2[demanda_est_gc_df['count'] != 46]"
      ],
      "execution_count": 68,
      "outputs": [
        {
          "output_type": "stream",
          "text": [
            "/usr/local/lib/python3.7/dist-packages/ipykernel_launcher.py:2: UserWarning: Boolean Series key will be reindexed to match DataFrame index.\n",
            "  \n",
            "/usr/local/lib/python3.7/dist-packages/ipykernel_launcher.py:3: UserWarning: Boolean Series key will be reindexed to match DataFrame index.\n",
            "  This is separate from the ipykernel package so we can avoid doing imports until\n",
            "/usr/local/lib/python3.7/dist-packages/ipykernel_launcher.py:4: UserWarning: Boolean Series key will be reindexed to match DataFrame index.\n",
            "  after removing the cwd from sys.path.\n"
          ],
          "name": "stderr"
        }
      ]
    },
    {
      "cell_type": "code",
      "metadata": {
        "colab": {
          "base_uri": "https://localhost:8080/",
          "height": 406
        },
        "id": "InFYFzqrWMly",
        "outputId": "644a1448-0b5f-4f16-a03c-01e423ad73ad"
      },
      "source": [
        "demanda_est_gc_df_2"
      ],
      "execution_count": 69,
      "outputs": [
        {
          "output_type": "execute_result",
          "data": {
            "text/html": [
              "<div>\n",
              "<style scoped>\n",
              "    .dataframe tbody tr th:only-of-type {\n",
              "        vertical-align: middle;\n",
              "    }\n",
              "\n",
              "    .dataframe tbody tr th {\n",
              "        vertical-align: top;\n",
              "    }\n",
              "\n",
              "    .dataframe thead th {\n",
              "        text-align: right;\n",
              "    }\n",
              "</style>\n",
              "<table border=\"1\" class=\"dataframe\">\n",
              "  <thead>\n",
              "    <tr style=\"text-align: right;\">\n",
              "      <th></th>\n",
              "      <th>count</th>\n",
              "      <th>anio</th>\n",
              "      <th>nmes</th>\n",
              "      <th>ndia</th>\n",
              "      <th>wdia</th>\n",
              "      <th>hora</th>\n",
              "      <th>dia_habil</th>\n",
              "      <th>DD</th>\n",
              "      <th>FF</th>\n",
              "      <th>HORA</th>\n",
              "      <th>HUM</th>\n",
              "      <th>PNM</th>\n",
              "      <th>TEMP</th>\n",
              "    </tr>\n",
              "  </thead>\n",
              "  <tbody>\n",
              "    <tr>\n",
              "      <th>0</th>\n",
              "      <td>3</td>\n",
              "      <td>2020</td>\n",
              "      <td>1</td>\n",
              "      <td>1</td>\n",
              "      <td>3</td>\n",
              "      <td>2</td>\n",
              "      <td>1</td>\n",
              "      <td>160</td>\n",
              "      <td>13</td>\n",
              "      <td>2</td>\n",
              "      <td>72.0</td>\n",
              "      <td>1011.4</td>\n",
              "      <td>22.0</td>\n",
              "    </tr>\n",
              "    <tr>\n",
              "      <th>1</th>\n",
              "      <td>2</td>\n",
              "      <td>2020</td>\n",
              "      <td>1</td>\n",
              "      <td>1</td>\n",
              "      <td>3</td>\n",
              "      <td>4</td>\n",
              "      <td>1</td>\n",
              "      <td>180</td>\n",
              "      <td>11</td>\n",
              "      <td>4</td>\n",
              "      <td>87.0</td>\n",
              "      <td>1011.8</td>\n",
              "      <td>20.9</td>\n",
              "    </tr>\n",
              "    <tr>\n",
              "      <th>2</th>\n",
              "      <td>1</td>\n",
              "      <td>2020</td>\n",
              "      <td>1</td>\n",
              "      <td>1</td>\n",
              "      <td>3</td>\n",
              "      <td>6</td>\n",
              "      <td>1</td>\n",
              "      <td>180</td>\n",
              "      <td>15</td>\n",
              "      <td>6</td>\n",
              "      <td>87.0</td>\n",
              "      <td>1012.1</td>\n",
              "      <td>20.5</td>\n",
              "    </tr>\n",
              "    <tr>\n",
              "      <th>3</th>\n",
              "      <td>2</td>\n",
              "      <td>2020</td>\n",
              "      <td>1</td>\n",
              "      <td>1</td>\n",
              "      <td>3</td>\n",
              "      <td>7</td>\n",
              "      <td>1</td>\n",
              "      <td>160</td>\n",
              "      <td>15</td>\n",
              "      <td>7</td>\n",
              "      <td>85.0</td>\n",
              "      <td>1013.0</td>\n",
              "      <td>20.4</td>\n",
              "    </tr>\n",
              "    <tr>\n",
              "      <th>4</th>\n",
              "      <td>2</td>\n",
              "      <td>2020</td>\n",
              "      <td>1</td>\n",
              "      <td>1</td>\n",
              "      <td>3</td>\n",
              "      <td>11</td>\n",
              "      <td>1</td>\n",
              "      <td>140</td>\n",
              "      <td>17</td>\n",
              "      <td>11</td>\n",
              "      <td>63.0</td>\n",
              "      <td>1014.4</td>\n",
              "      <td>24.0</td>\n",
              "    </tr>\n",
              "    <tr>\n",
              "      <th>...</th>\n",
              "      <td>...</td>\n",
              "      <td>...</td>\n",
              "      <td>...</td>\n",
              "      <td>...</td>\n",
              "      <td>...</td>\n",
              "      <td>...</td>\n",
              "      <td>...</td>\n",
              "      <td>...</td>\n",
              "      <td>...</td>\n",
              "      <td>...</td>\n",
              "      <td>...</td>\n",
              "      <td>...</td>\n",
              "      <td>...</td>\n",
              "    </tr>\n",
              "    <tr>\n",
              "      <th>7524</th>\n",
              "      <td>1</td>\n",
              "      <td>2021</td>\n",
              "      <td>6</td>\n",
              "      <td>153</td>\n",
              "      <td>3</td>\n",
              "      <td>11</td>\n",
              "      <td>1</td>\n",
              "      <td>200</td>\n",
              "      <td>13</td>\n",
              "      <td>11</td>\n",
              "      <td>73.0</td>\n",
              "      <td>1015.0</td>\n",
              "      <td>14.6</td>\n",
              "    </tr>\n",
              "    <tr>\n",
              "      <th>7525</th>\n",
              "      <td>2</td>\n",
              "      <td>2021</td>\n",
              "      <td>6</td>\n",
              "      <td>153</td>\n",
              "      <td>3</td>\n",
              "      <td>12</td>\n",
              "      <td>1</td>\n",
              "      <td>180</td>\n",
              "      <td>15</td>\n",
              "      <td>12</td>\n",
              "      <td>65.0</td>\n",
              "      <td>1015.3</td>\n",
              "      <td>14.7</td>\n",
              "    </tr>\n",
              "    <tr>\n",
              "      <th>7526</th>\n",
              "      <td>7</td>\n",
              "      <td>2021</td>\n",
              "      <td>6</td>\n",
              "      <td>153</td>\n",
              "      <td>3</td>\n",
              "      <td>13</td>\n",
              "      <td>1</td>\n",
              "      <td>200</td>\n",
              "      <td>9</td>\n",
              "      <td>13</td>\n",
              "      <td>56.0</td>\n",
              "      <td>1015.3</td>\n",
              "      <td>15.7</td>\n",
              "    </tr>\n",
              "    <tr>\n",
              "      <th>7527</th>\n",
              "      <td>1</td>\n",
              "      <td>2021</td>\n",
              "      <td>6</td>\n",
              "      <td>153</td>\n",
              "      <td>3</td>\n",
              "      <td>14</td>\n",
              "      <td>1</td>\n",
              "      <td>230</td>\n",
              "      <td>11</td>\n",
              "      <td>14</td>\n",
              "      <td>42.0</td>\n",
              "      <td>1013.7</td>\n",
              "      <td>17.5</td>\n",
              "    </tr>\n",
              "    <tr>\n",
              "      <th>7528</th>\n",
              "      <td>10</td>\n",
              "      <td>2021</td>\n",
              "      <td>6</td>\n",
              "      <td>153</td>\n",
              "      <td>3</td>\n",
              "      <td>15</td>\n",
              "      <td>1</td>\n",
              "      <td>200</td>\n",
              "      <td>9</td>\n",
              "      <td>15</td>\n",
              "      <td>40.0</td>\n",
              "      <td>1014.8</td>\n",
              "      <td>17.0</td>\n",
              "    </tr>\n",
              "  </tbody>\n",
              "</table>\n",
              "<p>7525 rows × 13 columns</p>\n",
              "</div>"
            ],
            "text/plain": [
              "      count  anio  nmes  ndia  wdia  hora  ...   DD  FF  HORA   HUM     PNM  TEMP\n",
              "0         3  2020     1     1     3     2  ...  160  13     2  72.0  1011.4  22.0\n",
              "1         2  2020     1     1     3     4  ...  180  11     4  87.0  1011.8  20.9\n",
              "2         1  2020     1     1     3     6  ...  180  15     6  87.0  1012.1  20.5\n",
              "3         2  2020     1     1     3     7  ...  160  15     7  85.0  1013.0  20.4\n",
              "4         2  2020     1     1     3    11  ...  140  17    11  63.0  1014.4  24.0\n",
              "...     ...   ...   ...   ...   ...   ...  ...  ...  ..   ...   ...     ...   ...\n",
              "7524      1  2021     6   153     3    11  ...  200  13    11  73.0  1015.0  14.6\n",
              "7525      2  2021     6   153     3    12  ...  180  15    12  65.0  1015.3  14.7\n",
              "7526      7  2021     6   153     3    13  ...  200   9    13  56.0  1015.3  15.7\n",
              "7527      1  2021     6   153     3    14  ...  230  11    14  42.0  1013.7  17.5\n",
              "7528     10  2021     6   153     3    15  ...  200   9    15  40.0  1014.8  17.0\n",
              "\n",
              "[7525 rows x 13 columns]"
            ]
          },
          "metadata": {
            "tags": []
          },
          "execution_count": 69
        }
      ]
    },
    {
      "cell_type": "code",
      "metadata": {
        "colab": {
          "base_uri": "https://localhost:8080/",
          "height": 406
        },
        "id": "j169_XpUaXDa",
        "outputId": "bb036213-900f-4e9d-af55-b211d05631c8"
      },
      "source": [
        "demanda_est_gc_df_2 = demanda_est_gc_df_2.reset_index()\n",
        "demanda_est_gc_df_2"
      ],
      "execution_count": 94,
      "outputs": [
        {
          "output_type": "execute_result",
          "data": {
            "text/html": [
              "<div>\n",
              "<style scoped>\n",
              "    .dataframe tbody tr th:only-of-type {\n",
              "        vertical-align: middle;\n",
              "    }\n",
              "\n",
              "    .dataframe tbody tr th {\n",
              "        vertical-align: top;\n",
              "    }\n",
              "\n",
              "    .dataframe thead th {\n",
              "        text-align: right;\n",
              "    }\n",
              "</style>\n",
              "<table border=\"1\" class=\"dataframe\">\n",
              "  <thead>\n",
              "    <tr style=\"text-align: right;\">\n",
              "      <th></th>\n",
              "      <th>index</th>\n",
              "      <th>count</th>\n",
              "      <th>anio</th>\n",
              "      <th>nmes</th>\n",
              "      <th>ndia</th>\n",
              "      <th>wdia</th>\n",
              "      <th>hora</th>\n",
              "      <th>dia_habil</th>\n",
              "      <th>DD</th>\n",
              "      <th>FF</th>\n",
              "      <th>HORA</th>\n",
              "      <th>HUM</th>\n",
              "      <th>PNM</th>\n",
              "      <th>TEMP</th>\n",
              "    </tr>\n",
              "  </thead>\n",
              "  <tbody>\n",
              "    <tr>\n",
              "      <th>0</th>\n",
              "      <td>0</td>\n",
              "      <td>3</td>\n",
              "      <td>2020</td>\n",
              "      <td>1</td>\n",
              "      <td>1</td>\n",
              "      <td>3</td>\n",
              "      <td>2</td>\n",
              "      <td>1</td>\n",
              "      <td>160</td>\n",
              "      <td>13</td>\n",
              "      <td>2</td>\n",
              "      <td>72.0</td>\n",
              "      <td>1011.4</td>\n",
              "      <td>22.0</td>\n",
              "    </tr>\n",
              "    <tr>\n",
              "      <th>1</th>\n",
              "      <td>1</td>\n",
              "      <td>2</td>\n",
              "      <td>2020</td>\n",
              "      <td>1</td>\n",
              "      <td>1</td>\n",
              "      <td>3</td>\n",
              "      <td>4</td>\n",
              "      <td>1</td>\n",
              "      <td>180</td>\n",
              "      <td>11</td>\n",
              "      <td>4</td>\n",
              "      <td>87.0</td>\n",
              "      <td>1011.8</td>\n",
              "      <td>20.9</td>\n",
              "    </tr>\n",
              "    <tr>\n",
              "      <th>2</th>\n",
              "      <td>2</td>\n",
              "      <td>1</td>\n",
              "      <td>2020</td>\n",
              "      <td>1</td>\n",
              "      <td>1</td>\n",
              "      <td>3</td>\n",
              "      <td>6</td>\n",
              "      <td>1</td>\n",
              "      <td>180</td>\n",
              "      <td>15</td>\n",
              "      <td>6</td>\n",
              "      <td>87.0</td>\n",
              "      <td>1012.1</td>\n",
              "      <td>20.5</td>\n",
              "    </tr>\n",
              "    <tr>\n",
              "      <th>3</th>\n",
              "      <td>3</td>\n",
              "      <td>2</td>\n",
              "      <td>2020</td>\n",
              "      <td>1</td>\n",
              "      <td>1</td>\n",
              "      <td>3</td>\n",
              "      <td>7</td>\n",
              "      <td>1</td>\n",
              "      <td>160</td>\n",
              "      <td>15</td>\n",
              "      <td>7</td>\n",
              "      <td>85.0</td>\n",
              "      <td>1013.0</td>\n",
              "      <td>20.4</td>\n",
              "    </tr>\n",
              "    <tr>\n",
              "      <th>4</th>\n",
              "      <td>4</td>\n",
              "      <td>2</td>\n",
              "      <td>2020</td>\n",
              "      <td>1</td>\n",
              "      <td>1</td>\n",
              "      <td>3</td>\n",
              "      <td>11</td>\n",
              "      <td>1</td>\n",
              "      <td>140</td>\n",
              "      <td>17</td>\n",
              "      <td>11</td>\n",
              "      <td>63.0</td>\n",
              "      <td>1014.4</td>\n",
              "      <td>24.0</td>\n",
              "    </tr>\n",
              "    <tr>\n",
              "      <th>...</th>\n",
              "      <td>...</td>\n",
              "      <td>...</td>\n",
              "      <td>...</td>\n",
              "      <td>...</td>\n",
              "      <td>...</td>\n",
              "      <td>...</td>\n",
              "      <td>...</td>\n",
              "      <td>...</td>\n",
              "      <td>...</td>\n",
              "      <td>...</td>\n",
              "      <td>...</td>\n",
              "      <td>...</td>\n",
              "      <td>...</td>\n",
              "      <td>...</td>\n",
              "    </tr>\n",
              "    <tr>\n",
              "      <th>7520</th>\n",
              "      <td>7524</td>\n",
              "      <td>1</td>\n",
              "      <td>2021</td>\n",
              "      <td>6</td>\n",
              "      <td>153</td>\n",
              "      <td>3</td>\n",
              "      <td>11</td>\n",
              "      <td>1</td>\n",
              "      <td>200</td>\n",
              "      <td>13</td>\n",
              "      <td>11</td>\n",
              "      <td>73.0</td>\n",
              "      <td>1015.0</td>\n",
              "      <td>14.6</td>\n",
              "    </tr>\n",
              "    <tr>\n",
              "      <th>7521</th>\n",
              "      <td>7525</td>\n",
              "      <td>2</td>\n",
              "      <td>2021</td>\n",
              "      <td>6</td>\n",
              "      <td>153</td>\n",
              "      <td>3</td>\n",
              "      <td>12</td>\n",
              "      <td>1</td>\n",
              "      <td>180</td>\n",
              "      <td>15</td>\n",
              "      <td>12</td>\n",
              "      <td>65.0</td>\n",
              "      <td>1015.3</td>\n",
              "      <td>14.7</td>\n",
              "    </tr>\n",
              "    <tr>\n",
              "      <th>7522</th>\n",
              "      <td>7526</td>\n",
              "      <td>7</td>\n",
              "      <td>2021</td>\n",
              "      <td>6</td>\n",
              "      <td>153</td>\n",
              "      <td>3</td>\n",
              "      <td>13</td>\n",
              "      <td>1</td>\n",
              "      <td>200</td>\n",
              "      <td>9</td>\n",
              "      <td>13</td>\n",
              "      <td>56.0</td>\n",
              "      <td>1015.3</td>\n",
              "      <td>15.7</td>\n",
              "    </tr>\n",
              "    <tr>\n",
              "      <th>7523</th>\n",
              "      <td>7527</td>\n",
              "      <td>1</td>\n",
              "      <td>2021</td>\n",
              "      <td>6</td>\n",
              "      <td>153</td>\n",
              "      <td>3</td>\n",
              "      <td>14</td>\n",
              "      <td>1</td>\n",
              "      <td>230</td>\n",
              "      <td>11</td>\n",
              "      <td>14</td>\n",
              "      <td>42.0</td>\n",
              "      <td>1013.7</td>\n",
              "      <td>17.5</td>\n",
              "    </tr>\n",
              "    <tr>\n",
              "      <th>7524</th>\n",
              "      <td>7528</td>\n",
              "      <td>10</td>\n",
              "      <td>2021</td>\n",
              "      <td>6</td>\n",
              "      <td>153</td>\n",
              "      <td>3</td>\n",
              "      <td>15</td>\n",
              "      <td>1</td>\n",
              "      <td>200</td>\n",
              "      <td>9</td>\n",
              "      <td>15</td>\n",
              "      <td>40.0</td>\n",
              "      <td>1014.8</td>\n",
              "      <td>17.0</td>\n",
              "    </tr>\n",
              "  </tbody>\n",
              "</table>\n",
              "<p>7525 rows × 14 columns</p>\n",
              "</div>"
            ],
            "text/plain": [
              "      index  count  anio  nmes  ndia  wdia  ...   DD  FF  HORA   HUM     PNM  TEMP\n",
              "0         0      3  2020     1     1     3  ...  160  13     2  72.0  1011.4  22.0\n",
              "1         1      2  2020     1     1     3  ...  180  11     4  87.0  1011.8  20.9\n",
              "2         2      1  2020     1     1     3  ...  180  15     6  87.0  1012.1  20.5\n",
              "3         3      2  2020     1     1     3  ...  160  15     7  85.0  1013.0  20.4\n",
              "4         4      2  2020     1     1     3  ...  140  17    11  63.0  1014.4  24.0\n",
              "...     ...    ...   ...   ...   ...   ...  ...  ...  ..   ...   ...     ...   ...\n",
              "7520   7524      1  2021     6   153     3  ...  200  13    11  73.0  1015.0  14.6\n",
              "7521   7525      2  2021     6   153     3  ...  180  15    12  65.0  1015.3  14.7\n",
              "7522   7526      7  2021     6   153     3  ...  200   9    13  56.0  1015.3  15.7\n",
              "7523   7527      1  2021     6   153     3  ...  230  11    14  42.0  1013.7  17.5\n",
              "7524   7528     10  2021     6   153     3  ...  200   9    15  40.0  1014.8  17.0\n",
              "\n",
              "[7525 rows x 14 columns]"
            ]
          },
          "metadata": {
            "tags": []
          },
          "execution_count": 94
        }
      ]
    },
    {
      "cell_type": "code",
      "metadata": {
        "colab": {
          "base_uri": "https://localhost:8080/"
        },
        "id": "7dUcGP0sQYcK",
        "outputId": "15d69ead-038e-4538-f5fb-b57e32f6b803"
      },
      "source": [
        "demanda_est_gc_df_2['count'].unique()"
      ],
      "execution_count": 70,
      "outputs": [
        {
          "output_type": "execute_result",
          "data": {
            "text/plain": [
              "array([ 3,  2,  1,  5,  9, 14,  7,  4,  6,  8, 11, 10, 12, 13, 18, 15, 20,\n",
              "       23, 25, 19, 29, 27, 28, 17, 22, 41, 40, 16, 21, 31, 33, 24, 34, 37,\n",
              "       38, 44, 48, 26, 42, 30, 35, 36, 61, 56, 43, 49, 39, 50, 32])"
            ]
          },
          "metadata": {
            "tags": []
          },
          "execution_count": 70
        }
      ]
    },
    {
      "cell_type": "markdown",
      "metadata": {
        "id": "OA5yd5YoVxXY"
      },
      "source": [
        "62\n",
        "58\n",
        "47\n",
        "46"
      ]
    },
    {
      "cell_type": "code",
      "metadata": {
        "id": "hoXIBEe5SjvS"
      },
      "source": [
        "for v in lista:\n",
        "  print(v)\n",
        "  print(demanda_est_gc_df[demanda_est_gc_df['count'] == v].count())"
      ],
      "execution_count": null,
      "outputs": []
    },
    {
      "cell_type": "code",
      "metadata": {
        "colab": {
          "base_uri": "https://localhost:8080/"
        },
        "id": "lRbN3URTQksk",
        "outputId": "913aebd3-67e7-45c2-9a7b-cf80a43571eb"
      },
      "source": [
        "demanda_class = demanda_est_gc_df_2['count'].values\n",
        "demanda_class"
      ],
      "execution_count": 80,
      "outputs": [
        {
          "output_type": "execute_result",
          "data": {
            "text/plain": [
              "array([ 3,  2,  1, ...,  7,  1, 10])"
            ]
          },
          "metadata": {
            "tags": []
          },
          "execution_count": 80
        }
      ]
    },
    {
      "cell_type": "code",
      "metadata": {
        "id": "_Q-y0HyReDjy"
      },
      "source": [
        "demanda_est_gc_df_2"
      ],
      "execution_count": null,
      "outputs": []
    },
    {
      "cell_type": "code",
      "metadata": {
        "colab": {
          "base_uri": "https://localhost:8080/"
        },
        "id": "ezvRSTw-NIQI",
        "outputId": "1bc3112d-2a76-49de-bea6-ec6321741992"
      },
      "source": [
        "training_indices, validation_indices = training_indices, testing_indices = train_test_split(demanda_est_gc_df_2.index, stratify = demanda, train_size=0.75, test_size=0.25)\n",
        "training_indices.size, validation_indices.size"
      ],
      "execution_count": 99,
      "outputs": [
        {
          "output_type": "execute_result",
          "data": {
            "text/plain": [
              "(5643, 1882)"
            ]
          },
          "metadata": {
            "tags": []
          },
          "execution_count": 99
        }
      ]
    },
    {
      "cell_type": "code",
      "metadata": {
        "colab": {
          "base_uri": "https://localhost:8080/",
          "height": 550,
          "referenced_widgets": [
            "627c786426dc4a948301216073375462",
            "a6f406a8e3aa4ed89bbb30134cf61f9d",
            "1f19002b14e8480d8c88040c169d15f2",
            "0c03b8742b8f4f5fb1ed9d5f30948970",
            "b263f9b6166d4aca91adc4b901c5dacb",
            "e1d32ee3345b41a79345fc3873ce258f",
            "210f3ff6c85549ba935e97f5b44bda4a",
            "05d610bd39e84d38ba9cd6a466d90842"
          ]
        },
        "id": "ebmHBnrkWv5m",
        "outputId": "74739432-b33e-48af-cb95-c278fbc6efb9"
      },
      "source": [
        "tpot = TPOTClassifier(verbosity=2, max_time_mins=10, max_eval_time_mins=0.04, population_size=40)\n",
        "tpot.fit(demanda_est_gc_df_2_new[training_indices], demanda[training_indices])"
      ],
      "execution_count": 101,
      "outputs": [
        {
          "output_type": "display_data",
          "data": {
            "application/vnd.jupyter.widget-view+json": {
              "model_id": "627c786426dc4a948301216073375462",
              "version_minor": 0,
              "version_major": 2
            },
            "text/plain": [
              "HBox(children=(FloatProgress(value=0.0, description='Optimization Progress', max=40.0, style=ProgressStyle(des…"
            ]
          },
          "metadata": {
            "tags": []
          }
        },
        {
          "output_type": "stream",
          "text": [
            "\r\n",
            "Generation 1 - Current best internal CV score: 1.0\n",
            "\n",
            "Generation 2 - Current best internal CV score: 1.0\n",
            "\n",
            "Generation 3 - Current best internal CV score: 1.0\n",
            "\n",
            "Generation 4 - Current best internal CV score: 1.0\n",
            "\n",
            "Generation 5 - Current best internal CV score: 1.0\n",
            "\n",
            "Generation 6 - Current best internal CV score: 1.0\n",
            "\n",
            "Generation 7 - Current best internal CV score: 1.0\n",
            "\n",
            "Generation 8 - Current best internal CV score: 1.0\n",
            "\n",
            "10.05 minutes have elapsed. TPOT will close down.\n",
            "TPOT closed during evaluation in one generation.\n",
            "WARNING: TPOT may not provide a good pipeline if TPOT is stopped/interrupted in a early generation.\n",
            "\n",
            "\n",
            "TPOT closed prematurely. Will use the current best pipeline.\n",
            "\n",
            "Best pipeline: BernoulliNB(input_matrix, alpha=0.01, fit_prior=True)\n"
          ],
          "name": "stdout"
        },
        {
          "output_type": "execute_result",
          "data": {
            "text/plain": [
              "TPOTClassifier(config_dict=None, crossover_rate=0.1, cv=5,\n",
              "               disable_update_check=False, early_stop=None, generations=100,\n",
              "               log_file=None, max_eval_time_mins=0.04, max_time_mins=10,\n",
              "               memory=None, mutation_rate=0.9, n_jobs=1, offspring_size=None,\n",
              "               periodic_checkpoint_folder=None, population_size=40,\n",
              "               random_state=None, scoring=None, subsample=1.0, template=None,\n",
              "               use_dask=False, verbosity=2, warm_start=False)"
            ]
          },
          "metadata": {
            "tags": []
          },
          "execution_count": 101
        }
      ]
    },
    {
      "cell_type": "code",
      "metadata": {
        "colab": {
          "base_uri": "https://localhost:8080/",
          "height": 616,
          "referenced_widgets": [
            "20324ca3e4d3437c82b0bd973caf1393",
            "ee6476f5031e46c5b34276c6e2b9933b",
            "6042441474584f27b940de6abdc4fb50",
            "e75e2c5cd3134b42a79d94ecb50484f1",
            "fd993627a3cb451fbe5c3236d8a04168",
            "49bf72fc01244d0dbb00010820510bac",
            "cb79f1deadf74b0c8da86623db03252e",
            "0bd51f98d70f4acb935805472dad9afd"
          ]
        },
        "id": "6mNY5jSGdmUV",
        "outputId": "6fc55a50-ddd2-4b65-a155-1711e3a811de"
      },
      "source": [
        "tpot = TPOTClassifier(verbosity=2, max_time_mins=3, max_eval_time_mins=0.04, population_size=40, random_state=42)\n",
        "tpot.fit(demanda_est_gc_df_2_new[training_indices], demanda[training_indices])\n",
        "#print(tpot.fit(X_train, y_train))\n",
        "#print(tpot.score(X_test, y_test))\n",
        "#tpot.export('tpot_iris_pipeline.py')"
      ],
      "execution_count": 104,
      "outputs": [
        {
          "output_type": "display_data",
          "data": {
            "application/vnd.jupyter.widget-view+json": {
              "model_id": "20324ca3e4d3437c82b0bd973caf1393",
              "version_minor": 0,
              "version_major": 2
            },
            "text/plain": [
              "HBox(children=(FloatProgress(value=0.0, description='Optimization Progress', max=40.0, style=ProgressStyle(des…"
            ]
          },
          "metadata": {
            "tags": []
          }
        },
        {
          "output_type": "stream",
          "text": [
            "\r\n",
            "Generation 1 - Current best internal CV score: 0.999822695035461\n",
            "\n",
            "Generation 2 - Current best internal CV score: 0.999822695035461\n",
            "\n",
            "Generation 3 - Current best internal CV score: 1.0\n",
            "\n",
            "Generation 4 - Current best internal CV score: 1.0\n",
            "\n",
            "Generation 5 - Current best internal CV score: 1.0\n",
            "\n",
            "Generation 6 - Current best internal CV score: 1.0\n",
            "\n",
            "Generation 7 - Current best internal CV score: 1.0\n",
            "\n",
            "Generation 8 - Current best internal CV score: 1.0\n",
            "\n",
            "Generation 9 - Current best internal CV score: 1.0\n",
            "\n",
            "Generation 10 - Current best internal CV score: 1.0\n",
            "\n",
            "10.02 minutes have elapsed. TPOT will close down.\n",
            "TPOT closed during evaluation in one generation.\n",
            "WARNING: TPOT may not provide a good pipeline if TPOT is stopped/interrupted in a early generation.\n",
            "\n",
            "\n",
            "TPOT closed prematurely. Will use the current best pipeline.\n",
            "\n",
            "Best pipeline: BernoulliNB(input_matrix, alpha=0.01, fit_prior=True)\n"
          ],
          "name": "stdout"
        },
        {
          "output_type": "execute_result",
          "data": {
            "text/plain": [
              "TPOTClassifier(config_dict=None, crossover_rate=0.1, cv=5,\n",
              "               disable_update_check=False, early_stop=None, generations=100,\n",
              "               log_file=None, max_eval_time_mins=0.04, max_time_mins=10,\n",
              "               memory=None, mutation_rate=0.9, n_jobs=1, offspring_size=None,\n",
              "               periodic_checkpoint_folder=None, population_size=40,\n",
              "               random_state=42, scoring=None, subsample=1.0, template=None,\n",
              "               use_dask=False, verbosity=2, warm_start=False)"
            ]
          },
          "metadata": {
            "tags": []
          },
          "execution_count": 104
        }
      ]
    },
    {
      "cell_type": "code",
      "metadata": {
        "colab": {
          "base_uri": "https://localhost:8080/"
        },
        "id": "2knnyya-gllL",
        "outputId": "e3b161ad-cfbe-44be-c970-7a83b740bff2"
      },
      "source": [
        "tpot.score(demanda_est_gc_df_2_new[validation_indices], demanda_est_gc_df_2.loc[validation_indices, 'count'].values)\n"
      ],
      "execution_count": 105,
      "outputs": [
        {
          "output_type": "execute_result",
          "data": {
            "text/plain": [
              "1.0"
            ]
          },
          "metadata": {
            "tags": []
          },
          "execution_count": 105
        }
      ]
    },
    {
      "cell_type": "code",
      "metadata": {
        "id": "ZWeq1yZUgqmh"
      },
      "source": [
        "\n",
        "tpot.export('estacion_godoy_cruz_demanda.py')"
      ],
      "execution_count": 107,
      "outputs": []
    },
    {
      "cell_type": "code",
      "metadata": {
        "colab": {
          "base_uri": "https://localhost:8080/"
        },
        "id": "KWv_X87eYa68",
        "outputId": "33504fb9-88da-4d10-d0f7-e5f80628e42e"
      },
      "source": [
        "from sklearn.preprocessing import MultiLabelBinarizer\n",
        "mlb = MultiLabelBinarizer()\n",
        "demandaTrans = mlb.fit_transform([{str(val)} for val in demanda_est_gc_df_2['count'].values])\n",
        "\n",
        "demandaTrans"
      ],
      "execution_count": 97,
      "outputs": [
        {
          "output_type": "execute_result",
          "data": {
            "text/plain": [
              "array([[0, 0, 0, ..., 0, 0, 0],\n",
              "       [0, 0, 0, ..., 0, 0, 0],\n",
              "       [1, 0, 0, ..., 0, 0, 0],\n",
              "       ...,\n",
              "       [0, 0, 0, ..., 1, 0, 0],\n",
              "       [1, 0, 0, ..., 0, 0, 0],\n",
              "       [0, 1, 0, ..., 0, 0, 0]])"
            ]
          },
          "metadata": {
            "tags": []
          },
          "execution_count": 97
        }
      ]
    },
    {
      "cell_type": "code",
      "metadata": {
        "colab": {
          "base_uri": "https://localhost:8080/"
        },
        "id": "hSX9Nse3YxYG",
        "outputId": "d80d866c-9353-4b52-f415-72dfc5fdfc70"
      },
      "source": [
        "demandaTrans.shape"
      ],
      "execution_count": 89,
      "outputs": [
        {
          "output_type": "execute_result",
          "data": {
            "text/plain": [
              "(7525, 49)"
            ]
          },
          "metadata": {
            "tags": []
          },
          "execution_count": 89
        }
      ]
    },
    {
      "cell_type": "code",
      "metadata": {
        "colab": {
          "base_uri": "https://localhost:8080/"
        },
        "id": "u6Rt76BEY4hI",
        "outputId": "c719879b-fd94-4c43-cfd3-5a83ce0aaf0a"
      },
      "source": [
        "demanda_est_gc_df_2_new = demanda_est_gc_df_2.drop(['count'], axis=1)\n",
        "\n",
        "#assert (len(titanic['Cabin'].unique()) == len(mlb.classes_)), \"Not Equal\" #check correct encoding done\n",
        "#We then add the encoded features to form the final dataset to be used with TPOT.\n",
        "\n",
        "demanda_est_gc_df_2_new = np.hstack((demanda_est_gc_df_2_new.values,demandaTrans))\n",
        "demanda_est_gc_df_2_new.shape"
      ],
      "execution_count": 98,
      "outputs": [
        {
          "output_type": "execute_result",
          "data": {
            "text/plain": [
              "(7525, 62)"
            ]
          },
          "metadata": {
            "tags": []
          },
          "execution_count": 98
        }
      ]
    },
    {
      "cell_type": "code",
      "metadata": {
        "colab": {
          "base_uri": "https://localhost:8080/"
        },
        "id": "2_dM8YtXeG2V",
        "outputId": "e791d434-885a-436e-deaf-d0224b0657b5"
      },
      "source": [
        "demanda_est_gc_df_2_new"
      ],
      "execution_count": 103,
      "outputs": [
        {
          "output_type": "execute_result",
          "data": {
            "text/plain": [
              "array([[0.000e+00, 2.020e+03, 1.000e+00, ..., 0.000e+00, 0.000e+00,\n",
              "        0.000e+00],\n",
              "       [1.000e+00, 2.020e+03, 1.000e+00, ..., 0.000e+00, 0.000e+00,\n",
              "        0.000e+00],\n",
              "       [2.000e+00, 2.020e+03, 1.000e+00, ..., 0.000e+00, 0.000e+00,\n",
              "        0.000e+00],\n",
              "       ...,\n",
              "       [7.526e+03, 2.021e+03, 6.000e+00, ..., 1.000e+00, 0.000e+00,\n",
              "        0.000e+00],\n",
              "       [7.527e+03, 2.021e+03, 6.000e+00, ..., 0.000e+00, 0.000e+00,\n",
              "        0.000e+00],\n",
              "       [7.528e+03, 2.021e+03, 6.000e+00, ..., 0.000e+00, 0.000e+00,\n",
              "        0.000e+00]])"
            ]
          },
          "metadata": {
            "tags": []
          },
          "execution_count": 103
        }
      ]
    },
    {
      "cell_type": "code",
      "metadata": {
        "id": "rJSqqGMch12n"
      },
      "source": [
        ""
      ],
      "execution_count": null,
      "outputs": []
    },
    {
      "cell_type": "code",
      "metadata": {
        "colab": {
          "base_uri": "https://localhost:8080/"
        },
        "id": "LXVMm8t-TXuh",
        "outputId": "3c54f6e7-a4c3-4ae2-9f57-31bfce5fcc37"
      },
      "source": [
        "from google.colab import drive\n",
        "drive.mount('/drive')"
      ],
      "execution_count": 108,
      "outputs": [
        {
          "output_type": "stream",
          "text": [
            "Mounted at /drive\n"
          ],
          "name": "stdout"
        }
      ]
    },
    {
      "cell_type": "code",
      "metadata": {
        "id": "BO2KzlL2QcDv"
      },
      "source": [
        "demanda_est_gc_df_2.to_csv('/drive/My Drive/Datasets-bicing/estacion-godoy-cruz-demanda-final.csv')"
      ],
      "execution_count": 110,
      "outputs": []
    }
  ]
}